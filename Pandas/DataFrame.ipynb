{
 "cells": [
  {
   "cell_type": "code",
   "execution_count": 1,
   "id": "1c3eae5a-baaa-40eb-879c-4edcd7610cca",
   "metadata": {},
   "outputs": [],
   "source": [
    "import pandas as pd\n",
    "import numpy as np\n",
    "from pandas import DataFrame\n"
   ]
  },
  {
   "cell_type": "code",
   "execution_count": 2,
   "id": "8b3d6e84-3bc8-46cb-aa8a-0d1b440a9997",
   "metadata": {},
   "outputs": [],
   "source": [
    "data= {'Yil':[2021,2020,2019,2018,2017,2016,2015,2010],\n",
    "       'Aholi_soni':[33.9,33.5,32.9,32.5,31.9,31.4,30.9,28.5],\n",
    "       'Temp':[1.54,1.48,1.56,1.62,1.65,1.66,1.64,1.53]}"
   ]
  },
  {
   "cell_type": "code",
   "execution_count": 3,
   "id": "4c121079-790e-4be7-94bd-45622e80dbab",
   "metadata": {},
   "outputs": [],
   "source": [
    "df=DataFrame(data)"
   ]
  },
  {
   "cell_type": "code",
   "execution_count": 4,
   "id": "8e716a40-5199-4f4f-b07f-e988a7ccbd31",
   "metadata": {},
   "outputs": [
    {
     "data": {
      "text/html": [
       "<div>\n",
       "<style scoped>\n",
       "    .dataframe tbody tr th:only-of-type {\n",
       "        vertical-align: middle;\n",
       "    }\n",
       "\n",
       "    .dataframe tbody tr th {\n",
       "        vertical-align: top;\n",
       "    }\n",
       "\n",
       "    .dataframe thead th {\n",
       "        text-align: right;\n",
       "    }\n",
       "</style>\n",
       "<table border=\"1\" class=\"dataframe\">\n",
       "  <thead>\n",
       "    <tr style=\"text-align: right;\">\n",
       "      <th></th>\n",
       "      <th>Yil</th>\n",
       "      <th>Aholi_soni</th>\n",
       "      <th>Temp</th>\n",
       "    </tr>\n",
       "  </thead>\n",
       "  <tbody>\n",
       "    <tr>\n",
       "      <th>0</th>\n",
       "      <td>2021</td>\n",
       "      <td>33.9</td>\n",
       "      <td>1.54</td>\n",
       "    </tr>\n",
       "    <tr>\n",
       "      <th>1</th>\n",
       "      <td>2020</td>\n",
       "      <td>33.5</td>\n",
       "      <td>1.48</td>\n",
       "    </tr>\n",
       "    <tr>\n",
       "      <th>2</th>\n",
       "      <td>2019</td>\n",
       "      <td>32.9</td>\n",
       "      <td>1.56</td>\n",
       "    </tr>\n",
       "    <tr>\n",
       "      <th>3</th>\n",
       "      <td>2018</td>\n",
       "      <td>32.5</td>\n",
       "      <td>1.62</td>\n",
       "    </tr>\n",
       "    <tr>\n",
       "      <th>4</th>\n",
       "      <td>2017</td>\n",
       "      <td>31.9</td>\n",
       "      <td>1.65</td>\n",
       "    </tr>\n",
       "    <tr>\n",
       "      <th>5</th>\n",
       "      <td>2016</td>\n",
       "      <td>31.4</td>\n",
       "      <td>1.66</td>\n",
       "    </tr>\n",
       "    <tr>\n",
       "      <th>6</th>\n",
       "      <td>2015</td>\n",
       "      <td>30.9</td>\n",
       "      <td>1.64</td>\n",
       "    </tr>\n",
       "    <tr>\n",
       "      <th>7</th>\n",
       "      <td>2010</td>\n",
       "      <td>28.5</td>\n",
       "      <td>1.53</td>\n",
       "    </tr>\n",
       "  </tbody>\n",
       "</table>\n",
       "</div>"
      ],
      "text/plain": [
       "    Yil  Aholi_soni  Temp\n",
       "0  2021        33.9  1.54\n",
       "1  2020        33.5  1.48\n",
       "2  2019        32.9  1.56\n",
       "3  2018        32.5  1.62\n",
       "4  2017        31.9  1.65\n",
       "5  2016        31.4  1.66\n",
       "6  2015        30.9  1.64\n",
       "7  2010        28.5  1.53"
      ]
     },
     "execution_count": 4,
     "metadata": {},
     "output_type": "execute_result"
    }
   ],
   "source": [
    "df"
   ]
  },
  {
   "cell_type": "code",
   "execution_count": 5,
   "id": "cb331f92-940c-4866-94a4-893f846df315",
   "metadata": {},
   "outputs": [
    {
     "data": {
      "text/html": [
       "<div>\n",
       "<style scoped>\n",
       "    .dataframe tbody tr th:only-of-type {\n",
       "        vertical-align: middle;\n",
       "    }\n",
       "\n",
       "    .dataframe tbody tr th {\n",
       "        vertical-align: top;\n",
       "    }\n",
       "\n",
       "    .dataframe thead th {\n",
       "        text-align: right;\n",
       "    }\n",
       "</style>\n",
       "<table border=\"1\" class=\"dataframe\">\n",
       "  <thead>\n",
       "    <tr style=\"text-align: right;\">\n",
       "      <th></th>\n",
       "      <th>Yil</th>\n",
       "      <th>Aholi_soni</th>\n",
       "      <th>Temp</th>\n",
       "    </tr>\n",
       "  </thead>\n",
       "  <tbody>\n",
       "    <tr>\n",
       "      <th>0</th>\n",
       "      <td>2021</td>\n",
       "      <td>33.9</td>\n",
       "      <td>1.54</td>\n",
       "    </tr>\n",
       "    <tr>\n",
       "      <th>1</th>\n",
       "      <td>2020</td>\n",
       "      <td>33.5</td>\n",
       "      <td>1.48</td>\n",
       "    </tr>\n",
       "    <tr>\n",
       "      <th>2</th>\n",
       "      <td>2019</td>\n",
       "      <td>32.9</td>\n",
       "      <td>1.56</td>\n",
       "    </tr>\n",
       "    <tr>\n",
       "      <th>3</th>\n",
       "      <td>2018</td>\n",
       "      <td>32.5</td>\n",
       "      <td>1.62</td>\n",
       "    </tr>\n",
       "    <tr>\n",
       "      <th>4</th>\n",
       "      <td>2017</td>\n",
       "      <td>31.9</td>\n",
       "      <td>1.65</td>\n",
       "    </tr>\n",
       "  </tbody>\n",
       "</table>\n",
       "</div>"
      ],
      "text/plain": [
       "    Yil  Aholi_soni  Temp\n",
       "0  2021        33.9  1.54\n",
       "1  2020        33.5  1.48\n",
       "2  2019        32.9  1.56\n",
       "3  2018        32.5  1.62\n",
       "4  2017        31.9  1.65"
      ]
     },
     "execution_count": 5,
     "metadata": {},
     "output_type": "execute_result"
    }
   ],
   "source": [
    "df.head()"
   ]
  },
  {
   "cell_type": "code",
   "execution_count": 6,
   "id": "b1aa7d53-7e62-45dc-9cf7-7f98355d47f3",
   "metadata": {},
   "outputs": [
    {
     "data": {
      "text/plain": [
       "0    1.54\n",
       "1    1.48\n",
       "2    1.56\n",
       "3    1.62\n",
       "4    1.65\n",
       "5    1.66\n",
       "6    1.64\n",
       "7    1.53\n",
       "Name: Temp, dtype: float64"
      ]
     },
     "execution_count": 6,
     "metadata": {},
     "output_type": "execute_result"
    }
   ],
   "source": [
    "df.Temp"
   ]
  },
  {
   "cell_type": "code",
   "execution_count": 7,
   "id": "09fb20a6-72ab-4ec9-8552-fdfc33bd6921",
   "metadata": {},
   "outputs": [
    {
     "data": {
      "text/plain": [
       "0    33.9\n",
       "1    33.5\n",
       "2    32.9\n",
       "3    32.5\n",
       "4    31.9\n",
       "5    31.4\n",
       "6    30.9\n",
       "7    28.5\n",
       "Name: Aholi_soni, dtype: float64"
      ]
     },
     "execution_count": 7,
     "metadata": {},
     "output_type": "execute_result"
    }
   ],
   "source": [
    "df.Aholi_soni"
   ]
  },
  {
   "cell_type": "code",
   "execution_count": 8,
   "id": "d7192a35-cf91-44db-9c45-dd4c0998cd52",
   "metadata": {},
   "outputs": [
    {
     "data": {
      "text/plain": [
       "0    33.9\n",
       "1    33.5\n",
       "2    32.9\n",
       "3    32.5\n",
       "4    31.9\n",
       "5    31.4\n",
       "6    30.9\n",
       "7    28.5\n",
       "Name: Aholi_soni, dtype: float64"
      ]
     },
     "execution_count": 8,
     "metadata": {},
     "output_type": "execute_result"
    }
   ],
   "source": [
    "df['Aholi_soni']"
   ]
  },
  {
   "cell_type": "code",
   "execution_count": 9,
   "id": "b34384bc-40ab-46e8-ae82-54850b1f6165",
   "metadata": {},
   "outputs": [],
   "source": [
    "df.YAIM=1600"
   ]
  },
  {
   "cell_type": "code",
   "execution_count": 10,
   "id": "cea301c7-44d5-48ce-ac17-0b4ca677cfe9",
   "metadata": {},
   "outputs": [
    {
     "data": {
      "text/html": [
       "<div>\n",
       "<style scoped>\n",
       "    .dataframe tbody tr th:only-of-type {\n",
       "        vertical-align: middle;\n",
       "    }\n",
       "\n",
       "    .dataframe tbody tr th {\n",
       "        vertical-align: top;\n",
       "    }\n",
       "\n",
       "    .dataframe thead th {\n",
       "        text-align: right;\n",
       "    }\n",
       "</style>\n",
       "<table border=\"1\" class=\"dataframe\">\n",
       "  <thead>\n",
       "    <tr style=\"text-align: right;\">\n",
       "      <th></th>\n",
       "      <th>Yil</th>\n",
       "      <th>Aholi_soni</th>\n",
       "      <th>Temp</th>\n",
       "    </tr>\n",
       "  </thead>\n",
       "  <tbody>\n",
       "    <tr>\n",
       "      <th>0</th>\n",
       "      <td>2021</td>\n",
       "      <td>33.9</td>\n",
       "      <td>1.54</td>\n",
       "    </tr>\n",
       "    <tr>\n",
       "      <th>1</th>\n",
       "      <td>2020</td>\n",
       "      <td>33.5</td>\n",
       "      <td>1.48</td>\n",
       "    </tr>\n",
       "    <tr>\n",
       "      <th>2</th>\n",
       "      <td>2019</td>\n",
       "      <td>32.9</td>\n",
       "      <td>1.56</td>\n",
       "    </tr>\n",
       "    <tr>\n",
       "      <th>3</th>\n",
       "      <td>2018</td>\n",
       "      <td>32.5</td>\n",
       "      <td>1.62</td>\n",
       "    </tr>\n",
       "    <tr>\n",
       "      <th>4</th>\n",
       "      <td>2017</td>\n",
       "      <td>31.9</td>\n",
       "      <td>1.65</td>\n",
       "    </tr>\n",
       "    <tr>\n",
       "      <th>5</th>\n",
       "      <td>2016</td>\n",
       "      <td>31.4</td>\n",
       "      <td>1.66</td>\n",
       "    </tr>\n",
       "    <tr>\n",
       "      <th>6</th>\n",
       "      <td>2015</td>\n",
       "      <td>30.9</td>\n",
       "      <td>1.64</td>\n",
       "    </tr>\n",
       "    <tr>\n",
       "      <th>7</th>\n",
       "      <td>2010</td>\n",
       "      <td>28.5</td>\n",
       "      <td>1.53</td>\n",
       "    </tr>\n",
       "  </tbody>\n",
       "</table>\n",
       "</div>"
      ],
      "text/plain": [
       "    Yil  Aholi_soni  Temp\n",
       "0  2021        33.9  1.54\n",
       "1  2020        33.5  1.48\n",
       "2  2019        32.9  1.56\n",
       "3  2018        32.5  1.62\n",
       "4  2017        31.9  1.65\n",
       "5  2016        31.4  1.66\n",
       "6  2015        30.9  1.64\n",
       "7  2010        28.5  1.53"
      ]
     },
     "execution_count": 10,
     "metadata": {},
     "output_type": "execute_result"
    }
   ],
   "source": [
    "df\n"
   ]
  },
  {
   "cell_type": "code",
   "execution_count": 11,
   "id": "d254067e-ca33-4b3f-abaa-1111b1cff3b7",
   "metadata": {},
   "outputs": [],
   "source": [
    "df=DataFrame(data,columns=['Yil','Aholi_soni','Temp','YAIM'],index=[21,20,19,18,17,16,15,10])"
   ]
  },
  {
   "cell_type": "code",
   "execution_count": 12,
   "id": "d1c018de-f438-4042-ae98-6a4d193a23a1",
   "metadata": {},
   "outputs": [
    {
     "data": {
      "text/html": [
       "<div>\n",
       "<style scoped>\n",
       "    .dataframe tbody tr th:only-of-type {\n",
       "        vertical-align: middle;\n",
       "    }\n",
       "\n",
       "    .dataframe tbody tr th {\n",
       "        vertical-align: top;\n",
       "    }\n",
       "\n",
       "    .dataframe thead th {\n",
       "        text-align: right;\n",
       "    }\n",
       "</style>\n",
       "<table border=\"1\" class=\"dataframe\">\n",
       "  <thead>\n",
       "    <tr style=\"text-align: right;\">\n",
       "      <th></th>\n",
       "      <th>Yil</th>\n",
       "      <th>Aholi_soni</th>\n",
       "      <th>Temp</th>\n",
       "      <th>YAIM</th>\n",
       "    </tr>\n",
       "  </thead>\n",
       "  <tbody>\n",
       "    <tr>\n",
       "      <th>21</th>\n",
       "      <td>2021</td>\n",
       "      <td>33.9</td>\n",
       "      <td>1.54</td>\n",
       "      <td>NaN</td>\n",
       "    </tr>\n",
       "    <tr>\n",
       "      <th>20</th>\n",
       "      <td>2020</td>\n",
       "      <td>33.5</td>\n",
       "      <td>1.48</td>\n",
       "      <td>NaN</td>\n",
       "    </tr>\n",
       "    <tr>\n",
       "      <th>19</th>\n",
       "      <td>2019</td>\n",
       "      <td>32.9</td>\n",
       "      <td>1.56</td>\n",
       "      <td>NaN</td>\n",
       "    </tr>\n",
       "    <tr>\n",
       "      <th>18</th>\n",
       "      <td>2018</td>\n",
       "      <td>32.5</td>\n",
       "      <td>1.62</td>\n",
       "      <td>NaN</td>\n",
       "    </tr>\n",
       "    <tr>\n",
       "      <th>17</th>\n",
       "      <td>2017</td>\n",
       "      <td>31.9</td>\n",
       "      <td>1.65</td>\n",
       "      <td>NaN</td>\n",
       "    </tr>\n",
       "    <tr>\n",
       "      <th>16</th>\n",
       "      <td>2016</td>\n",
       "      <td>31.4</td>\n",
       "      <td>1.66</td>\n",
       "      <td>NaN</td>\n",
       "    </tr>\n",
       "    <tr>\n",
       "      <th>15</th>\n",
       "      <td>2015</td>\n",
       "      <td>30.9</td>\n",
       "      <td>1.64</td>\n",
       "      <td>NaN</td>\n",
       "    </tr>\n",
       "    <tr>\n",
       "      <th>10</th>\n",
       "      <td>2010</td>\n",
       "      <td>28.5</td>\n",
       "      <td>1.53</td>\n",
       "      <td>NaN</td>\n",
       "    </tr>\n",
       "  </tbody>\n",
       "</table>\n",
       "</div>"
      ],
      "text/plain": [
       "     Yil  Aholi_soni  Temp YAIM\n",
       "21  2021        33.9  1.54  NaN\n",
       "20  2020        33.5  1.48  NaN\n",
       "19  2019        32.9  1.56  NaN\n",
       "18  2018        32.5  1.62  NaN\n",
       "17  2017        31.9  1.65  NaN\n",
       "16  2016        31.4  1.66  NaN\n",
       "15  2015        30.9  1.64  NaN\n",
       "10  2010        28.5  1.53  NaN"
      ]
     },
     "execution_count": 12,
     "metadata": {},
     "output_type": "execute_result"
    }
   ],
   "source": [
    "df"
   ]
  },
  {
   "cell_type": "code",
   "execution_count": 13,
   "id": "510fdbb4-0a0a-4cfa-b1e0-9d450f17b59d",
   "metadata": {},
   "outputs": [],
   "source": [
    "value=pd.Series([1500,1560,1270],index=[21,18,10])"
   ]
  },
  {
   "cell_type": "code",
   "execution_count": 14,
   "id": "ce5ee9fb-869d-43eb-acec-ead2d85e1f3d",
   "metadata": {},
   "outputs": [
    {
     "data": {
      "text/plain": [
       "21    1500\n",
       "18    1560\n",
       "10    1270\n",
       "dtype: int64"
      ]
     },
     "execution_count": 14,
     "metadata": {},
     "output_type": "execute_result"
    }
   ],
   "source": [
    "value"
   ]
  },
  {
   "cell_type": "code",
   "execution_count": 15,
   "id": "182b8d12-3d93-44ca-8cf1-09e08ab3e133",
   "metadata": {},
   "outputs": [],
   "source": [
    "df.YAIM=value"
   ]
  },
  {
   "cell_type": "code",
   "execution_count": 16,
   "id": "1e72e224-57c0-4832-9178-81db5312b18b",
   "metadata": {},
   "outputs": [
    {
     "data": {
      "text/html": [
       "<div>\n",
       "<style scoped>\n",
       "    .dataframe tbody tr th:only-of-type {\n",
       "        vertical-align: middle;\n",
       "    }\n",
       "\n",
       "    .dataframe tbody tr th {\n",
       "        vertical-align: top;\n",
       "    }\n",
       "\n",
       "    .dataframe thead th {\n",
       "        text-align: right;\n",
       "    }\n",
       "</style>\n",
       "<table border=\"1\" class=\"dataframe\">\n",
       "  <thead>\n",
       "    <tr style=\"text-align: right;\">\n",
       "      <th></th>\n",
       "      <th>Yil</th>\n",
       "      <th>Aholi_soni</th>\n",
       "      <th>Temp</th>\n",
       "      <th>YAIM</th>\n",
       "    </tr>\n",
       "  </thead>\n",
       "  <tbody>\n",
       "    <tr>\n",
       "      <th>21</th>\n",
       "      <td>2021</td>\n",
       "      <td>33.9</td>\n",
       "      <td>1.54</td>\n",
       "      <td>1500.0</td>\n",
       "    </tr>\n",
       "    <tr>\n",
       "      <th>20</th>\n",
       "      <td>2020</td>\n",
       "      <td>33.5</td>\n",
       "      <td>1.48</td>\n",
       "      <td>NaN</td>\n",
       "    </tr>\n",
       "    <tr>\n",
       "      <th>19</th>\n",
       "      <td>2019</td>\n",
       "      <td>32.9</td>\n",
       "      <td>1.56</td>\n",
       "      <td>NaN</td>\n",
       "    </tr>\n",
       "    <tr>\n",
       "      <th>18</th>\n",
       "      <td>2018</td>\n",
       "      <td>32.5</td>\n",
       "      <td>1.62</td>\n",
       "      <td>1560.0</td>\n",
       "    </tr>\n",
       "    <tr>\n",
       "      <th>17</th>\n",
       "      <td>2017</td>\n",
       "      <td>31.9</td>\n",
       "      <td>1.65</td>\n",
       "      <td>NaN</td>\n",
       "    </tr>\n",
       "    <tr>\n",
       "      <th>16</th>\n",
       "      <td>2016</td>\n",
       "      <td>31.4</td>\n",
       "      <td>1.66</td>\n",
       "      <td>NaN</td>\n",
       "    </tr>\n",
       "    <tr>\n",
       "      <th>15</th>\n",
       "      <td>2015</td>\n",
       "      <td>30.9</td>\n",
       "      <td>1.64</td>\n",
       "      <td>NaN</td>\n",
       "    </tr>\n",
       "    <tr>\n",
       "      <th>10</th>\n",
       "      <td>2010</td>\n",
       "      <td>28.5</td>\n",
       "      <td>1.53</td>\n",
       "      <td>1270.0</td>\n",
       "    </tr>\n",
       "  </tbody>\n",
       "</table>\n",
       "</div>"
      ],
      "text/plain": [
       "     Yil  Aholi_soni  Temp    YAIM\n",
       "21  2021        33.9  1.54  1500.0\n",
       "20  2020        33.5  1.48     NaN\n",
       "19  2019        32.9  1.56     NaN\n",
       "18  2018        32.5  1.62  1560.0\n",
       "17  2017        31.9  1.65     NaN\n",
       "16  2016        31.4  1.66     NaN\n",
       "15  2015        30.9  1.64     NaN\n",
       "10  2010        28.5  1.53  1270.0"
      ]
     },
     "execution_count": 16,
     "metadata": {},
     "output_type": "execute_result"
    }
   ],
   "source": [
    "df"
   ]
  },
  {
   "cell_type": "code",
   "execution_count": 17,
   "id": "7cf367d8-4e65-43c7-93a2-d24103d19d68",
   "metadata": {},
   "outputs": [],
   "source": [
    "YAIM=[1700,1670,1600,1590,1400,1300,1350,1360]"
   ]
  },
  {
   "cell_type": "code",
   "execution_count": 18,
   "id": "6243d458-2a8b-43f4-800f-61108b75d695",
   "metadata": {},
   "outputs": [],
   "source": [
    "df['YAIM']=YAIM"
   ]
  },
  {
   "cell_type": "code",
   "execution_count": 19,
   "id": "25e9a32a-319a-40ee-a4c5-96208f89531d",
   "metadata": {},
   "outputs": [
    {
     "data": {
      "text/html": [
       "<div>\n",
       "<style scoped>\n",
       "    .dataframe tbody tr th:only-of-type {\n",
       "        vertical-align: middle;\n",
       "    }\n",
       "\n",
       "    .dataframe tbody tr th {\n",
       "        vertical-align: top;\n",
       "    }\n",
       "\n",
       "    .dataframe thead th {\n",
       "        text-align: right;\n",
       "    }\n",
       "</style>\n",
       "<table border=\"1\" class=\"dataframe\">\n",
       "  <thead>\n",
       "    <tr style=\"text-align: right;\">\n",
       "      <th></th>\n",
       "      <th>Yil</th>\n",
       "      <th>Aholi_soni</th>\n",
       "      <th>Temp</th>\n",
       "      <th>YAIM</th>\n",
       "    </tr>\n",
       "  </thead>\n",
       "  <tbody>\n",
       "    <tr>\n",
       "      <th>21</th>\n",
       "      <td>2021</td>\n",
       "      <td>33.9</td>\n",
       "      <td>1.54</td>\n",
       "      <td>1700</td>\n",
       "    </tr>\n",
       "    <tr>\n",
       "      <th>20</th>\n",
       "      <td>2020</td>\n",
       "      <td>33.5</td>\n",
       "      <td>1.48</td>\n",
       "      <td>1670</td>\n",
       "    </tr>\n",
       "    <tr>\n",
       "      <th>19</th>\n",
       "      <td>2019</td>\n",
       "      <td>32.9</td>\n",
       "      <td>1.56</td>\n",
       "      <td>1600</td>\n",
       "    </tr>\n",
       "    <tr>\n",
       "      <th>18</th>\n",
       "      <td>2018</td>\n",
       "      <td>32.5</td>\n",
       "      <td>1.62</td>\n",
       "      <td>1590</td>\n",
       "    </tr>\n",
       "    <tr>\n",
       "      <th>17</th>\n",
       "      <td>2017</td>\n",
       "      <td>31.9</td>\n",
       "      <td>1.65</td>\n",
       "      <td>1400</td>\n",
       "    </tr>\n",
       "    <tr>\n",
       "      <th>16</th>\n",
       "      <td>2016</td>\n",
       "      <td>31.4</td>\n",
       "      <td>1.66</td>\n",
       "      <td>1300</td>\n",
       "    </tr>\n",
       "    <tr>\n",
       "      <th>15</th>\n",
       "      <td>2015</td>\n",
       "      <td>30.9</td>\n",
       "      <td>1.64</td>\n",
       "      <td>1350</td>\n",
       "    </tr>\n",
       "    <tr>\n",
       "      <th>10</th>\n",
       "      <td>2010</td>\n",
       "      <td>28.5</td>\n",
       "      <td>1.53</td>\n",
       "      <td>1360</td>\n",
       "    </tr>\n",
       "  </tbody>\n",
       "</table>\n",
       "</div>"
      ],
      "text/plain": [
       "     Yil  Aholi_soni  Temp  YAIM\n",
       "21  2021        33.9  1.54  1700\n",
       "20  2020        33.5  1.48  1670\n",
       "19  2019        32.9  1.56  1600\n",
       "18  2018        32.5  1.62  1590\n",
       "17  2017        31.9  1.65  1400\n",
       "16  2016        31.4  1.66  1300\n",
       "15  2015        30.9  1.64  1350\n",
       "10  2010        28.5  1.53  1360"
      ]
     },
     "execution_count": 19,
     "metadata": {},
     "output_type": "execute_result"
    }
   ],
   "source": [
    "df"
   ]
  },
  {
   "cell_type": "code",
   "execution_count": 20,
   "id": "b732f8c5-fa24-4ef4-91a5-6ff081417b2c",
   "metadata": {},
   "outputs": [],
   "source": [
    "df['1500+']=df.YAIM>1500"
   ]
  },
  {
   "cell_type": "code",
   "execution_count": 21,
   "id": "e3cd0d17-1a91-48eb-86dd-cf664a289f50",
   "metadata": {},
   "outputs": [
    {
     "data": {
      "text/html": [
       "<div>\n",
       "<style scoped>\n",
       "    .dataframe tbody tr th:only-of-type {\n",
       "        vertical-align: middle;\n",
       "    }\n",
       "\n",
       "    .dataframe tbody tr th {\n",
       "        vertical-align: top;\n",
       "    }\n",
       "\n",
       "    .dataframe thead th {\n",
       "        text-align: right;\n",
       "    }\n",
       "</style>\n",
       "<table border=\"1\" class=\"dataframe\">\n",
       "  <thead>\n",
       "    <tr style=\"text-align: right;\">\n",
       "      <th></th>\n",
       "      <th>Yil</th>\n",
       "      <th>Aholi_soni</th>\n",
       "      <th>Temp</th>\n",
       "      <th>YAIM</th>\n",
       "      <th>1500+</th>\n",
       "    </tr>\n",
       "  </thead>\n",
       "  <tbody>\n",
       "    <tr>\n",
       "      <th>21</th>\n",
       "      <td>2021</td>\n",
       "      <td>33.9</td>\n",
       "      <td>1.54</td>\n",
       "      <td>1700</td>\n",
       "      <td>True</td>\n",
       "    </tr>\n",
       "    <tr>\n",
       "      <th>20</th>\n",
       "      <td>2020</td>\n",
       "      <td>33.5</td>\n",
       "      <td>1.48</td>\n",
       "      <td>1670</td>\n",
       "      <td>True</td>\n",
       "    </tr>\n",
       "    <tr>\n",
       "      <th>19</th>\n",
       "      <td>2019</td>\n",
       "      <td>32.9</td>\n",
       "      <td>1.56</td>\n",
       "      <td>1600</td>\n",
       "      <td>True</td>\n",
       "    </tr>\n",
       "    <tr>\n",
       "      <th>18</th>\n",
       "      <td>2018</td>\n",
       "      <td>32.5</td>\n",
       "      <td>1.62</td>\n",
       "      <td>1590</td>\n",
       "      <td>True</td>\n",
       "    </tr>\n",
       "    <tr>\n",
       "      <th>17</th>\n",
       "      <td>2017</td>\n",
       "      <td>31.9</td>\n",
       "      <td>1.65</td>\n",
       "      <td>1400</td>\n",
       "      <td>False</td>\n",
       "    </tr>\n",
       "    <tr>\n",
       "      <th>16</th>\n",
       "      <td>2016</td>\n",
       "      <td>31.4</td>\n",
       "      <td>1.66</td>\n",
       "      <td>1300</td>\n",
       "      <td>False</td>\n",
       "    </tr>\n",
       "    <tr>\n",
       "      <th>15</th>\n",
       "      <td>2015</td>\n",
       "      <td>30.9</td>\n",
       "      <td>1.64</td>\n",
       "      <td>1350</td>\n",
       "      <td>False</td>\n",
       "    </tr>\n",
       "    <tr>\n",
       "      <th>10</th>\n",
       "      <td>2010</td>\n",
       "      <td>28.5</td>\n",
       "      <td>1.53</td>\n",
       "      <td>1360</td>\n",
       "      <td>False</td>\n",
       "    </tr>\n",
       "  </tbody>\n",
       "</table>\n",
       "</div>"
      ],
      "text/plain": [
       "     Yil  Aholi_soni  Temp  YAIM  1500+\n",
       "21  2021        33.9  1.54  1700   True\n",
       "20  2020        33.5  1.48  1670   True\n",
       "19  2019        32.9  1.56  1600   True\n",
       "18  2018        32.5  1.62  1590   True\n",
       "17  2017        31.9  1.65  1400  False\n",
       "16  2016        31.4  1.66  1300  False\n",
       "15  2015        30.9  1.64  1350  False\n",
       "10  2010        28.5  1.53  1360  False"
      ]
     },
     "execution_count": 21,
     "metadata": {},
     "output_type": "execute_result"
    }
   ],
   "source": [
    "df"
   ]
  },
  {
   "cell_type": "code",
   "execution_count": 22,
   "id": "7e1b1ca4-8df4-43d6-a1d0-5ce40f29a364",
   "metadata": {},
   "outputs": [],
   "source": [
    "del df['1500+']"
   ]
  },
  {
   "cell_type": "code",
   "execution_count": 23,
   "id": "06b6cf54-6c77-41a9-8689-da100bcbfcb3",
   "metadata": {},
   "outputs": [
    {
     "data": {
      "text/html": [
       "<div>\n",
       "<style scoped>\n",
       "    .dataframe tbody tr th:only-of-type {\n",
       "        vertical-align: middle;\n",
       "    }\n",
       "\n",
       "    .dataframe tbody tr th {\n",
       "        vertical-align: top;\n",
       "    }\n",
       "\n",
       "    .dataframe thead th {\n",
       "        text-align: right;\n",
       "    }\n",
       "</style>\n",
       "<table border=\"1\" class=\"dataframe\">\n",
       "  <thead>\n",
       "    <tr style=\"text-align: right;\">\n",
       "      <th></th>\n",
       "      <th>Yil</th>\n",
       "      <th>Aholi_soni</th>\n",
       "      <th>Temp</th>\n",
       "      <th>YAIM</th>\n",
       "    </tr>\n",
       "  </thead>\n",
       "  <tbody>\n",
       "    <tr>\n",
       "      <th>21</th>\n",
       "      <td>2021</td>\n",
       "      <td>33.9</td>\n",
       "      <td>1.54</td>\n",
       "      <td>1700</td>\n",
       "    </tr>\n",
       "    <tr>\n",
       "      <th>20</th>\n",
       "      <td>2020</td>\n",
       "      <td>33.5</td>\n",
       "      <td>1.48</td>\n",
       "      <td>1670</td>\n",
       "    </tr>\n",
       "    <tr>\n",
       "      <th>19</th>\n",
       "      <td>2019</td>\n",
       "      <td>32.9</td>\n",
       "      <td>1.56</td>\n",
       "      <td>1600</td>\n",
       "    </tr>\n",
       "    <tr>\n",
       "      <th>18</th>\n",
       "      <td>2018</td>\n",
       "      <td>32.5</td>\n",
       "      <td>1.62</td>\n",
       "      <td>1590</td>\n",
       "    </tr>\n",
       "    <tr>\n",
       "      <th>17</th>\n",
       "      <td>2017</td>\n",
       "      <td>31.9</td>\n",
       "      <td>1.65</td>\n",
       "      <td>1400</td>\n",
       "    </tr>\n",
       "    <tr>\n",
       "      <th>16</th>\n",
       "      <td>2016</td>\n",
       "      <td>31.4</td>\n",
       "      <td>1.66</td>\n",
       "      <td>1300</td>\n",
       "    </tr>\n",
       "    <tr>\n",
       "      <th>15</th>\n",
       "      <td>2015</td>\n",
       "      <td>30.9</td>\n",
       "      <td>1.64</td>\n",
       "      <td>1350</td>\n",
       "    </tr>\n",
       "    <tr>\n",
       "      <th>10</th>\n",
       "      <td>2010</td>\n",
       "      <td>28.5</td>\n",
       "      <td>1.53</td>\n",
       "      <td>1360</td>\n",
       "    </tr>\n",
       "  </tbody>\n",
       "</table>\n",
       "</div>"
      ],
      "text/plain": [
       "     Yil  Aholi_soni  Temp  YAIM\n",
       "21  2021        33.9  1.54  1700\n",
       "20  2020        33.5  1.48  1670\n",
       "19  2019        32.9  1.56  1600\n",
       "18  2018        32.5  1.62  1590\n",
       "17  2017        31.9  1.65  1400\n",
       "16  2016        31.4  1.66  1300\n",
       "15  2015        30.9  1.64  1350\n",
       "10  2010        28.5  1.53  1360"
      ]
     },
     "execution_count": 23,
     "metadata": {},
     "output_type": "execute_result"
    }
   ],
   "source": [
    "df"
   ]
  },
  {
   "cell_type": "code",
   "execution_count": 24,
   "id": "728784f8-43ba-4101-ae6b-a32d89ef016d",
   "metadata": {},
   "outputs": [],
   "source": [
    "data1={'Uzbekistan':{2021:33.9,2020:33.5,2019:32.9,2018:32.5,2017:31.9},\n",
    "'Kazakistan':{2021:18.9,2020:18.7,2019:18.5,2018:18.3,2017:19.1,2016:27.8}}"
   ]
  },
  {
   "cell_type": "code",
   "execution_count": 25,
   "id": "d3d0a1ca-b4d9-434d-ba15-59082b85de51",
   "metadata": {},
   "outputs": [],
   "source": [
    "df1=pd.DataFrame(data1)"
   ]
  },
  {
   "cell_type": "code",
   "execution_count": 26,
   "id": "6b009cac-5caf-4ead-92d1-7c7510e84ffe",
   "metadata": {},
   "outputs": [
    {
     "data": {
      "text/html": [
       "<div>\n",
       "<style scoped>\n",
       "    .dataframe tbody tr th:only-of-type {\n",
       "        vertical-align: middle;\n",
       "    }\n",
       "\n",
       "    .dataframe tbody tr th {\n",
       "        vertical-align: top;\n",
       "    }\n",
       "\n",
       "    .dataframe thead th {\n",
       "        text-align: right;\n",
       "    }\n",
       "</style>\n",
       "<table border=\"1\" class=\"dataframe\">\n",
       "  <thead>\n",
       "    <tr style=\"text-align: right;\">\n",
       "      <th></th>\n",
       "      <th>Uzbekistan</th>\n",
       "      <th>Kazakistan</th>\n",
       "    </tr>\n",
       "  </thead>\n",
       "  <tbody>\n",
       "    <tr>\n",
       "      <th>2021</th>\n",
       "      <td>33.9</td>\n",
       "      <td>18.9</td>\n",
       "    </tr>\n",
       "    <tr>\n",
       "      <th>2020</th>\n",
       "      <td>33.5</td>\n",
       "      <td>18.7</td>\n",
       "    </tr>\n",
       "    <tr>\n",
       "      <th>2019</th>\n",
       "      <td>32.9</td>\n",
       "      <td>18.5</td>\n",
       "    </tr>\n",
       "    <tr>\n",
       "      <th>2018</th>\n",
       "      <td>32.5</td>\n",
       "      <td>18.3</td>\n",
       "    </tr>\n",
       "    <tr>\n",
       "      <th>2017</th>\n",
       "      <td>31.9</td>\n",
       "      <td>19.1</td>\n",
       "    </tr>\n",
       "    <tr>\n",
       "      <th>2016</th>\n",
       "      <td>NaN</td>\n",
       "      <td>27.8</td>\n",
       "    </tr>\n",
       "  </tbody>\n",
       "</table>\n",
       "</div>"
      ],
      "text/plain": [
       "      Uzbekistan  Kazakistan\n",
       "2021        33.9        18.9\n",
       "2020        33.5        18.7\n",
       "2019        32.9        18.5\n",
       "2018        32.5        18.3\n",
       "2017        31.9        19.1\n",
       "2016         NaN        27.8"
      ]
     },
     "execution_count": 26,
     "metadata": {},
     "output_type": "execute_result"
    }
   ],
   "source": [
    "df1"
   ]
  },
  {
   "cell_type": "code",
   "execution_count": 27,
   "id": "10927c97-6a39-4b4d-8b0c-101f9ec83730",
   "metadata": {},
   "outputs": [
    {
     "data": {
      "text/html": [
       "<div>\n",
       "<style scoped>\n",
       "    .dataframe tbody tr th:only-of-type {\n",
       "        vertical-align: middle;\n",
       "    }\n",
       "\n",
       "    .dataframe tbody tr th {\n",
       "        vertical-align: top;\n",
       "    }\n",
       "\n",
       "    .dataframe thead th {\n",
       "        text-align: right;\n",
       "    }\n",
       "</style>\n",
       "<table border=\"1\" class=\"dataframe\">\n",
       "  <thead>\n",
       "    <tr style=\"text-align: right;\">\n",
       "      <th></th>\n",
       "      <th>2021</th>\n",
       "      <th>2020</th>\n",
       "      <th>2019</th>\n",
       "      <th>2018</th>\n",
       "      <th>2017</th>\n",
       "      <th>2016</th>\n",
       "    </tr>\n",
       "  </thead>\n",
       "  <tbody>\n",
       "    <tr>\n",
       "      <th>Uzbekistan</th>\n",
       "      <td>33.9</td>\n",
       "      <td>33.5</td>\n",
       "      <td>32.9</td>\n",
       "      <td>32.5</td>\n",
       "      <td>31.9</td>\n",
       "      <td>NaN</td>\n",
       "    </tr>\n",
       "    <tr>\n",
       "      <th>Kazakistan</th>\n",
       "      <td>18.9</td>\n",
       "      <td>18.7</td>\n",
       "      <td>18.5</td>\n",
       "      <td>18.3</td>\n",
       "      <td>19.1</td>\n",
       "      <td>27.8</td>\n",
       "    </tr>\n",
       "  </tbody>\n",
       "</table>\n",
       "</div>"
      ],
      "text/plain": [
       "            2021  2020  2019  2018  2017  2016\n",
       "Uzbekistan  33.9  33.5  32.9  32.5  31.9   NaN\n",
       "Kazakistan  18.9  18.7  18.5  18.3  19.1  27.8"
      ]
     },
     "execution_count": 27,
     "metadata": {},
     "output_type": "execute_result"
    }
   ],
   "source": [
    "df1.T"
   ]
  },
  {
   "cell_type": "code",
   "execution_count": 28,
   "id": "4c889abb-7c5e-4ef7-aad4-67c659d8d830",
   "metadata": {},
   "outputs": [
    {
     "data": {
      "text/plain": [
       "Index(['Uzbekistan', 'Kazakistan'], dtype='object')"
      ]
     },
     "execution_count": 28,
     "metadata": {},
     "output_type": "execute_result"
    }
   ],
   "source": [
    "df1.columns"
   ]
  },
  {
   "cell_type": "code",
   "execution_count": 29,
   "id": "47fbfa25-633d-4c79-9949-9bc54342fe22",
   "metadata": {},
   "outputs": [
    {
     "data": {
      "text/plain": [
       "False"
      ]
     },
     "execution_count": 29,
     "metadata": {},
     "output_type": "execute_result"
    }
   ],
   "source": [
    "'Tajikistan' in df1.columns"
   ]
  },
  {
   "cell_type": "code",
   "execution_count": 30,
   "id": "09172df5-e626-40a6-948f-2acaef692555",
   "metadata": {},
   "outputs": [
    {
     "data": {
      "text/plain": [
       "True"
      ]
     },
     "execution_count": 30,
     "metadata": {},
     "output_type": "execute_result"
    }
   ],
   "source": [
    "2020 in df1.index"
   ]
  },
  {
   "cell_type": "code",
   "execution_count": 31,
   "id": "b75562fe-a767-43ec-8c9c-974bba99297e",
   "metadata": {},
   "outputs": [],
   "source": [
    "indeks=df1.index"
   ]
  },
  {
   "cell_type": "code",
   "execution_count": 32,
   "id": "9354821b-7af6-4b71-9838-8f777a03288b",
   "metadata": {},
   "outputs": [
    {
     "data": {
      "text/plain": [
       "Index([2021, 2020, 2019, 2018, 2017, 2016], dtype='int64')"
      ]
     },
     "execution_count": 32,
     "metadata": {},
     "output_type": "execute_result"
    }
   ],
   "source": [
    "indeks"
   ]
  },
  {
   "cell_type": "code",
   "execution_count": 33,
   "id": "625df4ea-a270-4e8d-8095-4b70e303d78e",
   "metadata": {},
   "outputs": [],
   "source": [
    "usernames={'anvar':'anvar2','olim':'olimtoy1','maryam':'maryam3','javohir':'javohir4'}"
   ]
  },
  {
   "cell_type": "code",
   "execution_count": 34,
   "id": "07705ca3-06d1-4902-a6f4-66d32e220476",
   "metadata": {},
   "outputs": [],
   "source": [
    "emails={'anvar':'anvar@g','olim':'olim.ru','maryam':'maryam.uz','javohir':'javoh5@gmail.com'}"
   ]
  },
  {
   "cell_type": "code",
   "execution_count": 35,
   "id": "9c750386-94a7-4c4d-97de-cfad9c4bbd4d",
   "metadata": {},
   "outputs": [],
   "source": [
    "data={'username':usernames,\n",
    "      'email':emails}"
   ]
  },
  {
   "cell_type": "code",
   "execution_count": 36,
   "id": "962401db-644d-4237-95ba-6473b38aa01e",
   "metadata": {},
   "outputs": [],
   "source": [
    "df3=DataFrame(data)"
   ]
  },
  {
   "cell_type": "code",
   "execution_count": 37,
   "id": "b9bfc8a0-c915-42dd-b769-886b8c923bd7",
   "metadata": {},
   "outputs": [
    {
     "data": {
      "text/html": [
       "<div>\n",
       "<style scoped>\n",
       "    .dataframe tbody tr th:only-of-type {\n",
       "        vertical-align: middle;\n",
       "    }\n",
       "\n",
       "    .dataframe tbody tr th {\n",
       "        vertical-align: top;\n",
       "    }\n",
       "\n",
       "    .dataframe thead th {\n",
       "        text-align: right;\n",
       "    }\n",
       "</style>\n",
       "<table border=\"1\" class=\"dataframe\">\n",
       "  <thead>\n",
       "    <tr style=\"text-align: right;\">\n",
       "      <th></th>\n",
       "      <th>username</th>\n",
       "      <th>email</th>\n",
       "    </tr>\n",
       "  </thead>\n",
       "  <tbody>\n",
       "    <tr>\n",
       "      <th>anvar</th>\n",
       "      <td>anvar2</td>\n",
       "      <td>anvar@g</td>\n",
       "    </tr>\n",
       "    <tr>\n",
       "      <th>olim</th>\n",
       "      <td>olimtoy1</td>\n",
       "      <td>olim.ru</td>\n",
       "    </tr>\n",
       "    <tr>\n",
       "      <th>maryam</th>\n",
       "      <td>maryam3</td>\n",
       "      <td>maryam.uz</td>\n",
       "    </tr>\n",
       "    <tr>\n",
       "      <th>javohir</th>\n",
       "      <td>javohir4</td>\n",
       "      <td>javoh5@gmail.com</td>\n",
       "    </tr>\n",
       "  </tbody>\n",
       "</table>\n",
       "</div>"
      ],
      "text/plain": [
       "         username             email\n",
       "anvar      anvar2           anvar@g\n",
       "olim     olimtoy1           olim.ru\n",
       "maryam    maryam3         maryam.uz\n",
       "javohir  javohir4  javoh5@gmail.com"
      ]
     },
     "execution_count": 37,
     "metadata": {},
     "output_type": "execute_result"
    }
   ],
   "source": [
    "df3"
   ]
  },
  {
   "cell_type": "code",
   "execution_count": 38,
   "id": "2760b1e0-e335-4dfd-81e7-cd990aef38eb",
   "metadata": {},
   "outputs": [],
   "source": [
    "data2={'username':{'olim':'olimjon2','maryam':'maryam2020'},\n",
    "'email':{'olim':'olimjon22','maryam':'maryam20'}}"
   ]
  },
  {
   "cell_type": "code",
   "execution_count": 39,
   "id": "de0c9c74-6bb1-49f6-bf26-704b77df19ff",
   "metadata": {},
   "outputs": [
    {
     "data": {
      "text/plain": [
       "{'username': {'olim': 'olimjon2', 'maryam': 'maryam2020'},\n",
       " 'email': {'olim': 'olimjon22', 'maryam': 'maryam20'}}"
      ]
     },
     "execution_count": 39,
     "metadata": {},
     "output_type": "execute_result"
    }
   ],
   "source": [
    "data2"
   ]
  },
  {
   "cell_type": "code",
   "execution_count": 40,
   "id": "d409ad39-2869-4d65-97d8-f1f5151823a7",
   "metadata": {},
   "outputs": [],
   "source": [
    "df5=DataFrame(data2)"
   ]
  },
  {
   "cell_type": "code",
   "execution_count": 41,
   "id": "f07212e7-07df-45e3-baed-644c0dce7a79",
   "metadata": {},
   "outputs": [
    {
     "data": {
      "text/html": [
       "<div>\n",
       "<style scoped>\n",
       "    .dataframe tbody tr th:only-of-type {\n",
       "        vertical-align: middle;\n",
       "    }\n",
       "\n",
       "    .dataframe tbody tr th {\n",
       "        vertical-align: top;\n",
       "    }\n",
       "\n",
       "    .dataframe thead th {\n",
       "        text-align: right;\n",
       "    }\n",
       "</style>\n",
       "<table border=\"1\" class=\"dataframe\">\n",
       "  <thead>\n",
       "    <tr style=\"text-align: right;\">\n",
       "      <th></th>\n",
       "      <th>username</th>\n",
       "      <th>email</th>\n",
       "    </tr>\n",
       "  </thead>\n",
       "  <tbody>\n",
       "    <tr>\n",
       "      <th>olim</th>\n",
       "      <td>olimjon2</td>\n",
       "      <td>olimjon22</td>\n",
       "    </tr>\n",
       "    <tr>\n",
       "      <th>maryam</th>\n",
       "      <td>maryam2020</td>\n",
       "      <td>maryam20</td>\n",
       "    </tr>\n",
       "  </tbody>\n",
       "</table>\n",
       "</div>"
      ],
      "text/plain": [
       "          username      email\n",
       "olim      olimjon2  olimjon22\n",
       "maryam  maryam2020   maryam20"
      ]
     },
     "execution_count": 41,
     "metadata": {},
     "output_type": "execute_result"
    }
   ],
   "source": [
    "df5"
   ]
  },
  {
   "cell_type": "code",
   "execution_count": 42,
   "id": "bde1de97-1ea4-438e-acda-e2309d148a3d",
   "metadata": {},
   "outputs": [],
   "source": [
    "df4=pd.concat([df3,df5])"
   ]
  },
  {
   "cell_type": "code",
   "execution_count": 43,
   "id": "387dca0c-c871-424d-80b3-3c0485007328",
   "metadata": {},
   "outputs": [
    {
     "data": {
      "text/html": [
       "<div>\n",
       "<style scoped>\n",
       "    .dataframe tbody tr th:only-of-type {\n",
       "        vertical-align: middle;\n",
       "    }\n",
       "\n",
       "    .dataframe tbody tr th {\n",
       "        vertical-align: top;\n",
       "    }\n",
       "\n",
       "    .dataframe thead th {\n",
       "        text-align: right;\n",
       "    }\n",
       "</style>\n",
       "<table border=\"1\" class=\"dataframe\">\n",
       "  <thead>\n",
       "    <tr style=\"text-align: right;\">\n",
       "      <th></th>\n",
       "      <th>username</th>\n",
       "      <th>email</th>\n",
       "    </tr>\n",
       "  </thead>\n",
       "  <tbody>\n",
       "    <tr>\n",
       "      <th>anvar</th>\n",
       "      <td>anvar2</td>\n",
       "      <td>anvar@g</td>\n",
       "    </tr>\n",
       "    <tr>\n",
       "      <th>olim</th>\n",
       "      <td>olimtoy1</td>\n",
       "      <td>olim.ru</td>\n",
       "    </tr>\n",
       "    <tr>\n",
       "      <th>maryam</th>\n",
       "      <td>maryam3</td>\n",
       "      <td>maryam.uz</td>\n",
       "    </tr>\n",
       "    <tr>\n",
       "      <th>javohir</th>\n",
       "      <td>javohir4</td>\n",
       "      <td>javoh5@gmail.com</td>\n",
       "    </tr>\n",
       "    <tr>\n",
       "      <th>olim</th>\n",
       "      <td>olimjon2</td>\n",
       "      <td>olimjon22</td>\n",
       "    </tr>\n",
       "    <tr>\n",
       "      <th>maryam</th>\n",
       "      <td>maryam2020</td>\n",
       "      <td>maryam20</td>\n",
       "    </tr>\n",
       "  </tbody>\n",
       "</table>\n",
       "</div>"
      ],
      "text/plain": [
       "           username             email\n",
       "anvar        anvar2           anvar@g\n",
       "olim       olimtoy1           olim.ru\n",
       "maryam      maryam3         maryam.uz\n",
       "javohir    javohir4  javoh5@gmail.com\n",
       "olim       olimjon2         olimjon22\n",
       "maryam   maryam2020          maryam20"
      ]
     },
     "execution_count": 43,
     "metadata": {},
     "output_type": "execute_result"
    }
   ],
   "source": [
    "df4"
   ]
  },
  {
   "cell_type": "code",
   "execution_count": 44,
   "id": "980573c4-bcc5-4fff-bec1-848e12414c49",
   "metadata": {},
   "outputs": [
    {
     "data": {
      "text/html": [
       "<div>\n",
       "<style scoped>\n",
       "    .dataframe tbody tr th:only-of-type {\n",
       "        vertical-align: middle;\n",
       "    }\n",
       "\n",
       "    .dataframe tbody tr th {\n",
       "        vertical-align: top;\n",
       "    }\n",
       "\n",
       "    .dataframe thead th {\n",
       "        text-align: right;\n",
       "    }\n",
       "</style>\n",
       "<table border=\"1\" class=\"dataframe\">\n",
       "  <thead>\n",
       "    <tr style=\"text-align: right;\">\n",
       "      <th></th>\n",
       "      <th>anvar</th>\n",
       "      <th>olim</th>\n",
       "      <th>maryam</th>\n",
       "      <th>javohir</th>\n",
       "      <th>olim</th>\n",
       "      <th>maryam</th>\n",
       "    </tr>\n",
       "  </thead>\n",
       "  <tbody>\n",
       "    <tr>\n",
       "      <th>username</th>\n",
       "      <td>anvar2</td>\n",
       "      <td>olimtoy1</td>\n",
       "      <td>maryam3</td>\n",
       "      <td>javohir4</td>\n",
       "      <td>olimjon2</td>\n",
       "      <td>maryam2020</td>\n",
       "    </tr>\n",
       "    <tr>\n",
       "      <th>email</th>\n",
       "      <td>anvar@g</td>\n",
       "      <td>olim.ru</td>\n",
       "      <td>maryam.uz</td>\n",
       "      <td>javoh5@gmail.com</td>\n",
       "      <td>olimjon22</td>\n",
       "      <td>maryam20</td>\n",
       "    </tr>\n",
       "  </tbody>\n",
       "</table>\n",
       "</div>"
      ],
      "text/plain": [
       "            anvar      olim     maryam           javohir       olim  \\\n",
       "username   anvar2  olimtoy1    maryam3          javohir4   olimjon2   \n",
       "email     anvar@g   olim.ru  maryam.uz  javoh5@gmail.com  olimjon22   \n",
       "\n",
       "              maryam  \n",
       "username  maryam2020  \n",
       "email       maryam20  "
      ]
     },
     "execution_count": 44,
     "metadata": {},
     "output_type": "execute_result"
    }
   ],
   "source": [
    "df4.T"
   ]
  },
  {
   "cell_type": "code",
   "execution_count": 45,
   "id": "d26fad07-36b2-4730-bf33-eb9421be977c",
   "metadata": {},
   "outputs": [
    {
     "data": {
      "text/plain": [
       "False"
      ]
     },
     "execution_count": 45,
     "metadata": {},
     "output_type": "execute_result"
    }
   ],
   "source": [
    "'Tajikistan' in df4.columns"
   ]
  },
  {
   "cell_type": "code",
   "execution_count": 46,
   "id": "d23b0a3f-b955-42b5-bc6c-9882477569e1",
   "metadata": {},
   "outputs": [
    {
     "data": {
      "text/plain": [
       "False"
      ]
     },
     "execution_count": 46,
     "metadata": {},
     "output_type": "execute_result"
    }
   ],
   "source": [
    "2020 in df.index"
   ]
  },
  {
   "cell_type": "code",
   "execution_count": 47,
   "id": "527e1a72-a90b-4591-a7d4-1c20684b9a01",
   "metadata": {},
   "outputs": [
    {
     "data": {
      "text/plain": [
       "Index(['anvar', 'olim', 'maryam', 'javohir', 'olim', 'maryam'], dtype='object')"
      ]
     },
     "execution_count": 47,
     "metadata": {},
     "output_type": "execute_result"
    }
   ],
   "source": [
    "df4.index"
   ]
  },
  {
   "cell_type": "code",
   "execution_count": 48,
   "id": "2d478e19-bf1f-4f39-ad86-a2025e0226c5",
   "metadata": {},
   "outputs": [],
   "source": [
    "newind=pd.Index(['olim','nafisa','hamida'])"
   ]
  },
  {
   "cell_type": "code",
   "execution_count": 49,
   "id": "1b2cb058-30fb-48f2-b376-ebfbdd14669b",
   "metadata": {},
   "outputs": [
    {
     "data": {
      "text/plain": [
       "Index(['olim', 'nafisa', 'hamida'], dtype='object')"
      ]
     },
     "execution_count": 49,
     "metadata": {},
     "output_type": "execute_result"
    }
   ],
   "source": [
    "newind"
   ]
  },
  {
   "cell_type": "code",
   "execution_count": 50,
   "id": "c3bd8eb5-7c43-4bf1-b5a5-8bf822a17850",
   "metadata": {},
   "outputs": [
    {
     "data": {
      "text/plain": [
       "array([ True, False, False])"
      ]
     },
     "execution_count": 50,
     "metadata": {},
     "output_type": "execute_result"
    }
   ],
   "source": [
    "newind.isin(df4.index) #newind df4 ichida borligini tekshirish"
   ]
  },
  {
   "cell_type": "code",
   "execution_count": 51,
   "id": "790d9962-530a-4bcc-9e7d-51ed2d6beb7e",
   "metadata": {},
   "outputs": [
    {
     "data": {
      "text/plain": [
       "Index(['anvar', 'javohir', 'maryam'], dtype='object')"
      ]
     },
     "execution_count": 51,
     "metadata": {},
     "output_type": "execute_result"
    }
   ],
   "source": [
    "df4.index.difference(newind)"
   ]
  },
  {
   "cell_type": "code",
   "execution_count": 52,
   "id": "f132f1e5-8ab0-4435-8101-33ede39b8e86",
   "metadata": {},
   "outputs": [
    {
     "data": {
      "text/plain": [
       "Index(['hamida', 'nafisa'], dtype='object')"
      ]
     },
     "execution_count": 52,
     "metadata": {},
     "output_type": "execute_result"
    }
   ],
   "source": [
    "newind.difference(df4.index)"
   ]
  },
  {
   "cell_type": "code",
   "execution_count": 53,
   "id": "e165c29c-dba7-4a86-91e2-5b4e358c8f55",
   "metadata": {},
   "outputs": [
    {
     "data": {
      "text/plain": [
       "Index(['anvar', 'hamida', 'javohir', 'maryam', 'maryam', 'nafisa', 'olim',\n",
       "       'olim'],\n",
       "      dtype='object')"
      ]
     },
     "execution_count": 53,
     "metadata": {},
     "output_type": "execute_result"
    }
   ],
   "source": [
    "df4.index.union(newind)"
   ]
  },
  {
   "cell_type": "code",
   "execution_count": 54,
   "id": "20f8e271-09c0-4300-ab73-ad01e3994036",
   "metadata": {},
   "outputs": [
    {
     "data": {
      "text/plain": [
       "Index(['olim', 'maryam', 'javohir', 'olim', 'maryam'], dtype='object')"
      ]
     },
     "execution_count": 54,
     "metadata": {},
     "output_type": "execute_result"
    }
   ],
   "source": [
    "df4.index.delete(0)"
   ]
  },
  {
   "cell_type": "code",
   "execution_count": 55,
   "id": "ceda914a-3256-47c3-b08f-1468a997b58f",
   "metadata": {},
   "outputs": [
    {
     "data": {
      "text/html": [
       "<div>\n",
       "<style scoped>\n",
       "    .dataframe tbody tr th:only-of-type {\n",
       "        vertical-align: middle;\n",
       "    }\n",
       "\n",
       "    .dataframe tbody tr th {\n",
       "        vertical-align: top;\n",
       "    }\n",
       "\n",
       "    .dataframe thead th {\n",
       "        text-align: right;\n",
       "    }\n",
       "</style>\n",
       "<table border=\"1\" class=\"dataframe\">\n",
       "  <thead>\n",
       "    <tr style=\"text-align: right;\">\n",
       "      <th></th>\n",
       "      <th>username</th>\n",
       "      <th>email</th>\n",
       "    </tr>\n",
       "  </thead>\n",
       "  <tbody>\n",
       "    <tr>\n",
       "      <th>anvar</th>\n",
       "      <td>anvar2</td>\n",
       "      <td>anvar@g</td>\n",
       "    </tr>\n",
       "    <tr>\n",
       "      <th>olim</th>\n",
       "      <td>olimtoy1</td>\n",
       "      <td>olim.ru</td>\n",
       "    </tr>\n",
       "    <tr>\n",
       "      <th>maryam</th>\n",
       "      <td>maryam3</td>\n",
       "      <td>maryam.uz</td>\n",
       "    </tr>\n",
       "    <tr>\n",
       "      <th>javohir</th>\n",
       "      <td>javohir4</td>\n",
       "      <td>javoh5@gmail.com</td>\n",
       "    </tr>\n",
       "    <tr>\n",
       "      <th>olim</th>\n",
       "      <td>olimjon2</td>\n",
       "      <td>olimjon22</td>\n",
       "    </tr>\n",
       "    <tr>\n",
       "      <th>maryam</th>\n",
       "      <td>maryam2020</td>\n",
       "      <td>maryam20</td>\n",
       "    </tr>\n",
       "  </tbody>\n",
       "</table>\n",
       "</div>"
      ],
      "text/plain": [
       "           username             email\n",
       "anvar        anvar2           anvar@g\n",
       "olim       olimtoy1           olim.ru\n",
       "maryam      maryam3         maryam.uz\n",
       "javohir    javohir4  javoh5@gmail.com\n",
       "olim       olimjon2         olimjon22\n",
       "maryam   maryam2020          maryam20"
      ]
     },
     "execution_count": 55,
     "metadata": {},
     "output_type": "execute_result"
    }
   ],
   "source": [
    "df4"
   ]
  },
  {
   "cell_type": "code",
   "execution_count": 58,
   "id": "34239945-dfd5-4167-a15a-9bfc27736331",
   "metadata": {},
   "outputs": [
    {
     "data": {
      "text/plain": [
       "Index(['anvar', 'maryam', 'javohir', 'maryam'], dtype='object')"
      ]
     },
     "execution_count": 58,
     "metadata": {},
     "output_type": "execute_result"
    }
   ],
   "source": [
    "df4.index.drop('olim')"
   ]
  },
  {
   "cell_type": "code",
   "execution_count": 60,
   "id": "563cf5b8-5a25-47da-b16a-0bc6b51c29d2",
   "metadata": {},
   "outputs": [
    {
     "data": {
      "text/html": [
       "<div>\n",
       "<style scoped>\n",
       "    .dataframe tbody tr th:only-of-type {\n",
       "        vertical-align: middle;\n",
       "    }\n",
       "\n",
       "    .dataframe tbody tr th {\n",
       "        vertical-align: top;\n",
       "    }\n",
       "\n",
       "    .dataframe thead th {\n",
       "        text-align: right;\n",
       "    }\n",
       "</style>\n",
       "<table border=\"1\" class=\"dataframe\">\n",
       "  <thead>\n",
       "    <tr style=\"text-align: right;\">\n",
       "      <th></th>\n",
       "      <th>username</th>\n",
       "      <th>email</th>\n",
       "    </tr>\n",
       "  </thead>\n",
       "  <tbody>\n",
       "    <tr>\n",
       "      <th>anvar</th>\n",
       "      <td>anvar2</td>\n",
       "      <td>anvar@g</td>\n",
       "    </tr>\n",
       "    <tr>\n",
       "      <th>olim</th>\n",
       "      <td>olimtoy1</td>\n",
       "      <td>olim.ru</td>\n",
       "    </tr>\n",
       "    <tr>\n",
       "      <th>maryam</th>\n",
       "      <td>maryam3</td>\n",
       "      <td>maryam.uz</td>\n",
       "    </tr>\n",
       "    <tr>\n",
       "      <th>javohir</th>\n",
       "      <td>javohir4</td>\n",
       "      <td>javoh5@gmail.com</td>\n",
       "    </tr>\n",
       "    <tr>\n",
       "      <th>olim</th>\n",
       "      <td>olimjon2</td>\n",
       "      <td>olimjon22</td>\n",
       "    </tr>\n",
       "    <tr>\n",
       "      <th>maryam</th>\n",
       "      <td>maryam2020</td>\n",
       "      <td>maryam20</td>\n",
       "    </tr>\n",
       "  </tbody>\n",
       "</table>\n",
       "</div>"
      ],
      "text/plain": [
       "           username             email\n",
       "anvar        anvar2           anvar@g\n",
       "olim       olimtoy1           olim.ru\n",
       "maryam      maryam3         maryam.uz\n",
       "javohir    javohir4  javoh5@gmail.com\n",
       "olim       olimjon2         olimjon22\n",
       "maryam   maryam2020          maryam20"
      ]
     },
     "execution_count": 60,
     "metadata": {},
     "output_type": "execute_result"
    }
   ],
   "source": [
    "df4"
   ]
  },
  {
   "cell_type": "code",
   "execution_count": 61,
   "id": "04d4d517-9266-4ce7-bf42-bd13e62b9f0a",
   "metadata": {},
   "outputs": [
    {
     "data": {
      "text/plain": [
       "Index(['anvar', 'olim', 'maryam', 'ali', 'javohir', 'olim', 'maryam'], dtype='object')"
      ]
     },
     "execution_count": 61,
     "metadata": {},
     "output_type": "execute_result"
    }
   ],
   "source": [
    "df4.index.insert(3,'ali')"
   ]
  },
  {
   "cell_type": "code",
   "execution_count": 64,
   "id": "b9529e80-1962-4f16-b7f5-5b23ccaec633",
   "metadata": {},
   "outputs": [
    {
     "data": {
      "text/plain": [
       "False"
      ]
     },
     "execution_count": 64,
     "metadata": {},
     "output_type": "execute_result"
    }
   ],
   "source": [
    "df4.index.is_monotonic_increasing"
   ]
  },
  {
   "cell_type": "code",
   "execution_count": 66,
   "id": "acdb77f2-de1c-4036-b409-63a93ad3e950",
   "metadata": {},
   "outputs": [
    {
     "data": {
      "text/plain": [
       "False"
      ]
     },
     "execution_count": 66,
     "metadata": {},
     "output_type": "execute_result"
    }
   ],
   "source": [
    "df4.index.is_monotonic_decreasing"
   ]
  },
  {
   "cell_type": "code",
   "execution_count": 67,
   "id": "71b4a72b-7367-4044-b5b3-366d04ebd89c",
   "metadata": {},
   "outputs": [
    {
     "data": {
      "text/plain": [
       "False"
      ]
     },
     "execution_count": 67,
     "metadata": {},
     "output_type": "execute_result"
    }
   ],
   "source": [
    "df4.index.is_unique"
   ]
  },
  {
   "cell_type": "code",
   "execution_count": 70,
   "id": "ef64c67d-b4c3-423d-a76d-c66f1c9bc141",
   "metadata": {},
   "outputs": [
    {
     "data": {
      "text/plain": [
       "True"
      ]
     },
     "execution_count": 70,
     "metadata": {},
     "output_type": "execute_result"
    }
   ],
   "source": [
    "newind.is_unique"
   ]
  },
  {
   "cell_type": "code",
   "execution_count": 72,
   "id": "efbeac55-98fa-44d5-baa3-16ed53c26812",
   "metadata": {},
   "outputs": [
    {
     "data": {
      "text/plain": [
       "Index(['anvar', 'olim', 'maryam', 'javohir'], dtype='object')"
      ]
     },
     "execution_count": 72,
     "metadata": {},
     "output_type": "execute_result"
    }
   ],
   "source": [
    "df4.index.unique()"
   ]
  },
  {
   "cell_type": "code",
   "execution_count": 75,
   "id": "2e459633-c9c5-4199-abff-68a4044cfd50",
   "metadata": {},
   "outputs": [],
   "source": [
    "# qayta indexlash"
   ]
  },
  {
   "cell_type": "code",
   "execution_count": 78,
   "id": "0763f688-8dcd-4f34-96dc-b728f583d494",
   "metadata": {},
   "outputs": [],
   "source": [
    "data6={'Yil':[2021,2020,2019,2018,2017,2016,2015,2010],\n",
    "       'Aholi soni':[33.9,33.5,32.9,32.3,31.4,30.9,28.5,90.4],\n",
    "       'Temp':[1.54,1.48,1.56,1.62,1.65,1.66,1.64,1.53],\n",
    "       'Zichlik':[79.77,78.88,77.53,76.34,75.13,73.23,67.03,77.77]}"
   ]
  },
  {
   "cell_type": "code",
   "execution_count": 81,
   "id": "7e60bcf8-ad94-4fe2-ae98-50abb6dcf6dc",
   "metadata": {},
   "outputs": [],
   "source": [
    "df7=pd.DataFrame(data6)"
   ]
  },
  {
   "cell_type": "code",
   "execution_count": 85,
   "id": "d811dabd-4815-4d35-9b98-595af7e50fd7",
   "metadata": {},
   "outputs": [
    {
     "data": {
      "text/html": [
       "<div>\n",
       "<style scoped>\n",
       "    .dataframe tbody tr th:only-of-type {\n",
       "        vertical-align: middle;\n",
       "    }\n",
       "\n",
       "    .dataframe tbody tr th {\n",
       "        vertical-align: top;\n",
       "    }\n",
       "\n",
       "    .dataframe thead th {\n",
       "        text-align: right;\n",
       "    }\n",
       "</style>\n",
       "<table border=\"1\" class=\"dataframe\">\n",
       "  <thead>\n",
       "    <tr style=\"text-align: right;\">\n",
       "      <th></th>\n",
       "      <th>Yil</th>\n",
       "      <th>Aholi soni</th>\n",
       "      <th>Temp</th>\n",
       "      <th>Zichlik</th>\n",
       "    </tr>\n",
       "  </thead>\n",
       "  <tbody>\n",
       "    <tr>\n",
       "      <th>0</th>\n",
       "      <td>2021</td>\n",
       "      <td>33.9</td>\n",
       "      <td>1.54</td>\n",
       "      <td>79.77</td>\n",
       "    </tr>\n",
       "    <tr>\n",
       "      <th>1</th>\n",
       "      <td>2020</td>\n",
       "      <td>33.5</td>\n",
       "      <td>1.48</td>\n",
       "      <td>78.88</td>\n",
       "    </tr>\n",
       "    <tr>\n",
       "      <th>2</th>\n",
       "      <td>2019</td>\n",
       "      <td>32.9</td>\n",
       "      <td>1.56</td>\n",
       "      <td>77.53</td>\n",
       "    </tr>\n",
       "    <tr>\n",
       "      <th>3</th>\n",
       "      <td>2018</td>\n",
       "      <td>32.3</td>\n",
       "      <td>1.62</td>\n",
       "      <td>76.34</td>\n",
       "    </tr>\n",
       "    <tr>\n",
       "      <th>4</th>\n",
       "      <td>2017</td>\n",
       "      <td>31.4</td>\n",
       "      <td>1.65</td>\n",
       "      <td>75.13</td>\n",
       "    </tr>\n",
       "    <tr>\n",
       "      <th>5</th>\n",
       "      <td>2016</td>\n",
       "      <td>30.9</td>\n",
       "      <td>1.66</td>\n",
       "      <td>73.23</td>\n",
       "    </tr>\n",
       "    <tr>\n",
       "      <th>6</th>\n",
       "      <td>2015</td>\n",
       "      <td>28.5</td>\n",
       "      <td>1.64</td>\n",
       "      <td>67.03</td>\n",
       "    </tr>\n",
       "    <tr>\n",
       "      <th>7</th>\n",
       "      <td>2010</td>\n",
       "      <td>90.4</td>\n",
       "      <td>1.53</td>\n",
       "      <td>77.77</td>\n",
       "    </tr>\n",
       "  </tbody>\n",
       "</table>\n",
       "</div>"
      ],
      "text/plain": [
       "    Yil  Aholi soni  Temp  Zichlik\n",
       "0  2021        33.9  1.54    79.77\n",
       "1  2020        33.5  1.48    78.88\n",
       "2  2019        32.9  1.56    77.53\n",
       "3  2018        32.3  1.62    76.34\n",
       "4  2017        31.4  1.65    75.13\n",
       "5  2016        30.9  1.66    73.23\n",
       "6  2015        28.5  1.64    67.03\n",
       "7  2010        90.4  1.53    77.77"
      ]
     },
     "execution_count": 85,
     "metadata": {},
     "output_type": "execute_result"
    }
   ],
   "source": [
    "df7"
   ]
  },
  {
   "cell_type": "code",
   "execution_count": 87,
   "id": "a02af9cb-2bea-4df1-b954-7a8a72f63d00",
   "metadata": {},
   "outputs": [],
   "source": [
    "ind=[21,20,19,18,17,16,15,10]"
   ]
  },
  {
   "cell_type": "code",
   "execution_count": 89,
   "id": "764eabd5-2731-4860-89ee-fef5b2be2ee0",
   "metadata": {},
   "outputs": [],
   "source": [
    "df7.index=ind"
   ]
  },
  {
   "cell_type": "code",
   "execution_count": 91,
   "id": "96ee110f-2a25-4715-b69a-d6e69f077b2b",
   "metadata": {},
   "outputs": [
    {
     "data": {
      "text/html": [
       "<div>\n",
       "<style scoped>\n",
       "    .dataframe tbody tr th:only-of-type {\n",
       "        vertical-align: middle;\n",
       "    }\n",
       "\n",
       "    .dataframe tbody tr th {\n",
       "        vertical-align: top;\n",
       "    }\n",
       "\n",
       "    .dataframe thead th {\n",
       "        text-align: right;\n",
       "    }\n",
       "</style>\n",
       "<table border=\"1\" class=\"dataframe\">\n",
       "  <thead>\n",
       "    <tr style=\"text-align: right;\">\n",
       "      <th></th>\n",
       "      <th>Yil</th>\n",
       "      <th>Aholi soni</th>\n",
       "      <th>Temp</th>\n",
       "      <th>Zichlik</th>\n",
       "    </tr>\n",
       "  </thead>\n",
       "  <tbody>\n",
       "    <tr>\n",
       "      <th>21</th>\n",
       "      <td>2021</td>\n",
       "      <td>33.9</td>\n",
       "      <td>1.54</td>\n",
       "      <td>79.77</td>\n",
       "    </tr>\n",
       "    <tr>\n",
       "      <th>20</th>\n",
       "      <td>2020</td>\n",
       "      <td>33.5</td>\n",
       "      <td>1.48</td>\n",
       "      <td>78.88</td>\n",
       "    </tr>\n",
       "    <tr>\n",
       "      <th>19</th>\n",
       "      <td>2019</td>\n",
       "      <td>32.9</td>\n",
       "      <td>1.56</td>\n",
       "      <td>77.53</td>\n",
       "    </tr>\n",
       "    <tr>\n",
       "      <th>18</th>\n",
       "      <td>2018</td>\n",
       "      <td>32.3</td>\n",
       "      <td>1.62</td>\n",
       "      <td>76.34</td>\n",
       "    </tr>\n",
       "    <tr>\n",
       "      <th>17</th>\n",
       "      <td>2017</td>\n",
       "      <td>31.4</td>\n",
       "      <td>1.65</td>\n",
       "      <td>75.13</td>\n",
       "    </tr>\n",
       "    <tr>\n",
       "      <th>16</th>\n",
       "      <td>2016</td>\n",
       "      <td>30.9</td>\n",
       "      <td>1.66</td>\n",
       "      <td>73.23</td>\n",
       "    </tr>\n",
       "    <tr>\n",
       "      <th>15</th>\n",
       "      <td>2015</td>\n",
       "      <td>28.5</td>\n",
       "      <td>1.64</td>\n",
       "      <td>67.03</td>\n",
       "    </tr>\n",
       "    <tr>\n",
       "      <th>10</th>\n",
       "      <td>2010</td>\n",
       "      <td>90.4</td>\n",
       "      <td>1.53</td>\n",
       "      <td>77.77</td>\n",
       "    </tr>\n",
       "  </tbody>\n",
       "</table>\n",
       "</div>"
      ],
      "text/plain": [
       "     Yil  Aholi soni  Temp  Zichlik\n",
       "21  2021        33.9  1.54    79.77\n",
       "20  2020        33.5  1.48    78.88\n",
       "19  2019        32.9  1.56    77.53\n",
       "18  2018        32.3  1.62    76.34\n",
       "17  2017        31.4  1.65    75.13\n",
       "16  2016        30.9  1.66    73.23\n",
       "15  2015        28.5  1.64    67.03\n",
       "10  2010        90.4  1.53    77.77"
      ]
     },
     "execution_count": 91,
     "metadata": {},
     "output_type": "execute_result"
    }
   ],
   "source": [
    "df7"
   ]
  },
  {
   "cell_type": "code",
   "execution_count": 92,
   "id": "6572d4e2-d824-46ec-a73c-c2e23f5159ec",
   "metadata": {},
   "outputs": [],
   "source": [
    "ind.sort()"
   ]
  },
  {
   "cell_type": "code",
   "execution_count": 94,
   "id": "7dd8d8d1-a5d7-4a8b-b58e-631cf032eede",
   "metadata": {},
   "outputs": [
    {
     "data": {
      "text/plain": [
       "[10, 15, 16, 17, 18, 19, 20, 21]"
      ]
     },
     "execution_count": 94,
     "metadata": {},
     "output_type": "execute_result"
    }
   ],
   "source": [
    "ind"
   ]
  },
  {
   "cell_type": "code",
   "execution_count": 96,
   "id": "ab7f530a-3768-465c-b0f2-d99233efb949",
   "metadata": {},
   "outputs": [
    {
     "data": {
      "text/html": [
       "<div>\n",
       "<style scoped>\n",
       "    .dataframe tbody tr th:only-of-type {\n",
       "        vertical-align: middle;\n",
       "    }\n",
       "\n",
       "    .dataframe tbody tr th {\n",
       "        vertical-align: top;\n",
       "    }\n",
       "\n",
       "    .dataframe thead th {\n",
       "        text-align: right;\n",
       "    }\n",
       "</style>\n",
       "<table border=\"1\" class=\"dataframe\">\n",
       "  <thead>\n",
       "    <tr style=\"text-align: right;\">\n",
       "      <th></th>\n",
       "      <th>Yil</th>\n",
       "      <th>Aholi soni</th>\n",
       "      <th>Temp</th>\n",
       "      <th>Zichlik</th>\n",
       "    </tr>\n",
       "  </thead>\n",
       "  <tbody>\n",
       "    <tr>\n",
       "      <th>10</th>\n",
       "      <td>2010</td>\n",
       "      <td>90.4</td>\n",
       "      <td>1.53</td>\n",
       "      <td>77.77</td>\n",
       "    </tr>\n",
       "    <tr>\n",
       "      <th>15</th>\n",
       "      <td>2015</td>\n",
       "      <td>28.5</td>\n",
       "      <td>1.64</td>\n",
       "      <td>67.03</td>\n",
       "    </tr>\n",
       "    <tr>\n",
       "      <th>16</th>\n",
       "      <td>2016</td>\n",
       "      <td>30.9</td>\n",
       "      <td>1.66</td>\n",
       "      <td>73.23</td>\n",
       "    </tr>\n",
       "    <tr>\n",
       "      <th>17</th>\n",
       "      <td>2017</td>\n",
       "      <td>31.4</td>\n",
       "      <td>1.65</td>\n",
       "      <td>75.13</td>\n",
       "    </tr>\n",
       "    <tr>\n",
       "      <th>18</th>\n",
       "      <td>2018</td>\n",
       "      <td>32.3</td>\n",
       "      <td>1.62</td>\n",
       "      <td>76.34</td>\n",
       "    </tr>\n",
       "    <tr>\n",
       "      <th>19</th>\n",
       "      <td>2019</td>\n",
       "      <td>32.9</td>\n",
       "      <td>1.56</td>\n",
       "      <td>77.53</td>\n",
       "    </tr>\n",
       "    <tr>\n",
       "      <th>20</th>\n",
       "      <td>2020</td>\n",
       "      <td>33.5</td>\n",
       "      <td>1.48</td>\n",
       "      <td>78.88</td>\n",
       "    </tr>\n",
       "    <tr>\n",
       "      <th>21</th>\n",
       "      <td>2021</td>\n",
       "      <td>33.9</td>\n",
       "      <td>1.54</td>\n",
       "      <td>79.77</td>\n",
       "    </tr>\n",
       "  </tbody>\n",
       "</table>\n",
       "</div>"
      ],
      "text/plain": [
       "     Yil  Aholi soni  Temp  Zichlik\n",
       "10  2010        90.4  1.53    77.77\n",
       "15  2015        28.5  1.64    67.03\n",
       "16  2016        30.9  1.66    73.23\n",
       "17  2017        31.4  1.65    75.13\n",
       "18  2018        32.3  1.62    76.34\n",
       "19  2019        32.9  1.56    77.53\n",
       "20  2020        33.5  1.48    78.88\n",
       "21  2021        33.9  1.54    79.77"
      ]
     },
     "execution_count": 96,
     "metadata": {},
     "output_type": "execute_result"
    }
   ],
   "source": [
    "df7.reindex(ind)"
   ]
  },
  {
   "cell_type": "code",
   "execution_count": 98,
   "id": "149d6b39-2fdf-47cf-afa7-05bae0f900dd",
   "metadata": {},
   "outputs": [
    {
     "data": {
      "text/html": [
       "<div>\n",
       "<style scoped>\n",
       "    .dataframe tbody tr th:only-of-type {\n",
       "        vertical-align: middle;\n",
       "    }\n",
       "\n",
       "    .dataframe tbody tr th {\n",
       "        vertical-align: top;\n",
       "    }\n",
       "\n",
       "    .dataframe thead th {\n",
       "        text-align: right;\n",
       "    }\n",
       "</style>\n",
       "<table border=\"1\" class=\"dataframe\">\n",
       "  <thead>\n",
       "    <tr style=\"text-align: right;\">\n",
       "      <th></th>\n",
       "      <th>Yil</th>\n",
       "      <th>Aholi soni</th>\n",
       "      <th>Temp</th>\n",
       "      <th>Zichlik</th>\n",
       "    </tr>\n",
       "  </thead>\n",
       "  <tbody>\n",
       "    <tr>\n",
       "      <th>10</th>\n",
       "      <td>2010.0</td>\n",
       "      <td>90.4</td>\n",
       "      <td>1.53</td>\n",
       "      <td>77.77</td>\n",
       "    </tr>\n",
       "    <tr>\n",
       "      <th>11</th>\n",
       "      <td>NaN</td>\n",
       "      <td>NaN</td>\n",
       "      <td>NaN</td>\n",
       "      <td>NaN</td>\n",
       "    </tr>\n",
       "    <tr>\n",
       "      <th>12</th>\n",
       "      <td>NaN</td>\n",
       "      <td>NaN</td>\n",
       "      <td>NaN</td>\n",
       "      <td>NaN</td>\n",
       "    </tr>\n",
       "    <tr>\n",
       "      <th>13</th>\n",
       "      <td>NaN</td>\n",
       "      <td>NaN</td>\n",
       "      <td>NaN</td>\n",
       "      <td>NaN</td>\n",
       "    </tr>\n",
       "    <tr>\n",
       "      <th>14</th>\n",
       "      <td>NaN</td>\n",
       "      <td>NaN</td>\n",
       "      <td>NaN</td>\n",
       "      <td>NaN</td>\n",
       "    </tr>\n",
       "    <tr>\n",
       "      <th>15</th>\n",
       "      <td>2015.0</td>\n",
       "      <td>28.5</td>\n",
       "      <td>1.64</td>\n",
       "      <td>67.03</td>\n",
       "    </tr>\n",
       "    <tr>\n",
       "      <th>16</th>\n",
       "      <td>2016.0</td>\n",
       "      <td>30.9</td>\n",
       "      <td>1.66</td>\n",
       "      <td>73.23</td>\n",
       "    </tr>\n",
       "    <tr>\n",
       "      <th>17</th>\n",
       "      <td>2017.0</td>\n",
       "      <td>31.4</td>\n",
       "      <td>1.65</td>\n",
       "      <td>75.13</td>\n",
       "    </tr>\n",
       "    <tr>\n",
       "      <th>18</th>\n",
       "      <td>2018.0</td>\n",
       "      <td>32.3</td>\n",
       "      <td>1.62</td>\n",
       "      <td>76.34</td>\n",
       "    </tr>\n",
       "    <tr>\n",
       "      <th>19</th>\n",
       "      <td>2019.0</td>\n",
       "      <td>32.9</td>\n",
       "      <td>1.56</td>\n",
       "      <td>77.53</td>\n",
       "    </tr>\n",
       "    <tr>\n",
       "      <th>20</th>\n",
       "      <td>2020.0</td>\n",
       "      <td>33.5</td>\n",
       "      <td>1.48</td>\n",
       "      <td>78.88</td>\n",
       "    </tr>\n",
       "    <tr>\n",
       "      <th>21</th>\n",
       "      <td>2021.0</td>\n",
       "      <td>33.9</td>\n",
       "      <td>1.54</td>\n",
       "      <td>79.77</td>\n",
       "    </tr>\n",
       "    <tr>\n",
       "      <th>22</th>\n",
       "      <td>NaN</td>\n",
       "      <td>NaN</td>\n",
       "      <td>NaN</td>\n",
       "      <td>NaN</td>\n",
       "    </tr>\n",
       "  </tbody>\n",
       "</table>\n",
       "</div>"
      ],
      "text/plain": [
       "       Yil  Aholi soni  Temp  Zichlik\n",
       "10  2010.0        90.4  1.53    77.77\n",
       "11     NaN         NaN   NaN      NaN\n",
       "12     NaN         NaN   NaN      NaN\n",
       "13     NaN         NaN   NaN      NaN\n",
       "14     NaN         NaN   NaN      NaN\n",
       "15  2015.0        28.5  1.64    67.03\n",
       "16  2016.0        30.9  1.66    73.23\n",
       "17  2017.0        31.4  1.65    75.13\n",
       "18  2018.0        32.3  1.62    76.34\n",
       "19  2019.0        32.9  1.56    77.53\n",
       "20  2020.0        33.5  1.48    78.88\n",
       "21  2021.0        33.9  1.54    79.77\n",
       "22     NaN         NaN   NaN      NaN"
      ]
     },
     "execution_count": 98,
     "metadata": {},
     "output_type": "execute_result"
    }
   ],
   "source": [
    "df7.reindex(range(10,23))"
   ]
  },
  {
   "cell_type": "code",
   "execution_count": 100,
   "id": "b3edca91-9a52-4264-9693-30832a9812f3",
   "metadata": {},
   "outputs": [
    {
     "data": {
      "text/html": [
       "<div>\n",
       "<style scoped>\n",
       "    .dataframe tbody tr th:only-of-type {\n",
       "        vertical-align: middle;\n",
       "    }\n",
       "\n",
       "    .dataframe tbody tr th {\n",
       "        vertical-align: top;\n",
       "    }\n",
       "\n",
       "    .dataframe thead th {\n",
       "        text-align: right;\n",
       "    }\n",
       "</style>\n",
       "<table border=\"1\" class=\"dataframe\">\n",
       "  <thead>\n",
       "    <tr style=\"text-align: right;\">\n",
       "      <th></th>\n",
       "      <th>Yil</th>\n",
       "      <th>Aholi soni</th>\n",
       "      <th>Temp</th>\n",
       "      <th>Zichlik</th>\n",
       "    </tr>\n",
       "  </thead>\n",
       "  <tbody>\n",
       "    <tr>\n",
       "      <th>10</th>\n",
       "      <td>2010.0</td>\n",
       "      <td>90.4</td>\n",
       "      <td>1.53</td>\n",
       "      <td>77.77</td>\n",
       "    </tr>\n",
       "    <tr>\n",
       "      <th>11</th>\n",
       "      <td>2015.0</td>\n",
       "      <td>28.5</td>\n",
       "      <td>1.64</td>\n",
       "      <td>67.03</td>\n",
       "    </tr>\n",
       "    <tr>\n",
       "      <th>12</th>\n",
       "      <td>2015.0</td>\n",
       "      <td>28.5</td>\n",
       "      <td>1.64</td>\n",
       "      <td>67.03</td>\n",
       "    </tr>\n",
       "    <tr>\n",
       "      <th>13</th>\n",
       "      <td>2015.0</td>\n",
       "      <td>28.5</td>\n",
       "      <td>1.64</td>\n",
       "      <td>67.03</td>\n",
       "    </tr>\n",
       "    <tr>\n",
       "      <th>14</th>\n",
       "      <td>2015.0</td>\n",
       "      <td>28.5</td>\n",
       "      <td>1.64</td>\n",
       "      <td>67.03</td>\n",
       "    </tr>\n",
       "    <tr>\n",
       "      <th>15</th>\n",
       "      <td>2015.0</td>\n",
       "      <td>28.5</td>\n",
       "      <td>1.64</td>\n",
       "      <td>67.03</td>\n",
       "    </tr>\n",
       "    <tr>\n",
       "      <th>16</th>\n",
       "      <td>2016.0</td>\n",
       "      <td>30.9</td>\n",
       "      <td>1.66</td>\n",
       "      <td>73.23</td>\n",
       "    </tr>\n",
       "    <tr>\n",
       "      <th>17</th>\n",
       "      <td>2017.0</td>\n",
       "      <td>31.4</td>\n",
       "      <td>1.65</td>\n",
       "      <td>75.13</td>\n",
       "    </tr>\n",
       "    <tr>\n",
       "      <th>18</th>\n",
       "      <td>2018.0</td>\n",
       "      <td>32.3</td>\n",
       "      <td>1.62</td>\n",
       "      <td>76.34</td>\n",
       "    </tr>\n",
       "    <tr>\n",
       "      <th>19</th>\n",
       "      <td>2019.0</td>\n",
       "      <td>32.9</td>\n",
       "      <td>1.56</td>\n",
       "      <td>77.53</td>\n",
       "    </tr>\n",
       "    <tr>\n",
       "      <th>20</th>\n",
       "      <td>2020.0</td>\n",
       "      <td>33.5</td>\n",
       "      <td>1.48</td>\n",
       "      <td>78.88</td>\n",
       "    </tr>\n",
       "    <tr>\n",
       "      <th>21</th>\n",
       "      <td>2021.0</td>\n",
       "      <td>33.9</td>\n",
       "      <td>1.54</td>\n",
       "      <td>79.77</td>\n",
       "    </tr>\n",
       "    <tr>\n",
       "      <th>22</th>\n",
       "      <td>NaN</td>\n",
       "      <td>NaN</td>\n",
       "      <td>NaN</td>\n",
       "      <td>NaN</td>\n",
       "    </tr>\n",
       "  </tbody>\n",
       "</table>\n",
       "</div>"
      ],
      "text/plain": [
       "       Yil  Aholi soni  Temp  Zichlik\n",
       "10  2010.0        90.4  1.53    77.77\n",
       "11  2015.0        28.5  1.64    67.03\n",
       "12  2015.0        28.5  1.64    67.03\n",
       "13  2015.0        28.5  1.64    67.03\n",
       "14  2015.0        28.5  1.64    67.03\n",
       "15  2015.0        28.5  1.64    67.03\n",
       "16  2016.0        30.9  1.66    73.23\n",
       "17  2017.0        31.4  1.65    75.13\n",
       "18  2018.0        32.3  1.62    76.34\n",
       "19  2019.0        32.9  1.56    77.53\n",
       "20  2020.0        33.5  1.48    78.88\n",
       "21  2021.0        33.9  1.54    79.77\n",
       "22     NaN         NaN   NaN      NaN"
      ]
     },
     "execution_count": 100,
     "metadata": {},
     "output_type": "execute_result"
    }
   ],
   "source": [
    "df7.reindex(index=range(10,23),method='ffill')"
   ]
  },
  {
   "cell_type": "code",
   "execution_count": 102,
   "id": "38dab67c-dfac-49f7-9d1c-be55593a3f63",
   "metadata": {},
   "outputs": [],
   "source": [
    "df7=df7.reindex(index=range(10,23),method='nearest')"
   ]
  },
  {
   "cell_type": "code",
   "execution_count": 105,
   "id": "d393ad4e-4db1-45ca-97a6-449ac3b9bb3e",
   "metadata": {},
   "outputs": [
    {
     "data": {
      "text/html": [
       "<div>\n",
       "<style scoped>\n",
       "    .dataframe tbody tr th:only-of-type {\n",
       "        vertical-align: middle;\n",
       "    }\n",
       "\n",
       "    .dataframe tbody tr th {\n",
       "        vertical-align: top;\n",
       "    }\n",
       "\n",
       "    .dataframe thead th {\n",
       "        text-align: right;\n",
       "    }\n",
       "</style>\n",
       "<table border=\"1\" class=\"dataframe\">\n",
       "  <thead>\n",
       "    <tr style=\"text-align: right;\">\n",
       "      <th></th>\n",
       "      <th>Yil</th>\n",
       "      <th>Aholi soni</th>\n",
       "      <th>Temp</th>\n",
       "      <th>Zichlik</th>\n",
       "    </tr>\n",
       "  </thead>\n",
       "  <tbody>\n",
       "    <tr>\n",
       "      <th>10</th>\n",
       "      <td>2010</td>\n",
       "      <td>90.4</td>\n",
       "      <td>1.53</td>\n",
       "      <td>77.77</td>\n",
       "    </tr>\n",
       "    <tr>\n",
       "      <th>11</th>\n",
       "      <td>2010</td>\n",
       "      <td>90.4</td>\n",
       "      <td>1.53</td>\n",
       "      <td>77.77</td>\n",
       "    </tr>\n",
       "    <tr>\n",
       "      <th>12</th>\n",
       "      <td>2010</td>\n",
       "      <td>90.4</td>\n",
       "      <td>1.53</td>\n",
       "      <td>77.77</td>\n",
       "    </tr>\n",
       "    <tr>\n",
       "      <th>13</th>\n",
       "      <td>2015</td>\n",
       "      <td>28.5</td>\n",
       "      <td>1.64</td>\n",
       "      <td>67.03</td>\n",
       "    </tr>\n",
       "    <tr>\n",
       "      <th>14</th>\n",
       "      <td>2015</td>\n",
       "      <td>28.5</td>\n",
       "      <td>1.64</td>\n",
       "      <td>67.03</td>\n",
       "    </tr>\n",
       "    <tr>\n",
       "      <th>15</th>\n",
       "      <td>2015</td>\n",
       "      <td>28.5</td>\n",
       "      <td>1.64</td>\n",
       "      <td>67.03</td>\n",
       "    </tr>\n",
       "    <tr>\n",
       "      <th>16</th>\n",
       "      <td>2016</td>\n",
       "      <td>30.9</td>\n",
       "      <td>1.66</td>\n",
       "      <td>73.23</td>\n",
       "    </tr>\n",
       "    <tr>\n",
       "      <th>17</th>\n",
       "      <td>2017</td>\n",
       "      <td>31.4</td>\n",
       "      <td>1.65</td>\n",
       "      <td>75.13</td>\n",
       "    </tr>\n",
       "    <tr>\n",
       "      <th>18</th>\n",
       "      <td>2018</td>\n",
       "      <td>32.3</td>\n",
       "      <td>1.62</td>\n",
       "      <td>76.34</td>\n",
       "    </tr>\n",
       "    <tr>\n",
       "      <th>19</th>\n",
       "      <td>2019</td>\n",
       "      <td>32.9</td>\n",
       "      <td>1.56</td>\n",
       "      <td>77.53</td>\n",
       "    </tr>\n",
       "    <tr>\n",
       "      <th>20</th>\n",
       "      <td>2020</td>\n",
       "      <td>33.5</td>\n",
       "      <td>1.48</td>\n",
       "      <td>78.88</td>\n",
       "    </tr>\n",
       "    <tr>\n",
       "      <th>21</th>\n",
       "      <td>2021</td>\n",
       "      <td>33.9</td>\n",
       "      <td>1.54</td>\n",
       "      <td>79.77</td>\n",
       "    </tr>\n",
       "    <tr>\n",
       "      <th>22</th>\n",
       "      <td>2021</td>\n",
       "      <td>33.9</td>\n",
       "      <td>1.54</td>\n",
       "      <td>79.77</td>\n",
       "    </tr>\n",
       "  </tbody>\n",
       "</table>\n",
       "</div>"
      ],
      "text/plain": [
       "     Yil  Aholi soni  Temp  Zichlik\n",
       "10  2010        90.4  1.53    77.77\n",
       "11  2010        90.4  1.53    77.77\n",
       "12  2010        90.4  1.53    77.77\n",
       "13  2015        28.5  1.64    67.03\n",
       "14  2015        28.5  1.64    67.03\n",
       "15  2015        28.5  1.64    67.03\n",
       "16  2016        30.9  1.66    73.23\n",
       "17  2017        31.4  1.65    75.13\n",
       "18  2018        32.3  1.62    76.34\n",
       "19  2019        32.9  1.56    77.53\n",
       "20  2020        33.5  1.48    78.88\n",
       "21  2021        33.9  1.54    79.77\n",
       "22  2021        33.9  1.54    79.77"
      ]
     },
     "execution_count": 105,
     "metadata": {},
     "output_type": "execute_result"
    }
   ],
   "source": [
    "df7"
   ]
  },
  {
   "cell_type": "code",
   "execution_count": 107,
   "id": "0c4f2174-de4e-4889-af59-0ffdc2e0dda1",
   "metadata": {},
   "outputs": [],
   "source": [
    "df7=df7.reindex(columns=['Aholi soni','Temp','Zichlik'])"
   ]
  },
  {
   "cell_type": "code",
   "execution_count": 110,
   "id": "a4cdd16f-46f3-41a1-8c12-d9bcad4802d4",
   "metadata": {},
   "outputs": [
    {
     "data": {
      "text/html": [
       "<div>\n",
       "<style scoped>\n",
       "    .dataframe tbody tr th:only-of-type {\n",
       "        vertical-align: middle;\n",
       "    }\n",
       "\n",
       "    .dataframe tbody tr th {\n",
       "        vertical-align: top;\n",
       "    }\n",
       "\n",
       "    .dataframe thead th {\n",
       "        text-align: right;\n",
       "    }\n",
       "</style>\n",
       "<table border=\"1\" class=\"dataframe\">\n",
       "  <thead>\n",
       "    <tr style=\"text-align: right;\">\n",
       "      <th></th>\n",
       "      <th>Aholi soni</th>\n",
       "      <th>Temp</th>\n",
       "      <th>Zichlik</th>\n",
       "    </tr>\n",
       "  </thead>\n",
       "  <tbody>\n",
       "    <tr>\n",
       "      <th>22</th>\n",
       "      <td>33.9</td>\n",
       "      <td>1.54</td>\n",
       "      <td>79.77</td>\n",
       "    </tr>\n",
       "    <tr>\n",
       "      <th>10</th>\n",
       "      <td>90.4</td>\n",
       "      <td>1.53</td>\n",
       "      <td>77.77</td>\n",
       "    </tr>\n",
       "    <tr>\n",
       "      <th>11</th>\n",
       "      <td>90.4</td>\n",
       "      <td>1.53</td>\n",
       "      <td>77.77</td>\n",
       "    </tr>\n",
       "  </tbody>\n",
       "</table>\n",
       "</div>"
      ],
      "text/plain": [
       "    Aholi soni  Temp  Zichlik\n",
       "22        33.9  1.54    79.77\n",
       "10        90.4  1.53    77.77\n",
       "11        90.4  1.53    77.77"
      ]
     },
     "execution_count": 110,
     "metadata": {},
     "output_type": "execute_result"
    }
   ],
   "source": [
    "df7.sample(3)"
   ]
  },
  {
   "cell_type": "code",
   "execution_count": 111,
   "id": "8c7cfd3c-9e56-4335-bbbf-780b863f0c7d",
   "metadata": {},
   "outputs": [
    {
     "data": {
      "text/html": [
       "<div>\n",
       "<style scoped>\n",
       "    .dataframe tbody tr th:only-of-type {\n",
       "        vertical-align: middle;\n",
       "    }\n",
       "\n",
       "    .dataframe tbody tr th {\n",
       "        vertical-align: top;\n",
       "    }\n",
       "\n",
       "    .dataframe thead th {\n",
       "        text-align: right;\n",
       "    }\n",
       "</style>\n",
       "<table border=\"1\" class=\"dataframe\">\n",
       "  <thead>\n",
       "    <tr style=\"text-align: right;\">\n",
       "      <th></th>\n",
       "      <th>Aholi soni</th>\n",
       "      <th>Zichlik</th>\n",
       "    </tr>\n",
       "  </thead>\n",
       "  <tbody>\n",
       "    <tr>\n",
       "      <th>10</th>\n",
       "      <td>90.4</td>\n",
       "      <td>77.77</td>\n",
       "    </tr>\n",
       "    <tr>\n",
       "      <th>20</th>\n",
       "      <td>33.5</td>\n",
       "      <td>78.88</td>\n",
       "    </tr>\n",
       "    <tr>\n",
       "      <th>19</th>\n",
       "      <td>32.9</td>\n",
       "      <td>77.53</td>\n",
       "    </tr>\n",
       "  </tbody>\n",
       "</table>\n",
       "</div>"
      ],
      "text/plain": [
       "    Aholi soni  Zichlik\n",
       "10        90.4    77.77\n",
       "20        33.5    78.88\n",
       "19        32.9    77.53"
      ]
     },
     "execution_count": 111,
     "metadata": {},
     "output_type": "execute_result"
    }
   ],
   "source": [
    "df7.loc[[10,20,19],['Aholi soni','Zichlik']]"
   ]
  },
  {
   "cell_type": "code",
   "execution_count": null,
   "id": "7564e0e8-fa31-4081-b1b8-6debc205d958",
   "metadata": {},
   "outputs": [],
   "source": [
    "\n",
    "\n",
    "\n",
    "\n",
    "\n",
    "\n",
    "\n"
   ]
  },
  {
   "cell_type": "code",
   "execution_count": 118,
   "id": "df09a5cb-8766-44c1-9d3b-2fd676702eff",
   "metadata": {},
   "outputs": [],
   "source": [
    "# qator vaustunlarni tashlab yuborish"
   ]
  },
  {
   "cell_type": "code",
   "execution_count": 121,
   "id": "fa41b765-4842-47a5-9453-3c50bba7a742",
   "metadata": {},
   "outputs": [
    {
     "data": {
      "text/html": [
       "<div>\n",
       "<style scoped>\n",
       "    .dataframe tbody tr th:only-of-type {\n",
       "        vertical-align: middle;\n",
       "    }\n",
       "\n",
       "    .dataframe tbody tr th {\n",
       "        vertical-align: top;\n",
       "    }\n",
       "\n",
       "    .dataframe thead th {\n",
       "        text-align: right;\n",
       "    }\n",
       "</style>\n",
       "<table border=\"1\" class=\"dataframe\">\n",
       "  <thead>\n",
       "    <tr style=\"text-align: right;\">\n",
       "      <th></th>\n",
       "      <th>Yil</th>\n",
       "      <th>Aholi_soni</th>\n",
       "      <th>Temp</th>\n",
       "      <th>YAIM</th>\n",
       "    </tr>\n",
       "  </thead>\n",
       "  <tbody>\n",
       "    <tr>\n",
       "      <th>21</th>\n",
       "      <td>2021</td>\n",
       "      <td>33.9</td>\n",
       "      <td>1.54</td>\n",
       "      <td>1700</td>\n",
       "    </tr>\n",
       "    <tr>\n",
       "      <th>20</th>\n",
       "      <td>2020</td>\n",
       "      <td>33.5</td>\n",
       "      <td>1.48</td>\n",
       "      <td>1670</td>\n",
       "    </tr>\n",
       "    <tr>\n",
       "      <th>19</th>\n",
       "      <td>2019</td>\n",
       "      <td>32.9</td>\n",
       "      <td>1.56</td>\n",
       "      <td>1600</td>\n",
       "    </tr>\n",
       "    <tr>\n",
       "      <th>18</th>\n",
       "      <td>2018</td>\n",
       "      <td>32.5</td>\n",
       "      <td>1.62</td>\n",
       "      <td>1590</td>\n",
       "    </tr>\n",
       "    <tr>\n",
       "      <th>17</th>\n",
       "      <td>2017</td>\n",
       "      <td>31.9</td>\n",
       "      <td>1.65</td>\n",
       "      <td>1400</td>\n",
       "    </tr>\n",
       "    <tr>\n",
       "      <th>16</th>\n",
       "      <td>2016</td>\n",
       "      <td>31.4</td>\n",
       "      <td>1.66</td>\n",
       "      <td>1300</td>\n",
       "    </tr>\n",
       "    <tr>\n",
       "      <th>15</th>\n",
       "      <td>2015</td>\n",
       "      <td>30.9</td>\n",
       "      <td>1.64</td>\n",
       "      <td>1350</td>\n",
       "    </tr>\n",
       "    <tr>\n",
       "      <th>10</th>\n",
       "      <td>2010</td>\n",
       "      <td>28.5</td>\n",
       "      <td>1.53</td>\n",
       "      <td>1360</td>\n",
       "    </tr>\n",
       "  </tbody>\n",
       "</table>\n",
       "</div>"
      ],
      "text/plain": [
       "     Yil  Aholi_soni  Temp  YAIM\n",
       "21  2021        33.9  1.54  1700\n",
       "20  2020        33.5  1.48  1670\n",
       "19  2019        32.9  1.56  1600\n",
       "18  2018        32.5  1.62  1590\n",
       "17  2017        31.9  1.65  1400\n",
       "16  2016        31.4  1.66  1300\n",
       "15  2015        30.9  1.64  1350\n",
       "10  2010        28.5  1.53  1360"
      ]
     },
     "execution_count": 121,
     "metadata": {},
     "output_type": "execute_result"
    }
   ],
   "source": [
    "df"
   ]
  },
  {
   "cell_type": "code",
   "execution_count": 123,
   "id": "2d47482f-2ee3-4994-9143-394b0777f967",
   "metadata": {},
   "outputs": [
    {
     "data": {
      "text/html": [
       "<div>\n",
       "<style scoped>\n",
       "    .dataframe tbody tr th:only-of-type {\n",
       "        vertical-align: middle;\n",
       "    }\n",
       "\n",
       "    .dataframe tbody tr th {\n",
       "        vertical-align: top;\n",
       "    }\n",
       "\n",
       "    .dataframe thead th {\n",
       "        text-align: right;\n",
       "    }\n",
       "</style>\n",
       "<table border=\"1\" class=\"dataframe\">\n",
       "  <thead>\n",
       "    <tr style=\"text-align: right;\">\n",
       "      <th></th>\n",
       "      <th>Yil</th>\n",
       "      <th>Aholi_soni</th>\n",
       "      <th>Temp</th>\n",
       "      <th>YAIM</th>\n",
       "    </tr>\n",
       "  </thead>\n",
       "  <tbody>\n",
       "    <tr>\n",
       "      <th>21</th>\n",
       "      <td>2021</td>\n",
       "      <td>33.9</td>\n",
       "      <td>1.54</td>\n",
       "      <td>1700</td>\n",
       "    </tr>\n",
       "    <tr>\n",
       "      <th>20</th>\n",
       "      <td>2020</td>\n",
       "      <td>33.5</td>\n",
       "      <td>1.48</td>\n",
       "      <td>1670</td>\n",
       "    </tr>\n",
       "    <tr>\n",
       "      <th>19</th>\n",
       "      <td>2019</td>\n",
       "      <td>32.9</td>\n",
       "      <td>1.56</td>\n",
       "      <td>1600</td>\n",
       "    </tr>\n",
       "    <tr>\n",
       "      <th>18</th>\n",
       "      <td>2018</td>\n",
       "      <td>32.5</td>\n",
       "      <td>1.62</td>\n",
       "      <td>1590</td>\n",
       "    </tr>\n",
       "    <tr>\n",
       "      <th>17</th>\n",
       "      <td>2017</td>\n",
       "      <td>31.9</td>\n",
       "      <td>1.65</td>\n",
       "      <td>1400</td>\n",
       "    </tr>\n",
       "    <tr>\n",
       "      <th>16</th>\n",
       "      <td>2016</td>\n",
       "      <td>31.4</td>\n",
       "      <td>1.66</td>\n",
       "      <td>1300</td>\n",
       "    </tr>\n",
       "    <tr>\n",
       "      <th>15</th>\n",
       "      <td>2015</td>\n",
       "      <td>30.9</td>\n",
       "      <td>1.64</td>\n",
       "      <td>1350</td>\n",
       "    </tr>\n",
       "  </tbody>\n",
       "</table>\n",
       "</div>"
      ],
      "text/plain": [
       "     Yil  Aholi_soni  Temp  YAIM\n",
       "21  2021        33.9  1.54  1700\n",
       "20  2020        33.5  1.48  1670\n",
       "19  2019        32.9  1.56  1600\n",
       "18  2018        32.5  1.62  1590\n",
       "17  2017        31.9  1.65  1400\n",
       "16  2016        31.4  1.66  1300\n",
       "15  2015        30.9  1.64  1350"
      ]
     },
     "execution_count": 123,
     "metadata": {},
     "output_type": "execute_result"
    }
   ],
   "source": [
    "df.drop(10)"
   ]
  },
  {
   "cell_type": "code",
   "execution_count": 125,
   "id": "39f8e74a-8d38-496d-bc8f-1eca80e4a7b8",
   "metadata": {},
   "outputs": [
    {
     "data": {
      "text/html": [
       "<div>\n",
       "<style scoped>\n",
       "    .dataframe tbody tr th:only-of-type {\n",
       "        vertical-align: middle;\n",
       "    }\n",
       "\n",
       "    .dataframe tbody tr th {\n",
       "        vertical-align: top;\n",
       "    }\n",
       "\n",
       "    .dataframe thead th {\n",
       "        text-align: right;\n",
       "    }\n",
       "</style>\n",
       "<table border=\"1\" class=\"dataframe\">\n",
       "  <thead>\n",
       "    <tr style=\"text-align: right;\">\n",
       "      <th></th>\n",
       "      <th>Yil</th>\n",
       "      <th>Aholi_soni</th>\n",
       "      <th>Temp</th>\n",
       "      <th>YAIM</th>\n",
       "    </tr>\n",
       "  </thead>\n",
       "  <tbody>\n",
       "    <tr>\n",
       "      <th>21</th>\n",
       "      <td>2021</td>\n",
       "      <td>33.9</td>\n",
       "      <td>1.54</td>\n",
       "      <td>1700</td>\n",
       "    </tr>\n",
       "    <tr>\n",
       "      <th>19</th>\n",
       "      <td>2019</td>\n",
       "      <td>32.9</td>\n",
       "      <td>1.56</td>\n",
       "      <td>1600</td>\n",
       "    </tr>\n",
       "    <tr>\n",
       "      <th>18</th>\n",
       "      <td>2018</td>\n",
       "      <td>32.5</td>\n",
       "      <td>1.62</td>\n",
       "      <td>1590</td>\n",
       "    </tr>\n",
       "    <tr>\n",
       "      <th>17</th>\n",
       "      <td>2017</td>\n",
       "      <td>31.9</td>\n",
       "      <td>1.65</td>\n",
       "      <td>1400</td>\n",
       "    </tr>\n",
       "    <tr>\n",
       "      <th>16</th>\n",
       "      <td>2016</td>\n",
       "      <td>31.4</td>\n",
       "      <td>1.66</td>\n",
       "      <td>1300</td>\n",
       "    </tr>\n",
       "    <tr>\n",
       "      <th>10</th>\n",
       "      <td>2010</td>\n",
       "      <td>28.5</td>\n",
       "      <td>1.53</td>\n",
       "      <td>1360</td>\n",
       "    </tr>\n",
       "  </tbody>\n",
       "</table>\n",
       "</div>"
      ],
      "text/plain": [
       "     Yil  Aholi_soni  Temp  YAIM\n",
       "21  2021        33.9  1.54  1700\n",
       "19  2019        32.9  1.56  1600\n",
       "18  2018        32.5  1.62  1590\n",
       "17  2017        31.9  1.65  1400\n",
       "16  2016        31.4  1.66  1300\n",
       "10  2010        28.5  1.53  1360"
      ]
     },
     "execution_count": 125,
     "metadata": {},
     "output_type": "execute_result"
    }
   ],
   "source": [
    "df.drop([15,20])"
   ]
  },
  {
   "cell_type": "code",
   "execution_count": 128,
   "id": "d25ecb43-7f14-47e5-8b0d-c208aaa1bb88",
   "metadata": {},
   "outputs": [
    {
     "data": {
      "text/html": [
       "<div>\n",
       "<style scoped>\n",
       "    .dataframe tbody tr th:only-of-type {\n",
       "        vertical-align: middle;\n",
       "    }\n",
       "\n",
       "    .dataframe tbody tr th {\n",
       "        vertical-align: top;\n",
       "    }\n",
       "\n",
       "    .dataframe thead th {\n",
       "        text-align: right;\n",
       "    }\n",
       "</style>\n",
       "<table border=\"1\" class=\"dataframe\">\n",
       "  <thead>\n",
       "    <tr style=\"text-align: right;\">\n",
       "      <th></th>\n",
       "      <th>Aholi_soni</th>\n",
       "      <th>Temp</th>\n",
       "      <th>YAIM</th>\n",
       "    </tr>\n",
       "  </thead>\n",
       "  <tbody>\n",
       "    <tr>\n",
       "      <th>21</th>\n",
       "      <td>33.9</td>\n",
       "      <td>1.54</td>\n",
       "      <td>1700</td>\n",
       "    </tr>\n",
       "    <tr>\n",
       "      <th>20</th>\n",
       "      <td>33.5</td>\n",
       "      <td>1.48</td>\n",
       "      <td>1670</td>\n",
       "    </tr>\n",
       "    <tr>\n",
       "      <th>19</th>\n",
       "      <td>32.9</td>\n",
       "      <td>1.56</td>\n",
       "      <td>1600</td>\n",
       "    </tr>\n",
       "    <tr>\n",
       "      <th>18</th>\n",
       "      <td>32.5</td>\n",
       "      <td>1.62</td>\n",
       "      <td>1590</td>\n",
       "    </tr>\n",
       "    <tr>\n",
       "      <th>17</th>\n",
       "      <td>31.9</td>\n",
       "      <td>1.65</td>\n",
       "      <td>1400</td>\n",
       "    </tr>\n",
       "    <tr>\n",
       "      <th>16</th>\n",
       "      <td>31.4</td>\n",
       "      <td>1.66</td>\n",
       "      <td>1300</td>\n",
       "    </tr>\n",
       "    <tr>\n",
       "      <th>15</th>\n",
       "      <td>30.9</td>\n",
       "      <td>1.64</td>\n",
       "      <td>1350</td>\n",
       "    </tr>\n",
       "    <tr>\n",
       "      <th>10</th>\n",
       "      <td>28.5</td>\n",
       "      <td>1.53</td>\n",
       "      <td>1360</td>\n",
       "    </tr>\n",
       "  </tbody>\n",
       "</table>\n",
       "</div>"
      ],
      "text/plain": [
       "    Aholi_soni  Temp  YAIM\n",
       "21        33.9  1.54  1700\n",
       "20        33.5  1.48  1670\n",
       "19        32.9  1.56  1600\n",
       "18        32.5  1.62  1590\n",
       "17        31.9  1.65  1400\n",
       "16        31.4  1.66  1300\n",
       "15        30.9  1.64  1350\n",
       "10        28.5  1.53  1360"
      ]
     },
     "execution_count": 128,
     "metadata": {},
     "output_type": "execute_result"
    }
   ],
   "source": [
    "df.drop('Yil',axis=1)"
   ]
  },
  {
   "cell_type": "code",
   "execution_count": 130,
   "id": "d9ad3950-0ba9-460a-a893-51055bf3afab",
   "metadata": {},
   "outputs": [
    {
     "data": {
      "text/html": [
       "<div>\n",
       "<style scoped>\n",
       "    .dataframe tbody tr th:only-of-type {\n",
       "        vertical-align: middle;\n",
       "    }\n",
       "\n",
       "    .dataframe tbody tr th {\n",
       "        vertical-align: top;\n",
       "    }\n",
       "\n",
       "    .dataframe thead th {\n",
       "        text-align: right;\n",
       "    }\n",
       "</style>\n",
       "<table border=\"1\" class=\"dataframe\">\n",
       "  <thead>\n",
       "    <tr style=\"text-align: right;\">\n",
       "      <th></th>\n",
       "      <th>Yil</th>\n",
       "      <th>Aholi_soni</th>\n",
       "      <th>Temp</th>\n",
       "      <th>YAIM</th>\n",
       "    </tr>\n",
       "  </thead>\n",
       "  <tbody>\n",
       "    <tr>\n",
       "      <th>21</th>\n",
       "      <td>2021</td>\n",
       "      <td>33.9</td>\n",
       "      <td>1.54</td>\n",
       "      <td>1700</td>\n",
       "    </tr>\n",
       "    <tr>\n",
       "      <th>20</th>\n",
       "      <td>2020</td>\n",
       "      <td>33.5</td>\n",
       "      <td>1.48</td>\n",
       "      <td>1670</td>\n",
       "    </tr>\n",
       "    <tr>\n",
       "      <th>19</th>\n",
       "      <td>2019</td>\n",
       "      <td>32.9</td>\n",
       "      <td>1.56</td>\n",
       "      <td>1600</td>\n",
       "    </tr>\n",
       "    <tr>\n",
       "      <th>18</th>\n",
       "      <td>2018</td>\n",
       "      <td>32.5</td>\n",
       "      <td>1.62</td>\n",
       "      <td>1590</td>\n",
       "    </tr>\n",
       "    <tr>\n",
       "      <th>17</th>\n",
       "      <td>2017</td>\n",
       "      <td>31.9</td>\n",
       "      <td>1.65</td>\n",
       "      <td>1400</td>\n",
       "    </tr>\n",
       "    <tr>\n",
       "      <th>16</th>\n",
       "      <td>2016</td>\n",
       "      <td>31.4</td>\n",
       "      <td>1.66</td>\n",
       "      <td>1300</td>\n",
       "    </tr>\n",
       "    <tr>\n",
       "      <th>15</th>\n",
       "      <td>2015</td>\n",
       "      <td>30.9</td>\n",
       "      <td>1.64</td>\n",
       "      <td>1350</td>\n",
       "    </tr>\n",
       "    <tr>\n",
       "      <th>10</th>\n",
       "      <td>2010</td>\n",
       "      <td>28.5</td>\n",
       "      <td>1.53</td>\n",
       "      <td>1360</td>\n",
       "    </tr>\n",
       "  </tbody>\n",
       "</table>\n",
       "</div>"
      ],
      "text/plain": [
       "     Yil  Aholi_soni  Temp  YAIM\n",
       "21  2021        33.9  1.54  1700\n",
       "20  2020        33.5  1.48  1670\n",
       "19  2019        32.9  1.56  1600\n",
       "18  2018        32.5  1.62  1590\n",
       "17  2017        31.9  1.65  1400\n",
       "16  2016        31.4  1.66  1300\n",
       "15  2015        30.9  1.64  1350\n",
       "10  2010        28.5  1.53  1360"
      ]
     },
     "execution_count": 130,
     "metadata": {},
     "output_type": "execute_result"
    }
   ],
   "source": [
    "df"
   ]
  },
  {
   "cell_type": "code",
   "execution_count": 131,
   "id": "74beeac9-fd49-4cd5-a683-a5a975e610cc",
   "metadata": {},
   "outputs": [],
   "source": [
    "df.drop('Yil',axis='columns',inplace=True)"
   ]
  },
  {
   "cell_type": "code",
   "execution_count": 134,
   "id": "175579a5-f471-405d-ab0c-db09b744abf4",
   "metadata": {},
   "outputs": [
    {
     "data": {
      "text/html": [
       "<div>\n",
       "<style scoped>\n",
       "    .dataframe tbody tr th:only-of-type {\n",
       "        vertical-align: middle;\n",
       "    }\n",
       "\n",
       "    .dataframe tbody tr th {\n",
       "        vertical-align: top;\n",
       "    }\n",
       "\n",
       "    .dataframe thead th {\n",
       "        text-align: right;\n",
       "    }\n",
       "</style>\n",
       "<table border=\"1\" class=\"dataframe\">\n",
       "  <thead>\n",
       "    <tr style=\"text-align: right;\">\n",
       "      <th></th>\n",
       "      <th>Aholi_soni</th>\n",
       "      <th>Temp</th>\n",
       "      <th>YAIM</th>\n",
       "    </tr>\n",
       "  </thead>\n",
       "  <tbody>\n",
       "    <tr>\n",
       "      <th>21</th>\n",
       "      <td>33.9</td>\n",
       "      <td>1.54</td>\n",
       "      <td>1700</td>\n",
       "    </tr>\n",
       "    <tr>\n",
       "      <th>20</th>\n",
       "      <td>33.5</td>\n",
       "      <td>1.48</td>\n",
       "      <td>1670</td>\n",
       "    </tr>\n",
       "    <tr>\n",
       "      <th>19</th>\n",
       "      <td>32.9</td>\n",
       "      <td>1.56</td>\n",
       "      <td>1600</td>\n",
       "    </tr>\n",
       "    <tr>\n",
       "      <th>18</th>\n",
       "      <td>32.5</td>\n",
       "      <td>1.62</td>\n",
       "      <td>1590</td>\n",
       "    </tr>\n",
       "    <tr>\n",
       "      <th>17</th>\n",
       "      <td>31.9</td>\n",
       "      <td>1.65</td>\n",
       "      <td>1400</td>\n",
       "    </tr>\n",
       "    <tr>\n",
       "      <th>16</th>\n",
       "      <td>31.4</td>\n",
       "      <td>1.66</td>\n",
       "      <td>1300</td>\n",
       "    </tr>\n",
       "    <tr>\n",
       "      <th>15</th>\n",
       "      <td>30.9</td>\n",
       "      <td>1.64</td>\n",
       "      <td>1350</td>\n",
       "    </tr>\n",
       "    <tr>\n",
       "      <th>10</th>\n",
       "      <td>28.5</td>\n",
       "      <td>1.53</td>\n",
       "      <td>1360</td>\n",
       "    </tr>\n",
       "  </tbody>\n",
       "</table>\n",
       "</div>"
      ],
      "text/plain": [
       "    Aholi_soni  Temp  YAIM\n",
       "21        33.9  1.54  1700\n",
       "20        33.5  1.48  1670\n",
       "19        32.9  1.56  1600\n",
       "18        32.5  1.62  1590\n",
       "17        31.9  1.65  1400\n",
       "16        31.4  1.66  1300\n",
       "15        30.9  1.64  1350\n",
       "10        28.5  1.53  1360"
      ]
     },
     "execution_count": 134,
     "metadata": {},
     "output_type": "execute_result"
    }
   ],
   "source": [
    "df"
   ]
  },
  {
   "cell_type": "code",
   "execution_count": 136,
   "id": "70745537-2acd-416c-ab8a-06c3f92386c7",
   "metadata": {},
   "outputs": [],
   "source": [
    "df.drop([10,15,20],inplace=True)"
   ]
  },
  {
   "cell_type": "code",
   "execution_count": 187,
   "id": "17e56a87-1261-4ee5-8967-d839dd94c507",
   "metadata": {},
   "outputs": [
    {
     "data": {
      "text/html": [
       "<div>\n",
       "<style scoped>\n",
       "    .dataframe tbody tr th:only-of-type {\n",
       "        vertical-align: middle;\n",
       "    }\n",
       "\n",
       "    .dataframe tbody tr th {\n",
       "        vertical-align: top;\n",
       "    }\n",
       "\n",
       "    .dataframe thead th {\n",
       "        text-align: right;\n",
       "    }\n",
       "</style>\n",
       "<table border=\"1\" class=\"dataframe\">\n",
       "  <thead>\n",
       "    <tr style=\"text-align: right;\">\n",
       "      <th></th>\n",
       "      <th>Aholi_soni</th>\n",
       "      <th>Temp</th>\n",
       "      <th>YAIM</th>\n",
       "    </tr>\n",
       "  </thead>\n",
       "  <tbody>\n",
       "    <tr>\n",
       "      <th>21</th>\n",
       "      <td>33.9</td>\n",
       "      <td>1.54</td>\n",
       "      <td>1700</td>\n",
       "    </tr>\n",
       "    <tr>\n",
       "      <th>19</th>\n",
       "      <td>32.9</td>\n",
       "      <td>1.56</td>\n",
       "      <td>1600</td>\n",
       "    </tr>\n",
       "    <tr>\n",
       "      <th>18</th>\n",
       "      <td>32.5</td>\n",
       "      <td>1.62</td>\n",
       "      <td>1590</td>\n",
       "    </tr>\n",
       "    <tr>\n",
       "      <th>17</th>\n",
       "      <td>31.9</td>\n",
       "      <td>1.65</td>\n",
       "      <td>1400</td>\n",
       "    </tr>\n",
       "    <tr>\n",
       "      <th>16</th>\n",
       "      <td>31.4</td>\n",
       "      <td>1.66</td>\n",
       "      <td>1300</td>\n",
       "    </tr>\n",
       "  </tbody>\n",
       "</table>\n",
       "</div>"
      ],
      "text/plain": [
       "    Aholi_soni  Temp  YAIM\n",
       "21        33.9  1.54  1700\n",
       "19        32.9  1.56  1600\n",
       "18        32.5  1.62  1590\n",
       "17        31.9  1.65  1400\n",
       "16        31.4  1.66  1300"
      ]
     },
     "execution_count": 187,
     "metadata": {},
     "output_type": "execute_result"
    }
   ],
   "source": [
    "df"
   ]
  },
  {
   "cell_type": "code",
   "execution_count": null,
   "id": "350ae9ce-ab44-445d-a251-bbee9e408764",
   "metadata": {},
   "outputs": [],
   "source": [
    "\n",
    "\n",
    "\n",
    "\n",
    "\n",
    "\n",
    "\n"
   ]
  },
  {
   "cell_type": "code",
   "execution_count": null,
   "id": "74dc19a1-8784-4149-9292-1d30c3ad45e9",
   "metadata": {},
   "outputs": [],
   "source": []
  }
 ],
 "metadata": {
  "kernelspec": {
   "display_name": "base",
   "language": "python",
   "name": "python3"
  },
  "language_info": {
   "codemirror_mode": {
    "name": "ipython",
    "version": 3
   },
   "file_extension": ".py",
   "mimetype": "text/x-python",
   "name": "python",
   "nbconvert_exporter": "python",
   "pygments_lexer": "ipython3",
   "version": "3.12.3"
  }
 },
 "nbformat": 4,
 "nbformat_minor": 5
}
