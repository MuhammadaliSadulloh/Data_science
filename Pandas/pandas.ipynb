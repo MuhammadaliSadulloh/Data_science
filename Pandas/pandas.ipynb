{
 "cells": [
  {
   "cell_type": "code",
   "execution_count": 180,
   "id": "4cf855e5-fa98-49df-8be9-0386cc28c622",
   "metadata": {},
   "outputs": [],
   "source": [
    "import pandas\n",
    "import numpy"
   ]
  },
  {
   "cell_type": "code",
   "execution_count": 182,
   "id": "62ffa391-85bd-4b72-880c-81d36b7d7621",
   "metadata": {},
   "outputs": [],
   "source": [
    "from pandas import Series"
   ]
  },
  {
   "cell_type": "code",
   "execution_count": 183,
   "id": "d7f0cbe3-e595-49cd-a9f8-23eb3e00d32b",
   "metadata": {},
   "outputs": [],
   "source": [
    "obj=Series([0,4,6,6.5])"
   ]
  },
  {
   "cell_type": "code",
   "execution_count": 187,
   "id": "b54d8932-f895-4fff-8773-758e283310c1",
   "metadata": {},
   "outputs": [
    {
     "data": {
      "text/plain": [
       "pandas.core.series.Series"
      ]
     },
     "execution_count": 187,
     "metadata": {},
     "output_type": "execute_result"
    }
   ],
   "source": [
    "type(obj)"
   ]
  },
  {
   "cell_type": "code",
   "execution_count": 189,
   "id": "08727ebd-4d1a-416c-945f-fa6dd31a05d9",
   "metadata": {},
   "outputs": [
    {
     "data": {
      "text/plain": [
       "0    0.0\n",
       "1    4.0\n",
       "2    6.0\n",
       "3    6.5\n",
       "dtype: float64"
      ]
     },
     "execution_count": 189,
     "metadata": {},
     "output_type": "execute_result"
    }
   ],
   "source": [
    "obj"
   ]
  },
  {
   "cell_type": "code",
   "execution_count": 191,
   "id": "51e2f9b2-f9da-465d-aab5-c835c791ae44",
   "metadata": {},
   "outputs": [
    {
     "name": "stdout",
     "output_type": "stream",
     "text": [
      "0    0.0\n",
      "1    4.0\n",
      "2    6.0\n",
      "3    6.5\n",
      "dtype: float64\n"
     ]
    }
   ],
   "source": [
    "print(obj)"
   ]
  },
  {
   "cell_type": "code",
   "execution_count": 192,
   "id": "eae9848f-d98f-43d5-b6df-9b3f1d4745e7",
   "metadata": {},
   "outputs": [
    {
     "data": {
      "text/plain": [
       "array([0. , 4. , 6. , 6.5])"
      ]
     },
     "execution_count": 192,
     "metadata": {},
     "output_type": "execute_result"
    }
   ],
   "source": [
    "obj.values"
   ]
  },
  {
   "cell_type": "code",
   "execution_count": 193,
   "id": "1f34a495-a217-4f1b-b35b-ca783f0503a1",
   "metadata": {},
   "outputs": [
    {
     "data": {
      "text/plain": [
       "RangeIndex(start=0, stop=4, step=1)"
      ]
     },
     "execution_count": 193,
     "metadata": {},
     "output_type": "execute_result"
    }
   ],
   "source": [
    "obj.index"
   ]
  },
  {
   "cell_type": "code",
   "execution_count": 195,
   "id": "b08b67b4-1432-48d6-9141-8926c93f4bab",
   "metadata": {},
   "outputs": [
    {
     "data": {
      "text/plain": [
       "0.0"
      ]
     },
     "execution_count": 195,
     "metadata": {},
     "output_type": "execute_result"
    }
   ],
   "source": [
    "obj[0]"
   ]
  },
  {
   "cell_type": "code",
   "execution_count": 197,
   "id": "ecfa4553-1ab5-4f0c-b7f4-10feba5ebf1e",
   "metadata": {},
   "outputs": [
    {
     "data": {
      "text/plain": [
       "6.5"
      ]
     },
     "execution_count": 197,
     "metadata": {},
     "output_type": "execute_result"
    }
   ],
   "source": [
    "obj[3]"
   ]
  },
  {
   "cell_type": "code",
   "execution_count": 199,
   "id": "839cae63-ec21-4a96-84e5-0b4b9809d426",
   "metadata": {},
   "outputs": [],
   "source": [
    "obj2=Series([1,6,3,2],index=['a','b','c','d'])"
   ]
  },
  {
   "cell_type": "code",
   "execution_count": 201,
   "id": "db067430-b792-406f-960f-a5a4d3f4ce34",
   "metadata": {},
   "outputs": [
    {
     "data": {
      "text/plain": [
       "a    1\n",
       "b    6\n",
       "c    3\n",
       "d    2\n",
       "dtype: int64"
      ]
     },
     "execution_count": 201,
     "metadata": {},
     "output_type": "execute_result"
    }
   ],
   "source": [
    "obj2"
   ]
  },
  {
   "cell_type": "code",
   "execution_count": 203,
   "id": "08aef6f6-b86a-4082-8e9b-70d2e6dd8354",
   "metadata": {},
   "outputs": [
    {
     "data": {
      "text/plain": [
       "a     2\n",
       "b    12\n",
       "c     6\n",
       "d     4\n",
       "dtype: int64"
      ]
     },
     "execution_count": 203,
     "metadata": {},
     "output_type": "execute_result"
    }
   ],
   "source": [
    "obj2*2"
   ]
  },
  {
   "cell_type": "code",
   "execution_count": 205,
   "id": "fd7bb2b7-3b88-429b-bc7f-c6922bb7dcc4",
   "metadata": {},
   "outputs": [
    {
     "data": {
      "text/plain": [
       "b    6\n",
       "c    3\n",
       "dtype: int64"
      ]
     },
     "execution_count": 205,
     "metadata": {},
     "output_type": "execute_result"
    }
   ],
   "source": [
    "obj2[obj2>2]"
   ]
  },
  {
   "cell_type": "code",
   "execution_count": 207,
   "id": "cee19e55-9347-4dbf-ad73-be8bb497e3b1",
   "metadata": {},
   "outputs": [
    {
     "data": {
      "text/plain": [
       "Index(['a', 'b', 'c', 'd'], dtype='object')"
      ]
     },
     "execution_count": 207,
     "metadata": {},
     "output_type": "execute_result"
    }
   ],
   "source": [
    "obj2.index"
   ]
  },
  {
   "cell_type": "code",
   "execution_count": 209,
   "id": "8d49ae63-6fca-4001-8c3b-63d285252f8e",
   "metadata": {},
   "outputs": [
    {
     "data": {
      "text/plain": [
       "a    1\n",
       "b    6\n",
       "c    3\n",
       "c    3\n",
       "dtype: int64"
      ]
     },
     "execution_count": 209,
     "metadata": {},
     "output_type": "execute_result"
    }
   ],
   "source": [
    "obj2[['a','b','c','c']]"
   ]
  },
  {
   "cell_type": "code",
   "execution_count": 211,
   "id": "ba354c6b-626c-4028-a5de-dbb76f5bc486",
   "metadata": {},
   "outputs": [
    {
     "data": {
      "text/plain": [
       "c    3\n",
       "c    3\n",
       "c    3\n",
       "dtype: int64"
      ]
     },
     "execution_count": 211,
     "metadata": {},
     "output_type": "execute_result"
    }
   ],
   "source": [
    "obj2[['c','c','c']]"
   ]
  },
  {
   "cell_type": "code",
   "execution_count": 213,
   "id": "43de611d-b2bf-4c4c-acd6-4cfb0a8479ae",
   "metadata": {},
   "outputs": [
    {
     "data": {
      "text/plain": [
       "a    1\n",
       "d    2\n",
       "dtype: int64"
      ]
     },
     "execution_count": 213,
     "metadata": {},
     "output_type": "execute_result"
    }
   ],
   "source": [
    "obj2[obj2<3]"
   ]
  },
  {
   "cell_type": "code",
   "execution_count": 214,
   "id": "5193a3ed-0dae-47ce-ad4c-04221fd7e78f",
   "metadata": {},
   "outputs": [
    {
     "data": {
      "text/plain": [
       "a      2.718282\n",
       "b    403.428793\n",
       "c     20.085537\n",
       "d      7.389056\n",
       "dtype: float64"
      ]
     },
     "execution_count": 214,
     "metadata": {},
     "output_type": "execute_result"
    }
   ],
   "source": [
    "np.exp(obj2)"
   ]
  },
  {
   "cell_type": "code",
   "execution_count": 216,
   "id": "cd36fe63-b511-4586-a6fa-d7f2f82cf199",
   "metadata": {},
   "outputs": [],
   "source": [
    "obj2['e']=5"
   ]
  },
  {
   "cell_type": "code",
   "execution_count": 219,
   "id": "d6f0db5a-758c-46e7-a3bc-2b21daab04b5",
   "metadata": {},
   "outputs": [
    {
     "data": {
      "text/plain": [
       "a    1\n",
       "b    6\n",
       "c    3\n",
       "d    2\n",
       "e    5\n",
       "dtype: int64"
      ]
     },
     "execution_count": 219,
     "metadata": {},
     "output_type": "execute_result"
    }
   ],
   "source": [
    "obj2"
   ]
  },
  {
   "cell_type": "code",
   "execution_count": 220,
   "id": "2b2f7abe-68c8-49d7-b32b-52963faa098b",
   "metadata": {},
   "outputs": [],
   "source": [
    "cars_dict={'Malibu':40000,'Lasetti':20000,'Toyota':45000,'Mazda':52000,'Honda':38000}"
   ]
  },
  {
   "cell_type": "code",
   "execution_count": 222,
   "id": "82ac0b5f-1502-4ed4-aa99-f3b4db644daa",
   "metadata": {},
   "outputs": [
    {
     "data": {
      "text/plain": [
       "dict"
      ]
     },
     "execution_count": 222,
     "metadata": {},
     "output_type": "execute_result"
    }
   ],
   "source": [
    "type(cars_dict)"
   ]
  },
  {
   "cell_type": "code",
   "execution_count": 224,
   "id": "26fb6fd6-ae36-4537-8546-c44039980c80",
   "metadata": {},
   "outputs": [],
   "source": [
    "cars1=Series(cars_dict)"
   ]
  },
  {
   "cell_type": "code",
   "execution_count": 227,
   "id": "28d60f9e-1b42-454a-afb5-26bba4cc41fe",
   "metadata": {},
   "outputs": [
    {
     "data": {
      "text/plain": [
       "Malibu     40000\n",
       "Lasetti    20000\n",
       "Toyota     45000\n",
       "Mazda      52000\n",
       "Honda      38000\n",
       "dtype: int64"
      ]
     },
     "execution_count": 227,
     "metadata": {},
     "output_type": "execute_result"
    }
   ],
   "source": [
    "cars1"
   ]
  },
  {
   "cell_type": "code",
   "execution_count": 228,
   "id": "b5d122db-b207-455a-88b8-4b14fa459cf9",
   "metadata": {},
   "outputs": [
    {
     "data": {
      "text/plain": [
       "{'Malibu': 40000,\n",
       " 'Lasetti': 20000,\n",
       " 'Toyota': 45000,\n",
       " 'Mazda': 52000,\n",
       " 'Honda': 38000}"
      ]
     },
     "execution_count": 228,
     "metadata": {},
     "output_type": "execute_result"
    }
   ],
   "source": [
    "cars_dict"
   ]
  },
  {
   "cell_type": "code",
   "execution_count": 229,
   "id": "bd2a0e3a-d963-46f5-b8b6-03d58134e396",
   "metadata": {},
   "outputs": [
    {
     "data": {
      "text/plain": [
       "pandas.core.series.Series"
      ]
     },
     "execution_count": 229,
     "metadata": {},
     "output_type": "execute_result"
    }
   ],
   "source": [
    "type(cars1)"
   ]
  },
  {
   "cell_type": "code",
   "execution_count": 232,
   "id": "00569577-f0a7-473e-bcb9-c2c663aad3bb",
   "metadata": {},
   "outputs": [
    {
     "data": {
      "text/plain": [
       "True"
      ]
     },
     "execution_count": 232,
     "metadata": {},
     "output_type": "execute_result"
    }
   ],
   "source": [
    "'Malibu' in cars1"
   ]
  },
  {
   "cell_type": "code",
   "execution_count": 234,
   "id": "e32d339a-a795-4957-a139-332d83af17f1",
   "metadata": {},
   "outputs": [],
   "source": [
    "models=['Honda','Mazda','Lasetti','Jaguar','Malibu','Toyota']"
   ]
  },
  {
   "cell_type": "code",
   "execution_count": 236,
   "id": "335c92e4-b1bc-4d03-bf34-8589e84a44bc",
   "metadata": {},
   "outputs": [],
   "source": [
    "cars2=Series(cars_dict,index=models)"
   ]
  },
  {
   "cell_type": "code",
   "execution_count": 237,
   "id": "aabb1d55-75f5-4ef6-b75d-c4b14956fe44",
   "metadata": {},
   "outputs": [
    {
     "data": {
      "text/plain": [
       "Honda      38000.0\n",
       "Mazda      52000.0\n",
       "Lasetti    20000.0\n",
       "Jaguar         NaN\n",
       "Malibu     40000.0\n",
       "Toyota     45000.0\n",
       "dtype: float64"
      ]
     },
     "execution_count": 237,
     "metadata": {},
     "output_type": "execute_result"
    }
   ],
   "source": [
    "cars2"
   ]
  },
  {
   "cell_type": "code",
   "execution_count": 251,
   "id": "cd769dc1-51a4-4122-84f0-4e3a1c909a7e",
   "metadata": {},
   "outputs": [
    {
     "data": {
      "text/plain": [
       "Honda      False\n",
       "Mazda      False\n",
       "Lasetti    False\n",
       "Jaguar      True\n",
       "Malibu     False\n",
       "Toyota     False\n",
       "dtype: bool"
      ]
     },
     "execution_count": 251,
     "metadata": {},
     "output_type": "execute_result"
    }
   ],
   "source": [
    "cars2.isnull()"
   ]
  },
  {
   "cell_type": "code",
   "execution_count": 253,
   "id": "137e0ea8-4fd5-43a5-bc8a-289e4c1f308c",
   "metadata": {},
   "outputs": [
    {
     "data": {
      "text/plain": [
       "Honda       True\n",
       "Mazda       True\n",
       "Lasetti     True\n",
       "Jaguar     False\n",
       "Malibu      True\n",
       "Toyota      True\n",
       "dtype: bool"
      ]
     },
     "execution_count": 253,
     "metadata": {},
     "output_type": "execute_result"
    }
   ],
   "source": [
    "cars2.notnull()"
   ]
  },
  {
   "cell_type": "code",
   "execution_count": 255,
   "id": "df1e3e16-c0bc-4a39-a7f6-c19f0f8da618",
   "metadata": {},
   "outputs": [
    {
     "data": {
      "text/plain": [
       "Honda      1.444000e+09\n",
       "Jaguar              NaN\n",
       "Lasetti    4.000000e+08\n",
       "Malibu     1.600000e+09\n",
       "Mazda      2.704000e+09\n",
       "Toyota     2.025000e+09\n",
       "dtype: float64"
      ]
     },
     "execution_count": 255,
     "metadata": {},
     "output_type": "execute_result"
    }
   ],
   "source": [
    "cars1*cars2"
   ]
  },
  {
   "cell_type": "code",
   "execution_count": 257,
   "id": "da7d4e11-7b48-48a4-881e-838cf70941c2",
   "metadata": {},
   "outputs": [],
   "source": [
    "cars2.name='Avtosalon'"
   ]
  },
  {
   "cell_type": "code",
   "execution_count": 259,
   "id": "2eda014f-7d50-4270-b0d3-52d29a2506e4",
   "metadata": {},
   "outputs": [
    {
     "data": {
      "text/plain": [
       "Honda      38000.0\n",
       "Mazda      52000.0\n",
       "Lasetti    20000.0\n",
       "Jaguar         NaN\n",
       "Malibu     40000.0\n",
       "Toyota     45000.0\n",
       "Name: Avtosalon, dtype: float64"
      ]
     },
     "execution_count": 259,
     "metadata": {},
     "output_type": "execute_result"
    }
   ],
   "source": [
    "cars2"
   ]
  },
  {
   "cell_type": "code",
   "execution_count": 261,
   "id": "6db385c4-1d39-445c-a7f6-96793837bdc7",
   "metadata": {},
   "outputs": [],
   "source": [
    "cars2.index.name='Modellar'"
   ]
  },
  {
   "cell_type": "code",
   "execution_count": 263,
   "id": "41f0632e-08af-40c0-ac30-5336199409d0",
   "metadata": {},
   "outputs": [
    {
     "data": {
      "text/plain": [
       "Modellar\n",
       "Honda      38000.0\n",
       "Mazda      52000.0\n",
       "Lasetti    20000.0\n",
       "Jaguar         NaN\n",
       "Malibu     40000.0\n",
       "Toyota     45000.0\n",
       "Name: Avtosalon, dtype: float64"
      ]
     },
     "execution_count": 263,
     "metadata": {},
     "output_type": "execute_result"
    }
   ],
   "source": [
    "cars2"
   ]
  },
  {
   "cell_type": "code",
   "execution_count": null,
   "id": "8c7eb36a-2891-43e3-8008-f4b8fe4b0b09",
   "metadata": {},
   "outputs": [],
   "source": [
    "\n",
    "\n",
    "\n",
    "\n",
    "\n",
    "\n",
    "\n"
   ]
  },
  {
   "cell_type": "code",
   "execution_count": 266,
   "id": "8331488c-9054-44d9-a3aa-cbb1e7182d52",
   "metadata": {},
   "outputs": [],
   "source": [
    "salon1=Series(cars_dict)"
   ]
  },
  {
   "cell_type": "code",
   "execution_count": 268,
   "id": "f20afcbe-75f4-4e7e-9be1-6f1f3b4171bd",
   "metadata": {},
   "outputs": [
    {
     "data": {
      "text/plain": [
       "Malibu     40000\n",
       "Lasetti    20000\n",
       "Toyota     45000\n",
       "Mazda      52000\n",
       "Honda      38000\n",
       "dtype: int64"
      ]
     },
     "execution_count": 268,
     "metadata": {},
     "output_type": "execute_result"
    }
   ],
   "source": [
    "salon1"
   ]
  },
  {
   "cell_type": "code",
   "execution_count": 272,
   "id": "47989da9-00e5-446f-a358-59682de3f7e6",
   "metadata": {},
   "outputs": [],
   "source": [
    "salon2=Series(cars_dict,models)"
   ]
  },
  {
   "cell_type": "code",
   "execution_count": 274,
   "id": "9a201675-6d20-4b1f-b8f7-e0ff769c77ed",
   "metadata": {},
   "outputs": [
    {
     "data": {
      "text/plain": [
       "Honda      38000.0\n",
       "Mazda      52000.0\n",
       "Lasetti    20000.0\n",
       "Jaguar         NaN\n",
       "Malibu     40000.0\n",
       "Toyota     45000.0\n",
       "dtype: float64"
      ]
     },
     "execution_count": 274,
     "metadata": {},
     "output_type": "execute_result"
    }
   ],
   "source": [
    "salon2"
   ]
  },
  {
   "cell_type": "code",
   "execution_count": 276,
   "id": "431b8dc9-cf9c-4735-875f-450f0d59209d",
   "metadata": {},
   "outputs": [
    {
     "data": {
      "text/plain": [
       "Index(['Honda', 'Mazda', 'Lasetti', 'Jaguar', 'Malibu', 'Toyota'], dtype='object')"
      ]
     },
     "execution_count": 276,
     "metadata": {},
     "output_type": "execute_result"
    }
   ],
   "source": [
    "salon2.index"
   ]
  },
  {
   "cell_type": "code",
   "execution_count": 278,
   "id": "5c23d945-0236-43f6-8bfe-fc9b3ad30512",
   "metadata": {},
   "outputs": [
    {
     "data": {
      "text/plain": [
       "array([38000., 52000., 20000.,    nan, 40000., 45000.])"
      ]
     },
     "execution_count": 278,
     "metadata": {},
     "output_type": "execute_result"
    }
   ],
   "source": [
    "salon2 .values"
   ]
  },
  {
   "cell_type": "code",
   "execution_count": 280,
   "id": "a5022e47-3ff2-419f-b623-382ab17cf7c5",
   "metadata": {},
   "outputs": [
    {
     "data": {
      "text/plain": [
       "True"
      ]
     },
     "execution_count": 280,
     "metadata": {},
     "output_type": "execute_result"
    }
   ],
   "source": [
    "salon2.hasnans"
   ]
  },
  {
   "cell_type": "code",
   "execution_count": 290,
   "id": "464fa67f-d7f6-4dda-8f42-90315ffc4504",
   "metadata": {},
   "outputs": [
    {
     "data": {
      "text/plain": [
       "dtype('float64')"
      ]
     },
     "execution_count": 290,
     "metadata": {},
     "output_type": "execute_result"
    }
   ],
   "source": [
    "salon2.dtype"
   ]
  },
  {
   "cell_type": "code",
   "execution_count": 292,
   "id": "557582ac-d192-4d15-9fd6-db570760f4c4",
   "metadata": {},
   "outputs": [
    {
     "data": {
      "text/plain": [
       "True"
      ]
     },
     "execution_count": 292,
     "metadata": {},
     "output_type": "execute_result"
    }
   ],
   "source": [
    "salon2.is_unique"
   ]
  },
  {
   "cell_type": "code",
   "execution_count": 320,
   "id": "7b8d7161-6efb-4f6c-8e56-3974c58a8144",
   "metadata": {},
   "outputs": [
    {
     "data": {
      "text/plain": [
       "20000.0"
      ]
     },
     "execution_count": 320,
     "metadata": {},
     "output_type": "execute_result"
    }
   ],
   "source": [
    "salon2.iloc[2]#index location"
   ]
  },
  {
   "cell_type": "code",
   "execution_count": 322,
   "id": "5848ba79-e074-4934-8fdb-b0f9e0d1a24c",
   "metadata": {},
   "outputs": [
    {
     "data": {
      "text/plain": [
       "(6,)"
      ]
     },
     "execution_count": 322,
     "metadata": {},
     "output_type": "execute_result"
    }
   ],
   "source": [
    "salon2.shape"
   ]
  },
  {
   "cell_type": "code",
   "execution_count": 324,
   "id": "3576ff19-9920-4810-879c-38d8703c6971",
   "metadata": {},
   "outputs": [],
   "source": [
    "new_prices = Series({'Honda':5000,'Mazda':-3000,'Malibu':4000,'Toyota':6000,'Lasetti':-1200})"
   ]
  },
  {
   "cell_type": "code",
   "execution_count": 326,
   "id": "e28885c1-5811-4df6-97a7-50bc76c6d399",
   "metadata": {},
   "outputs": [
    {
     "data": {
      "text/plain": [
       "Honda      5000\n",
       "Mazda     -3000\n",
       "Malibu     4000\n",
       "Toyota     6000\n",
       "Lasetti   -1200\n",
       "dtype: int64"
      ]
     },
     "execution_count": 326,
     "metadata": {},
     "output_type": "execute_result"
    }
   ],
   "source": [
    "new_prices"
   ]
  },
  {
   "cell_type": "code",
   "execution_count": 328,
   "id": "a9306aa2-4497-4af0-afb9-8411f3f20530",
   "metadata": {},
   "outputs": [
    {
     "data": {
      "text/plain": [
       "Honda      43000.0\n",
       "Jaguar         NaN\n",
       "Lasetti    18800.0\n",
       "Malibu     44000.0\n",
       "Mazda      49000.0\n",
       "Toyota     51000.0\n",
       "dtype: float64"
      ]
     },
     "execution_count": 328,
     "metadata": {},
     "output_type": "execute_result"
    }
   ],
   "source": [
    "salon2+new_prices"
   ]
  },
  {
   "cell_type": "code",
   "execution_count": 330,
   "id": "96fcaf57-e2bd-4acd-9d5a-72c183027ccb",
   "metadata": {},
   "outputs": [],
   "source": [
    "salon2.name='Avtosalon'"
   ]
  },
  {
   "cell_type": "code",
   "execution_count": 332,
   "id": "743350e7-0200-43db-8a63-4801d2638fa6",
   "metadata": {},
   "outputs": [],
   "source": [
    "salon2.index.name='Car Model'"
   ]
  },
  {
   "cell_type": "code",
   "execution_count": 334,
   "id": "f292e0d1-453b-47f2-85ef-aab1cb1d4098",
   "metadata": {},
   "outputs": [
    {
     "data": {
      "text/plain": [
       "Car Model\n",
       "Honda      38000.0\n",
       "Mazda      52000.0\n",
       "Lasetti    20000.0\n",
       "Jaguar         NaN\n",
       "Malibu     40000.0\n",
       "Toyota     45000.0\n",
       "Name: Avtosalon, dtype: float64"
      ]
     },
     "execution_count": 334,
     "metadata": {},
     "output_type": "execute_result"
    }
   ],
   "source": [
    "salon2"
   ]
  },
  {
   "cell_type": "code",
   "execution_count": 336,
   "id": "e16e7118-311d-4636-a832-0a04e25d3af7",
   "metadata": {},
   "outputs": [
    {
     "data": {
      "text/plain": [
       "45000.0"
      ]
     },
     "execution_count": 336,
     "metadata": {},
     "output_type": "execute_result"
    }
   ],
   "source": [
    "salon2.loc['Toyota']"
   ]
  },
  {
   "cell_type": "code",
   "execution_count": 338,
   "id": "893ae52c-7cf5-45e3-9a96-b608651c5273",
   "metadata": {},
   "outputs": [
    {
     "data": {
      "text/plain": [
       "52000.0"
      ]
     },
     "execution_count": 338,
     "metadata": {},
     "output_type": "execute_result"
    }
   ],
   "source": [
    "salon2.max()"
   ]
  },
  {
   "cell_type": "code",
   "execution_count": 340,
   "id": "9bf780a7-ff68-485e-8b05-a75a0db923c7",
   "metadata": {},
   "outputs": [
    {
     "data": {
      "text/plain": [
       "20000.0"
      ]
     },
     "execution_count": 340,
     "metadata": {},
     "output_type": "execute_result"
    }
   ],
   "source": [
    "salon2.min()"
   ]
  },
  {
   "cell_type": "code",
   "execution_count": 346,
   "id": "dc81816b-3637-433c-8b39-2aaa5441f5ef",
   "metadata": {},
   "outputs": [
    {
     "data": {
      "text/plain": [
       "39000.0"
      ]
     },
     "execution_count": 346,
     "metadata": {},
     "output_type": "execute_result"
    }
   ],
   "source": [
    "salon2.mean()"
   ]
  },
  {
   "cell_type": "code",
   "execution_count": null,
   "id": "26364429-ea4a-45e5-bc8a-0d0cd7706663",
   "metadata": {},
   "outputs": [],
   "source": []
  }
 ],
 "metadata": {
  "kernelspec": {
   "display_name": "Python 3 (ipykernel)",
   "language": "python",
   "name": "python3"
  },
  "language_info": {
   "codemirror_mode": {
    "name": "ipython",
    "version": 3
   },
   "file_extension": ".py",
   "mimetype": "text/x-python",
   "name": "python",
   "nbconvert_exporter": "python",
   "pygments_lexer": "ipython3",
   "version": "3.12.7"
  }
 },
 "nbformat": 4,
 "nbformat_minor": 5
}
