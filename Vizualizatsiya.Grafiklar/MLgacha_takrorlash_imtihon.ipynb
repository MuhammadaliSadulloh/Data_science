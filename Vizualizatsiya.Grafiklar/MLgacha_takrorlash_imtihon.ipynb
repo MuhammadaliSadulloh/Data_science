{
 "cells": [
  {
   "cell_type": "code",
   "execution_count": 1,
   "id": "57da55ae-a75c-4bcb-a720-9cd2ac1317b3",
   "metadata": {},
   "outputs": [],
   "source": [
    "import pandas as pd \n",
    "import numpy as np"
   ]
  },
  {
   "cell_type": "code",
   "execution_count": 3,
   "id": "9eb0b692-8e65-4033-a496-c05e0b645367",
   "metadata": {},
   "outputs": [],
   "source": [
    "df=pd.read_csv('C:/Users/user/Downloads/courses.csv')"
   ]
  },
  {
   "cell_type": "code",
   "execution_count": 5,
   "id": "c72f39bd-e33f-476a-b80d-2e9241bbfc84",
   "metadata": {},
   "outputs": [],
   "source": [
    "# 1"
   ]
  },
  {
   "cell_type": "code",
   "execution_count": 8,
   "id": "25d3716f-0613-4e5c-ad03-5713cc7d5f50",
   "metadata": {},
   "outputs": [
    {
     "data": {
      "text/plain": [
       "'65.5 total hours'"
      ]
     },
     "execution_count": 8,
     "metadata": {},
     "output_type": "execute_result"
    }
   ],
   "source": [
    "df.duration[1]"
   ]
  },
  {
   "cell_type": "code",
   "execution_count": 9,
   "id": "a5c11d4c-9cb8-4555-9dd0-f2c3cd4be5f1",
   "metadata": {},
   "outputs": [
    {
     "data": {
      "text/plain": [
       "duration\n",
       "13    32233\n",
       "15    29700\n",
       "12    11922\n",
       "14     4838\n",
       "16     4322\n",
       "11       42\n",
       "17       36\n",
       "1        11\n",
       "Name: count, dtype: int64"
      ]
     },
     "execution_count": 9,
     "metadata": {},
     "output_type": "execute_result"
    }
   ],
   "source": [
    "df['duration'].map(lambda x:len(x)).value_counts()"
   ]
  },
  {
   "cell_type": "code",
   "execution_count": 10,
   "id": "d6edd633-21d6-48a4-9641-735e6c4999ea",
   "metadata": {},
   "outputs": [
    {
     "data": {
      "text/plain": [
       "23031    3 questions\n",
       "23654    4 questions\n",
       "24382    4 questions\n",
       "24451    7 questions\n",
       "24499    3 questions\n",
       "Name: duration, dtype: object"
      ]
     },
     "execution_count": 10,
     "metadata": {},
     "output_type": "execute_result"
    }
   ],
   "source": [
    "df[df['duration'].map(lambda x:len(x))==11]['duration'].head()"
   ]
  },
  {
   "cell_type": "code",
   "execution_count": 11,
   "id": "0fe27cc1-d43f-402e-961e-5d1f9f26556b",
   "metadata": {},
   "outputs": [],
   "source": [
    "df['duration']=df['duration'].map(lambda x:x.replace(' questions',''))"
   ]
  },
  {
   "cell_type": "code",
   "execution_count": 12,
   "id": "92f6a9f6-a5b3-4f91-84d8-b2038f847af2",
   "metadata": {},
   "outputs": [
    {
     "data": {
      "text/plain": [
       "duration\n",
       "13    30617\n",
       "15    29700\n",
       "12    11416\n",
       "14     4790\n",
       "16     4322\n",
       "3      1616\n",
       "2       506\n",
       "1        53\n",
       "4        48\n",
       "17       36\n",
       "Name: count, dtype: int64"
      ]
     },
     "execution_count": 12,
     "metadata": {},
     "output_type": "execute_result"
    }
   ],
   "source": [
    "df['duration'].map(lambda x:len(x)).value_counts()"
   ]
  },
  {
   "cell_type": "code",
   "execution_count": 13,
   "id": "6842041c-6ed9-442c-8883-e610ea8e2c4f",
   "metadata": {},
   "outputs": [
    {
     "data": {
      "text/plain": [
       "'22 total hours'"
      ]
     },
     "execution_count": 13,
     "metadata": {},
     "output_type": "execute_result"
    }
   ],
   "source": [
    "df[df['duration'].map(lambda x:len(x))==14]['duration'][0]"
   ]
  },
  {
   "cell_type": "code",
   "execution_count": 14,
   "id": "30e13b45-899d-4e14-90db-42936d2a185c",
   "metadata": {},
   "outputs": [],
   "source": [
    "df['duration']=df['duration'].map(lambda x:x.replace(' total hours',''))"
   ]
  },
  {
   "cell_type": "code",
   "execution_count": 15,
   "id": "9f32776e-f583-4546-9aec-b913eadb8601",
   "metadata": {},
   "outputs": [
    {
     "data": {
      "text/plain": [
       "duration\n",
       "3     31316\n",
       "1     24604\n",
       "12    11416\n",
       "13     6066\n",
       "2      5296\n",
       "4      4370\n",
       "5        36\n",
       "Name: count, dtype: int64"
      ]
     },
     "execution_count": 15,
     "metadata": {},
     "output_type": "execute_result"
    }
   ],
   "source": [
    "df['duration'].map(lambda x:len(x)).value_counts()"
   ]
  },
  {
   "cell_type": "code",
   "execution_count": 16,
   "id": "3475a601-0042-49d9-b18c-9489208f2f6b",
   "metadata": {},
   "outputs": [
    {
     "data": {
      "text/plain": [
       "'1 total hour'"
      ]
     },
     "execution_count": 16,
     "metadata": {},
     "output_type": "execute_result"
    }
   ],
   "source": [
    "df[df['duration'].map(lambda x:len(x))==12]['duration'].iloc[0]"
   ]
  },
  {
   "cell_type": "code",
   "execution_count": 18,
   "id": "af24f182-b8df-4fa9-ab9d-c114ddea7a1f",
   "metadata": {},
   "outputs": [],
   "source": [
    "df['duration']=df['duration'].map(lambda x:x.replace(' total hour',''))"
   ]
  },
  {
   "cell_type": "code",
   "execution_count": 22,
   "id": "a99ab290-367c-448b-9e69-844b2097e2fb",
   "metadata": {},
   "outputs": [
    {
     "data": {
      "text/plain": [
       "duration\n",
       "1     36020\n",
       "3     31316\n",
       "13     6066\n",
       "2      5296\n",
       "4      4370\n",
       "5        36\n",
       "Name: count, dtype: int64"
      ]
     },
     "execution_count": 22,
     "metadata": {},
     "output_type": "execute_result"
    }
   ],
   "source": [
    "df['duration'].map(lambda x:len(x)).value_counts()"
   ]
  },
  {
   "cell_type": "code",
   "execution_count": 24,
   "id": "d1d198de-9ad7-49ab-a3df-48b226ba5577",
   "metadata": {},
   "outputs": [
    {
     "data": {
      "text/plain": [
       "'43 total mins'"
      ]
     },
     "execution_count": 24,
     "metadata": {},
     "output_type": "execute_result"
    }
   ],
   "source": [
    "df[df['duration'].map(lambda x:len(x))==13]['duration'].iloc[0]"
   ]
  },
  {
   "cell_type": "code",
   "execution_count": 27,
   "id": "9695e727-06ca-479d-ad68-dc2488421390",
   "metadata": {},
   "outputs": [],
   "source": [
    "df['duration']=df['duration'].map(lambda x:x.replace(' total mins',''))"
   ]
  },
  {
   "cell_type": "code",
   "execution_count": 29,
   "id": "a34bd20e-f859-435b-b35d-24c49b0dde2f",
   "metadata": {},
   "outputs": [
    {
     "data": {
      "text/plain": [
       "duration\n",
       "1    36020\n",
       "3    31316\n",
       "2    11362\n",
       "4     4370\n",
       "5       36\n",
       "Name: count, dtype: int64"
      ]
     },
     "execution_count": 29,
     "metadata": {},
     "output_type": "execute_result"
    }
   ],
   "source": [
    "df['duration'].map(lambda x:len(x)).value_counts()"
   ]
  },
  {
   "cell_type": "code",
   "execution_count": null,
   "id": "b01f9050-e5bf-4c31-9507-68f1961e296c",
   "metadata": {},
   "outputs": [],
   "source": [
    "\n",
    "\n",
    "\n",
    "\n",
    "\n",
    "\n",
    "\n",
    "\n"
   ]
  },
  {
   "cell_type": "code",
   "execution_count": 32,
   "id": "34a3d2bf-d24c-4c09-9c8d-bac8ecc9bd56",
   "metadata": {},
   "outputs": [],
   "source": [
    "# FLOAT FORMATIGA O'TKAZISH"
   ]
  },
  {
   "cell_type": "code",
   "execution_count": 34,
   "id": "71076be8-054e-401f-901f-9266f307ccd9",
   "metadata": {},
   "outputs": [],
   "source": [
    "df['duration']=df['duration'].map(lambda x:float(x))"
   ]
  },
  {
   "cell_type": "code",
   "execution_count": 35,
   "id": "a3478dc4-f077-4f15-afdf-4bbead37b730",
   "metadata": {},
   "outputs": [
    {
     "data": {
      "text/plain": [
       "0        22.0\n",
       "1        65.5\n",
       "2        64.0\n",
       "3        34.5\n",
       "4        64.0\n",
       "         ... \n",
       "83099     1.0\n",
       "83100     1.5\n",
       "83101    39.0\n",
       "83102     1.5\n",
       "83103    31.0\n",
       "Name: duration, Length: 83104, dtype: float64"
      ]
     },
     "execution_count": 35,
     "metadata": {},
     "output_type": "execute_result"
    }
   ],
   "source": [
    "df['duration']"
   ]
  },
  {
   "cell_type": "code",
   "execution_count": 36,
   "id": "fd361bad-7a12-40d1-8628-817bbedb7b82",
   "metadata": {},
   "outputs": [
    {
     "data": {
      "text/plain": [
       "duration\n",
       "<class 'float'>    83104\n",
       "Name: count, dtype: int64"
      ]
     },
     "execution_count": 36,
     "metadata": {},
     "output_type": "execute_result"
    }
   ],
   "source": [
    "df['duration'].map(lambda x:type(x)).value_counts()"
   ]
  },
  {
   "cell_type": "code",
   "execution_count": null,
   "id": "b533b891-a762-44d5-969f-046cc4339f3e",
   "metadata": {},
   "outputs": [],
   "source": [
    "\n",
    "\n",
    "\n",
    "\n",
    "\n"
   ]
  },
  {
   "cell_type": "code",
   "execution_count": 38,
   "id": "68c29aef-8d5e-479e-ba46-6436e5422878",
   "metadata": {},
   "outputs": [],
   "source": [
    "# Kurslarning o‘rtacha davomiyligini aniqlang.har bir kurs uchun"
   ]
  },
  {
   "cell_type": "code",
   "execution_count": 40,
   "id": "23065bff-84a5-4246-8a61-a1fa542900f7",
   "metadata": {},
   "outputs": [
    {
     "name": "stderr",
     "output_type": "stream",
     "text": [
      "C:\\Users\\user\\AppData\\Local\\Temp\\ipykernel_14636\\1985199114.py:1: FutureWarning: The provided callable <function mean at 0x000001DFAA4B4360> is currently using SeriesGroupBy.mean. In a future version of pandas, the provided callable will be used directly. To keep current behavior pass the string \"mean\" instead.\n",
      "  df.groupby('title').duration.agg(np.mean)\n"
     ]
    },
    {
     "data": {
      "text/plain": [
       "title\n",
       "! Risk Management in Projects, Programs and Portfolios          14.5\n",
       "\"Anatomy of Yoga\" 1: Teacher Training Workshop Series           10.0\n",
       "\"Anatomy of Yoga\" 2: Teacher Training Workshop Series           10.5\n",
       "\"Anatomy of Yoga\"3: Teacher Training Workshop Series            13.0\n",
       "\"Aprenda SPED na prática\"                                        8.5\n",
       "                                                                ... \n",
       "３時間で学ぶ！本気でExcelマクロ(VBA)を学びたい人のための基礎講座【ファイル作成編】                   3.0\n",
       "４０代以上のビジネスパーソンのための食事学  疲れない身体をつくるセルフコンディショニング術                   1.5\n",
       "５０００年前から続く腸活＂朝の６４０ｃｃ飲水＂　カラダ内洗浄                                  32.0\n",
       "６時間でインターバンク市場を攻略！最短距離でトレード基礎力                                    4.0\n",
       "９９％の人が知らない[慢性疲労克服マニュアル] 副腎ケアで疲れ知らずのカラダを手に入れて人生をバージョンアップさせよう！     3.0\n",
       "Name: duration, Length: 82798, dtype: float64"
      ]
     },
     "execution_count": 40,
     "metadata": {},
     "output_type": "execute_result"
    }
   ],
   "source": [
    "df.groupby('title').duration.agg(np.mean)"
   ]
  },
  {
   "cell_type": "code",
   "execution_count": 43,
   "id": "c66f4f2e-9743-4530-bfe9-95504541ddbc",
   "metadata": {},
   "outputs": [],
   "source": [
    "# barcha kurslar uchun"
   ]
  },
  {
   "cell_type": "code",
   "execution_count": 53,
   "id": "2c1b2c17-4e56-4e7c-aa36-1112c4c72ec3",
   "metadata": {},
   "outputs": [
    {
     "data": {
      "text/plain": [
       "13.607515883711976"
      ]
     },
     "execution_count": 53,
     "metadata": {},
     "output_type": "execute_result"
    }
   ],
   "source": [
    "df.duration.mean()"
   ]
  },
  {
   "cell_type": "code",
   "execution_count": 57,
   "id": "38b3e352-0534-414d-8516-1c0ccf5d156d",
   "metadata": {},
   "outputs": [],
   "source": [
    "# Eng yuqori reytingli va eng ko‘p sharhga ega bo‘lgan kursni toping"
   ]
  },
  {
   "cell_type": "code",
   "execution_count": 59,
   "id": "369b888c-3b7b-41a7-926c-68f02dec1e3a",
   "metadata": {},
   "outputs": [
    {
     "data": {
      "text/plain": [
       "5.0000005"
      ]
     },
     "execution_count": 59,
     "metadata": {},
     "output_type": "execute_result"
    }
   ],
   "source": [
    "df['rating'].max()"
   ]
  },
  {
   "cell_type": "code",
   "execution_count": 61,
   "id": "572e680e-76bc-4563-827b-715906db7663",
   "metadata": {},
   "outputs": [
    {
     "data": {
      "text/plain": [
       "452973"
      ]
     },
     "execution_count": 61,
     "metadata": {},
     "output_type": "execute_result"
    }
   ],
   "source": [
    "df['num_reviews'].max()"
   ]
  },
  {
   "cell_type": "code",
   "execution_count": 63,
   "id": "22cabf94-2cf5-4af3-95d9-e6a81ce9415e",
   "metadata": {},
   "outputs": [],
   "source": [
    "df.to_csv('courses.csv',index=False)"
   ]
  },
  {
   "cell_type": "code",
   "execution_count": null,
   "id": "e76b0239-445d-489d-89de-5b469ddb72b3",
   "metadata": {},
   "outputs": [],
   "source": [
    "\n",
    "\n",
    "\n",
    "\n",
    "\n",
    "\n",
    "\n",
    "\n"
   ]
  },
  {
   "cell_type": "code",
   "execution_count": 65,
   "id": "f01a9144-ab72-4a74-9ec4-0d95ba1d3b82",
   "metadata": {},
   "outputs": [],
   "source": [
    "# SQL"
   ]
  },
  {
   "cell_type": "code",
   "execution_count": 66,
   "id": "b5b407b8-a8bc-427e-81b5-459a0a568fff",
   "metadata": {},
   "outputs": [],
   "source": [
    "import psycopg2 as psql"
   ]
  },
  {
   "cell_type": "code",
   "execution_count": 67,
   "id": "0082fa59-912f-471c-88c9-bd28007bee42",
   "metadata": {},
   "outputs": [],
   "source": [
    "ula=psql.connect(host='localhost',\n",
    "                 database='postgres',\n",
    "                 user='postgres',\n",
    "                 password=74123)"
   ]
  },
  {
   "cell_type": "code",
   "execution_count": 68,
   "id": "33bb4ed7-c967-4d46-a71c-71767191edb7",
   "metadata": {},
   "outputs": [],
   "source": [
    "cursor=ula.cursor()"
   ]
  },
  {
   "cell_type": "code",
   "execution_count": 69,
   "id": "571b3d64-c6c1-424c-b00b-c1aa80825f1d",
   "metadata": {},
   "outputs": [],
   "source": [
    "cursor.execute('select * from car;')"
   ]
  },
  {
   "cell_type": "code",
   "execution_count": 70,
   "id": "64943cae-95ad-4b56-b9ce-80ff3effbc47",
   "metadata": {},
   "outputs": [
    {
     "data": {
      "text/plain": [
       "(1, 'Chevrolet', 'G-Series G30', Decimal('1995'), Decimal('56733.89'))"
      ]
     },
     "execution_count": 70,
     "metadata": {},
     "output_type": "execute_result"
    }
   ],
   "source": [
    "cursor.fetchone()"
   ]
  },
  {
   "cell_type": "code",
   "execution_count": 74,
   "id": "9dd1e691-8088-4732-b7a1-a8a991abc6af",
   "metadata": {},
   "outputs": [
    {
     "ename": "DuplicateTable",
     "evalue": "ОШИБКА:  отношение \"course\" уже существует\n",
     "output_type": "error",
     "traceback": [
      "\u001b[1;31m---------------------------------------------------------------------------\u001b[0m",
      "\u001b[1;31mDuplicateTable\u001b[0m                            Traceback (most recent call last)",
      "Cell \u001b[1;32mIn[74], line 1\u001b[0m\n\u001b[1;32m----> 1\u001b[0m cursor\u001b[38;5;241m.\u001b[39mexecute(\u001b[38;5;124m\"\u001b[39m\u001b[38;5;124mcreate table course (id int,title text,url text,rating text,num_reviews numeric(10),num_published_lectures numeric(5),created timestamp,last_update_date timestamp,duration numeric(5,2),instructors_id numeric(10),image text);\u001b[39m\u001b[38;5;124m\"\u001b[39m)\n",
      "\u001b[1;31mDuplicateTable\u001b[0m: ОШИБКА:  отношение \"course\" уже существует\n"
     ]
    }
   ],
   "source": [
    "cursor.execute(\"create table course (id int,title text,url text,rating text,num_reviews numeric(10),num_published_lectures numeric(5),created timestamp,last_update_date timestamp,duration numeric(5,2),instructors_id numeric(10),image text);\")"
   ]
  },
  {
   "cell_type": "code",
   "execution_count": null,
   "id": "bfdaba7c-8e81-4938-9d17-24441d11f89d",
   "metadata": {},
   "outputs": [],
   "source": [
    "with open('C:/Users/user/Downloads/courses2.xls','r') as f:\n",
    "    next(f)\n",
    "    cursor.copy_from(f,'course',sep=',')\n"
   ]
  },
  {
   "cell_type": "code",
   "execution_count": null,
   "id": "28f8c506-4d1e-490f-ab35-d613de3796f3",
   "metadata": {},
   "outputs": [],
   "source": [
    "cursor.execute('/copy')\n",
    "cursor.fetchall()"
   ]
  },
  {
   "cell_type": "code",
   "execution_count": null,
   "id": "9b89aded-171c-40e4-84f3-16c2beee0ec3",
   "metadata": {},
   "outputs": [],
   "source": [
    "df.head(7)"
   ]
  },
  {
   "cell_type": "code",
   "execution_count": null,
   "id": "b2b08a94-e79b-44ff-acf0-e8ab4d0c9548",
   "metadata": {},
   "outputs": [],
   "source": [
    "type(df.id[0])"
   ]
  },
  {
   "cell_type": "code",
   "execution_count": null,
   "id": "03856582-e28f-4f17-b0f7-54866e91a0c9",
   "metadata": {},
   "outputs": [],
   "source": [
    "df.id[0]"
   ]
  },
  {
   "cell_type": "code",
   "execution_count": null,
   "id": "635af1f4-55e2-4d88-83dd-8226d064f42d",
   "metadata": {},
   "outputs": [],
   "source": []
  },
  {
   "cell_type": "code",
   "execution_count": null,
   "id": "50dc9b0a-d64b-4c0b-b0e7-2fe0183079f1",
   "metadata": {},
   "outputs": [],
   "source": []
  },
  {
   "cell_type": "code",
   "execution_count": null,
   "id": "71229051-f296-4798-8442-a0875871a5f5",
   "metadata": {},
   "outputs": [],
   "source": []
  },
  {
   "cell_type": "code",
   "execution_count": 93,
   "id": "e0aef756-bded-48b0-95e1-bbc2c29d3f44",
   "metadata": {},
   "outputs": [
    {
     "data": {
      "text/html": [
       "<div>\n",
       "<style scoped>\n",
       "    .dataframe tbody tr th:only-of-type {\n",
       "        vertical-align: middle;\n",
       "    }\n",
       "\n",
       "    .dataframe tbody tr th {\n",
       "        vertical-align: top;\n",
       "    }\n",
       "\n",
       "    .dataframe thead th {\n",
       "        text-align: right;\n",
       "    }\n",
       "</style>\n",
       "<table border=\"1\" class=\"dataframe\">\n",
       "  <thead>\n",
       "    <tr style=\"text-align: right;\">\n",
       "      <th></th>\n",
       "      <th>id</th>\n",
       "      <th>title</th>\n",
       "      <th>url</th>\n",
       "      <th>rating</th>\n",
       "      <th>num_reviews</th>\n",
       "      <th>num_published_lectures</th>\n",
       "      <th>created</th>\n",
       "      <th>last_update_date</th>\n",
       "      <th>duration</th>\n",
       "      <th>instructors_id</th>\n",
       "      <th>image</th>\n",
       "    </tr>\n",
       "  </thead>\n",
       "  <tbody>\n",
       "    <tr>\n",
       "      <th>0</th>\n",
       "      <td>567828</td>\n",
       "      <td>The Complete Python Bootcamp From Zero to Hero...</td>\n",
       "      <td>/course/complete-python-bootcamp/</td>\n",
       "      <td>4.592782</td>\n",
       "      <td>452973</td>\n",
       "      <td>155</td>\n",
       "      <td>2015-07-29T00:12:23Z</td>\n",
       "      <td>2021-03-14</td>\n",
       "      <td>22.0</td>\n",
       "      <td>9685726</td>\n",
       "      <td>https://img-c.udemycdn.com/course/750x422/5678...</td>\n",
       "    </tr>\n",
       "    <tr>\n",
       "      <th>1</th>\n",
       "      <td>1565838</td>\n",
       "      <td>The Complete 2023 Web Development Bootcamp</td>\n",
       "      <td>/course/the-complete-web-development-bootcamp/</td>\n",
       "      <td>4.667258</td>\n",
       "      <td>263152</td>\n",
       "      <td>490</td>\n",
       "      <td>2018-02-22T12:02:33Z</td>\n",
       "      <td>2023-01-20</td>\n",
       "      <td>65.5</td>\n",
       "      <td>31334738</td>\n",
       "      <td>https://img-c.udemycdn.com/course/750x422/1565...</td>\n",
       "    </tr>\n",
       "    <tr>\n",
       "      <th>2</th>\n",
       "      <td>625204</td>\n",
       "      <td>The Web Developer Bootcamp 2023</td>\n",
       "      <td>/course/the-web-developer-bootcamp/</td>\n",
       "      <td>4.696147</td>\n",
       "      <td>254711</td>\n",
       "      <td>616</td>\n",
       "      <td>2015-09-28T21:32:19Z</td>\n",
       "      <td>2023-02-12</td>\n",
       "      <td>64.0</td>\n",
       "      <td>4466306</td>\n",
       "      <td>https://img-c.udemycdn.com/course/750x422/6252...</td>\n",
       "    </tr>\n",
       "    <tr>\n",
       "      <th>3</th>\n",
       "      <td>756150</td>\n",
       "      <td>Angular - The Complete Guide (2023 Edition)</td>\n",
       "      <td>/course/the-complete-guide-to-angular-2/</td>\n",
       "      <td>4.592692</td>\n",
       "      <td>180257</td>\n",
       "      <td>472</td>\n",
       "      <td>2016-02-08T17:02:55Z</td>\n",
       "      <td>2023-02-06</td>\n",
       "      <td>34.5</td>\n",
       "      <td>13952972</td>\n",
       "      <td>https://img-c.udemycdn.com/course/750x422/7561...</td>\n",
       "    </tr>\n",
       "    <tr>\n",
       "      <th>4</th>\n",
       "      <td>2776760</td>\n",
       "      <td>100 Days of Code: The Complete Python Pro Boot...</td>\n",
       "      <td>/course/100-days-of-code/</td>\n",
       "      <td>4.695252</td>\n",
       "      <td>177568</td>\n",
       "      <td>676</td>\n",
       "      <td>2020-01-24T10:47:21Z</td>\n",
       "      <td>2022-11-30</td>\n",
       "      <td>64.0</td>\n",
       "      <td>31334738</td>\n",
       "      <td>https://img-c.udemycdn.com/course/750x422/2776...</td>\n",
       "    </tr>\n",
       "  </tbody>\n",
       "</table>\n",
       "</div>"
      ],
      "text/plain": [
       "        id                                              title  \\\n",
       "0   567828  The Complete Python Bootcamp From Zero to Hero...   \n",
       "1  1565838         The Complete 2023 Web Development Bootcamp   \n",
       "2   625204                    The Web Developer Bootcamp 2023   \n",
       "3   756150        Angular - The Complete Guide (2023 Edition)   \n",
       "4  2776760  100 Days of Code: The Complete Python Pro Boot...   \n",
       "\n",
       "                                              url    rating  num_reviews  \\\n",
       "0               /course/complete-python-bootcamp/  4.592782       452973   \n",
       "1  /course/the-complete-web-development-bootcamp/  4.667258       263152   \n",
       "2             /course/the-web-developer-bootcamp/  4.696147       254711   \n",
       "3        /course/the-complete-guide-to-angular-2/  4.592692       180257   \n",
       "4                       /course/100-days-of-code/  4.695252       177568   \n",
       "\n",
       "   num_published_lectures               created last_update_date  duration  \\\n",
       "0                     155  2015-07-29T00:12:23Z       2021-03-14      22.0   \n",
       "1                     490  2018-02-22T12:02:33Z       2023-01-20      65.5   \n",
       "2                     616  2015-09-28T21:32:19Z       2023-02-12      64.0   \n",
       "3                     472  2016-02-08T17:02:55Z       2023-02-06      34.5   \n",
       "4                     676  2020-01-24T10:47:21Z       2022-11-30      64.0   \n",
       "\n",
       "   instructors_id                                              image  \n",
       "0         9685726  https://img-c.udemycdn.com/course/750x422/5678...  \n",
       "1        31334738  https://img-c.udemycdn.com/course/750x422/1565...  \n",
       "2         4466306  https://img-c.udemycdn.com/course/750x422/6252...  \n",
       "3        13952972  https://img-c.udemycdn.com/course/750x422/7561...  \n",
       "4        31334738  https://img-c.udemycdn.com/course/750x422/2776...  "
      ]
     },
     "execution_count": 93,
     "metadata": {},
     "output_type": "execute_result"
    }
   ],
   "source": [
    "df.head()"
   ]
  },
  {
   "cell_type": "code",
   "execution_count": null,
   "id": "83a04b1d-034e-4ddb-9728-eb9f263d03c3",
   "metadata": {},
   "outputs": [],
   "source": [
    "\n",
    "\n",
    "\n",
    "\n",
    "\n",
    "\n",
    "\n"
   ]
  },
  {
   "cell_type": "code",
   "execution_count": 81,
   "id": "ed5aea16-b531-4bd7-9aed-6b4f29d62a7a",
   "metadata": {},
   "outputs": [],
   "source": [
    "# MATPLOTLIB SEABORN"
   ]
  },
  {
   "cell_type": "code",
   "execution_count": 83,
   "id": "d900644e-2e18-47ce-aa12-632f252ae817",
   "metadata": {},
   "outputs": [],
   "source": [
    "import matplotlib.pyplot as plt\n",
    "%matplotlib inline\n",
    "import seaborn as sns"
   ]
  },
  {
   "cell_type": "code",
   "execution_count": 84,
   "id": "585816e2-b0c8-450a-8c7b-0b3790786a0e",
   "metadata": {},
   "outputs": [
    {
     "data": {
      "image/png": "[encoded data removed]",
      "text/plain": [
       "<Figure size 640x480 with 1 Axes>"
      ]
     },
     "metadata": {},
     "output_type": "display_data"
    }
   ],
   "source": [
    "sns.histplot(data=df,x='duration')\n",
    "plt.show()"
   ]
  },
  {
   "cell_type": "code",
   "execution_count": 85,
   "id": "2e195688-a5ac-406f-b9a0-4e2196de9306",
   "metadata": {},
   "outputs": [
    {
     "data": {
      "image/png": "[encoded data removed]",
      "text/plain": [
       "<Figure size 640x480 with 1 Axes>"
      ]
     },
     "metadata": {},
     "output_type": "display_data"
    }
   ],
   "source": [
    "sns.scatterplot(data=df,x='rating',y='num_reviews')\n",
    "plt.show()"
   ]
  },
  {
   "cell_type": "code",
   "execution_count": 91,
   "id": "b8867fac-6b4a-4c90-8ad0-cb5855b2fe3e",
   "metadata": {},
   "outputs": [
    {
     "data": {
      "image/png": "[encoded data removed]",
      "text/plain": [
       "<Figure size 640x480 with 1 Axes>"
      ]
     },
     "metadata": {},
     "output_type": "display_data"
    }
   ],
   "source": [
    "sns.scatterplot(data=df,x='num_published_lectures',y='rating')\n",
    "plt.show()"
   ]
  },
  {
   "cell_type": "code",
   "execution_count": 97,
   "id": "3951bfd2-15e0-486a-8172-c4e1ba2c68ef",
   "metadata": {},
   "outputs": [
    {
     "data": {
      "text/plain": [
       "pandas.core.series.Series"
      ]
     },
     "execution_count": 97,
     "metadata": {},
     "output_type": "execute_result"
    }
   ],
   "source": [
    "type(df.last_update_date)"
   ]
  },
  {
   "cell_type": "code",
   "execution_count": 117,
   "id": "f1909da7-22fd-4df6-baef-1e0b93c208b6",
   "metadata": {},
   "outputs": [],
   "source": [
    "import datetime as dt"
   ]
  },
  {
   "cell_type": "code",
   "execution_count": null,
   "id": "33a67d0a-12de-4508-8d4f-36c714a56039",
   "metadata": {},
   "outputs": [],
   "source": []
  },
  {
   "cell_type": "code",
   "execution_count": 127,
   "id": "16863e27-e100-4ee0-9cc4-10bbe82a589b",
   "metadata": {},
   "outputs": [],
   "source": [
    "df['last_update_date'] = pd.to_datetime(df['last_update_date'],format='%Y-%m-%d')"
   ]
  },
  {
   "cell_type": "code",
   "execution_count": 129,
   "id": "05efc06f-a22b-40ca-99a7-27a9f1b3376c",
   "metadata": {},
   "outputs": [
    {
     "data": {
      "text/html": [
       "<div>\n",
       "<style scoped>\n",
       "    .dataframe tbody tr th:only-of-type {\n",
       "        vertical-align: middle;\n",
       "    }\n",
       "\n",
       "    .dataframe tbody tr th {\n",
       "        vertical-align: top;\n",
       "    }\n",
       "\n",
       "    .dataframe thead th {\n",
       "        text-align: right;\n",
       "    }\n",
       "</style>\n",
       "<table border=\"1\" class=\"dataframe\">\n",
       "  <thead>\n",
       "    <tr style=\"text-align: right;\">\n",
       "      <th></th>\n",
       "      <th>id</th>\n",
       "      <th>title</th>\n",
       "      <th>url</th>\n",
       "      <th>rating</th>\n",
       "      <th>num_reviews</th>\n",
       "      <th>num_published_lectures</th>\n",
       "      <th>created</th>\n",
       "      <th>last_update_date</th>\n",
       "      <th>duration</th>\n",
       "      <th>instructors_id</th>\n",
       "      <th>image</th>\n",
       "    </tr>\n",
       "  </thead>\n",
       "  <tbody>\n",
       "    <tr>\n",
       "      <th>0</th>\n",
       "      <td>567828</td>\n",
       "      <td>The Complete Python Bootcamp From Zero to Hero...</td>\n",
       "      <td>/course/complete-python-bootcamp/</td>\n",
       "      <td>4.592782</td>\n",
       "      <td>452973</td>\n",
       "      <td>155</td>\n",
       "      <td>2015-07-29T00:12:23Z</td>\n",
       "      <td>2021-03-14</td>\n",
       "      <td>22.0</td>\n",
       "      <td>9685726</td>\n",
       "      <td>https://img-c.udemycdn.com/course/750x422/5678...</td>\n",
       "    </tr>\n",
       "    <tr>\n",
       "      <th>1</th>\n",
       "      <td>1565838</td>\n",
       "      <td>The Complete 2023 Web Development Bootcamp</td>\n",
       "      <td>/course/the-complete-web-development-bootcamp/</td>\n",
       "      <td>4.667258</td>\n",
       "      <td>263152</td>\n",
       "      <td>490</td>\n",
       "      <td>2018-02-22T12:02:33Z</td>\n",
       "      <td>2023-01-20</td>\n",
       "      <td>65.5</td>\n",
       "      <td>31334738</td>\n",
       "      <td>https://img-c.udemycdn.com/course/750x422/1565...</td>\n",
       "    </tr>\n",
       "    <tr>\n",
       "      <th>2</th>\n",
       "      <td>625204</td>\n",
       "      <td>The Web Developer Bootcamp 2023</td>\n",
       "      <td>/course/the-web-developer-bootcamp/</td>\n",
       "      <td>4.696147</td>\n",
       "      <td>254711</td>\n",
       "      <td>616</td>\n",
       "      <td>2015-09-28T21:32:19Z</td>\n",
       "      <td>2023-02-12</td>\n",
       "      <td>64.0</td>\n",
       "      <td>4466306</td>\n",
       "      <td>https://img-c.udemycdn.com/course/750x422/6252...</td>\n",
       "    </tr>\n",
       "    <tr>\n",
       "      <th>3</th>\n",
       "      <td>756150</td>\n",
       "      <td>Angular - The Complete Guide (2023 Edition)</td>\n",
       "      <td>/course/the-complete-guide-to-angular-2/</td>\n",
       "      <td>4.592692</td>\n",
       "      <td>180257</td>\n",
       "      <td>472</td>\n",
       "      <td>2016-02-08T17:02:55Z</td>\n",
       "      <td>2023-02-06</td>\n",
       "      <td>34.5</td>\n",
       "      <td>13952972</td>\n",
       "      <td>https://img-c.udemycdn.com/course/750x422/7561...</td>\n",
       "    </tr>\n",
       "    <tr>\n",
       "      <th>4</th>\n",
       "      <td>2776760</td>\n",
       "      <td>100 Days of Code: The Complete Python Pro Boot...</td>\n",
       "      <td>/course/100-days-of-code/</td>\n",
       "      <td>4.695252</td>\n",
       "      <td>177568</td>\n",
       "      <td>676</td>\n",
       "      <td>2020-01-24T10:47:21Z</td>\n",
       "      <td>2022-11-30</td>\n",
       "      <td>64.0</td>\n",
       "      <td>31334738</td>\n",
       "      <td>https://img-c.udemycdn.com/course/750x422/2776...</td>\n",
       "    </tr>\n",
       "    <tr>\n",
       "      <th>...</th>\n",
       "      <td>...</td>\n",
       "      <td>...</td>\n",
       "      <td>...</td>\n",
       "      <td>...</td>\n",
       "      <td>...</td>\n",
       "      <td>...</td>\n",
       "      <td>...</td>\n",
       "      <td>...</td>\n",
       "      <td>...</td>\n",
       "      <td>...</td>\n",
       "      <td>...</td>\n",
       "    </tr>\n",
       "    <tr>\n",
       "      <th>83099</th>\n",
       "      <td>5029000</td>\n",
       "      <td>Was sind Subliminales und wie stelle ich sie h...</td>\n",
       "      <td>/course/was-sind-subliminales-und-wie-stelle-i...</td>\n",
       "      <td>1.500000</td>\n",
       "      <td>1</td>\n",
       "      <td>5</td>\n",
       "      <td>2022-12-17T12:25:46Z</td>\n",
       "      <td>2022-12-28</td>\n",
       "      <td>1.0</td>\n",
       "      <td>129402400</td>\n",
       "      <td>https://img-b.udemycdn.com/course/750x422/5029...</td>\n",
       "    </tr>\n",
       "    <tr>\n",
       "      <th>83100</th>\n",
       "      <td>4694354</td>\n",
       "      <td>Introduction au Piano populaire (avec symboles...</td>\n",
       "      <td>/course/arrangement-pour-piano-i-les-technique...</td>\n",
       "      <td>0.000000</td>\n",
       "      <td>0</td>\n",
       "      <td>28</td>\n",
       "      <td>2022-05-19T15:10:45Z</td>\n",
       "      <td>2022-08-25</td>\n",
       "      <td>1.5</td>\n",
       "      <td>66960110</td>\n",
       "      <td>https://img-b.udemycdn.com/course/750x422/4694...</td>\n",
       "    </tr>\n",
       "    <tr>\n",
       "      <th>83101</th>\n",
       "      <td>4668986</td>\n",
       "      <td>あい先生のピアノレッスン　親子で学ぶピアノ準備編</td>\n",
       "      <td>/course/aipiano004/</td>\n",
       "      <td>0.000000</td>\n",
       "      <td>0</td>\n",
       "      <td>24</td>\n",
       "      <td>2022-05-02T13:43:00Z</td>\n",
       "      <td>2022-07-13</td>\n",
       "      <td>39.0</td>\n",
       "      <td>130073700</td>\n",
       "      <td>https://img-b.udemycdn.com/course/750x422/4668...</td>\n",
       "    </tr>\n",
       "    <tr>\n",
       "      <th>83102</th>\n",
       "      <td>4954150</td>\n",
       "      <td>Spielerisch Gitarre Spielen Lernen Für Anfänger</td>\n",
       "      <td>/course/spielerisch-gitarre-spielen-lernen-fur...</td>\n",
       "      <td>0.000000</td>\n",
       "      <td>0</td>\n",
       "      <td>13</td>\n",
       "      <td>2022-10-31T06:54:15Z</td>\n",
       "      <td>2022-11-28</td>\n",
       "      <td>1.5</td>\n",
       "      <td>95626112</td>\n",
       "      <td>https://img-b.udemycdn.com/course/750x422/4954...</td>\n",
       "    </tr>\n",
       "    <tr>\n",
       "      <th>83103</th>\n",
       "      <td>4545520</td>\n",
       "      <td>クロマチックハーモニカをはじめる前に知っておきたいこと</td>\n",
       "      <td>/course/harmonica_beginner/</td>\n",
       "      <td>0.000000</td>\n",
       "      <td>0</td>\n",
       "      <td>9</td>\n",
       "      <td>2022-02-11T08:12:45Z</td>\n",
       "      <td>2022-02-11</td>\n",
       "      <td>31.0</td>\n",
       "      <td>177930546</td>\n",
       "      <td>https://img-b.udemycdn.com/course/750x422/4545...</td>\n",
       "    </tr>\n",
       "  </tbody>\n",
       "</table>\n",
       "<p>83104 rows × 11 columns</p>\n",
       "</div>"
      ],
      "text/plain": [
       "            id                                              title  \\\n",
       "0       567828  The Complete Python Bootcamp From Zero to Hero...   \n",
       "1      1565838         The Complete 2023 Web Development Bootcamp   \n",
       "2       625204                    The Web Developer Bootcamp 2023   \n",
       "3       756150        Angular - The Complete Guide (2023 Edition)   \n",
       "4      2776760  100 Days of Code: The Complete Python Pro Boot...   \n",
       "...        ...                                                ...   \n",
       "83099  5029000  Was sind Subliminales und wie stelle ich sie h...   \n",
       "83100  4694354  Introduction au Piano populaire (avec symboles...   \n",
       "83101  4668986                           あい先生のピアノレッスン　親子で学ぶピアノ準備編   \n",
       "83102  4954150    Spielerisch Gitarre Spielen Lernen Für Anfänger   \n",
       "83103  4545520                        クロマチックハーモニカをはじめる前に知っておきたいこと   \n",
       "\n",
       "                                                     url    rating  \\\n",
       "0                      /course/complete-python-bootcamp/  4.592782   \n",
       "1         /course/the-complete-web-development-bootcamp/  4.667258   \n",
       "2                    /course/the-web-developer-bootcamp/  4.696147   \n",
       "3               /course/the-complete-guide-to-angular-2/  4.592692   \n",
       "4                              /course/100-days-of-code/  4.695252   \n",
       "...                                                  ...       ...   \n",
       "83099  /course/was-sind-subliminales-und-wie-stelle-i...  1.500000   \n",
       "83100  /course/arrangement-pour-piano-i-les-technique...  0.000000   \n",
       "83101                                /course/aipiano004/  0.000000   \n",
       "83102  /course/spielerisch-gitarre-spielen-lernen-fur...  0.000000   \n",
       "83103                        /course/harmonica_beginner/  0.000000   \n",
       "\n",
       "       num_reviews  num_published_lectures               created  \\\n",
       "0           452973                     155  2015-07-29T00:12:23Z   \n",
       "1           263152                     490  2018-02-22T12:02:33Z   \n",
       "2           254711                     616  2015-09-28T21:32:19Z   \n",
       "3           180257                     472  2016-02-08T17:02:55Z   \n",
       "4           177568                     676  2020-01-24T10:47:21Z   \n",
       "...            ...                     ...                   ...   \n",
       "83099            1                       5  2022-12-17T12:25:46Z   \n",
       "83100            0                      28  2022-05-19T15:10:45Z   \n",
       "83101            0                      24  2022-05-02T13:43:00Z   \n",
       "83102            0                      13  2022-10-31T06:54:15Z   \n",
       "83103            0                       9  2022-02-11T08:12:45Z   \n",
       "\n",
       "      last_update_date  duration  instructors_id  \\\n",
       "0           2021-03-14      22.0         9685726   \n",
       "1           2023-01-20      65.5        31334738   \n",
       "2           2023-02-12      64.0         4466306   \n",
       "3           2023-02-06      34.5        13952972   \n",
       "4           2022-11-30      64.0        31334738   \n",
       "...                ...       ...             ...   \n",
       "83099       2022-12-28       1.0       129402400   \n",
       "83100       2022-08-25       1.5        66960110   \n",
       "83101       2022-07-13      39.0       130073700   \n",
       "83102       2022-11-28       1.5        95626112   \n",
       "83103       2022-02-11      31.0       177930546   \n",
       "\n",
       "                                                   image  \n",
       "0      https://img-c.udemycdn.com/course/750x422/5678...  \n",
       "1      https://img-c.udemycdn.com/course/750x422/1565...  \n",
       "2      https://img-c.udemycdn.com/course/750x422/6252...  \n",
       "3      https://img-c.udemycdn.com/course/750x422/7561...  \n",
       "4      https://img-c.udemycdn.com/course/750x422/2776...  \n",
       "...                                                  ...  \n",
       "83099  https://img-b.udemycdn.com/course/750x422/5029...  \n",
       "83100  https://img-b.udemycdn.com/course/750x422/4694...  \n",
       "83101  https://img-b.udemycdn.com/course/750x422/4668...  \n",
       "83102  https://img-b.udemycdn.com/course/750x422/4954...  \n",
       "83103  https://img-b.udemycdn.com/course/750x422/4545...  \n",
       "\n",
       "[83104 rows x 11 columns]"
      ]
     },
     "execution_count": 129,
     "metadata": {},
     "output_type": "execute_result"
    }
   ],
   "source": [
    "df"
   ]
  },
  {
   "cell_type": "code",
   "execution_count": 131,
   "id": "af57740e-5d36-4f0f-a227-d3797d0d3fc3",
   "metadata": {},
   "outputs": [],
   "source": [
    "df['update_year']=df.last_update_date.dt.year"
   ]
  },
  {
   "cell_type": "code",
   "execution_count": 133,
   "id": "6265d82e-3d5b-493a-937a-50733839f6a2",
   "metadata": {},
   "outputs": [
    {
     "data": {
      "text/html": [
       "<div>\n",
       "<style scoped>\n",
       "    .dataframe tbody tr th:only-of-type {\n",
       "        vertical-align: middle;\n",
       "    }\n",
       "\n",
       "    .dataframe tbody tr th {\n",
       "        vertical-align: top;\n",
       "    }\n",
       "\n",
       "    .dataframe thead th {\n",
       "        text-align: right;\n",
       "    }\n",
       "</style>\n",
       "<table border=\"1\" class=\"dataframe\">\n",
       "  <thead>\n",
       "    <tr style=\"text-align: right;\">\n",
       "      <th></th>\n",
       "      <th>id</th>\n",
       "      <th>title</th>\n",
       "      <th>url</th>\n",
       "      <th>rating</th>\n",
       "      <th>num_reviews</th>\n",
       "      <th>num_published_lectures</th>\n",
       "      <th>created</th>\n",
       "      <th>last_update_date</th>\n",
       "      <th>duration</th>\n",
       "      <th>instructors_id</th>\n",
       "      <th>image</th>\n",
       "      <th>update_year</th>\n",
       "    </tr>\n",
       "  </thead>\n",
       "  <tbody>\n",
       "    <tr>\n",
       "      <th>0</th>\n",
       "      <td>567828</td>\n",
       "      <td>The Complete Python Bootcamp From Zero to Hero...</td>\n",
       "      <td>/course/complete-python-bootcamp/</td>\n",
       "      <td>4.592782</td>\n",
       "      <td>452973</td>\n",
       "      <td>155</td>\n",
       "      <td>2015-07-29T00:12:23Z</td>\n",
       "      <td>2021-03-14</td>\n",
       "      <td>22.0</td>\n",
       "      <td>9685726</td>\n",
       "      <td>https://img-c.udemycdn.com/course/750x422/5678...</td>\n",
       "      <td>2021.0</td>\n",
       "    </tr>\n",
       "    <tr>\n",
       "      <th>1</th>\n",
       "      <td>1565838</td>\n",
       "      <td>The Complete 2023 Web Development Bootcamp</td>\n",
       "      <td>/course/the-complete-web-development-bootcamp/</td>\n",
       "      <td>4.667258</td>\n",
       "      <td>263152</td>\n",
       "      <td>490</td>\n",
       "      <td>2018-02-22T12:02:33Z</td>\n",
       "      <td>2023-01-20</td>\n",
       "      <td>65.5</td>\n",
       "      <td>31334738</td>\n",
       "      <td>https://img-c.udemycdn.com/course/750x422/1565...</td>\n",
       "      <td>2023.0</td>\n",
       "    </tr>\n",
       "    <tr>\n",
       "      <th>2</th>\n",
       "      <td>625204</td>\n",
       "      <td>The Web Developer Bootcamp 2023</td>\n",
       "      <td>/course/the-web-developer-bootcamp/</td>\n",
       "      <td>4.696147</td>\n",
       "      <td>254711</td>\n",
       "      <td>616</td>\n",
       "      <td>2015-09-28T21:32:19Z</td>\n",
       "      <td>2023-02-12</td>\n",
       "      <td>64.0</td>\n",
       "      <td>4466306</td>\n",
       "      <td>https://img-c.udemycdn.com/course/750x422/6252...</td>\n",
       "      <td>2023.0</td>\n",
       "    </tr>\n",
       "    <tr>\n",
       "      <th>3</th>\n",
       "      <td>756150</td>\n",
       "      <td>Angular - The Complete Guide (2023 Edition)</td>\n",
       "      <td>/course/the-complete-guide-to-angular-2/</td>\n",
       "      <td>4.592692</td>\n",
       "      <td>180257</td>\n",
       "      <td>472</td>\n",
       "      <td>2016-02-08T17:02:55Z</td>\n",
       "      <td>2023-02-06</td>\n",
       "      <td>34.5</td>\n",
       "      <td>13952972</td>\n",
       "      <td>https://img-c.udemycdn.com/course/750x422/7561...</td>\n",
       "      <td>2023.0</td>\n",
       "    </tr>\n",
       "    <tr>\n",
       "      <th>4</th>\n",
       "      <td>2776760</td>\n",
       "      <td>100 Days of Code: The Complete Python Pro Boot...</td>\n",
       "      <td>/course/100-days-of-code/</td>\n",
       "      <td>4.695252</td>\n",
       "      <td>177568</td>\n",
       "      <td>676</td>\n",
       "      <td>2020-01-24T10:47:21Z</td>\n",
       "      <td>2022-11-30</td>\n",
       "      <td>64.0</td>\n",
       "      <td>31334738</td>\n",
       "      <td>https://img-c.udemycdn.com/course/750x422/2776...</td>\n",
       "      <td>2022.0</td>\n",
       "    </tr>\n",
       "    <tr>\n",
       "      <th>...</th>\n",
       "      <td>...</td>\n",
       "      <td>...</td>\n",
       "      <td>...</td>\n",
       "      <td>...</td>\n",
       "      <td>...</td>\n",
       "      <td>...</td>\n",
       "      <td>...</td>\n",
       "      <td>...</td>\n",
       "      <td>...</td>\n",
       "      <td>...</td>\n",
       "      <td>...</td>\n",
       "      <td>...</td>\n",
       "    </tr>\n",
       "    <tr>\n",
       "      <th>83099</th>\n",
       "      <td>5029000</td>\n",
       "      <td>Was sind Subliminales und wie stelle ich sie h...</td>\n",
       "      <td>/course/was-sind-subliminales-und-wie-stelle-i...</td>\n",
       "      <td>1.500000</td>\n",
       "      <td>1</td>\n",
       "      <td>5</td>\n",
       "      <td>2022-12-17T12:25:46Z</td>\n",
       "      <td>2022-12-28</td>\n",
       "      <td>1.0</td>\n",
       "      <td>129402400</td>\n",
       "      <td>https://img-b.udemycdn.com/course/750x422/5029...</td>\n",
       "      <td>2022.0</td>\n",
       "    </tr>\n",
       "    <tr>\n",
       "      <th>83100</th>\n",
       "      <td>4694354</td>\n",
       "      <td>Introduction au Piano populaire (avec symboles...</td>\n",
       "      <td>/course/arrangement-pour-piano-i-les-technique...</td>\n",
       "      <td>0.000000</td>\n",
       "      <td>0</td>\n",
       "      <td>28</td>\n",
       "      <td>2022-05-19T15:10:45Z</td>\n",
       "      <td>2022-08-25</td>\n",
       "      <td>1.5</td>\n",
       "      <td>66960110</td>\n",
       "      <td>https://img-b.udemycdn.com/course/750x422/4694...</td>\n",
       "      <td>2022.0</td>\n",
       "    </tr>\n",
       "    <tr>\n",
       "      <th>83101</th>\n",
       "      <td>4668986</td>\n",
       "      <td>あい先生のピアノレッスン　親子で学ぶピアノ準備編</td>\n",
       "      <td>/course/aipiano004/</td>\n",
       "      <td>0.000000</td>\n",
       "      <td>0</td>\n",
       "      <td>24</td>\n",
       "      <td>2022-05-02T13:43:00Z</td>\n",
       "      <td>2022-07-13</td>\n",
       "      <td>39.0</td>\n",
       "      <td>130073700</td>\n",
       "      <td>https://img-b.udemycdn.com/course/750x422/4668...</td>\n",
       "      <td>2022.0</td>\n",
       "    </tr>\n",
       "    <tr>\n",
       "      <th>83102</th>\n",
       "      <td>4954150</td>\n",
       "      <td>Spielerisch Gitarre Spielen Lernen Für Anfänger</td>\n",
       "      <td>/course/spielerisch-gitarre-spielen-lernen-fur...</td>\n",
       "      <td>0.000000</td>\n",
       "      <td>0</td>\n",
       "      <td>13</td>\n",
       "      <td>2022-10-31T06:54:15Z</td>\n",
       "      <td>2022-11-28</td>\n",
       "      <td>1.5</td>\n",
       "      <td>95626112</td>\n",
       "      <td>https://img-b.udemycdn.com/course/750x422/4954...</td>\n",
       "      <td>2022.0</td>\n",
       "    </tr>\n",
       "    <tr>\n",
       "      <th>83103</th>\n",
       "      <td>4545520</td>\n",
       "      <td>クロマチックハーモニカをはじめる前に知っておきたいこと</td>\n",
       "      <td>/course/harmonica_beginner/</td>\n",
       "      <td>0.000000</td>\n",
       "      <td>0</td>\n",
       "      <td>9</td>\n",
       "      <td>2022-02-11T08:12:45Z</td>\n",
       "      <td>2022-02-11</td>\n",
       "      <td>31.0</td>\n",
       "      <td>177930546</td>\n",
       "      <td>https://img-b.udemycdn.com/course/750x422/4545...</td>\n",
       "      <td>2022.0</td>\n",
       "    </tr>\n",
       "  </tbody>\n",
       "</table>\n",
       "<p>83104 rows × 12 columns</p>\n",
       "</div>"
      ],
      "text/plain": [
       "            id                                              title  \\\n",
       "0       567828  The Complete Python Bootcamp From Zero to Hero...   \n",
       "1      1565838         The Complete 2023 Web Development Bootcamp   \n",
       "2       625204                    The Web Developer Bootcamp 2023   \n",
       "3       756150        Angular - The Complete Guide (2023 Edition)   \n",
       "4      2776760  100 Days of Code: The Complete Python Pro Boot...   \n",
       "...        ...                                                ...   \n",
       "83099  5029000  Was sind Subliminales und wie stelle ich sie h...   \n",
       "83100  4694354  Introduction au Piano populaire (avec symboles...   \n",
       "83101  4668986                           あい先生のピアノレッスン　親子で学ぶピアノ準備編   \n",
       "83102  4954150    Spielerisch Gitarre Spielen Lernen Für Anfänger   \n",
       "83103  4545520                        クロマチックハーモニカをはじめる前に知っておきたいこと   \n",
       "\n",
       "                                                     url    rating  \\\n",
       "0                      /course/complete-python-bootcamp/  4.592782   \n",
       "1         /course/the-complete-web-development-bootcamp/  4.667258   \n",
       "2                    /course/the-web-developer-bootcamp/  4.696147   \n",
       "3               /course/the-complete-guide-to-angular-2/  4.592692   \n",
       "4                              /course/100-days-of-code/  4.695252   \n",
       "...                                                  ...       ...   \n",
       "83099  /course/was-sind-subliminales-und-wie-stelle-i...  1.500000   \n",
       "83100  /course/arrangement-pour-piano-i-les-technique...  0.000000   \n",
       "83101                                /course/aipiano004/  0.000000   \n",
       "83102  /course/spielerisch-gitarre-spielen-lernen-fur...  0.000000   \n",
       "83103                        /course/harmonica_beginner/  0.000000   \n",
       "\n",
       "       num_reviews  num_published_lectures               created  \\\n",
       "0           452973                     155  2015-07-29T00:12:23Z   \n",
       "1           263152                     490  2018-02-22T12:02:33Z   \n",
       "2           254711                     616  2015-09-28T21:32:19Z   \n",
       "3           180257                     472  2016-02-08T17:02:55Z   \n",
       "4           177568                     676  2020-01-24T10:47:21Z   \n",
       "...            ...                     ...                   ...   \n",
       "83099            1                       5  2022-12-17T12:25:46Z   \n",
       "83100            0                      28  2022-05-19T15:10:45Z   \n",
       "83101            0                      24  2022-05-02T13:43:00Z   \n",
       "83102            0                      13  2022-10-31T06:54:15Z   \n",
       "83103            0                       9  2022-02-11T08:12:45Z   \n",
       "\n",
       "      last_update_date  duration  instructors_id  \\\n",
       "0           2021-03-14      22.0         9685726   \n",
       "1           2023-01-20      65.5        31334738   \n",
       "2           2023-02-12      64.0         4466306   \n",
       "3           2023-02-06      34.5        13952972   \n",
       "4           2022-11-30      64.0        31334738   \n",
       "...                ...       ...             ...   \n",
       "83099       2022-12-28       1.0       129402400   \n",
       "83100       2022-08-25       1.5        66960110   \n",
       "83101       2022-07-13      39.0       130073700   \n",
       "83102       2022-11-28       1.5        95626112   \n",
       "83103       2022-02-11      31.0       177930546   \n",
       "\n",
       "                                                   image  update_year  \n",
       "0      https://img-c.udemycdn.com/course/750x422/5678...       2021.0  \n",
       "1      https://img-c.udemycdn.com/course/750x422/1565...       2023.0  \n",
       "2      https://img-c.udemycdn.com/course/750x422/6252...       2023.0  \n",
       "3      https://img-c.udemycdn.com/course/750x422/7561...       2023.0  \n",
       "4      https://img-c.udemycdn.com/course/750x422/2776...       2022.0  \n",
       "...                                                  ...          ...  \n",
       "83099  https://img-b.udemycdn.com/course/750x422/5029...       2022.0  \n",
       "83100  https://img-b.udemycdn.com/course/750x422/4694...       2022.0  \n",
       "83101  https://img-b.udemycdn.com/course/750x422/4668...       2022.0  \n",
       "83102  https://img-b.udemycdn.com/course/750x422/4954...       2022.0  \n",
       "83103  https://img-b.udemycdn.com/course/750x422/4545...       2022.0  \n",
       "\n",
       "[83104 rows x 12 columns]"
      ]
     },
     "execution_count": 133,
     "metadata": {},
     "output_type": "execute_result"
    }
   ],
   "source": [
    "df"
   ]
  },
  {
   "cell_type": "code",
   "execution_count": 161,
   "id": "c04b22af-a1ec-4e16-ad5a-95e395b0f28d",
   "metadata": {},
   "outputs": [],
   "source": [
    "a=df.groupby('update_year').size()"
   ]
  },
  {
   "cell_type": "code",
   "execution_count": 163,
   "id": "52efd810-b3f9-4f5f-aa3e-97c44ed4eace",
   "metadata": {},
   "outputs": [
    {
     "data": {
      "image/png": "[encoded data removed]",
      "text/plain": [
       "<Figure size 640x480 with 1 Axes>"
      ]
     },
     "metadata": {},
     "output_type": "display_data"
    }
   ],
   "source": [
    "plt.plot(a.index, a.values, linestyle='-')\n",
    "plt.show()"
   ]
  },
  {
   "cell_type": "code",
   "execution_count": null,
   "id": "33b0b00a-4328-4f98-b6ac-bb92b8ad516b",
   "metadata": {},
   "outputs": [],
   "source": []
  }
 ],
 "metadata": {
  "kernelspec": {
   "display_name": "Python 3 (ipykernel)",
   "language": "python",
   "name": "python3"
  },
  "language_info": {
   "codemirror_mode": {
    "name": "ipython",
    "version": 3
   },
   "file_extension": ".py",
   "mimetype": "text/x-python",
   "name": "python",
   "nbconvert_exporter": "python",
   "pygments_lexer": "ipython3",
   "version": "3.12.3"
  },
  "widgets": {
   "application/vnd.jupyter.widget-state+json": {
    "state": {},
    "version_major": 2,
    "version_minor": 0
   }
  }
 },
 "nbformat": 4,
 "nbformat_minor": 5
}
