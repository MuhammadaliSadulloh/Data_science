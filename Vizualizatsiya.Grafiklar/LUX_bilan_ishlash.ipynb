{
 "cells": [
  {
   "cell_type": "code",
   "execution_count": 1,
   "id": "338eedeb-ed5c-485f-9b75-7e4924bbc2dd",
   "metadata": {},
   "outputs": [],
   "source": [
    "# pip install lux-api"
   ]
  },
  {
   "cell_type": "code",
   "execution_count": 4,
   "id": "500af735-88cf-471a-8d5f-a6b4f8ae249d",
   "metadata": {},
   "outputs": [
    {
     "ename": "SyntaxError",
     "evalue": "invalid syntax (1428291649.py, line 1)",
     "output_type": "error",
     "traceback": [
      "\u001b[1;36m  Cell \u001b[1;32mIn[4], line 1\u001b[1;36m\u001b[0m\n\u001b[1;33m    jupyter nbextension install --py luxwidget\u001b[0m\n\u001b[1;37m            ^\u001b[0m\n\u001b[1;31mSyntaxError\u001b[0m\u001b[1;31m:\u001b[0m invalid syntax\n"
     ]
    }
   ],
   "source": [
    "import lux\n",
    "import pandas as pd\n",
    "import numpy as np"
   ]
  },
  {
   "cell_type": "code",
   "execution_count": 2,
   "id": "0d05f477-7d02-4919-b959-8bab7c8dbed9",
   "metadata": {},
   "outputs": [],
   "source": [
    "# jupyter nbextension enable --py luxwidget"
   ]
  },
  {
   "cell_type": "code",
   "execution_count": null,
   "id": "ce9aadad-ace3-41a8-a5ed-bcdf56c19bf0",
   "metadata": {},
   "outputs": [],
   "source": [
    "df = pd.read_csv(\"https://raw.githubusercontent.com/anvarnarz/praktikum_datasets/main/merc.csv\")\n",
    "df=df[df.year>=2010] # 2010-yildan keyin chiqqan mashinalarni saqlab qolamiz\n",
    "df=df[df.transmission!='Other'] # Faqat avtomat, mexanik va yarim-avtomat mashinalarni olib qolamiz\n",
    "df=df[df.fuelType!='Other'] # Faqat benzin, dizel va gibrid mashinalarni olib qolamiz\n",
    "df['year'] = pd.to_datetime(df['year'], format='%Y')\n",
    "df.head()"
   ]
  },
  {
   "cell_type": "code",
   "execution_count": null,
   "id": "44e9932b-21b9-429c-a61a-241e0e0d683f",
   "metadata": {},
   "outputs": [],
   "source": [
    "df.intent = [\"price\",\"mileage\"]\n",
    "df"
   ]
  },
  {
   "cell_type": "code",
   "execution_count": null,
   "id": "9667b8de-56d7-4b91-a613-0bd8a6f397f0",
   "metadata": {},
   "outputs": [],
   "source": []
  }
 ],
 "metadata": {
  "kernelspec": {
   "display_name": "base",
   "language": "python",
   "name": "python3"
  },
  "language_info": {
   "codemirror_mode": {
    "name": "ipython",
    "version": 3
   },
   "file_extension": ".py",
   "mimetype": "text/x-python",
   "name": "python",
   "nbconvert_exporter": "python",
   "pygments_lexer": "ipython3",
   "version": "3.12.3"
  },
  "widgets": {
   "application/vnd.jupyter.widget-state+json": {
    "state": {
     "2c2c9a1b042c4d4e92270ed946590942": {
      "model_module": "luxwidget",
      "model_module_version": "2.0.0",
      "model_name": "LuxModel",
      "state": {
       "_model_module": "luxwidget",
       "_model_name": "LuxModel",
       "_selectedVisIdxs": {},
       "_view_name": "ErrorWidgetView",
       "all_column": false,
       "current_vis": {},
       "data": [],
       "deletedIndices": {},
       "error": {},
       "intent": "",
       "layout": "IPY_MODEL_1da3b26efa3349eb9a6275187e334a9c",
       "message": "<ul><li>Large scatterplots detected: Lux is automatically binning scatterplots to heatmaps.</li><li>Lux is visualizing the previous version of the dataframe before you applied <code>head</code>.</li></ul>",
       "msg": "Failed to load model class 'LuxModel' from module 'luxwidget'",
       "plotting_scale": 1,
       "recommendations": [
        {
         "action": "Correlation",
         "description": "Show relationships between two <p class='highlight-descriptor'>quantitative</p> attributes.",
         "long_description": "Correlation searches through all pairwise relationship between two quantitative attributes             (e.g., price, mpg). The visualizations are ranked from most to least linearly correlated based on                 their Pearson’s correlation score.",
         "vspec": [
          {
           "$schema": "https://vega.github.io/schema/vega-lite/v5.8.0.json",
           "config": {
            "axis": {
             "labelColor": "#505050",
             "labelFont": "Helvetica Neue",
             "labelFontSize": 9,
             "labelFontWeight": 400,
             "titleFont": "Helvetica Neue",
             "titleFontSize": 11,
             "titleFontWeight": 500
            },
            "legend": {
             "labelFont": "Helvetica Neue",
             "labelFontSize": 9,
             "labelFontWeight": 400,
             "titleFont": "Helvetica Neue",
             "titleFontSize": 10,
             "titleFontWeight": 500
            },
            "mark": {
             "tooltip": {
              "content": "encoding"
             }
            },
            "scale": {
             "maxOpacity": 1,
             "minOpacity": 0.1
            },
            "title": {
             "font": "Helvetica Neue",
             "fontSize": 13,
             "fontWeight": 500
            },
            "view": {
             "continuousHeight": 300,
             "continuousWidth": 300
            }
           },
           "data": {
            "name": "data-a3a0be7a1e09669de1b5309a0569fba7"
           },
           "datasets": {
            "data-a3a0be7a1e09669de1b5309a0569fba7": [
             {
              "count": 5,
              "xBinEnd": 14.5,
              "xBinStart": -0.58,
              "yBinEnd": 9282.45,
              "yBinStart": 5316.225
             },
             {
              "count": 46,
              "xBinEnd": 14.5,
              "xBinStart": -0.58,
              "yBinEnd": 13248.675,
              "yBinStart": 9282.45
             },
             {
              "count": 52,
              "xBinEnd": 14.5,
              "xBinStart": -0.58,
              "yBinEnd": 17214.9,
              "yBinStart": 13248.675
             },
             {
              "count": 63,
              "xBinEnd": 14.5,
              "xBinStart": -0.58,
              "yBinEnd": 21181.125,
              "yBinStart": 17214.9
             },
             {
              "count": 2,
              "xBinEnd": 14.5,
              "xBinStart": -0.58,
              "yBinEnd": 25147.35,
              "yBinStart": 21181.125
             },
             {
              "count": 1,
              "xBinEnd": 14.5,
              "xBinStart": -0.58,
              "yBinEnd": 29113.575,
              "yBinStart": 25147.35
             },
             {
              "count": 14,
              "xBinEnd": 29,
              "xBinStart": 14.5,
              "yBinEnd": 9282.45,
              "yBinStart": 5316.225
             },
             {
              "count": 286,
              "xBinEnd": 29,
              "xBinStart": 14.5,
              "yBinEnd": 13248.675,
              "yBinStart": 9282.45
             },
             {
              "count": 657,
              "xBinEnd": 29,
              "xBinStart": 14.5,
              "yBinEnd": 17214.9,
              "yBinStart": 13248.675
             },
             {
              "count": 261,
              "xBinEnd": 29,
              "xBinStart": 14.5,
              "yBinEnd": 21181.125,
              "yBinStart": 17214.9
             },
             {
              "count": 30,
              "xBinEnd": 29,
              "xBinStart": 14.5,
              "yBinEnd": 25147.35,
              "yBinStart": 21181.125
             },
             {
              "count": 1,
              "xBinEnd": 29,
              "xBinStart": 14.5,
              "yBinEnd": 29113.575,
              "yBinStart": 25147.35
             },
             {
              "count": 2,
              "xBinEnd": 29,
              "xBinStart": 14.5,
              "yBinEnd": 37046.025,
              "yBinStart": 33079.8
             },
             {
              "count": 25,
              "xBinEnd": 43.5,
              "xBinStart": 29,
              "yBinEnd": 9282.45,
              "yBinStart": 5316.225
             },
             {
              "count": 141,
              "xBinEnd": 43.5,
              "xBinStart": 29,
              "yBinEnd": 13248.675,
              "yBinStart": 9282.45
             },
             {
              "count": 367,
              "xBinEnd": 43.5,
              "xBinStart": 29,
              "yBinEnd": 17214.9,
              "yBinStart": 13248.675
             },
             {
              "count": 380,
              "xBinEnd": 43.5,
              "xBinStart": 29,
              "yBinEnd": 21181.125,
              "yBinStart": 17214.9
             },
             {
              "count": 71,
              "xBinEnd": 43.5,
              "xBinStart": 29,
              "yBinEnd": 25147.35,
              "yBinStart": 21181.125
             },
             {
              "count": 5,
              "xBinEnd": 43.5,
              "xBinStart": 29,
              "yBinEnd": 29113.575,
              "yBinStart": 25147.35
             },
             {
              "count": 2,
              "xBinEnd": 116,
              "xBinStart": 101.5,
              "yBinEnd": 17214.9,
              "yBinStart": 13248.675
             },
             {
              "count": 16,
              "xBinEnd": 130.5,
              "xBinStart": 116,
              "yBinEnd": 9282.45,
              "yBinStart": 5316.225
             },
             {
              "count": 98,
              "xBinEnd": 130.5,
              "xBinStart": 116,
              "yBinEnd": 13248.675,
              "yBinStart": 9282.45
             },
             {
              "count": 350,
              "xBinEnd": 130.5,
              "xBinStart": 116,
              "yBinEnd": 17214.9,
              "yBinStart": 13248.675
             },
             {
              "count": 363,
              "xBinEnd": 130.5,
              "xBinStart": 116,
              "yBinEnd": 21181.125,
              "yBinStart": 17214.9
             },
             {
              "count": 145,
              "xBinEnd": 130.5,
              "xBinStart": 116,
              "yBinEnd": 25147.35,
              "yBinStart": 21181.125
             },
             {
              "count": 40,
              "xBinEnd": 130.5,
              "xBinStart": 116,
              "yBinEnd": 29113.575,
              "yBinStart": 25147.35
             },
             {
              "count": 4,
              "xBinEnd": 145,
              "xBinStart": 130.5,
              "yBinEnd": 5316.225,
              "yBinStart": 1191.351
             },
             {
              "count": 26,
              "xBinEnd": 145,
              "xBinStart": 130.5,
              "yBinEnd": 9282.45,
              "yBinStart": 5316.225
             },
             {
              "count": 146,
              "xBinEnd": 145,
              "xBinStart": 130.5,
              "yBinEnd": 13248.675,
              "yBinStart": 9282.45
             },
             {
              "count": 439,
              "xBinEnd": 145,
              "xBinStart": 130.5,
              "yBinEnd": 17214.9,
              "yBinStart": 13248.675
             },
             {
              "count": 1278,
              "xBinEnd": 145,
              "xBinStart": 130.5,
              "yBinEnd": 21181.125,
              "yBinStart": 17214.9
             },
             {
              "count": 1574,
              "xBinEnd": 145,
              "xBinStart": 130.5,
              "yBinEnd": 25147.35,
              "yBinStart": 21181.125
             },
             {
              "count": 1529,
              "xBinEnd": 145,
              "xBinStart": 130.5,
              "yBinEnd": 29113.575,
              "yBinStart": 25147.35
             },
             {
              "count": 959,
              "xBinEnd": 145,
              "xBinStart": 130.5,
              "yBinEnd": 33079.8,
              "yBinStart": 29113.575
             },
             {
              "count": 492,
              "xBinEnd": 145,
              "xBinStart": 130.5,
              "yBinEnd": 37046.025,
              "yBinStart": 33079.8
             },
             {
              "count": 335,
              "xBinEnd": 145,
              "xBinStart": 130.5,
              "yBinEnd": 41012.25,
              "yBinStart": 37046.025
             },
             {
              "count": 239,
              "xBinEnd": 145,
              "xBinStart": 130.5,
              "yBinEnd": 44978.475,
              "yBinStart": 41012.25
             },
             {
              "count": 227,
              "xBinEnd": 145,
              "xBinStart": 130.5,
              "yBinEnd": 48944.7,
              "yBinStart": 44978.475
             },
             {
              "count": 142,
              "xBinEnd": 145,
              "xBinStart": 130.5,
              "yBinEnd": 52910.925,
              "yBinStart": 48944.7
             },
             {
              "count": 96,
              "xBinEnd": 145,
              "xBinStart": 130.5,
              "yBinEnd": 56877.15,
              "yBinStart": 52910.925
             },
             {
              "count": 69,
              "xBinEnd": 145,
              "xBinStart": 130.5,
              "yBinEnd": 60843.375,
              "yBinStart": 56877.15
             },
             {
              "count": 27,
              "xBinEnd": 145,
              "xBinStart": 130.5,
              "yBinEnd": 64809.6,
              "yBinStart": 60843.375
             },
             {
              "count": 37,
              "xBinEnd": 145,
              "xBinStart": 130.5,
              "yBinEnd": 68775.825,
              "yBinStart": 64809.6
             },
             {
              "count": 16,
              "xBinEnd": 145,
              "xBinStart": 130.5,
              "yBinEnd": 72742.05,
              "yBinStart": 68775.825
             },
             {
              "count": 13,
              "xBinEnd": 145,
              "xBinStart": 130.5,
              "yBinEnd": 76708.275,
              "yBinStart": 72742.05
             },
             {
              "count": 16,
              "xBinEnd": 145,
              "xBinStart": 130.5,
              "yBinEnd": 80674.5,
              "yBinStart": 76708.275
             },
             {
              "count": 3,
              "xBinEnd": 145,
              "xBinStart": 130.5,
              "yBinEnd": 84640.725,
              "yBinStart": 80674.5
             },
             {
              "count": 4,
              "xBinEnd": 145,
              "xBinStart": 130.5,
              "yBinEnd": 88606.95,
              "yBinStart": 84640.725
             },
             {
              "count": 7,
              "xBinEnd": 145,
              "xBinStart": 130.5,
              "yBinEnd": 92573.175,
              "yBinStart": 88606.95
             },
             {
              "count": 3,
              "xBinEnd": 145,
              "xBinStart": 130.5,
              "yBinEnd": 96539.4,
              "yBinStart": 92573.175
             },
             {
              "count": 3,
              "xBinEnd": 145,
              "xBinStart": 130.5,
              "yBinEnd": 100505.625,
              "yBinStart": 96539.4
             },
             {
              "count": 1,
              "xBinEnd": 145,
              "xBinStart": 130.5,
              "yBinEnd": 104471.85,
              "yBinStart": 100505.625
             },
             {
              "count": 1,
              "xBinEnd": 145,
              "xBinStart": 130.5,
              "yBinEnd": 108438.075,
              "yBinStart": 104471.85
             },
             {
              "count": 3,
              "xBinEnd": 145,
              "xBinStart": 130.5,
              "yBinEnd": 112404.3,
              "yBinStart": 108438.075
             },
             {
              "count": 2,
              "xBinEnd": 145,
              "xBinStart": 130.5,
              "yBinEnd": 116370.525,
              "yBinStart": 112404.3
             },
             {
              "count": 1,
              "xBinEnd": 145,
              "xBinStart": 130.5,
              "yBinEnd": 124302.975,
              "yBinStart": 120336.75
             },
             {
              "count": 4,
              "xBinEnd": 145,
              "xBinStart": 130.5,
              "yBinEnd": 128269.2,
              "yBinStart": 124302.975
             },
             {
              "count": 1,
              "xBinEnd": 145,
              "xBinStart": 130.5,
              "yBinEnd": 132235.425,
              "yBinStart": 128269.2
             },
             {
              "count": 2,
              "xBinEnd": 145,
              "xBinStart": 130.5,
              "yBinEnd": 136201.65,
              "yBinStart": 132235.425
             },
             {
              "count": 4,
              "xBinEnd": 145,
              "xBinStart": 130.5,
              "yBinEnd": 140167.875,
              "yBinStart": 136201.65
             },
             {
              "count": 1,
              "xBinEnd": 145,
              "xBinStart": 130.5,
              "yBinEnd": 159999,
              "yBinStart": 156032.775
             },
             {
              "count": 1,
              "xBinEnd": 159.5,
              "xBinStart": 145,
              "yBinEnd": 5316.225,
              "yBinStart": 1191.351
             },
             {
              "count": 6,
              "xBinEnd": 159.5,
              "xBinStart": 145,
              "yBinEnd": 9282.45,
              "yBinStart": 5316.225
             },
             {
              "count": 30,
              "xBinEnd": 159.5,
              "xBinStart": 145,
              "yBinEnd": 13248.675,
              "yBinStart": 9282.45
             },
             {
              "count": 144,
              "xBinEnd": 159.5,
              "xBinStart": 145,
              "yBinEnd": 17214.9,
              "yBinStart": 13248.675
             },
             {
              "count": 206,
              "xBinEnd": 159.5,
              "xBinStart": 145,
              "yBinEnd": 21181.125,
              "yBinStart": 17214.9
             },
             {
              "count": 154,
              "xBinEnd": 159.5,
              "xBinStart": 145,
              "yBinEnd": 25147.35,
              "yBinStart": 21181.125
             },
             {
              "count": 111,
              "xBinEnd": 159.5,
              "xBinStart": 145,
              "yBinEnd": 29113.575,
              "yBinStart": 25147.35
             },
             {
              "count": 75,
              "xBinEnd": 159.5,
              "xBinStart": 145,
              "yBinEnd": 33079.8,
              "yBinStart": 29113.575
             },
             {
              "count": 33,
              "xBinEnd": 159.5,
              "xBinStart": 145,
              "yBinEnd": 37046.025,
              "yBinStart": 33079.8
             },
             {
              "count": 28,
              "xBinEnd": 159.5,
              "xBinStart": 145,
              "yBinEnd": 41012.25,
              "yBinStart": 37046.025
             },
             {
              "count": 17,
              "xBinEnd": 159.5,
              "xBinStart": 145,
              "yBinEnd": 44978.475,
              "yBinStart": 41012.25
             },
             {
              "count": 9,
              "xBinEnd": 159.5,
              "xBinStart": 145,
              "yBinEnd": 48944.7,
              "yBinStart": 44978.475
             },
             {
              "count": 9,
              "xBinEnd": 159.5,
              "xBinStart": 145,
              "yBinEnd": 52910.925,
              "yBinStart": 48944.7
             },
             {
              "count": 11,
              "xBinEnd": 159.5,
              "xBinStart": 145,
              "yBinEnd": 56877.15,
              "yBinStart": 52910.925
             },
             {
              "count": 5,
              "xBinEnd": 159.5,
              "xBinStart": 145,
              "yBinEnd": 60843.375,
              "yBinStart": 56877.15
             },
             {
              "count": 1,
              "xBinEnd": 159.5,
              "xBinStart": 145,
              "yBinEnd": 64809.6,
              "yBinStart": 60843.375
             },
             {
              "count": 2,
              "xBinEnd": 159.5,
              "xBinStart": 145,
              "yBinEnd": 68775.825,
              "yBinStart": 64809.6
             },
             {
              "count": 1,
              "xBinEnd": 159.5,
              "xBinStart": 145,
              "yBinEnd": 72742.05,
              "yBinStart": 68775.825
             },
             {
              "count": 3,
              "xBinEnd": 159.5,
              "xBinStart": 145,
              "yBinEnd": 76708.275,
              "yBinStart": 72742.05
             },
             {
              "count": 1,
              "xBinEnd": 159.5,
              "xBinStart": 145,
              "yBinEnd": 80674.5,
              "yBinStart": 76708.275
             },
             {
              "count": 1,
              "xBinEnd": 159.5,
              "xBinStart": 145,
              "yBinEnd": 104471.85,
              "yBinStart": 100505.625
             },
             {
              "count": 2,
              "xBinEnd": 159.5,
              "xBinStart": 145,
              "yBinEnd": 108438.075,
              "yBinStart": 104471.85
             },
             {
              "count": 1,
              "xBinEnd": 159.5,
              "xBinStart": 145,
              "yBinEnd": 112404.3,
              "yBinStart": 108438.075
             },
             {
              "count": 1,
              "xBinEnd": 159.5,
              "xBinStart": 145,
              "yBinEnd": 136201.65,
              "yBinStart": 132235.425
             },
             {
              "count": 1,
              "xBinEnd": 159.5,
              "xBinStart": 145,
              "yBinEnd": 144134.1,
              "yBinStart": 140167.875
             },
             {
              "count": 1,
              "xBinEnd": 159.5,
              "xBinStart": 145,
              "yBinEnd": 156032.775,
              "yBinStart": 152066.55
             },
             {
              "count": 1,
              "xBinEnd": 174,
              "xBinStart": 159.5,
              "yBinEnd": 5316.225,
              "yBinStart": 1191.351
             },
             {
              "count": 7,
              "xBinEnd": 174,
              "xBinStart": 159.5,
              "yBinEnd": 9282.45,
              "yBinStart": 5316.225
             },
             {
              "count": 34,
              "xBinEnd": 174,
              "xBinStart": 159.5,
              "yBinEnd": 13248.675,
              "yBinStart": 9282.45
             },
             {
              "count": 31,
              "xBinEnd": 174,
              "xBinStart": 159.5,
              "yBinEnd": 17214.9,
              "yBinStart": 13248.675
             },
             {
              "count": 88,
              "xBinEnd": 174,
              "xBinStart": 159.5,
              "yBinEnd": 21181.125,
              "yBinStart": 17214.9
             },
             {
              "count": 71,
              "xBinEnd": 174,
              "xBinStart": 159.5,
              "yBinEnd": 25147.35,
              "yBinStart": 21181.125
             },
             {
              "count": 11,
              "xBinEnd": 174,
              "xBinStart": 159.5,
              "yBinEnd": 29113.575,
              "yBinStart": 25147.35
             },
             {
              "count": 8,
              "xBinEnd": 174,
              "xBinStart": 159.5,
              "yBinEnd": 33079.8,
              "yBinStart": 29113.575
             },
             {
              "count": 1,
              "xBinEnd": 188.5,
              "xBinStart": 174,
              "yBinEnd": 9282.45,
              "yBinStart": 5316.225
             },
             {
              "count": 2,
              "xBinEnd": 203,
              "xBinStart": 188.5,
              "yBinEnd": 5316.225,
              "yBinStart": 1191.351
             },
             {
              "count": 11,
              "xBinEnd": 203,
              "xBinStart": 188.5,
              "yBinEnd": 9282.45,
              "yBinStart": 5316.225
             },
             {
              "count": 26,
              "xBinEnd": 203,
              "xBinStart": 188.5,
              "yBinEnd": 13248.675,
              "yBinStart": 9282.45
             },
             {
              "count": 37,
              "xBinEnd": 203,
              "xBinStart": 188.5,
              "yBinEnd": 17214.9,
              "yBinStart": 13248.675
             },
             {
              "count": 67,
              "xBinEnd": 203,
              "xBinStart": 188.5,
              "yBinEnd": 21181.125,
              "yBinStart": 17214.9
             },
             {
              "count": 44,
              "xBinEnd": 203,
              "xBinStart": 188.5,
              "yBinEnd": 25147.35,
              "yBinStart": 21181.125
             },
             {
              "count": 69,
              "xBinEnd": 203,
              "xBinStart": 188.5,
              "yBinEnd": 29113.575,
              "yBinStart": 25147.35
             },
             {
              "count": 17,
              "xBinEnd": 203,
              "xBinStart": 188.5,
              "yBinEnd": 33079.8,
              "yBinStart": 29113.575
             },
             {
              "count": 2,
              "xBinEnd": 203,
              "xBinStart": 188.5,
              "yBinEnd": 37046.025,
              "yBinStart": 33079.8
             },
             {
              "count": 1,
              "xBinEnd": 217.5,
              "xBinStart": 203,
              "yBinEnd": 5316.225,
              "yBinStart": 1191.351
             },
             {
              "count": 6,
              "xBinEnd": 217.5,
              "xBinStart": 203,
              "yBinEnd": 9282.45,
              "yBinStart": 5316.225
             },
             {
              "count": 3,
              "xBinEnd": 217.5,
              "xBinStart": 203,
              "yBinEnd": 13248.675,
              "yBinStart": 9282.45
             },
             {
              "count": 7,
              "xBinEnd": 217.5,
              "xBinStart": 203,
              "yBinEnd": 17214.9,
              "yBinStart": 13248.675
             },
             {
              "count": 11,
              "xBinEnd": 217.5,
              "xBinStart": 203,
              "yBinEnd": 21181.125,
              "yBinStart": 17214.9
             },
             {
              "count": 10,
              "xBinEnd": 217.5,
              "xBinStart": 203,
              "yBinEnd": 25147.35,
              "yBinStart": 21181.125
             },
             {
              "count": 15,
              "xBinEnd": 217.5,
              "xBinStart": 203,
              "yBinEnd": 29113.575,
              "yBinStart": 25147.35
             },
             {
              "count": 7,
              "xBinEnd": 217.5,
              "xBinStart": 203,
              "yBinEnd": 33079.8,
              "yBinStart": 29113.575
             },
             {
              "count": 1,
              "xBinEnd": 217.5,
              "xBinStart": 203,
              "yBinEnd": 37046.025,
              "yBinStart": 33079.8
             },
             {
              "count": 1,
              "xBinEnd": 232,
              "xBinStart": 217.5,
              "yBinEnd": 9282.45,
              "yBinStart": 5316.225
             },
             {
              "count": 3,
              "xBinEnd": 246.5,
              "xBinStart": 232,
              "yBinEnd": 5316.225,
              "yBinStart": 1191.351
             },
             {
              "count": 5,
              "xBinEnd": 246.5,
              "xBinStart": 232,
              "yBinEnd": 9282.45,
              "yBinStart": 5316.225
             },
             {
              "count": 3,
              "xBinEnd": 246.5,
              "xBinStart": 232,
              "yBinEnd": 13248.675,
              "yBinStart": 9282.45
             },
             {
              "count": 4,
              "xBinEnd": 246.5,
              "xBinStart": 232,
              "yBinEnd": 21181.125,
              "yBinStart": 17214.9
             },
             {
              "count": 7,
              "xBinEnd": 246.5,
              "xBinStart": 232,
              "yBinEnd": 25147.35,
              "yBinStart": 21181.125
             },
             {
              "count": 13,
              "xBinEnd": 246.5,
              "xBinStart": 232,
              "yBinEnd": 29113.575,
              "yBinStart": 25147.35
             },
             {
              "count": 15,
              "xBinEnd": 246.5,
              "xBinStart": 232,
              "yBinEnd": 33079.8,
              "yBinStart": 29113.575
             },
             {
              "count": 10,
              "xBinEnd": 246.5,
              "xBinStart": 232,
              "yBinEnd": 37046.025,
              "yBinStart": 33079.8
             },
             {
              "count": 1,
              "xBinEnd": 246.5,
              "xBinStart": 232,
              "yBinEnd": 44978.475,
              "yBinStart": 41012.25
             },
             {
              "count": 1,
              "xBinEnd": 261,
              "xBinStart": 246.5,
              "yBinEnd": 13248.675,
              "yBinStart": 9282.45
             },
             {
              "count": 2,
              "xBinEnd": 261,
              "xBinStart": 246.5,
              "yBinEnd": 17214.9,
              "yBinStart": 13248.675
             },
             {
              "count": 1,
              "xBinEnd": 261,
              "xBinStart": 246.5,
              "yBinEnd": 21181.125,
              "yBinStart": 17214.9
             },
             {
              "count": 17,
              "xBinEnd": 261,
              "xBinStart": 246.5,
              "yBinEnd": 25147.35,
              "yBinStart": 21181.125
             },
             {
              "count": 49,
              "xBinEnd": 261,
              "xBinStart": 246.5,
              "yBinEnd": 29113.575,
              "yBinStart": 25147.35
             },
             {
              "count": 32,
              "xBinEnd": 261,
              "xBinStart": 246.5,
              "yBinEnd": 33079.8,
              "yBinStart": 29113.575
             },
             {
              "count": 8,
              "xBinEnd": 261,
              "xBinStart": 246.5,
              "yBinEnd": 37046.025,
              "yBinStart": 33079.8
             },
             {
              "count": 6,
              "xBinEnd": 261,
              "xBinStart": 246.5,
              "yBinEnd": 41012.25,
              "yBinStart": 37046.025
             },
             {
              "count": 2,
              "xBinEnd": 261,
              "xBinStart": 246.5,
              "yBinEnd": 48944.7,
              "yBinStart": 44978.475
             },
             {
              "count": 1,
              "xBinEnd": 275.5,
              "xBinStart": 261,
              "yBinEnd": 9282.45,
              "yBinStart": 5316.225
             },
             {
              "count": 2,
              "xBinEnd": 275.5,
              "xBinStart": 261,
              "yBinEnd": 13248.675,
              "yBinStart": 9282.45
             },
             {
              "count": 1,
              "xBinEnd": 275.5,
              "xBinStart": 261,
              "yBinEnd": 21181.125,
              "yBinStart": 17214.9
             },
             {
              "count": 3,
              "xBinEnd": 275.5,
              "xBinStart": 261,
              "yBinEnd": 25147.35,
              "yBinStart": 21181.125
             },
             {
              "count": 10,
              "xBinEnd": 275.5,
              "xBinStart": 261,
              "yBinEnd": 29113.575,
              "yBinStart": 25147.35
             },
             {
              "count": 8,
              "xBinEnd": 275.5,
              "xBinStart": 261,
              "yBinEnd": 33079.8,
              "yBinStart": 29113.575
             },
             {
              "count": 1,
              "xBinEnd": 275.5,
              "xBinStart": 261,
              "yBinEnd": 37046.025,
              "yBinStart": 33079.8
             },
             {
              "count": 3,
              "xBinEnd": 275.5,
              "xBinStart": 261,
              "yBinEnd": 41012.25,
              "yBinStart": 37046.025
             },
             {
              "count": 5,
              "xBinEnd": 304.5,
              "xBinStart": 290,
              "yBinEnd": 9282.45,
              "yBinStart": 5316.225
             },
             {
              "count": 1,
              "xBinEnd": 304.5,
              "xBinStart": 290,
              "yBinEnd": 13248.675,
              "yBinStart": 9282.45
             },
             {
              "count": 9,
              "xBinEnd": 304.5,
              "xBinStart": 290,
              "yBinEnd": 17214.9,
              "yBinStart": 13248.675
             },
             {
              "count": 5,
              "xBinEnd": 304.5,
              "xBinStart": 290,
              "yBinEnd": 21181.125,
              "yBinStart": 17214.9
             },
             {
              "count": 7,
              "xBinEnd": 304.5,
              "xBinStart": 290,
              "yBinEnd": 25147.35,
              "yBinStart": 21181.125
             },
             {
              "count": 1,
              "xBinEnd": 304.5,
              "xBinStart": 290,
              "yBinEnd": 29113.575,
              "yBinStart": 25147.35
             },
             {
              "count": 20,
              "xBinEnd": 304.5,
              "xBinStart": 290,
              "yBinEnd": 33079.8,
              "yBinStart": 29113.575
             },
             {
              "count": 26,
              "xBinEnd": 304.5,
              "xBinStart": 290,
              "yBinEnd": 37046.025,
              "yBinStart": 33079.8
             },
             {
              "count": 11,
              "xBinEnd": 304.5,
              "xBinStart": 290,
              "yBinEnd": 41012.25,
              "yBinStart": 37046.025
             },
             {
              "count": 4,
              "xBinEnd": 304.5,
              "xBinStart": 290,
              "yBinEnd": 44978.475,
              "yBinStart": 41012.25
             },
             {
              "count": 1,
              "xBinEnd": 304.5,
              "xBinStart": 290,
              "yBinEnd": 52910.925,
              "yBinStart": 48944.7
             },
             {
              "count": 1,
              "xBinEnd": 319,
              "xBinStart": 304.5,
              "yBinEnd": 5316.225,
              "yBinStart": 1191.351
             },
             {
              "count": 1,
              "xBinEnd": 319,
              "xBinStart": 304.5,
              "yBinEnd": 21181.125,
              "yBinStart": 17214.9
             },
             {
              "count": 2,
              "xBinEnd": 319,
              "xBinStart": 304.5,
              "yBinEnd": 25147.35,
              "yBinStart": 21181.125
             },
             {
              "count": 1,
              "xBinEnd": 319,
              "xBinStart": 304.5,
              "yBinEnd": 29113.575,
              "yBinStart": 25147.35
             },
             {
              "count": 6,
              "xBinEnd": 319,
              "xBinStart": 304.5,
              "yBinEnd": 33079.8,
              "yBinStart": 29113.575
             },
             {
              "count": 12,
              "xBinEnd": 319,
              "xBinStart": 304.5,
              "yBinEnd": 37046.025,
              "yBinStart": 33079.8
             },
             {
              "count": 8,
              "xBinEnd": 319,
              "xBinStart": 304.5,
              "yBinEnd": 41012.25,
              "yBinStart": 37046.025
             },
             {
              "count": 2,
              "xBinEnd": 319,
              "xBinStart": 304.5,
              "yBinEnd": 44978.475,
              "yBinStart": 41012.25
             },
             {
              "count": 1,
              "xBinEnd": 333.5,
              "xBinStart": 319,
              "yBinEnd": 13248.675,
              "yBinStart": 9282.45
             },
             {
              "count": 2,
              "xBinEnd": 333.5,
              "xBinStart": 319,
              "yBinEnd": 25147.35,
              "yBinStart": 21181.125
             },
             {
              "count": 7,
              "xBinEnd": 333.5,
              "xBinStart": 319,
              "yBinEnd": 29113.575,
              "yBinStart": 25147.35
             },
             {
              "count": 11,
              "xBinEnd": 333.5,
              "xBinStart": 319,
              "yBinEnd": 33079.8,
              "yBinStart": 29113.575
             },
             {
              "count": 8,
              "xBinEnd": 333.5,
              "xBinStart": 319,
              "yBinEnd": 37046.025,
              "yBinStart": 33079.8
             },
             {
              "count": 3,
              "xBinEnd": 333.5,
              "xBinStart": 319,
              "yBinEnd": 41012.25,
              "yBinStart": 37046.025
             },
             {
              "count": 2,
              "xBinEnd": 333.5,
              "xBinStart": 319,
              "yBinEnd": 44978.475,
              "yBinStart": 41012.25
             },
             {
              "count": 2,
              "xBinEnd": 333.5,
              "xBinStart": 319,
              "yBinEnd": 60843.375,
              "yBinStart": 56877.15
             },
             {
              "count": 1,
              "xBinEnd": 333.5,
              "xBinStart": 319,
              "yBinEnd": 64809.6,
              "yBinStart": 60843.375
             },
             {
              "count": 1,
              "xBinEnd": 333.5,
              "xBinStart": 319,
              "yBinEnd": 72742.05,
              "yBinStart": 68775.825
             },
             {
              "count": 1,
              "xBinEnd": 333.5,
              "xBinStart": 319,
              "yBinEnd": 76708.275,
              "yBinStart": 72742.05
             },
             {
              "count": 2,
              "xBinEnd": 551,
              "xBinStart": 536.5,
              "yBinEnd": 9282.45,
              "yBinStart": 5316.225
             },
             {
              "count": 1,
              "xBinEnd": 551,
              "xBinStart": 536.5,
              "yBinEnd": 21181.125,
              "yBinStart": 17214.9
             },
             {
              "count": 3,
              "xBinEnd": 565.5,
              "xBinStart": 551,
              "yBinEnd": 9282.45,
              "yBinStart": 5316.225
             },
             {
              "count": 6,
              "xBinEnd": 565.5,
              "xBinStart": 551,
              "yBinEnd": 13248.675,
              "yBinStart": 9282.45
             },
             {
              "count": 2,
              "xBinEnd": 565.5,
              "xBinStart": 551,
              "yBinEnd": 17214.9,
              "yBinStart": 13248.675
             },
             {
              "count": 1,
              "xBinEnd": 565.5,
              "xBinStart": 551,
              "yBinEnd": 21181.125,
              "yBinStart": 17214.9
             },
             {
              "count": 2,
              "xBinEnd": 565.5,
              "xBinStart": 551,
              "yBinEnd": 25147.35,
              "yBinStart": 21181.125
             },
             {
              "count": 2,
              "xBinEnd": 565.5,
              "xBinStart": 551,
              "yBinEnd": 29113.575,
              "yBinStart": 25147.35
             },
             {
              "count": 2,
              "xBinEnd": 565.5,
              "xBinStart": 551,
              "yBinEnd": 44978.475,
              "yBinStart": 41012.25
             },
             {
              "count": 2,
              "xBinEnd": 565.5,
              "xBinStart": 551,
              "yBinEnd": 48944.7,
              "yBinStart": 44978.475
             },
             {
              "count": 2,
              "xBinEnd": 565.5,
              "xBinStart": 551,
              "yBinEnd": 52910.925,
              "yBinStart": 48944.7
             },
             {
              "count": 1,
              "xBinEnd": 565.5,
              "xBinStart": 551,
              "yBinEnd": 56877.15,
              "yBinStart": 52910.925
             },
             {
              "count": 2,
              "xBinEnd": 565.5,
              "xBinStart": 551,
              "yBinEnd": 60843.375,
              "yBinStart": 56877.15
             },
             {
              "count": 6,
              "xBinEnd": 580,
              "xBinStart": 565.5,
              "yBinEnd": 25147.35,
              "yBinStart": 21181.125
             },
             {
              "count": 4,
              "xBinEnd": 580,
              "xBinStart": 565.5,
              "yBinEnd": 29113.575,
              "yBinStart": 25147.35
             },
             {
              "count": 2,
              "xBinEnd": 580,
              "xBinStart": 565.5,
              "yBinEnd": 33079.8,
              "yBinStart": 29113.575
             },
             {
              "count": 1,
              "xBinEnd": 580,
              "xBinStart": 565.5,
              "yBinEnd": 37046.025,
              "yBinStart": 33079.8
             },
             {
              "count": 1,
              "xBinEnd": 580,
              "xBinStart": 565.5,
              "yBinEnd": 44978.475,
              "yBinStart": 41012.25
             },
             {
              "count": 4,
              "xBinEnd": 580,
              "xBinStart": 565.5,
              "yBinEnd": 48944.7,
              "yBinStart": 44978.475
             },
             {
              "count": 1,
              "xBinEnd": 580,
              "xBinStart": 565.5,
              "yBinEnd": 56877.15,
              "yBinStart": 52910.925
             },
             {
              "count": 1,
              "xBinEnd": 580,
              "xBinStart": 565.5,
              "yBinEnd": 80674.5,
              "yBinStart": 76708.275
             },
             {
              "count": 1,
              "xBinEnd": 580,
              "xBinStart": 565.5,
              "yBinEnd": 100505.625,
              "yBinStart": 96539.4
             },
             {
              "count": 1,
              "xBinEnd": 580,
              "xBinStart": 565.5,
              "yBinEnd": 152066.55,
              "yBinStart": 148100.325
             }
            ]
           },
           "encoding": {
            "opacity": {
             "field": "count",
             "legend": null,
             "scale": {
              "type": "log"
             },
             "type": "quantitative"
            },
            "x": {
             "axis": {
              "title": "tax"
             },
             "bin": {
              "binned": true
             },
             "field": "xBinStart",
             "type": "quantitative"
            },
            "x2": {
             "field": "xBinEnd"
            },
            "y": {
             "axis": {
              "title": "price"
             },
             "bin": {
              "binned": true
             },
             "field": "yBinStart",
             "type": "quantitative"
            },
            "y2": {
             "field": "yBinEnd"
            }
           },
           "height": 150,
           "mark": {
            "type": "rect"
           },
           "params": [
            {
             "bind": "scales",
             "name": "param_1",
             "select": {
              "encodings": [
               "x",
               "y"
              ],
              "type": "interval"
             }
            }
           ],
           "vislib": "vegalite",
           "width": 160
          },
          {
           "$schema": "https://vega.github.io/schema/vega-lite/v5.8.0.json",
           "config": {
            "axis": {
             "labelColor": "#505050",
             "labelFont": "Helvetica Neue",
             "labelFontSize": 9,
             "labelFontWeight": 400,
             "titleFont": "Helvetica Neue",
             "titleFontSize": 11,
             "titleFontWeight": 500
            },
            "legend": {
             "labelFont": "Helvetica Neue",
             "labelFontSize": 9,
             "labelFontWeight": 400,
             "titleFont": "Helvetica Neue",
             "titleFontSize": 10,
             "titleFontWeight": 500
            },
            "mark": {
             "tooltip": {
              "content": "encoding"
             }
            },
            "scale": {
             "maxOpacity": 1,
             "minOpacity": 0.1
            },
            "title": {
             "font": "Helvetica Neue",
             "fontSize": 13,
             "fontWeight": 500
            },
            "view": {
             "continuousHeight": 300,
             "continuousWidth": 300
            }
           },
           "data": {
            "name": "data-27703dd5f0debcf411264f266e450ec1"
           },
           "datasets": {
            "data-27703dd5f0debcf411264f266e450ec1": [
             {
              "count": 4,
              "xBinEnd": 6475.975,
              "xBinStart": -257.999,
              "yBinEnd": 6.505,
              "yBinStart": 0.884
             },
             {
              "count": 30,
              "xBinEnd": 6475.975,
              "xBinStart": -257.999,
              "yBinEnd": 22.72,
              "yBinStart": 17.315
             },
             {
              "count": 86,
              "xBinEnd": 6475.975,
              "xBinStart": -257.999,
              "yBinEnd": 28.125,
              "yBinStart": 22.72
             },
             {
              "count": 367,
              "xBinEnd": 6475.975,
              "xBinStart": -257.999,
              "yBinEnd": 33.53,
              "yBinStart": 28.125
             },
             {
              "count": 334,
              "xBinEnd": 6475.975,
              "xBinStart": -257.999,
              "yBinEnd": 38.935,
              "yBinStart": 33.53
             },
             {
              "count": 481,
              "xBinEnd": 6475.975,
              "xBinStart": -257.999,
              "yBinEnd": 44.34,
              "yBinStart": 38.935
             },
             {
              "count": 685,
              "xBinEnd": 6475.975,
              "xBinStart": -257.999,
              "yBinEnd": 49.745,
              "yBinStart": 44.34
             },
             {
              "count": 322,
              "xBinEnd": 6475.975,
              "xBinStart": -257.999,
              "yBinEnd": 55.15,
              "yBinStart": 49.745
             },
             {
              "count": 524,
              "xBinEnd": 6475.975,
              "xBinStart": -257.999,
              "yBinEnd": 60.555,
              "yBinStart": 55.15
             },
             {
              "count": 381,
              "xBinEnd": 6475.975,
              "xBinStart": -257.999,
              "yBinEnd": 65.96,
              "yBinStart": 60.555
             },
             {
              "count": 134,
              "xBinEnd": 6475.975,
              "xBinStart": -257.999,
              "yBinEnd": 71.365,
              "yBinStart": 65.96
             },
             {
              "count": 21,
              "xBinEnd": 6475.975,
              "xBinStart": -257.999,
              "yBinEnd": 76.77,
              "yBinStart": 71.365
             },
             {
              "count": 1,
              "xBinEnd": 6475.975,
              "xBinStart": -257.999,
              "yBinEnd": 103.795,
              "yBinStart": 98.39
             },
             {
              "count": 1,
              "xBinEnd": 6475.975,
              "xBinStart": -257.999,
              "yBinEnd": 125.415,
              "yBinStart": 120.01
             },
             {
              "count": 3,
              "xBinEnd": 6475.975,
              "xBinStart": -257.999,
              "yBinEnd": 136.225,
              "yBinStart": 130.82
             },
             {
              "count": 3,
              "xBinEnd": 6475.975,
              "xBinStart": -257.999,
              "yBinEnd": 179.465,
              "yBinStart": 174.06
             },
             {
              "count": 17,
              "xBinEnd": 6475.975,
              "xBinStart": -257.999,
              "yBinEnd": 190.275,
              "yBinStart": 184.87
             },
             {
              "count": 1,
              "xBinEnd": 6475.975,
              "xBinStart": -257.999,
              "yBinEnd": 206.49,
              "yBinStart": 201.085
             },
             {
              "count": 1,
              "xBinEnd": 6475.975,
              "xBinStart": -257.999,
              "yBinEnd": 217.3,
              "yBinStart": 211.895
             },
             {
              "count": 1,
              "xBinEnd": 12950.95,
              "xBinStart": 6475.975,
              "yBinEnd": 11.91,
              "yBinStart": 6.505
             },
             {
              "count": 3,
              "xBinEnd": 12950.95,
              "xBinStart": 6475.975,
              "yBinEnd": 22.72,
              "yBinStart": 17.315
             },
             {
              "count": 14,
              "xBinEnd": 12950.95,
              "xBinStart": 6475.975,
              "yBinEnd": 28.125,
              "yBinStart": 22.72
             },
             {
              "count": 175,
              "xBinEnd": 12950.95,
              "xBinStart": 6475.975,
              "yBinEnd": 33.53,
              "yBinStart": 28.125
             },
             {
              "count": 137,
              "xBinEnd": 12950.95,
              "xBinStart": 6475.975,
              "yBinEnd": 38.935,
              "yBinStart": 33.53
             },
             {
              "count": 228,
              "xBinEnd": 12950.95,
              "xBinStart": 6475.975,
              "yBinEnd": 44.34,
              "yBinStart": 38.935
             },
             {
              "count": 385,
              "xBinEnd": 12950.95,
              "xBinStart": 6475.975,
              "yBinEnd": 49.745,
              "yBinStart": 44.34
             },
             {
              "count": 291,
              "xBinEnd": 12950.95,
              "xBinStart": 6475.975,
              "yBinEnd": 55.15,
              "yBinStart": 49.745
             },
             {
              "count": 374,
              "xBinEnd": 12950.95,
              "xBinStart": 6475.975,
              "yBinEnd": 60.555,
              "yBinStart": 55.15
             },
             {
              "count": 251,
              "xBinEnd": 12950.95,
              "xBinStart": 6475.975,
              "yBinEnd": 65.96,
              "yBinStart": 60.555
             },
             {
              "count": 259,
              "xBinEnd": 12950.95,
              "xBinStart": 6475.975,
              "yBinEnd": 71.365,
              "yBinStart": 65.96
             },
             {
              "count": 86,
              "xBinEnd": 12950.95,
              "xBinStart": 6475.975,
              "yBinEnd": 76.77,
              "yBinStart": 71.365
             },
             {
              "count": 1,
              "xBinEnd": 12950.95,
              "xBinStart": 6475.975,
              "yBinEnd": 82.175,
              "yBinStart": 76.77
             },
             {
              "count": 1,
              "xBinEnd": 12950.95,
              "xBinStart": 6475.975,
              "yBinEnd": 103.795,
              "yBinStart": 98.39
             },
             {
              "count": 3,
              "xBinEnd": 12950.95,
              "xBinStart": 6475.975,
              "yBinEnd": 136.225,
              "yBinStart": 130.82
             },
             {
              "count": 4,
              "xBinEnd": 12950.95,
              "xBinStart": 6475.975,
              "yBinEnd": 190.275,
              "yBinStart": 184.87
             },
             {
              "count": 3,
              "xBinEnd": 19425.925,
              "xBinStart": 12950.95,
              "yBinEnd": 22.72,
              "yBinStart": 17.315
             },
             {
              "count": 6,
              "xBinEnd": 19425.925,
              "xBinStart": 12950.95,
              "yBinEnd": 28.125,
              "yBinStart": 22.72
             },
             {
              "count": 36,
              "xBinEnd": 19425.925,
              "xBinStart": 12950.95,
              "yBinEnd": 33.53,
              "yBinStart": 28.125
             },
             {
              "count": 73,
              "xBinEnd": 19425.925,
              "xBinStart": 12950.95,
              "yBinEnd": 38.935,
              "yBinStart": 33.53
             },
             {
              "count": 124,
              "xBinEnd": 19425.925,
              "xBinStart": 12950.95,
              "yBinEnd": 44.34,
              "yBinStart": 38.935
             },
             {
              "count": 335,
              "xBinEnd": 19425.925,
              "xBinStart": 12950.95,
              "yBinEnd": 49.745,
              "yBinStart": 44.34
             },
             {
              "count": 214,
              "xBinEnd": 19425.925,
              "xBinStart": 12950.95,
              "yBinEnd": 55.15,
              "yBinStart": 49.745
             },
             {
              "count": 229,
              "xBinEnd": 19425.925,
              "xBinStart": 12950.95,
              "yBinEnd": 60.555,
              "yBinStart": 55.15
             },
             {
              "count": 379,
              "xBinEnd": 19425.925,
              "xBinStart": 12950.95,
              "yBinEnd": 65.96,
              "yBinStart": 60.555
             },
             {
              "count": 275,
              "xBinEnd": 19425.925,
              "xBinStart": 12950.95,
              "yBinEnd": 71.365,
              "yBinStart": 65.96
             },
             {
              "count": 170,
              "xBinEnd": 19425.925,
              "xBinStart": 12950.95,
              "yBinEnd": 76.77,
              "yBinStart": 71.365
             },
             {
              "count": 6,
              "xBinEnd": 19425.925,
              "xBinStart": 12950.95,
              "yBinEnd": 82.175,
              "yBinStart": 76.77
             },
             {
              "count": 7,
              "xBinEnd": 19425.925,
              "xBinStart": 12950.95,
              "yBinEnd": 136.225,
              "yBinStart": 130.82
             },
             {
              "count": 1,
              "xBinEnd": 19425.925,
              "xBinStart": 12950.95,
              "yBinEnd": 179.465,
              "yBinStart": 174.06
             },
             {
              "count": 9,
              "xBinEnd": 25900.9,
              "xBinStart": 19425.925,
              "yBinEnd": 28.125,
              "yBinStart": 22.72
             },
             {
              "count": 12,
              "xBinEnd": 25900.9,
              "xBinStart": 19425.925,
              "yBinEnd": 33.53,
              "yBinStart": 28.125
             },
             {
              "count": 65,
              "xBinEnd": 25900.9,
              "xBinStart": 19425.925,
              "yBinEnd": 38.935,
              "yBinStart": 33.53
             },
             {
              "count": 74,
              "xBinEnd": 25900.9,
              "xBinStart": 19425.925,
              "yBinEnd": 44.34,
              "yBinStart": 38.935
             },
             {
              "count": 149,
              "xBinEnd": 25900.9,
              "xBinStart": 19425.925,
              "yBinEnd": 49.745,
              "yBinStart": 44.34
             },
             {
              "count": 158,
              "xBinEnd": 25900.9,
              "xBinStart": 19425.925,
              "yBinEnd": 55.15,
              "yBinStart": 49.745
             },
             {
              "count": 215,
              "xBinEnd": 25900.9,
              "xBinStart": 19425.925,
              "yBinEnd": 60.555,
              "yBinStart": 55.15
             },
             {
              "count": 314,
              "xBinEnd": 25900.9,
              "xBinStart": 19425.925,
              "yBinEnd": 65.96,
              "yBinStart": 60.555
             },
             {
              "count": 218,
              "xBinEnd": 25900.9,
              "xBinStart": 19425.925,
              "yBinEnd": 71.365,
              "yBinStart": 65.96
             },
             {
              "count": 108,
              "xBinEnd": 25900.9,
              "xBinStart": 19425.925,
              "yBinEnd": 76.77,
              "yBinStart": 71.365
             },
             {
              "count": 6,
              "xBinEnd": 25900.9,
              "xBinStart": 19425.925,
              "yBinEnd": 82.175,
              "yBinStart": 76.77
             },
             {
              "count": 1,
              "xBinEnd": 25900.9,
              "xBinStart": 19425.925,
              "yBinEnd": 125.415,
              "yBinStart": 120.01
             },
             {
              "count": 10,
              "xBinEnd": 25900.9,
              "xBinStart": 19425.925,
              "yBinEnd": 136.225,
              "yBinStart": 130.82
             },
             {
              "count": 1,
              "xBinEnd": 32375.875,
              "xBinStart": 25900.9,
              "yBinEnd": 28.125,
              "yBinStart": 22.72
             },
             {
              "count": 7,
              "xBinEnd": 32375.875,
              "xBinStart": 25900.9,
              "yBinEnd": 33.53,
              "yBinStart": 28.125
             },
             {
              "count": 33,
              "xBinEnd": 32375.875,
              "xBinStart": 25900.9,
              "yBinEnd": 38.935,
              "yBinStart": 33.53
             },
             {
              "count": 73,
              "xBinEnd": 32375.875,
              "xBinStart": 25900.9,
              "yBinEnd": 44.34,
              "yBinStart": 38.935
             },
             {
              "count": 91,
              "xBinEnd": 32375.875,
              "xBinStart": 25900.9,
              "yBinEnd": 49.745,
              "yBinStart": 44.34
             },
             {
              "count": 121,
              "xBinEnd": 32375.875,
              "xBinStart": 25900.9,
              "yBinEnd": 55.15,
              "yBinStart": 49.745
             },
             {
              "count": 218,
              "xBinEnd": 32375.875,
              "xBinStart": 25900.9,
              "yBinEnd": 60.555,
              "yBinStart": 55.15
             },
             {
              "count": 283,
              "xBinEnd": 32375.875,
              "xBinStart": 25900.9,
              "yBinEnd": 65.96,
              "yBinStart": 60.555
             },
             {
              "count": 185,
              "xBinEnd": 32375.875,
              "xBinStart": 25900.9,
              "yBinEnd": 71.365,
              "yBinStart": 65.96
             },
             {
              "count": 96,
              "xBinEnd": 32375.875,
              "xBinStart": 25900.9,
              "yBinEnd": 76.77,
              "yBinStart": 71.365
             },
             {
              "count": 4,
              "xBinEnd": 32375.875,
              "xBinStart": 25900.9,
              "yBinEnd": 82.175,
              "yBinStart": 76.77
             },
             {
              "count": 12,
              "xBinEnd": 32375.875,
              "xBinStart": 25900.9,
              "yBinEnd": 136.225,
              "yBinStart": 130.82
             },
             {
              "count": 2,
              "xBinEnd": 38850.85,
              "xBinStart": 32375.875,
              "yBinEnd": 22.72,
              "yBinStart": 17.315
             },
             {
              "count": 3,
              "xBinEnd": 38850.85,
              "xBinStart": 32375.875,
              "yBinEnd": 28.125,
              "yBinStart": 22.72
             },
             {
              "count": 3,
              "xBinEnd": 38850.85,
              "xBinStart": 32375.875,
              "yBinEnd": 33.53,
              "yBinStart": 28.125
             },
             {
              "count": 22,
              "xBinEnd": 38850.85,
              "xBinStart": 32375.875,
              "yBinEnd": 38.935,
              "yBinStart": 33.53
             },
             {
              "count": 49,
              "xBinEnd": 38850.85,
              "xBinStart": 32375.875,
              "yBinEnd": 44.34,
              "yBinStart": 38.935
             },
             {
              "count": 73,
              "xBinEnd": 38850.85,
              "xBinStart": 32375.875,
              "yBinEnd": 49.745,
              "yBinStart": 44.34
             },
             {
              "count": 84,
              "xBinEnd": 38850.85,
              "xBinStart": 32375.875,
              "yBinEnd": 55.15,
              "yBinStart": 49.745
             },
             {
              "count": 168,
              "xBinEnd": 38850.85,
              "xBinStart": 32375.875,
              "yBinEnd": 60.555,
              "yBinStart": 55.15
             },
             {
              "count": 239,
              "xBinEnd": 38850.85,
              "xBinStart": 32375.875,
              "yBinEnd": 65.96,
              "yBinStart": 60.555
             },
             {
              "count": 141,
              "xBinEnd": 38850.85,
              "xBinStart": 32375.875,
              "yBinEnd": 71.365,
              "yBinStart": 65.96
             },
             {
              "count": 61,
              "xBinEnd": 38850.85,
              "xBinStart": 32375.875,
              "yBinEnd": 76.77,
              "yBinStart": 71.365
             },
             {
              "count": 5,
              "xBinEnd": 38850.85,
              "xBinStart": 32375.875,
              "yBinEnd": 82.175,
              "yBinStart": 76.77
             },
             {
              "count": 1,
              "xBinEnd": 38850.85,
              "xBinStart": 32375.875,
              "yBinEnd": 103.795,
              "yBinStart": 98.39
             },
             {
              "count": 10,
              "xBinEnd": 38850.85,
              "xBinStart": 32375.875,
              "yBinEnd": 136.225,
              "yBinStart": 130.82
             },
             {
              "count": 8,
              "xBinEnd": 45325.825,
              "xBinStart": 38850.85,
              "yBinEnd": 28.125,
              "yBinStart": 22.72
             },
             {
              "count": 7,
              "xBinEnd": 45325.825,
              "xBinStart": 38850.85,
              "yBinEnd": 33.53,
              "yBinStart": 28.125
             },
             {
              "count": 18,
              "xBinEnd": 45325.825,
              "xBinStart": 38850.85,
              "yBinEnd": 38.935,
              "yBinStart": 33.53
             },
             {
              "count": 48,
              "xBinEnd": 45325.825,
              "xBinStart": 38850.85,
              "yBinEnd": 44.34,
              "yBinStart": 38.935
             },
             {
              "count": 44,
              "xBinEnd": 45325.825,
              "xBinStart": 38850.85,
              "yBinEnd": 49.745,
              "yBinStart": 44.34
             },
             {
              "count": 57,
              "xBinEnd": 45325.825,
              "xBinStart": 38850.85,
              "yBinEnd": 55.15,
              "yBinStart": 49.745
             },
             {
              "count": 141,
              "xBinEnd": 45325.825,
              "xBinStart": 38850.85,
              "yBinEnd": 60.555,
              "yBinStart": 55.15
             },
             {
              "count": 187,
              "xBinEnd": 45325.825,
              "xBinStart": 38850.85,
              "yBinEnd": 65.96,
              "yBinStart": 60.555
             },
             {
              "count": 106,
              "xBinEnd": 45325.825,
              "xBinStart": 38850.85,
              "yBinEnd": 71.365,
              "yBinStart": 65.96
             },
             {
              "count": 66,
              "xBinEnd": 45325.825,
              "xBinStart": 38850.85,
              "yBinEnd": 76.77,
              "yBinStart": 71.365
             },
             {
              "count": 10,
              "xBinEnd": 45325.825,
              "xBinStart": 38850.85,
              "yBinEnd": 82.175,
              "yBinStart": 76.77
             },
             {
              "count": 11,
              "xBinEnd": 45325.825,
              "xBinStart": 38850.85,
              "yBinEnd": 136.225,
              "yBinStart": 130.82
             },
             {
              "count": 1,
              "xBinEnd": 51800.8,
              "xBinStart": 45325.825,
              "yBinEnd": 28.125,
              "yBinStart": 22.72
             },
             {
              "count": 3,
              "xBinEnd": 51800.8,
              "xBinStart": 45325.825,
              "yBinEnd": 33.53,
              "yBinStart": 28.125
             },
             {
              "count": 10,
              "xBinEnd": 51800.8,
              "xBinStart": 45325.825,
              "yBinEnd": 38.935,
              "yBinStart": 33.53
             },
             {
              "count": 22,
              "xBinEnd": 51800.8,
              "xBinStart": 45325.825,
              "yBinEnd": 44.34,
              "yBinStart": 38.935
             },
             {
              "count": 35,
              "xBinEnd": 51800.8,
              "xBinStart": 45325.825,
              "yBinEnd": 49.745,
              "yBinStart": 44.34
             },
             {
              "count": 53,
              "xBinEnd": 51800.8,
              "xBinStart": 45325.825,
              "yBinEnd": 55.15,
              "yBinStart": 49.745
             },
             {
              "count": 93,
              "xBinEnd": 51800.8,
              "xBinStart": 45325.825,
              "yBinEnd": 60.555,
              "yBinStart": 55.15
             },
             {
              "count": 123,
              "xBinEnd": 51800.8,
              "xBinStart": 45325.825,
              "yBinEnd": 65.96,
              "yBinStart": 60.555
             },
             {
              "count": 60,
              "xBinEnd": 51800.8,
              "xBinStart": 45325.825,
              "yBinEnd": 71.365,
              "yBinStart": 65.96
             },
             {
              "count": 38,
              "xBinEnd": 51800.8,
              "xBinStart": 45325.825,
              "yBinEnd": 76.77,
              "yBinStart": 71.365
             },
             {
              "count": 4,
              "xBinEnd": 51800.8,
              "xBinStart": 45325.825,
              "yBinEnd": 82.175,
              "yBinStart": 76.77
             },
             {
              "count": 9,
              "xBinEnd": 51800.8,
              "xBinStart": 45325.825,
              "yBinEnd": 136.225,
              "yBinStart": 130.82
             },
             {
              "count": 3,
              "xBinEnd": 58275.775,
              "xBinStart": 51800.8,
              "yBinEnd": 28.125,
              "yBinStart": 22.72
             },
             {
              "count": 2,
              "xBinEnd": 58275.775,
              "xBinStart": 51800.8,
              "yBinEnd": 33.53,
              "yBinStart": 28.125
             },
             {
              "count": 4,
              "xBinEnd": 58275.775,
              "xBinStart": 51800.8,
              "yBinEnd": 38.935,
              "yBinStart": 33.53
             },
             {
              "count": 11,
              "xBinEnd": 58275.775,
              "xBinStart": 51800.8,
              "yBinEnd": 44.34,
              "yBinStart": 38.935
             },
             {
              "count": 25,
              "xBinEnd": 58275.775,
              "xBinStart": 51800.8,
              "yBinEnd": 49.745,
              "yBinStart": 44.34
             },
             {
              "count": 33,
              "xBinEnd": 58275.775,
              "xBinStart": 51800.8,
              "yBinEnd": 55.15,
              "yBinStart": 49.745
             },
             {
              "count": 72,
              "xBinEnd": 58275.775,
              "xBinStart": 51800.8,
              "yBinEnd": 60.555,
              "yBinStart": 55.15
             },
             {
              "count": 88,
              "xBinEnd": 58275.775,
              "xBinStart": 51800.8,
              "yBinEnd": 65.96,
              "yBinStart": 60.555
             },
             {
              "count": 57,
              "xBinEnd": 58275.775,
              "xBinStart": 51800.8,
              "yBinEnd": 71.365,
              "yBinStart": 65.96
             },
             {
              "count": 18,
              "xBinEnd": 58275.775,
              "xBinStart": 51800.8,
              "yBinEnd": 76.77,
              "yBinStart": 71.365
             },
             {
              "count": 7,
              "xBinEnd": 58275.775,
              "xBinStart": 51800.8,
              "yBinEnd": 82.175,
              "yBinStart": 76.77
             },
             {
              "count": 1,
              "xBinEnd": 58275.775,
              "xBinStart": 51800.8,
              "yBinEnd": 136.225,
              "yBinStart": 130.82
             },
             {
              "count": 1,
              "xBinEnd": 64750.75,
              "xBinStart": 58275.775,
              "yBinEnd": 33.53,
              "yBinStart": 28.125
             },
             {
              "count": 7,
              "xBinEnd": 64750.75,
              "xBinStart": 58275.775,
              "yBinEnd": 38.935,
              "yBinStart": 33.53
             },
             {
              "count": 12,
              "xBinEnd": 64750.75,
              "xBinStart": 58275.775,
              "yBinEnd": 44.34,
              "yBinStart": 38.935
             },
             {
              "count": 13,
              "xBinEnd": 64750.75,
              "xBinStart": 58275.775,
              "yBinEnd": 49.745,
              "yBinStart": 44.34
             },
             {
              "count": 23,
              "xBinEnd": 64750.75,
              "xBinStart": 58275.775,
              "yBinEnd": 55.15,
              "yBinStart": 49.745
             },
             {
              "count": 47,
              "xBinEnd": 64750.75,
              "xBinStart": 58275.775,
              "yBinEnd": 60.555,
              "yBinStart": 55.15
             },
             {
              "count": 61,
              "xBinEnd": 64750.75,
              "xBinStart": 58275.775,
              "yBinEnd": 65.96,
              "yBinStart": 60.555
             },
             {
              "count": 28,
              "xBinEnd": 64750.75,
              "xBinStart": 58275.775,
              "yBinEnd": 71.365,
              "yBinStart": 65.96
             },
             {
              "count": 13,
              "xBinEnd": 64750.75,
              "xBinStart": 58275.775,
              "yBinEnd": 76.77,
              "yBinStart": 71.365
             },
             {
              "count": 1,
              "xBinEnd": 64750.75,
              "xBinStart": 58275.775,
              "yBinEnd": 82.175,
              "yBinStart": 76.77
             },
             {
              "count": 1,
              "xBinEnd": 64750.75,
              "xBinStart": 58275.775,
              "yBinEnd": 125.415,
              "yBinStart": 120.01
             },
             {
              "count": 5,
              "xBinEnd": 64750.75,
              "xBinStart": 58275.775,
              "yBinEnd": 136.225,
              "yBinStart": 130.82
             },
             {
              "count": 1,
              "xBinEnd": 71225.725,
              "xBinStart": 64750.75,
              "yBinEnd": 33.53,
              "yBinStart": 28.125
             },
             {
              "count": 3,
              "xBinEnd": 71225.725,
              "xBinStart": 64750.75,
              "yBinEnd": 38.935,
              "yBinStart": 33.53
             },
             {
              "count": 10,
              "xBinEnd": 71225.725,
              "xBinStart": 64750.75,
              "yBinEnd": 44.34,
              "yBinStart": 38.935
             },
             {
              "count": 13,
              "xBinEnd": 71225.725,
              "xBinStart": 64750.75,
              "yBinEnd": 49.745,
              "yBinStart": 44.34
             },
             {
              "count": 19,
              "xBinEnd": 71225.725,
              "xBinStart": 64750.75,
              "yBinEnd": 55.15,
              "yBinStart": 49.745
             },
             {
              "count": 35,
              "xBinEnd": 71225.725,
              "xBinStart": 64750.75,
              "yBinEnd": 60.555,
              "yBinStart": 55.15
             },
             {
              "count": 39,
              "xBinEnd": 71225.725,
              "xBinStart": 64750.75,
              "yBinEnd": 65.96,
              "yBinStart": 60.555
             },
             {
              "count": 19,
              "xBinEnd": 71225.725,
              "xBinStart": 64750.75,
              "yBinEnd": 71.365,
              "yBinStart": 65.96
             },
             {
              "count": 17,
              "xBinEnd": 71225.725,
              "xBinStart": 64750.75,
              "yBinEnd": 76.77,
              "yBinStart": 71.365
             },
             {
              "count": 1,
              "xBinEnd": 71225.725,
              "xBinStart": 64750.75,
              "yBinEnd": 82.175,
              "yBinStart": 76.77
             },
             {
              "count": 4,
              "xBinEnd": 71225.725,
              "xBinStart": 64750.75,
              "yBinEnd": 136.225,
              "yBinStart": 130.82
             },
             {
              "count": 2,
              "xBinEnd": 77700.7,
              "xBinStart": 71225.725,
              "yBinEnd": 33.53,
              "yBinStart": 28.125
             },
             {
              "count": 1,
              "xBinEnd": 77700.7,
              "xBinStart": 71225.725,
              "yBinEnd": 38.935,
              "yBinStart": 33.53
             },
             {
              "count": 7,
              "xBinEnd": 77700.7,
              "xBinStart": 71225.725,
              "yBinEnd": 44.34,
              "yBinStart": 38.935
             },
             {
              "count": 9,
              "xBinEnd": 77700.7,
              "xBinStart": 71225.725,
              "yBinEnd": 49.745,
              "yBinStart": 44.34
             },
             {
              "count": 16,
              "xBinEnd": 77700.7,
              "xBinStart": 71225.725,
              "yBinEnd": 55.15,
              "yBinStart": 49.745
             },
             {
              "count": 15,
              "xBinEnd": 77700.7,
              "xBinStart": 71225.725,
              "yBinEnd": 60.555,
              "yBinStart": 55.15
             },
             {
              "count": 24,
              "xBinEnd": 77700.7,
              "xBinStart": 71225.725,
              "yBinEnd": 65.96,
              "yBinStart": 60.555
             },
             {
              "count": 10,
              "xBinEnd": 77700.7,
              "xBinStart": 71225.725,
              "yBinEnd": 71.365,
              "yBinStart": 65.96
             },
             {
              "count": 7,
              "xBinEnd": 77700.7,
              "xBinStart": 71225.725,
              "yBinEnd": 76.77,
              "yBinStart": 71.365
             },
             {
              "count": 1,
              "xBinEnd": 77700.7,
              "xBinStart": 71225.725,
              "yBinEnd": 82.175,
              "yBinStart": 76.77
             },
             {
              "count": 3,
              "xBinEnd": 77700.7,
              "xBinStart": 71225.725,
              "yBinEnd": 136.225,
              "yBinStart": 130.82
             },
             {
              "count": 2,
              "xBinEnd": 84175.675,
              "xBinStart": 77700.7,
              "yBinEnd": 33.53,
              "yBinStart": 28.125
             },
             {
              "count": 3,
              "xBinEnd": 84175.675,
              "xBinStart": 77700.7,
              "yBinEnd": 38.935,
              "yBinStart": 33.53
             },
             {
              "count": 3,
              "xBinEnd": 84175.675,
              "xBinStart": 77700.7,
              "yBinEnd": 44.34,
              "yBinStart": 38.935
             },
             {
              "count": 4,
              "xBinEnd": 84175.675,
              "xBinStart": 77700.7,
              "yBinEnd": 49.745,
              "yBinStart": 44.34
             },
             {
              "count": 11,
              "xBinEnd": 84175.675,
              "xBinStart": 77700.7,
              "yBinEnd": 55.15,
              "yBinStart": 49.745
             },
             {
              "count": 14,
              "xBinEnd": 84175.675,
              "xBinStart": 77700.7,
              "yBinEnd": 60.555,
              "yBinStart": 55.15
             },
             {
              "count": 26,
              "xBinEnd": 84175.675,
              "xBinStart": 77700.7,
              "yBinEnd": 65.96,
              "yBinStart": 60.555
             },
             {
              "count": 17,
              "xBinEnd": 84175.675,
              "xBinStart": 77700.7,
              "yBinEnd": 71.365,
              "yBinStart": 65.96
             },
             {
              "count": 5,
              "xBinEnd": 84175.675,
              "xBinStart": 77700.7,
              "yBinEnd": 76.77,
              "yBinStart": 71.365
             },
             {
              "count": 2,
              "xBinEnd": 84175.675,
              "xBinStart": 77700.7,
              "yBinEnd": 82.175,
              "yBinStart": 76.77
             },
             {
              "count": 2,
              "xBinEnd": 84175.675,
              "xBinStart": 77700.7,
              "yBinEnd": 136.225,
              "yBinStart": 130.82
             },
             {
              "count": 1,
              "xBinEnd": 90650.65,
              "xBinStart": 84175.675,
              "yBinEnd": 33.53,
              "yBinStart": 28.125
             },
             {
              "count": 2,
              "xBinEnd": 90650.65,
              "xBinStart": 84175.675,
              "yBinEnd": 38.935,
              "yBinStart": 33.53
             },
             {
              "count": 2,
              "xBinEnd": 90650.65,
              "xBinStart": 84175.675,
              "yBinEnd": 44.34,
              "yBinStart": 38.935
             },
             {
              "count": 7,
              "xBinEnd": 90650.65,
              "xBinStart": 84175.675,
              "yBinEnd": 49.745,
              "yBinStart": 44.34
             },
             {
              "count": 7,
              "xBinEnd": 90650.65,
              "xBinStart": 84175.675,
              "yBinEnd": 55.15,
              "yBinStart": 49.745
             },
             {
              "count": 6,
              "xBinEnd": 90650.65,
              "xBinStart": 84175.675,
              "yBinEnd": 60.555,
              "yBinStart": 55.15
             },
             {
              "count": 17,
              "xBinEnd": 90650.65,
              "xBinStart": 84175.675,
              "yBinEnd": 65.96,
              "yBinStart": 60.555
             },
             {
              "count": 2,
              "xBinEnd": 90650.65,
              "xBinStart": 84175.675,
              "yBinEnd": 71.365,
              "yBinStart": 65.96
             },
             {
              "count": 3,
              "xBinEnd": 90650.65,
              "xBinStart": 84175.675,
              "yBinEnd": 76.77,
              "yBinStart": 71.365
             },
             {
              "count": 1,
              "xBinEnd": 90650.65,
              "xBinStart": 84175.675,
              "yBinEnd": 125.415,
              "yBinStart": 120.01
             },
             {
              "count": 3,
              "xBinEnd": 90650.65,
              "xBinStart": 84175.675,
              "yBinEnd": 136.225,
              "yBinStart": 130.82
             },
             {
              "count": 1,
              "xBinEnd": 97125.625,
              "xBinStart": 90650.65,
              "yBinEnd": 33.53,
              "yBinStart": 28.125
             },
             {
              "count": 1,
              "xBinEnd": 97125.625,
              "xBinStart": 90650.65,
              "yBinEnd": 38.935,
              "yBinStart": 33.53
             },
             {
              "count": 1,
              "xBinEnd": 97125.625,
              "xBinStart": 90650.65,
              "yBinEnd": 44.34,
              "yBinStart": 38.935
             },
             {
              "count": 2,
              "xBinEnd": 97125.625,
              "xBinStart": 90650.65,
              "yBinEnd": 49.745,
              "yBinStart": 44.34
             },
             {
              "count": 4,
              "xBinEnd": 97125.625,
              "xBinStart": 90650.65,
              "yBinEnd": 55.15,
              "yBinStart": 49.745
             },
             {
              "count": 5,
              "xBinEnd": 97125.625,
              "xBinStart": 90650.65,
              "yBinEnd": 60.555,
              "yBinStart": 55.15
             },
             {
              "count": 9,
              "xBinEnd": 97125.625,
              "xBinStart": 90650.65,
              "yBinEnd": 65.96,
              "yBinStart": 60.555
             },
             {
              "count": 9,
              "xBinEnd": 97125.625,
              "xBinStart": 90650.65,
              "yBinEnd": 71.365,
              "yBinStart": 65.96
             },
             {
              "count": 1,
              "xBinEnd": 97125.625,
              "xBinStart": 90650.65,
              "yBinEnd": 76.77,
              "yBinStart": 71.365
             },
             {
              "count": 1,
              "xBinEnd": 97125.625,
              "xBinStart": 90650.65,
              "yBinEnd": 136.225,
              "yBinStart": 130.82
             },
             {
              "count": 1,
              "xBinEnd": 103600.6,
              "xBinStart": 97125.625,
              "yBinEnd": 44.34,
              "yBinStart": 38.935
             },
             {
              "count": 3,
              "xBinEnd": 103600.6,
              "xBinStart": 97125.625,
              "yBinEnd": 49.745,
              "yBinStart": 44.34
             },
             {
              "count": 1,
              "xBinEnd": 103600.6,
              "xBinStart": 97125.625,
              "yBinEnd": 55.15,
              "yBinStart": 49.745
             },
             {
              "count": 3,
              "xBinEnd": 103600.6,
              "xBinStart": 97125.625,
              "yBinEnd": 60.555,
              "yBinStart": 55.15
             },
             {
              "count": 9,
              "xBinEnd": 103600.6,
              "xBinStart": 97125.625,
              "yBinEnd": 65.96,
              "yBinStart": 60.555
             },
             {
              "count": 3,
              "xBinEnd": 103600.6,
              "xBinStart": 97125.625,
              "yBinEnd": 71.365,
              "yBinStart": 65.96
             },
             {
              "count": 1,
              "xBinEnd": 103600.6,
              "xBinStart": 97125.625,
              "yBinEnd": 136.225,
              "yBinStart": 130.82
             },
             {
              "count": 1,
              "xBinEnd": 110075.575,
              "xBinStart": 103600.6,
              "yBinEnd": 33.53,
              "yBinStart": 28.125
             },
             {
              "count": 1,
              "xBinEnd": 110075.575,
              "xBinStart": 103600.6,
              "yBinEnd": 38.935,
              "yBinStart": 33.53
             },
             {
              "count": 2,
              "xBinEnd": 110075.575,
              "xBinStart": 103600.6,
              "yBinEnd": 44.34,
              "yBinStart": 38.935
             },
             {
              "count": 1,
              "xBinEnd": 110075.575,
              "xBinStart": 103600.6,
              "yBinEnd": 49.745,
              "yBinStart": 44.34
             },
             {
              "count": 1,
              "xBinEnd": 110075.575,
              "xBinStart": 103600.6,
              "yBinEnd": 60.555,
              "yBinStart": 55.15
             },
             {
              "count": 3,
              "xBinEnd": 110075.575,
              "xBinStart": 103600.6,
              "yBinEnd": 65.96,
              "yBinStart": 60.555
             },
             {
              "count": 3,
              "xBinEnd": 110075.575,
              "xBinStart": 103600.6,
              "yBinEnd": 71.365,
              "yBinStart": 65.96
             },
             {
              "count": 3,
              "xBinEnd": 110075.575,
              "xBinStart": 103600.6,
              "yBinEnd": 76.77,
              "yBinStart": 71.365
             },
             {
              "count": 3,
              "xBinEnd": 116550.55,
              "xBinStart": 110075.575,
              "yBinEnd": 55.15,
              "yBinStart": 49.745
             },
             {
              "count": 3,
              "xBinEnd": 116550.55,
              "xBinStart": 110075.575,
              "yBinEnd": 65.96,
              "yBinStart": 60.555
             },
             {
              "count": 5,
              "xBinEnd": 116550.55,
              "xBinStart": 110075.575,
              "yBinEnd": 71.365,
              "yBinStart": 65.96
             },
             {
              "count": 1,
              "xBinEnd": 116550.55,
              "xBinStart": 110075.575,
              "yBinEnd": 82.175,
              "yBinStart": 76.77
             },
             {
              "count": 2,
              "xBinEnd": 123025.525,
              "xBinStart": 116550.55,
              "yBinEnd": 44.34,
              "yBinStart": 38.935
             },
             {
              "count": 1,
              "xBinEnd": 123025.525,
              "xBinStart": 116550.55,
              "yBinEnd": 49.745,
              "yBinStart": 44.34
             },
             {
              "count": 3,
              "xBinEnd": 123025.525,
              "xBinStart": 116550.55,
              "yBinEnd": 65.96,
              "yBinStart": 60.555
             },
             {
              "count": 1,
              "xBinEnd": 129500.5,
              "xBinStart": 123025.525,
              "yBinEnd": 33.53,
              "yBinStart": 28.125
             },
             {
              "count": 2,
              "xBinEnd": 129500.5,
              "xBinStart": 123025.525,
              "yBinEnd": 55.15,
              "yBinStart": 49.745
             },
             {
              "count": 1,
              "xBinEnd": 129500.5,
              "xBinStart": 123025.525,
              "yBinEnd": 60.555,
              "yBinStart": 55.15
             },
             {
              "count": 3,
              "xBinEnd": 129500.5,
              "xBinStart": 123025.525,
              "yBinEnd": 65.96,
              "yBinStart": 60.555
             },
             {
              "count": 4,
              "xBinEnd": 129500.5,
              "xBinStart": 123025.525,
              "yBinEnd": 71.365,
              "yBinStart": 65.96
             },
             {
              "count": 1,
              "xBinEnd": 135975.475,
              "xBinStart": 129500.5,
              "yBinEnd": 33.53,
              "yBinStart": 28.125
             },
             {
              "count": 1,
              "xBinEnd": 135975.475,
              "xBinStart": 129500.5,
              "yBinEnd": 60.555,
              "yBinStart": 55.15
             },
             {
              "count": 1,
              "xBinEnd": 135975.475,
              "xBinStart": 129500.5,
              "yBinEnd": 76.77,
              "yBinStart": 71.365
             },
             {
              "count": 1,
              "xBinEnd": 142450.45,
              "xBinStart": 135975.475,
              "yBinEnd": 55.15,
              "yBinStart": 49.745
             },
             {
              "count": 2,
              "xBinEnd": 142450.45,
              "xBinStart": 135975.475,
              "yBinEnd": 65.96,
              "yBinStart": 60.555
             },
             {
              "count": 1,
              "xBinEnd": 142450.45,
              "xBinStart": 135975.475,
              "yBinEnd": 71.365,
              "yBinStart": 65.96
             },
             {
              "count": 1,
              "xBinEnd": 142450.45,
              "xBinStart": 135975.475,
              "yBinEnd": 76.77,
              "yBinStart": 71.365
             },
             {
              "count": 1,
              "xBinEnd": 148925.425,
              "xBinStart": 142450.45,
              "yBinEnd": 44.34,
              "yBinStart": 38.935
             },
             {
              "count": 2,
              "xBinEnd": 155400.4,
              "xBinStart": 148925.425,
              "yBinEnd": 60.555,
              "yBinStart": 55.15
             },
             {
              "count": 1,
              "xBinEnd": 155400.4,
              "xBinStart": 148925.425,
              "yBinEnd": 71.365,
              "yBinStart": 65.96
             },
             {
              "count": 1,
              "xBinEnd": 161875.375,
              "xBinStart": 155400.4,
              "yBinEnd": 33.53,
              "yBinStart": 28.125
             },
             {
              "count": 1,
              "xBinEnd": 168350.35,
              "xBinStart": 161875.375,
              "yBinEnd": 65.96,
              "yBinStart": 60.555
             },
             {
              "count": 1,
              "xBinEnd": 174825.325,
              "xBinStart": 168350.35,
              "yBinEnd": 55.15,
              "yBinStart": 49.745
             },
             {
              "count": 1,
              "xBinEnd": 246050.05,
              "xBinStart": 239575.075,
              "yBinEnd": 71.365,
              "yBinStart": 65.96
             },
             {
              "count": 1,
              "xBinEnd": 259000,
              "xBinStart": 252525.025,
              "yBinEnd": 33.53,
              "yBinStart": 28.125
             }
            ]
           },
           "encoding": {
            "opacity": {
             "field": "count",
             "legend": null,
             "scale": {
              "type": "log"
             },
             "type": "quantitative"
            },
            "x": {
             "axis": {
              "title": "mileage"
             },
             "bin": {
              "binned": true
             },
             "field": "xBinStart",
             "type": "quantitative"
            },
            "x2": {
             "field": "xBinEnd"
            },
            "y": {
             "axis": {
              "title": "mpg"
             },
             "bin": {
              "binned": true
             },
             "field": "yBinStart",
             "type": "quantitative"
            },
            "y2": {
             "field": "yBinEnd"
            }
           },
           "height": 150,
           "mark": {
            "type": "rect"
           },
           "params": [
            {
             "bind": "scales",
             "name": "param_2",
             "select": {
              "encodings": [
               "x",
               "y"
              ],
              "type": "interval"
             }
            }
           ],
           "vislib": "vegalite",
           "width": 160
          },
          {
           "$schema": "https://vega.github.io/schema/vega-lite/v5.8.0.json",
           "config": {
            "axis": {
             "labelColor": "#505050",
             "labelFont": "Helvetica Neue",
             "labelFontSize": 9,
             "labelFontWeight": 400,
             "titleFont": "Helvetica Neue",
             "titleFontSize": 11,
             "titleFontWeight": 500
            },
            "legend": {
             "labelFont": "Helvetica Neue",
             "labelFontSize": 9,
             "labelFontWeight": 400,
             "titleFont": "Helvetica Neue",
             "titleFontSize": 10,
             "titleFontWeight": 500
            },
            "mark": {
             "tooltip": {
              "content": "encoding"
             }
            },
            "scale": {
             "maxOpacity": 1,
             "minOpacity": 0.1
            },
            "title": {
             "font": "Helvetica Neue",
             "fontSize": 13,
             "fontWeight": 500
            },
            "view": {
             "continuousHeight": 300,
             "continuousWidth": 300
            }
           },
           "data": {
            "name": "data-78dc5c88183ffc128a8fc06a28927690"
           },
           "datasets": {
            "data-78dc5c88183ffc128a8fc06a28927690": [
             {
              "count": 6,
              "xBinEnd": 6475.975,
              "xBinStart": -257.999,
              "yBinEnd": 29,
              "yBinStart": 14.5
             },
             {
              "count": 4,
              "xBinEnd": 6475.975,
              "xBinStart": -257.999,
              "yBinEnd": 43.5,
              "yBinStart": 29
             },
             {
              "count": 5,
              "xBinEnd": 6475.975,
              "xBinStart": -257.999,
              "yBinEnd": 130.5,
              "yBinStart": 116
             },
             {
              "count": 3184,
              "xBinEnd": 6475.975,
              "xBinStart": -257.999,
              "yBinEnd": 145,
              "yBinStart": 130.5
             },
             {
              "count": 152,
              "xBinEnd": 6475.975,
              "xBinStart": -257.999,
              "yBinEnd": 159.5,
              "yBinStart": 145
             },
             {
              "count": 3,
              "xBinEnd": 6475.975,
              "xBinStart": -257.999,
              "yBinEnd": 203,
              "yBinStart": 188.5
             },
             {
              "count": 1,
              "xBinEnd": 6475.975,
              "xBinStart": -257.999,
              "yBinEnd": 246.5,
              "yBinStart": 232
             },
             {
              "count": 34,
              "xBinEnd": 6475.975,
              "xBinStart": -257.999,
              "yBinEnd": 261,
              "yBinStart": 246.5
             },
             {
              "count": 4,
              "xBinEnd": 6475.975,
              "xBinStart": -257.999,
              "yBinEnd": 275.5,
              "yBinStart": 261
             },
             {
              "count": 1,
              "xBinEnd": 6475.975,
              "xBinStart": -257.999,
              "yBinEnd": 333.5,
              "yBinStart": 319
             },
             {
              "count": 1,
              "xBinEnd": 6475.975,
              "xBinStart": -257.999,
              "yBinEnd": 565.5,
              "yBinStart": 551
             },
             {
              "count": 1,
              "xBinEnd": 6475.975,
              "xBinStart": -257.999,
              "yBinEnd": 580,
              "yBinStart": 565.5
             },
             {
              "count": 2,
              "xBinEnd": 12950.95,
              "xBinStart": 6475.975,
              "yBinEnd": 14.5,
              "yBinStart": -0.58
             },
             {
              "count": 45,
              "xBinEnd": 12950.95,
              "xBinStart": 6475.975,
              "yBinEnd": 29,
              "yBinStart": 14.5
             },
             {
              "count": 34,
              "xBinEnd": 12950.95,
              "xBinStart": 6475.975,
              "yBinEnd": 43.5,
              "yBinStart": 29
             },
             {
              "count": 29,
              "xBinEnd": 12950.95,
              "xBinStart": 6475.975,
              "yBinEnd": 130.5,
              "yBinStart": 116
             },
             {
              "count": 1842,
              "xBinEnd": 12950.95,
              "xBinStart": 6475.975,
              "yBinEnd": 145,
              "yBinStart": 130.5
             },
             {
              "count": 184,
              "xBinEnd": 12950.95,
              "xBinStart": 6475.975,
              "yBinEnd": 159.5,
              "yBinStart": 145
             },
             {
              "count": 13,
              "xBinEnd": 12950.95,
              "xBinStart": 6475.975,
              "yBinEnd": 174,
              "yBinStart": 159.5
             },
             {
              "count": 12,
              "xBinEnd": 12950.95,
              "xBinStart": 6475.975,
              "yBinEnd": 203,
              "yBinStart": 188.5
             },
             {
              "count": 3,
              "xBinEnd": 12950.95,
              "xBinStart": 6475.975,
              "yBinEnd": 217.5,
              "yBinStart": 203
             },
             {
              "count": 4,
              "xBinEnd": 12950.95,
              "xBinStart": 6475.975,
              "yBinEnd": 246.5,
              "yBinStart": 232
             },
             {
              "count": 25,
              "xBinEnd": 12950.95,
              "xBinStart": 6475.975,
              "yBinEnd": 261,
              "yBinStart": 246.5
             },
             {
              "count": 8,
              "xBinEnd": 12950.95,
              "xBinStart": 6475.975,
              "yBinEnd": 275.5,
              "yBinStart": 261
             },
             {
              "count": 4,
              "xBinEnd": 12950.95,
              "xBinStart": 6475.975,
              "yBinEnd": 304.5,
              "yBinStart": 290
             },
             {
              "count": 2,
              "xBinEnd": 12950.95,
              "xBinStart": 6475.975,
              "yBinEnd": 319,
              "yBinStart": 304.5
             },
             {
              "count": 4,
              "xBinEnd": 12950.95,
              "xBinStart": 6475.975,
              "yBinEnd": 333.5,
              "yBinStart": 319
             },
             {
              "count": 1,
              "xBinEnd": 12950.95,
              "xBinStart": 6475.975,
              "yBinEnd": 565.5,
              "yBinStart": 551
             },
             {
              "count": 1,
              "xBinEnd": 12950.95,
              "xBinStart": 6475.975,
              "yBinEnd": 580,
              "yBinStart": 565.5
             },
             {
              "count": 7,
              "xBinEnd": 19425.925,
              "xBinStart": 12950.95,
              "yBinEnd": 14.5,
              "yBinStart": -0.58
             },
             {
              "count": 102,
              "xBinEnd": 19425.925,
              "xBinStart": 12950.95,
              "yBinEnd": 29,
              "yBinStart": 14.5
             },
             {
              "count": 76,
              "xBinEnd": 19425.925,
              "xBinStart": 12950.95,
              "yBinEnd": 43.5,
              "yBinStart": 29
             },
             {
              "count": 106,
              "xBinEnd": 19425.925,
              "xBinStart": 12950.95,
              "yBinEnd": 130.5,
              "yBinStart": 116
             },
             {
              "count": 1288,
              "xBinEnd": 19425.925,
              "xBinStart": 12950.95,
              "yBinEnd": 145,
              "yBinStart": 130.5
             },
             {
              "count": 152,
              "xBinEnd": 19425.925,
              "xBinStart": 12950.95,
              "yBinEnd": 159.5,
              "yBinStart": 145
             },
             {
              "count": 31,
              "xBinEnd": 19425.925,
              "xBinStart": 12950.95,
              "yBinEnd": 174,
              "yBinStart": 159.5
             },
             {
              "count": 29,
              "xBinEnd": 19425.925,
              "xBinStart": 12950.95,
              "yBinEnd": 203,
              "yBinStart": 188.5
             },
             {
              "count": 7,
              "xBinEnd": 19425.925,
              "xBinStart": 12950.95,
              "yBinEnd": 217.5,
              "yBinStart": 203
             },
             {
              "count": 12,
              "xBinEnd": 19425.925,
              "xBinStart": 12950.95,
              "yBinEnd": 246.5,
              "yBinStart": 232
             },
             {
              "count": 11,
              "xBinEnd": 19425.925,
              "xBinStart": 12950.95,
              "yBinEnd": 261,
              "yBinStart": 246.5
             },
             {
              "count": 7,
              "xBinEnd": 19425.925,
              "xBinStart": 12950.95,
              "yBinEnd": 275.5,
              "yBinStart": 261
             },
             {
              "count": 13,
              "xBinEnd": 19425.925,
              "xBinStart": 12950.95,
              "yBinEnd": 304.5,
              "yBinStart": 290
             },
             {
              "count": 5,
              "xBinEnd": 19425.925,
              "xBinStart": 12950.95,
              "yBinEnd": 319,
              "yBinStart": 304.5
             },
             {
              "count": 7,
              "xBinEnd": 19425.925,
              "xBinStart": 12950.95,
              "yBinEnd": 333.5,
              "yBinStart": 319
             },
             {
              "count": 3,
              "xBinEnd": 19425.925,
              "xBinStart": 12950.95,
              "yBinEnd": 565.5,
              "yBinStart": 551
             },
             {
              "count": 2,
              "xBinEnd": 19425.925,
              "xBinStart": 12950.95,
              "yBinEnd": 580,
              "yBinStart": 565.5
             },
             {
              "count": 18,
              "xBinEnd": 25900.9,
              "xBinStart": 19425.925,
              "yBinEnd": 14.5,
              "yBinStart": -0.58
             },
             {
              "count": 188,
              "xBinEnd": 25900.9,
              "xBinStart": 19425.925,
              "yBinEnd": 29,
              "yBinStart": 14.5
             },
             {
              "count": 149,
              "xBinEnd": 25900.9,
              "xBinStart": 19425.925,
              "yBinEnd": 43.5,
              "yBinStart": 29
             },
             {
              "count": 1,
              "xBinEnd": 25900.9,
              "xBinStart": 19425.925,
              "yBinEnd": 116,
              "yBinStart": 101.5
             },
             {
              "count": 158,
              "xBinEnd": 25900.9,
              "xBinStart": 19425.925,
              "yBinEnd": 130.5,
              "yBinStart": 116
             },
             {
              "count": 549,
              "xBinEnd": 25900.9,
              "xBinStart": 19425.925,
              "yBinEnd": 145,
              "yBinStart": 130.5
             },
             {
              "count": 141,
              "xBinEnd": 25900.9,
              "xBinStart": 19425.925,
              "yBinEnd": 159.5,
              "yBinStart": 145
             },
             {
              "count": 44,
              "xBinEnd": 25900.9,
              "xBinStart": 19425.925,
              "yBinEnd": 174,
              "yBinStart": 159.5
             },
             {
              "count": 32,
              "xBinEnd": 25900.9,
              "xBinStart": 19425.925,
              "yBinEnd": 203,
              "yBinStart": 188.5
             },
             {
              "count": 6,
              "xBinEnd": 25900.9,
              "xBinStart": 19425.925,
              "yBinEnd": 217.5,
              "yBinStart": 203
             },
             {
              "count": 8,
              "xBinEnd": 25900.9,
              "xBinStart": 19425.925,
              "yBinEnd": 246.5,
              "yBinStart": 232
             },
             {
              "count": 13,
              "xBinEnd": 25900.9,
              "xBinStart": 19425.925,
              "yBinEnd": 261,
              "yBinStart": 246.5
             },
             {
              "count": 3,
              "xBinEnd": 25900.9,
              "xBinStart": 19425.925,
              "yBinEnd": 275.5,
              "yBinStart": 261
             },
             {
              "count": 12,
              "xBinEnd": 25900.9,
              "xBinStart": 19425.925,
              "yBinEnd": 304.5,
              "yBinStart": 290
             },
             {
              "count": 8,
              "xBinEnd": 25900.9,
              "xBinStart": 19425.925,
              "yBinEnd": 319,
              "yBinStart": 304.5
             },
             {
              "count": 2,
              "xBinEnd": 25900.9,
              "xBinStart": 19425.925,
              "yBinEnd": 333.5,
              "yBinStart": 319
             },
             {
              "count": 3,
              "xBinEnd": 25900.9,
              "xBinStart": 19425.925,
              "yBinEnd": 565.5,
              "yBinStart": 551
             },
             {
              "count": 4,
              "xBinEnd": 25900.9,
              "xBinStart": 19425.925,
              "yBinEnd": 580,
              "yBinStart": 565.5
             },
             {
              "count": 20,
              "xBinEnd": 32375.875,
              "xBinStart": 25900.9,
              "yBinEnd": 14.5,
              "yBinStart": -0.58
             },
             {
              "count": 197,
              "xBinEnd": 32375.875,
              "xBinStart": 25900.9,
              "yBinEnd": 29,
              "yBinStart": 14.5
             },
             {
              "count": 174,
              "xBinEnd": 32375.875,
              "xBinStart": 25900.9,
              "yBinEnd": 43.5,
              "yBinStart": 29
             },
             {
              "count": 174,
              "xBinEnd": 32375.875,
              "xBinStart": 25900.9,
              "yBinEnd": 130.5,
              "yBinStart": 116
             },
             {
              "count": 323,
              "xBinEnd": 32375.875,
              "xBinStart": 25900.9,
              "yBinEnd": 145,
              "yBinStart": 130.5
             },
             {
              "count": 90,
              "xBinEnd": 32375.875,
              "xBinStart": 25900.9,
              "yBinEnd": 159.5,
              "yBinStart": 145
             },
             {
              "count": 56,
              "xBinEnd": 32375.875,
              "xBinStart": 25900.9,
              "yBinEnd": 174,
              "yBinStart": 159.5
             },
             {
              "count": 40,
              "xBinEnd": 32375.875,
              "xBinStart": 25900.9,
              "yBinEnd": 203,
              "yBinStart": 188.5
             },
             {
              "count": 8,
              "xBinEnd": 32375.875,
              "xBinStart": 25900.9,
              "yBinEnd": 217.5,
              "yBinStart": 203
             },
             {
              "count": 4,
              "xBinEnd": 32375.875,
              "xBinStart": 25900.9,
              "yBinEnd": 246.5,
              "yBinStart": 232
             },
             {
              "count": 8,
              "xBinEnd": 32375.875,
              "xBinStart": 25900.9,
              "yBinEnd": 261,
              "yBinStart": 246.5
             },
             {
              "count": 1,
              "xBinEnd": 32375.875,
              "xBinStart": 25900.9,
              "yBinEnd": 275.5,
              "yBinStart": 261
             },
             {
              "count": 16,
              "xBinEnd": 32375.875,
              "xBinStart": 25900.9,
              "yBinEnd": 304.5,
              "yBinStart": 290
             },
             {
              "count": 6,
              "xBinEnd": 32375.875,
              "xBinStart": 25900.9,
              "yBinEnd": 319,
              "yBinStart": 304.5
             },
             {
              "count": 5,
              "xBinEnd": 32375.875,
              "xBinStart": 25900.9,
              "yBinEnd": 333.5,
              "yBinStart": 319
             },
             {
              "count": 2,
              "xBinEnd": 32375.875,
              "xBinStart": 25900.9,
              "yBinEnd": 565.5,
              "yBinStart": 551
             },
             {
              "count": 23,
              "xBinEnd": 38850.85,
              "xBinStart": 32375.875,
              "yBinEnd": 14.5,
              "yBinStart": -0.58
             },
             {
              "count": 178,
              "xBinEnd": 38850.85,
              "xBinStart": 32375.875,
              "yBinEnd": 29,
              "yBinStart": 14.5
             },
             {
              "count": 156,
              "xBinEnd": 38850.85,
              "xBinStart": 32375.875,
              "yBinEnd": 43.5,
              "yBinStart": 29
             },
             {
              "count": 154,
              "xBinEnd": 38850.85,
              "xBinStart": 32375.875,
              "yBinEnd": 130.5,
              "yBinStart": 116
             },
             {
              "count": 181,
              "xBinEnd": 38850.85,
              "xBinStart": 32375.875,
              "yBinEnd": 145,
              "yBinStart": 130.5
             },
             {
              "count": 52,
              "xBinEnd": 38850.85,
              "xBinStart": 32375.875,
              "yBinEnd": 159.5,
              "yBinStart": 145
             },
             {
              "count": 29,
              "xBinEnd": 38850.85,
              "xBinStart": 32375.875,
              "yBinEnd": 174,
              "yBinStart": 159.5
             },
             {
              "count": 36,
              "xBinEnd": 38850.85,
              "xBinStart": 32375.875,
              "yBinEnd": 203,
              "yBinStart": 188.5
             },
             {
              "count": 7,
              "xBinEnd": 38850.85,
              "xBinStart": 32375.875,
              "yBinEnd": 217.5,
              "yBinStart": 203
             },
             {
              "count": 6,
              "xBinEnd": 38850.85,
              "xBinStart": 32375.875,
              "yBinEnd": 246.5,
              "yBinStart": 232
             },
             {
              "count": 17,
              "xBinEnd": 38850.85,
              "xBinStart": 32375.875,
              "yBinEnd": 261,
              "yBinStart": 246.5
             },
             {
              "count": 8,
              "xBinEnd": 38850.85,
              "xBinStart": 32375.875,
              "yBinEnd": 304.5,
              "yBinStart": 290
             },
             {
              "count": 4,
              "xBinEnd": 38850.85,
              "xBinStart": 32375.875,
              "yBinEnd": 319,
              "yBinStart": 304.5
             },
             {
              "count": 5,
              "xBinEnd": 38850.85,
              "xBinStart": 32375.875,
              "yBinEnd": 333.5,
              "yBinStart": 319
             },
             {
              "count": 1,
              "xBinEnd": 38850.85,
              "xBinStart": 32375.875,
              "yBinEnd": 551,
              "yBinStart": 536.5
             },
             {
              "count": 4,
              "xBinEnd": 38850.85,
              "xBinStart": 32375.875,
              "yBinEnd": 580,
              "yBinStart": 565.5
             },
             {
              "count": 28,
              "xBinEnd": 45325.825,
              "xBinStart": 38850.85,
              "yBinEnd": 14.5,
              "yBinStart": -0.58
             },
             {
              "count": 170,
              "xBinEnd": 45325.825,
              "xBinStart": 38850.85,
              "yBinEnd": 29,
              "yBinStart": 14.5
             },
             {
              "count": 125,
              "xBinEnd": 45325.825,
              "xBinStart": 38850.85,
              "yBinEnd": 43.5,
              "yBinStart": 29
             },
             {
              "count": 1,
              "xBinEnd": 45325.825,
              "xBinStart": 38850.85,
              "yBinEnd": 116,
              "yBinStart": 101.5
             },
             {
              "count": 111,
              "xBinEnd": 45325.825,
              "xBinStart": 38850.85,
              "yBinEnd": 130.5,
              "yBinStart": 116
             },
             {
              "count": 122,
              "xBinEnd": 45325.825,
              "xBinStart": 38850.85,
              "yBinEnd": 145,
              "yBinStart": 130.5
             },
             {
              "count": 35,
              "xBinEnd": 45325.825,
              "xBinStart": 38850.85,
              "yBinEnd": 159.5,
              "yBinStart": 145
             },
             {
              "count": 31,
              "xBinEnd": 45325.825,
              "xBinStart": 38850.85,
              "yBinEnd": 174,
              "yBinStart": 159.5
             },
             {
              "count": 28,
              "xBinEnd": 45325.825,
              "xBinStart": 38850.85,
              "yBinEnd": 203,
              "yBinStart": 188.5
             },
             {
              "count": 10,
              "xBinEnd": 45325.825,
              "xBinStart": 38850.85,
              "yBinEnd": 217.5,
              "yBinStart": 203
             },
             {
              "count": 6,
              "xBinEnd": 45325.825,
              "xBinStart": 38850.85,
              "yBinEnd": 246.5,
              "yBinStart": 232
             },
             {
              "count": 4,
              "xBinEnd": 45325.825,
              "xBinStart": 38850.85,
              "yBinEnd": 261,
              "yBinStart": 246.5
             },
             {
              "count": 2,
              "xBinEnd": 45325.825,
              "xBinStart": 38850.85,
              "yBinEnd": 275.5,
              "yBinStart": 261
             },
             {
              "count": 14,
              "xBinEnd": 45325.825,
              "xBinStart": 38850.85,
              "yBinEnd": 304.5,
              "yBinStart": 290
             },
             {
              "count": 3,
              "xBinEnd": 45325.825,
              "xBinStart": 38850.85,
              "yBinEnd": 319,
              "yBinStart": 304.5
             },
             {
              "count": 5,
              "xBinEnd": 45325.825,
              "xBinStart": 38850.85,
              "yBinEnd": 333.5,
              "yBinStart": 319
             },
             {
              "count": 2,
              "xBinEnd": 45325.825,
              "xBinStart": 38850.85,
              "yBinEnd": 565.5,
              "yBinStart": 551
             },
             {
              "count": 6,
              "xBinEnd": 45325.825,
              "xBinStart": 38850.85,
              "yBinEnd": 580,
              "yBinStart": 565.5
             },
             {
              "count": 15,
              "xBinEnd": 51800.8,
              "xBinStart": 45325.825,
              "yBinEnd": 14.5,
              "yBinStart": -0.58
             },
             {
              "count": 111,
              "xBinEnd": 51800.8,
              "xBinStart": 45325.825,
              "yBinEnd": 29,
              "yBinStart": 14.5
             },
             {
              "count": 68,
              "xBinEnd": 51800.8,
              "xBinStart": 45325.825,
              "yBinEnd": 43.5,
              "yBinStart": 29
             },
             {
              "count": 98,
              "xBinEnd": 51800.8,
              "xBinStart": 45325.825,
              "yBinEnd": 130.5,
              "yBinStart": 116
             },
             {
              "count": 74,
              "xBinEnd": 51800.8,
              "xBinStart": 45325.825,
              "yBinEnd": 145,
              "yBinStart": 130.5
             },
             {
              "count": 16,
              "xBinEnd": 51800.8,
              "xBinStart": 45325.825,
              "yBinEnd": 159.5,
              "yBinStart": 145
             },
             {
              "count": 16,
              "xBinEnd": 51800.8,
              "xBinStart": 45325.825,
              "yBinEnd": 174,
              "yBinStart": 159.5
             },
             {
              "count": 25,
              "xBinEnd": 51800.8,
              "xBinStart": 45325.825,
              "yBinEnd": 203,
              "yBinStart": 188.5
             },
             {
              "count": 6,
              "xBinEnd": 51800.8,
              "xBinStart": 45325.825,
              "yBinEnd": 217.5,
              "yBinStart": 203
             },
             {
              "count": 6,
              "xBinEnd": 51800.8,
              "xBinStart": 45325.825,
              "yBinEnd": 246.5,
              "yBinStart": 232
             },
             {
              "count": 3,
              "xBinEnd": 51800.8,
              "xBinStart": 45325.825,
              "yBinEnd": 261,
              "yBinStart": 246.5
             },
             {
              "count": 7,
              "xBinEnd": 51800.8,
              "xBinStart": 45325.825,
              "yBinEnd": 304.5,
              "yBinStart": 290
             },
             {
              "count": 3,
              "xBinEnd": 51800.8,
              "xBinStart": 45325.825,
              "yBinEnd": 333.5,
              "yBinStart": 319
             },
             {
              "count": 2,
              "xBinEnd": 51800.8,
              "xBinStart": 45325.825,
              "yBinEnd": 565.5,
              "yBinStart": 551
             },
             {
              "count": 1,
              "xBinEnd": 51800.8,
              "xBinStart": 45325.825,
              "yBinEnd": 580,
              "yBinStart": 565.5
             },
             {
              "count": 10,
              "xBinEnd": 58275.775,
              "xBinStart": 51800.8,
              "yBinEnd": 14.5,
              "yBinStart": -0.58
             },
             {
              "count": 86,
              "xBinEnd": 58275.775,
              "xBinStart": 51800.8,
              "yBinEnd": 29,
              "yBinStart": 14.5
             },
             {
              "count": 59,
              "xBinEnd": 58275.775,
              "xBinStart": 51800.8,
              "yBinEnd": 43.5,
              "yBinStart": 29
             },
             {
              "count": 68,
              "xBinEnd": 58275.775,
              "xBinStart": 51800.8,
              "yBinEnd": 130.5,
              "yBinStart": 116
             },
             {
              "count": 43,
              "xBinEnd": 58275.775,
              "xBinStart": 51800.8,
              "yBinEnd": 145,
              "yBinStart": 130.5
             },
             {
              "count": 8,
              "xBinEnd": 58275.775,
              "xBinStart": 51800.8,
              "yBinEnd": 159.5,
              "yBinStart": 145
             },
             {
              "count": 10,
              "xBinEnd": 58275.775,
              "xBinStart": 51800.8,
              "yBinEnd": 174,
              "yBinStart": 159.5
             },
             {
              "count": 21,
              "xBinEnd": 58275.775,
              "xBinStart": 51800.8,
              "yBinEnd": 203,
              "yBinStart": 188.5
             },
             {
              "count": 2,
              "xBinEnd": 58275.775,
              "xBinStart": 51800.8,
              "yBinEnd": 217.5,
              "yBinStart": 203
             },
             {
              "count": 4,
              "xBinEnd": 58275.775,
              "xBinStart": 51800.8,
              "yBinEnd": 246.5,
              "yBinStart": 232
             },
             {
              "count": 2,
              "xBinEnd": 58275.775,
              "xBinStart": 51800.8,
              "yBinEnd": 261,
              "yBinStart": 246.5
             },
             {
              "count": 1,
              "xBinEnd": 58275.775,
              "xBinStart": 51800.8,
              "yBinEnd": 304.5,
              "yBinStart": 290
             },
             {
              "count": 1,
              "xBinEnd": 58275.775,
              "xBinStart": 51800.8,
              "yBinEnd": 319,
              "yBinStart": 304.5
             },
             {
              "count": 1,
              "xBinEnd": 58275.775,
              "xBinStart": 51800.8,
              "yBinEnd": 333.5,
              "yBinStart": 319
             },
             {
              "count": 2,
              "xBinEnd": 58275.775,
              "xBinStart": 51800.8,
              "yBinEnd": 565.5,
              "yBinStart": 551
             },
             {
              "count": 3,
              "xBinEnd": 58275.775,
              "xBinStart": 51800.8,
              "yBinEnd": 580,
              "yBinStart": 565.5
             },
             {
              "count": 11,
              "xBinEnd": 64750.75,
              "xBinStart": 58275.775,
              "yBinEnd": 14.5,
              "yBinStart": -0.58
             },
             {
              "count": 45,
              "xBinEnd": 64750.75,
              "xBinStart": 58275.775,
              "yBinEnd": 29,
              "yBinStart": 14.5
             },
             {
              "count": 46,
              "xBinEnd": 64750.75,
              "xBinStart": 58275.775,
              "yBinEnd": 43.5,
              "yBinStart": 29
             },
             {
              "count": 31,
              "xBinEnd": 64750.75,
              "xBinStart": 58275.775,
              "yBinEnd": 130.5,
              "yBinStart": 116
             },
             {
              "count": 32,
              "xBinEnd": 64750.75,
              "xBinStart": 58275.775,
              "yBinEnd": 145,
              "yBinStart": 130.5
             },
             {
              "count": 11,
              "xBinEnd": 64750.75,
              "xBinStart": 58275.775,
              "yBinEnd": 159.5,
              "yBinStart": 145
             },
             {
              "count": 6,
              "xBinEnd": 64750.75,
              "xBinStart": 58275.775,
              "yBinEnd": 174,
              "yBinStart": 159.5
             },
             {
              "count": 1,
              "xBinEnd": 64750.75,
              "xBinStart": 58275.775,
              "yBinEnd": 188.5,
              "yBinStart": 174
             },
             {
              "count": 16,
              "xBinEnd": 64750.75,
              "xBinStart": 58275.775,
              "yBinEnd": 203,
              "yBinStart": 188.5
             },
             {
              "count": 1,
              "xBinEnd": 64750.75,
              "xBinStart": 58275.775,
              "yBinEnd": 217.5,
              "yBinStart": 203
             },
             {
              "count": 2,
              "xBinEnd": 64750.75,
              "xBinStart": 58275.775,
              "yBinEnd": 246.5,
              "yBinStart": 232
             },
             {
              "count": 5,
              "xBinEnd": 64750.75,
              "xBinStart": 58275.775,
              "yBinEnd": 304.5,
              "yBinStart": 290
             },
             {
              "count": 2,
              "xBinEnd": 64750.75,
              "xBinStart": 58275.775,
              "yBinEnd": 319,
              "yBinStart": 304.5
             },
             {
              "count": 3,
              "xBinEnd": 64750.75,
              "xBinStart": 58275.775,
              "yBinEnd": 333.5,
              "yBinStart": 319
             },
             {
              "count": 10,
              "xBinEnd": 71225.725,
              "xBinStart": 64750.75,
              "yBinEnd": 14.5,
              "yBinStart": -0.58
             },
             {
              "count": 34,
              "xBinEnd": 71225.725,
              "xBinStart": 64750.75,
              "yBinEnd": 29,
              "yBinStart": 14.5
             },
             {
              "count": 29,
              "xBinEnd": 71225.725,
              "xBinStart": 64750.75,
              "yBinEnd": 43.5,
              "yBinStart": 29
             },
             {
              "count": 35,
              "xBinEnd": 71225.725,
              "xBinStart": 64750.75,
              "yBinEnd": 130.5,
              "yBinStart": 116
             },
             {
              "count": 22,
              "xBinEnd": 71225.725,
              "xBinStart": 64750.75,
              "yBinEnd": 145,
              "yBinStart": 130.5
             },
             {
              "count": 5,
              "xBinEnd": 71225.725,
              "xBinStart": 64750.75,
              "yBinEnd": 159.5,
              "yBinStart": 145
             },
             {
              "count": 2,
              "xBinEnd": 71225.725,
              "xBinStart": 64750.75,
              "yBinEnd": 174,
              "yBinStart": 159.5
             },
             {
              "count": 9,
              "xBinEnd": 71225.725,
              "xBinStart": 64750.75,
              "yBinEnd": 203,
              "yBinStart": 188.5
             },
             {
              "count": 3,
              "xBinEnd": 71225.725,
              "xBinStart": 64750.75,
              "yBinEnd": 217.5,
              "yBinStart": 203
             },
             {
              "count": 3,
              "xBinEnd": 71225.725,
              "xBinStart": 64750.75,
              "yBinEnd": 246.5,
              "yBinStart": 232
             },
             {
              "count": 1,
              "xBinEnd": 71225.725,
              "xBinStart": 64750.75,
              "yBinEnd": 261,
              "yBinStart": 246.5
             },
             {
              "count": 2,
              "xBinEnd": 71225.725,
              "xBinStart": 64750.75,
              "yBinEnd": 275.5,
              "yBinStart": 261
             },
             {
              "count": 3,
              "xBinEnd": 71225.725,
              "xBinStart": 64750.75,
              "yBinEnd": 304.5,
              "yBinStart": 290
             },
             {
              "count": 1,
              "xBinEnd": 71225.725,
              "xBinStart": 64750.75,
              "yBinEnd": 319,
              "yBinStart": 304.5
             },
             {
              "count": 1,
              "xBinEnd": 71225.725,
              "xBinStart": 64750.75,
              "yBinEnd": 333.5,
              "yBinStart": 319
             },
             {
              "count": 1,
              "xBinEnd": 71225.725,
              "xBinStart": 64750.75,
              "yBinEnd": 565.5,
              "yBinStart": 551
             },
             {
              "count": 7,
              "xBinEnd": 77700.7,
              "xBinStart": 71225.725,
              "yBinEnd": 14.5,
              "yBinStart": -0.58
             },
             {
              "count": 16,
              "xBinEnd": 77700.7,
              "xBinStart": 71225.725,
              "yBinEnd": 29,
              "yBinStart": 14.5
             },
             {
              "count": 18,
              "xBinEnd": 77700.7,
              "xBinStart": 71225.725,
              "yBinEnd": 43.5,
              "yBinStart": 29
             },
             {
              "count": 13,
              "xBinEnd": 77700.7,
              "xBinStart": 71225.725,
              "yBinEnd": 130.5,
              "yBinStart": 116
             },
             {
              "count": 15,
              "xBinEnd": 77700.7,
              "xBinStart": 71225.725,
              "yBinEnd": 145,
              "yBinStart": 130.5
             },
             {
              "count": 3,
              "xBinEnd": 77700.7,
              "xBinStart": 71225.725,
              "yBinEnd": 159.5,
              "yBinStart": 145
             },
             {
              "count": 6,
              "xBinEnd": 77700.7,
              "xBinStart": 71225.725,
              "yBinEnd": 174,
              "yBinStart": 159.5
             },
             {
              "count": 9,
              "xBinEnd": 77700.7,
              "xBinStart": 71225.725,
              "yBinEnd": 203,
              "yBinStart": 188.5
             },
             {
              "count": 1,
              "xBinEnd": 77700.7,
              "xBinStart": 71225.725,
              "yBinEnd": 217.5,
              "yBinStart": 203
             },
             {
              "count": 2,
              "xBinEnd": 77700.7,
              "xBinStart": 71225.725,
              "yBinEnd": 246.5,
              "yBinStart": 232
             },
             {
              "count": 3,
              "xBinEnd": 77700.7,
              "xBinStart": 71225.725,
              "yBinEnd": 304.5,
              "yBinStart": 290
             },
             {
              "count": 1,
              "xBinEnd": 77700.7,
              "xBinStart": 71225.725,
              "yBinEnd": 333.5,
              "yBinStart": 319
             },
             {
              "count": 1,
              "xBinEnd": 77700.7,
              "xBinStart": 71225.725,
              "yBinEnd": 565.5,
              "yBinStart": 551
             },
             {
              "count": 6,
              "xBinEnd": 84175.675,
              "xBinStart": 77700.7,
              "yBinEnd": 14.5,
              "yBinStart": -0.58
             },
             {
              "count": 26,
              "xBinEnd": 84175.675,
              "xBinStart": 77700.7,
              "yBinEnd": 29,
              "yBinStart": 14.5
             },
             {
              "count": 20,
              "xBinEnd": 84175.675,
              "xBinStart": 77700.7,
              "yBinEnd": 43.5,
              "yBinStart": 29
             },
             {
              "count": 12,
              "xBinEnd": 84175.675,
              "xBinStart": 77700.7,
              "yBinEnd": 130.5,
              "yBinStart": 116
             },
             {
              "count": 10,
              "xBinEnd": 84175.675,
              "xBinStart": 77700.7,
              "yBinEnd": 145,
              "yBinStart": 130.5
             },
             {
              "count": 1,
              "xBinEnd": 84175.675,
              "xBinStart": 77700.7,
              "yBinEnd": 159.5,
              "yBinStart": 145
             },
             {
              "count": 2,
              "xBinEnd": 84175.675,
              "xBinStart": 77700.7,
              "yBinEnd": 174,
              "yBinStart": 159.5
             },
             {
              "count": 5,
              "xBinEnd": 84175.675,
              "xBinStart": 77700.7,
              "yBinEnd": 203,
              "yBinStart": 188.5
             },
             {
              "count": 2,
              "xBinEnd": 84175.675,
              "xBinStart": 77700.7,
              "yBinEnd": 217.5,
              "yBinStart": 203
             },
             {
              "count": 1,
              "xBinEnd": 84175.675,
              "xBinStart": 77700.7,
              "yBinEnd": 246.5,
              "yBinStart": 232
             },
             {
              "count": 2,
              "xBinEnd": 84175.675,
              "xBinStart": 77700.7,
              "yBinEnd": 304.5,
              "yBinStart": 290
             },
             {
              "count": 2,
              "xBinEnd": 84175.675,
              "xBinStart": 77700.7,
              "yBinEnd": 565.5,
              "yBinStart": 551
             },
             {
              "count": 6,
              "xBinEnd": 90650.65,
              "xBinStart": 84175.675,
              "yBinEnd": 14.5,
              "yBinStart": -0.58
             },
             {
              "count": 8,
              "xBinEnd": 90650.65,
              "xBinStart": 84175.675,
              "yBinEnd": 29,
              "yBinStart": 14.5
             },
             {
              "count": 9,
              "xBinEnd": 90650.65,
              "xBinStart": 84175.675,
              "yBinEnd": 43.5,
              "yBinStart": 29
             },
             {
              "count": 6,
              "xBinEnd": 90650.65,
              "xBinStart": 84175.675,
              "yBinEnd": 130.5,
              "yBinStart": 116
             },
             {
              "count": 8,
              "xBinEnd": 90650.65,
              "xBinStart": 84175.675,
              "yBinEnd": 145,
              "yBinStart": 130.5
             },
             {
              "count": 1,
              "xBinEnd": 90650.65,
              "xBinStart": 84175.675,
              "yBinEnd": 159.5,
              "yBinStart": 145
             },
             {
              "count": 3,
              "xBinEnd": 90650.65,
              "xBinStart": 84175.675,
              "yBinEnd": 174,
              "yBinStart": 159.5
             },
             {
              "count": 3,
              "xBinEnd": 90650.65,
              "xBinStart": 84175.675,
              "yBinEnd": 203,
              "yBinStart": 188.5
             },
             {
              "count": 2,
              "xBinEnd": 90650.65,
              "xBinStart": 84175.675,
              "yBinEnd": 217.5,
              "yBinStart": 203
             },
             {
              "count": 2,
              "xBinEnd": 90650.65,
              "xBinStart": 84175.675,
              "yBinEnd": 246.5,
              "yBinStart": 232
             },
             {
              "count": 1,
              "xBinEnd": 90650.65,
              "xBinStart": 84175.675,
              "yBinEnd": 319,
              "yBinStart": 304.5
             },
             {
              "count": 1,
              "xBinEnd": 90650.65,
              "xBinStart": 84175.675,
              "yBinEnd": 333.5,
              "yBinStart": 319
             },
             {
              "count": 1,
              "xBinEnd": 90650.65,
              "xBinStart": 84175.675,
              "yBinEnd": 565.5,
              "yBinStart": 551
             },
             {
              "count": 1,
              "xBinEnd": 97125.625,
              "xBinStart": 90650.65,
              "yBinEnd": 14.5,
              "yBinStart": -0.58
             },
             {
              "count": 11,
              "xBinEnd": 97125.625,
              "xBinStart": 90650.65,
              "yBinEnd": 29,
              "yBinStart": 14.5
             },
             {
              "count": 8,
              "xBinEnd": 97125.625,
              "xBinStart": 90650.65,
              "yBinEnd": 43.5,
              "yBinStart": 29
             },
             {
              "count": 3,
              "xBinEnd": 97125.625,
              "xBinStart": 90650.65,
              "yBinEnd": 130.5,
              "yBinStart": 116
             },
             {
              "count": 5,
              "xBinEnd": 97125.625,
              "xBinStart": 90650.65,
              "yBinEnd": 145,
              "yBinStart": 130.5
             },
             {
              "count": 1,
              "xBinEnd": 97125.625,
              "xBinStart": 90650.65,
              "yBinEnd": 159.5,
              "yBinStart": 145
             },
             {
              "count": 2,
              "xBinEnd": 97125.625,
              "xBinStart": 90650.65,
              "yBinEnd": 203,
              "yBinStart": 188.5
             },
             {
              "count": 1,
              "xBinEnd": 97125.625,
              "xBinStart": 90650.65,
              "yBinEnd": 232,
              "yBinStart": 217.5
             },
             {
              "count": 1,
              "xBinEnd": 97125.625,
              "xBinStart": 90650.65,
              "yBinEnd": 304.5,
              "yBinStart": 290
             },
             {
              "count": 1,
              "xBinEnd": 97125.625,
              "xBinStart": 90650.65,
              "yBinEnd": 565.5,
              "yBinStart": 551
             },
             {
              "count": 1,
              "xBinEnd": 103600.6,
              "xBinStart": 97125.625,
              "yBinEnd": 14.5,
              "yBinStart": -0.58
             },
             {
              "count": 6,
              "xBinEnd": 103600.6,
              "xBinStart": 97125.625,
              "yBinEnd": 29,
              "yBinStart": 14.5
             },
             {
              "count": 5,
              "xBinEnd": 103600.6,
              "xBinStart": 97125.625,
              "yBinEnd": 43.5,
              "yBinStart": 29
             },
             {
              "count": 3,
              "xBinEnd": 103600.6,
              "xBinStart": 97125.625,
              "yBinEnd": 130.5,
              "yBinStart": 116
             },
             {
              "count": 1,
              "xBinEnd": 103600.6,
              "xBinStart": 97125.625,
              "yBinEnd": 145,
              "yBinStart": 130.5
             },
             {
              "count": 1,
              "xBinEnd": 103600.6,
              "xBinStart": 97125.625,
              "yBinEnd": 174,
              "yBinStart": 159.5
             },
             {
              "count": 4,
              "xBinEnd": 103600.6,
              "xBinStart": 97125.625,
              "yBinEnd": 203,
              "yBinStart": 188.5
             },
             {
              "count": 1,
              "xBinEnd": 110075.575,
              "xBinStart": 103600.6,
              "yBinEnd": 14.5,
              "yBinStart": -0.58
             },
             {
              "count": 5,
              "xBinEnd": 110075.575,
              "xBinStart": 103600.6,
              "yBinEnd": 29,
              "yBinStart": 14.5
             },
             {
              "count": 3,
              "xBinEnd": 110075.575,
              "xBinStart": 103600.6,
              "yBinEnd": 43.5,
              "yBinStart": 29
             },
             {
              "count": 1,
              "xBinEnd": 110075.575,
              "xBinStart": 103600.6,
              "yBinEnd": 130.5,
              "yBinStart": 116
             },
             {
              "count": 2,
              "xBinEnd": 110075.575,
              "xBinStart": 103600.6,
              "yBinEnd": 217.5,
              "yBinStart": 203
             },
             {
              "count": 2,
              "xBinEnd": 110075.575,
              "xBinStart": 103600.6,
              "yBinEnd": 275.5,
              "yBinStart": 261
             },
             {
              "count": 1,
              "xBinEnd": 110075.575,
              "xBinStart": 103600.6,
              "yBinEnd": 565.5,
              "yBinStart": 551
             },
             {
              "count": 1,
              "xBinEnd": 116550.55,
              "xBinStart": 110075.575,
              "yBinEnd": 14.5,
              "yBinStart": -0.58
             },
             {
              "count": 6,
              "xBinEnd": 116550.55,
              "xBinStart": 110075.575,
              "yBinEnd": 29,
              "yBinStart": 14.5
             },
             {
              "count": 1,
              "xBinEnd": 116550.55,
              "xBinStart": 110075.575,
              "yBinEnd": 43.5,
              "yBinStart": 29
             },
             {
              "count": 1,
              "xBinEnd": 116550.55,
              "xBinStart": 110075.575,
              "yBinEnd": 130.5,
              "yBinStart": 116
             },
             {
              "count": 2,
              "xBinEnd": 116550.55,
              "xBinStart": 110075.575,
              "yBinEnd": 145,
              "yBinStart": 130.5
             },
             {
              "count": 1,
              "xBinEnd": 116550.55,
              "xBinStart": 110075.575,
              "yBinEnd": 174,
              "yBinStart": 159.5
             },
             {
              "count": 2,
              "xBinEnd": 123025.525,
              "xBinStart": 116550.55,
              "yBinEnd": 29,
              "yBinStart": 14.5
             },
             {
              "count": 1,
              "xBinEnd": 123025.525,
              "xBinStart": 116550.55,
              "yBinEnd": 130.5,
              "yBinStart": 116
             },
             {
              "count": 1,
              "xBinEnd": 123025.525,
              "xBinStart": 116550.55,
              "yBinEnd": 145,
              "yBinStart": 130.5
             },
             {
              "count": 1,
              "xBinEnd": 123025.525,
              "xBinStart": 116550.55,
              "yBinEnd": 203,
              "yBinStart": 188.5
             },
             {
              "count": 1,
              "xBinEnd": 123025.525,
              "xBinStart": 116550.55,
              "yBinEnd": 304.5,
              "yBinStart": 290
             },
             {
              "count": 6,
              "xBinEnd": 129500.5,
              "xBinStart": 123025.525,
              "yBinEnd": 29,
              "yBinStart": 14.5
             },
             {
              "count": 2,
              "xBinEnd": 129500.5,
              "xBinStart": 123025.525,
              "yBinEnd": 130.5,
              "yBinStart": 116
             },
             {
              "count": 1,
              "xBinEnd": 129500.5,
              "xBinStart": 123025.525,
              "yBinEnd": 145,
              "yBinStart": 130.5
             },
             {
              "count": 1,
              "xBinEnd": 129500.5,
              "xBinStart": 123025.525,
              "yBinEnd": 159.5,
              "yBinStart": 145
             },
             {
              "count": 1,
              "xBinEnd": 129500.5,
              "xBinStart": 123025.525,
              "yBinEnd": 565.5,
              "yBinStart": 551
             },
             {
              "count": 1,
              "xBinEnd": 135975.475,
              "xBinStart": 129500.5,
              "yBinEnd": 14.5,
              "yBinStart": -0.58
             },
             {
              "count": 1,
              "xBinEnd": 135975.475,
              "xBinStart": 129500.5,
              "yBinEnd": 130.5,
              "yBinStart": 116
             },
             {
              "count": 1,
              "xBinEnd": 135975.475,
              "xBinStart": 129500.5,
              "yBinEnd": 565.5,
              "yBinStart": 551
             },
             {
              "count": 1,
              "xBinEnd": 142450.45,
              "xBinStart": 135975.475,
              "yBinEnd": 14.5,
              "yBinStart": -0.58
             },
             {
              "count": 1,
              "xBinEnd": 142450.45,
              "xBinStart": 135975.475,
              "yBinEnd": 29,
              "yBinStart": 14.5
             },
             {
              "count": 2,
              "xBinEnd": 142450.45,
              "xBinStart": 135975.475,
              "yBinEnd": 43.5,
              "yBinStart": 29
             },
             {
              "count": 1,
              "xBinEnd": 142450.45,
              "xBinStart": 135975.475,
              "yBinEnd": 159.5,
              "yBinStart": 145
             },
             {
              "count": 1,
              "xBinEnd": 148925.425,
              "xBinStart": 142450.45,
              "yBinEnd": 217.5,
              "yBinStart": 203
             },
             {
              "count": 1,
              "xBinEnd": 155400.4,
              "xBinStart": 148925.425,
              "yBinEnd": 29,
              "yBinStart": 14.5
             },
             {
              "count": 2,
              "xBinEnd": 155400.4,
              "xBinStart": 148925.425,
              "yBinEnd": 43.5,
              "yBinStart": 29
             },
             {
              "count": 1,
              "xBinEnd": 161875.375,
              "xBinStart": 155400.4,
              "yBinEnd": 551,
              "yBinStart": 536.5
             },
             {
              "count": 1,
              "xBinEnd": 168350.35,
              "xBinStart": 161875.375,
              "yBinEnd": 43.5,
              "yBinStart": 29
             },
             {
              "count": 1,
              "xBinEnd": 174825.325,
              "xBinStart": 168350.35,
              "yBinEnd": 145,
              "yBinStart": 130.5
             },
             {
              "count": 1,
              "xBinEnd": 246050.05,
              "xBinStart": 239575.075,
              "yBinEnd": 29,
              "yBinStart": 14.5
             },
             {
              "count": 1,
              "xBinEnd": 259000,
              "xBinStart": 252525.025,
              "yBinEnd": 551,
              "yBinStart": 536.5
             }
            ]
           },
           "encoding": {
            "opacity": {
             "field": "count",
             "legend": null,
             "scale": {
              "type": "log"
             },
             "type": "quantitative"
            },
            "x": {
             "axis": {
              "title": "mileage"
             },
             "bin": {
              "binned": true
             },
             "field": "xBinStart",
             "type": "quantitative"
            },
            "x2": {
             "field": "xBinEnd"
            },
            "y": {
             "axis": {
              "title": "tax"
             },
             "bin": {
              "binned": true
             },
             "field": "yBinStart",
             "type": "quantitative"
            },
            "y2": {
             "field": "yBinEnd"
            }
           },
           "height": 150,
           "mark": {
            "type": "rect"
           },
           "params": [
            {
             "bind": "scales",
             "name": "param_3",
             "select": {
              "encodings": [
               "x",
               "y"
              ],
              "type": "interval"
             }
            }
           ],
           "vislib": "vegalite",
           "width": 160
          },
          {
           "$schema": "https://vega.github.io/schema/vega-lite/v5.8.0.json",
           "config": {
            "axis": {
             "labelColor": "#505050",
             "labelFont": "Helvetica Neue",
             "labelFontSize": 9,
             "labelFontWeight": 400,
             "titleFont": "Helvetica Neue",
             "titleFontSize": 11,
             "titleFontWeight": 500
            },
            "legend": {
             "labelFont": "Helvetica Neue",
             "labelFontSize": 9,
             "labelFontWeight": 400,
             "titleFont": "Helvetica Neue",
             "titleFontSize": 10,
             "titleFontWeight": 500
            },
            "mark": {
             "tooltip": {
              "content": "encoding"
             }
            },
            "scale": {
             "maxOpacity": 1,
             "minOpacity": 0.1
            },
            "title": {
             "font": "Helvetica Neue",
             "fontSize": 13,
             "fontWeight": 500
            },
            "view": {
             "continuousHeight": 300,
             "continuousWidth": 300
            }
           },
           "data": {
            "name": "data-d80485cd42aa3614b68caf51f56b34c6"
           },
           "datasets": {
            "data-d80485cd42aa3614b68caf51f56b34c6": [
             {
              "count": 3,
              "xBinEnd": 6.505,
              "xBinStart": 0.884,
              "yBinEnd": 33079.8,
              "yBinStart": 29113.575
             },
             {
              "count": 1,
              "xBinEnd": 6.505,
              "xBinStart": 0.884,
              "yBinEnd": 37046.025,
              "yBinStart": 33079.8
             },
             {
              "count": 1,
              "xBinEnd": 11.91,
              "xBinStart": 6.505,
              "yBinEnd": 104471.85,
              "yBinStart": 100505.625
             },
             {
              "count": 1,
              "xBinEnd": 22.72,
              "xBinStart": 17.315,
              "yBinEnd": 29113.575,
              "yBinStart": 25147.35
             },
             {
              "count": 2,
              "xBinEnd": 22.72,
              "xBinStart": 17.315,
              "yBinEnd": 64809.6,
              "yBinStart": 60843.375
             },
             {
              "count": 4,
              "xBinEnd": 22.72,
              "xBinStart": 17.315,
              "yBinEnd": 68775.825,
              "yBinStart": 64809.6
             },
             {
              "count": 4,
              "xBinEnd": 22.72,
              "xBinStart": 17.315,
              "yBinEnd": 72742.05,
              "yBinStart": 68775.825
             },
             {
              "count": 9,
              "xBinEnd": 22.72,
              "xBinStart": 17.315,
              "yBinEnd": 76708.275,
              "yBinStart": 72742.05
             },
             {
              "count": 1,
              "xBinEnd": 22.72,
              "xBinStart": 17.315,
              "yBinEnd": 80674.5,
              "yBinStart": 76708.275
             },
             {
              "count": 2,
              "xBinEnd": 22.72,
              "xBinStart": 17.315,
              "yBinEnd": 100505.625,
              "yBinStart": 96539.4
             },
             {
              "count": 2,
              "xBinEnd": 22.72,
              "xBinStart": 17.315,
              "yBinEnd": 108438.075,
              "yBinStart": 104471.85
             },
             {
              "count": 1,
              "xBinEnd": 22.72,
              "xBinStart": 17.315,
              "yBinEnd": 112404.3,
              "yBinStart": 108438.075
             },
             {
              "count": 1,
              "xBinEnd": 22.72,
              "xBinStart": 17.315,
              "yBinEnd": 116370.525,
              "yBinStart": 112404.3
             },
             {
              "count": 1,
              "xBinEnd": 22.72,
              "xBinStart": 17.315,
              "yBinEnd": 124302.975,
              "yBinStart": 120336.75
             },
             {
              "count": 2,
              "xBinEnd": 22.72,
              "xBinStart": 17.315,
              "yBinEnd": 136201.65,
              "yBinStart": 132235.425
             },
             {
              "count": 4,
              "xBinEnd": 22.72,
              "xBinStart": 17.315,
              "yBinEnd": 140167.875,
              "yBinStart": 136201.65
             },
             {
              "count": 1,
              "xBinEnd": 22.72,
              "xBinStart": 17.315,
              "yBinEnd": 144134.1,
              "yBinStart": 140167.875
             },
             {
              "count": 1,
              "xBinEnd": 22.72,
              "xBinStart": 17.315,
              "yBinEnd": 152066.55,
              "yBinStart": 148100.325
             },
             {
              "count": 1,
              "xBinEnd": 22.72,
              "xBinStart": 17.315,
              "yBinEnd": 156032.775,
              "yBinStart": 152066.55
             },
             {
              "count": 1,
              "xBinEnd": 22.72,
              "xBinStart": 17.315,
              "yBinEnd": 159999,
              "yBinStart": 156032.775
             },
             {
              "count": 6,
              "xBinEnd": 28.125,
              "xBinStart": 22.72,
              "yBinEnd": 25147.35,
              "yBinStart": 21181.125
             },
             {
              "count": 3,
              "xBinEnd": 28.125,
              "xBinStart": 22.72,
              "yBinEnd": 29113.575,
              "yBinStart": 25147.35
             },
             {
              "count": 2,
              "xBinEnd": 28.125,
              "xBinStart": 22.72,
              "yBinEnd": 33079.8,
              "yBinStart": 29113.575
             },
             {
              "count": 1,
              "xBinEnd": 28.125,
              "xBinStart": 22.72,
              "yBinEnd": 37046.025,
              "yBinStart": 33079.8
             },
             {
              "count": 4,
              "xBinEnd": 28.125,
              "xBinStart": 22.72,
              "yBinEnd": 44978.475,
              "yBinStart": 41012.25
             },
             {
              "count": 15,
              "xBinEnd": 28.125,
              "xBinStart": 22.72,
              "yBinEnd": 48944.7,
              "yBinStart": 44978.475
             },
             {
              "count": 21,
              "xBinEnd": 28.125,
              "xBinStart": 22.72,
              "yBinEnd": 52910.925,
              "yBinStart": 48944.7
             },
             {
              "count": 13,
              "xBinEnd": 28.125,
              "xBinStart": 22.72,
              "yBinEnd": 56877.15,
              "yBinStart": 52910.925
             },
             {
              "count": 9,
              "xBinEnd": 28.125,
              "xBinStart": 22.72,
              "yBinEnd": 60843.375,
              "yBinStart": 56877.15
             },
             {
              "count": 6,
              "xBinEnd": 28.125,
              "xBinStart": 22.72,
              "yBinEnd": 64809.6,
              "yBinStart": 60843.375
             },
             {
              "count": 17,
              "xBinEnd": 28.125,
              "xBinStart": 22.72,
              "yBinEnd": 68775.825,
              "yBinStart": 64809.6
             },
             {
              "count": 8,
              "xBinEnd": 28.125,
              "xBinStart": 22.72,
              "yBinEnd": 72742.05,
              "yBinStart": 68775.825
             },
             {
              "count": 3,
              "xBinEnd": 28.125,
              "xBinStart": 22.72,
              "yBinEnd": 76708.275,
              "yBinStart": 72742.05
             },
             {
              "count": 8,
              "xBinEnd": 28.125,
              "xBinStart": 22.72,
              "yBinEnd": 80674.5,
              "yBinStart": 76708.275
             },
             {
              "count": 1,
              "xBinEnd": 28.125,
              "xBinStart": 22.72,
              "yBinEnd": 84640.725,
              "yBinStart": 80674.5
             },
             {
              "count": 1,
              "xBinEnd": 28.125,
              "xBinStart": 22.72,
              "yBinEnd": 88606.95,
              "yBinStart": 84640.725
             },
             {
              "count": 4,
              "xBinEnd": 28.125,
              "xBinStart": 22.72,
              "yBinEnd": 92573.175,
              "yBinStart": 88606.95
             },
             {
              "count": 1,
              "xBinEnd": 28.125,
              "xBinStart": 22.72,
              "yBinEnd": 96539.4,
              "yBinStart": 92573.175
             },
             {
              "count": 1,
              "xBinEnd": 28.125,
              "xBinStart": 22.72,
              "yBinEnd": 100505.625,
              "yBinStart": 96539.4
             },
             {
              "count": 2,
              "xBinEnd": 28.125,
              "xBinStart": 22.72,
              "yBinEnd": 112404.3,
              "yBinStart": 108438.075
             },
             {
              "count": 3,
              "xBinEnd": 28.125,
              "xBinStart": 22.72,
              "yBinEnd": 128269.2,
              "yBinStart": 124302.975
             },
             {
              "count": 1,
              "xBinEnd": 28.125,
              "xBinStart": 22.72,
              "yBinEnd": 132235.425,
              "yBinStart": 128269.2
             },
             {
              "count": 1,
              "xBinEnd": 28.125,
              "xBinStart": 22.72,
              "yBinEnd": 136201.65,
              "yBinStart": 132235.425
             },
             {
              "count": 5,
              "xBinEnd": 33.53,
              "xBinStart": 28.125,
              "yBinEnd": 9282.45,
              "yBinStart": 5316.225
             },
             {
              "count": 7,
              "xBinEnd": 33.53,
              "xBinStart": 28.125,
              "yBinEnd": 13248.675,
              "yBinStart": 9282.45
             },
             {
              "count": 2,
              "xBinEnd": 33.53,
              "xBinStart": 28.125,
              "yBinEnd": 17214.9,
              "yBinStart": 13248.675
             },
             {
              "count": 54,
              "xBinEnd": 33.53,
              "xBinStart": 28.125,
              "yBinEnd": 21181.125,
              "yBinStart": 17214.9
             },
             {
              "count": 45,
              "xBinEnd": 33.53,
              "xBinStart": 28.125,
              "yBinEnd": 25147.35,
              "yBinStart": 21181.125
             },
             {
              "count": 27,
              "xBinEnd": 33.53,
              "xBinStart": 28.125,
              "yBinEnd": 29113.575,
              "yBinStart": 25147.35
             },
             {
              "count": 12,
              "xBinEnd": 33.53,
              "xBinStart": 28.125,
              "yBinEnd": 33079.8,
              "yBinStart": 29113.575
             },
             {
              "count": 22,
              "xBinEnd": 33.53,
              "xBinStart": 28.125,
              "yBinEnd": 37046.025,
              "yBinStart": 33079.8
             },
             {
              "count": 81,
              "xBinEnd": 33.53,
              "xBinStart": 28.125,
              "yBinEnd": 41012.25,
              "yBinStart": 37046.025
             },
             {
              "count": 85,
              "xBinEnd": 33.53,
              "xBinStart": 28.125,
              "yBinEnd": 44978.475,
              "yBinStart": 41012.25
             },
             {
              "count": 57,
              "xBinEnd": 33.53,
              "xBinStart": 28.125,
              "yBinEnd": 48944.7,
              "yBinStart": 44978.475
             },
             {
              "count": 66,
              "xBinEnd": 33.53,
              "xBinStart": 28.125,
              "yBinEnd": 52910.925,
              "yBinStart": 48944.7
             },
             {
              "count": 66,
              "xBinEnd": 33.53,
              "xBinStart": 28.125,
              "yBinEnd": 56877.15,
              "yBinStart": 52910.925
             },
             {
              "count": 48,
              "xBinEnd": 33.53,
              "xBinStart": 28.125,
              "yBinEnd": 60843.375,
              "yBinStart": 56877.15
             },
             {
              "count": 11,
              "xBinEnd": 33.53,
              "xBinStart": 28.125,
              "yBinEnd": 64809.6,
              "yBinStart": 60843.375
             },
             {
              "count": 12,
              "xBinEnd": 33.53,
              "xBinStart": 28.125,
              "yBinEnd": 68775.825,
              "yBinStart": 64809.6
             },
             {
              "count": 6,
              "xBinEnd": 33.53,
              "xBinStart": 28.125,
              "yBinEnd": 72742.05,
              "yBinStart": 68775.825
             },
             {
              "count": 4,
              "xBinEnd": 33.53,
              "xBinStart": 28.125,
              "yBinEnd": 76708.275,
              "yBinStart": 72742.05
             },
             {
              "count": 7,
              "xBinEnd": 33.53,
              "xBinStart": 28.125,
              "yBinEnd": 80674.5,
              "yBinStart": 76708.275
             },
             {
              "count": 1,
              "xBinEnd": 33.53,
              "xBinStart": 28.125,
              "yBinEnd": 84640.725,
              "yBinStart": 80674.5
             },
             {
              "count": 1,
              "xBinEnd": 33.53,
              "xBinStart": 28.125,
              "yBinEnd": 92573.175,
              "yBinStart": 88606.95
             },
             {
              "count": 1,
              "xBinEnd": 33.53,
              "xBinStart": 28.125,
              "yBinEnd": 100505.625,
              "yBinStart": 96539.4
             },
             {
              "count": 1,
              "xBinEnd": 33.53,
              "xBinStart": 28.125,
              "yBinEnd": 104471.85,
              "yBinStart": 100505.625
             },
             {
              "count": 1,
              "xBinEnd": 33.53,
              "xBinStart": 28.125,
              "yBinEnd": 108438.075,
              "yBinStart": 104471.85
             },
             {
              "count": 1,
              "xBinEnd": 33.53,
              "xBinStart": 28.125,
              "yBinEnd": 112404.3,
              "yBinStart": 108438.075
             },
             {
              "count": 1,
              "xBinEnd": 33.53,
              "xBinStart": 28.125,
              "yBinEnd": 116370.525,
              "yBinStart": 112404.3
             },
             {
              "count": 1,
              "xBinEnd": 33.53,
              "xBinStart": 28.125,
              "yBinEnd": 128269.2,
              "yBinStart": 124302.975
             },
             {
              "count": 1,
              "xBinEnd": 38.935,
              "xBinStart": 33.53,
              "yBinEnd": 5316.225,
              "yBinStart": 1191.351
             },
             {
              "count": 6,
              "xBinEnd": 38.935,
              "xBinStart": 33.53,
              "yBinEnd": 9282.45,
              "yBinStart": 5316.225
             },
             {
              "count": 2,
              "xBinEnd": 38.935,
              "xBinStart": 33.53,
              "yBinEnd": 13248.675,
              "yBinStart": 9282.45
             },
             {
              "count": 3,
              "xBinEnd": 38.935,
              "xBinStart": 33.53,
              "yBinEnd": 17214.9,
              "yBinStart": 13248.675
             },
             {
              "count": 6,
              "xBinEnd": 38.935,
              "xBinStart": 33.53,
              "yBinEnd": 21181.125,
              "yBinStart": 17214.9
             },
             {
              "count": 57,
              "xBinEnd": 38.935,
              "xBinStart": 33.53,
              "yBinEnd": 25147.35,
              "yBinStart": 21181.125
             },
             {
              "count": 126,
              "xBinEnd": 38.935,
              "xBinStart": 33.53,
              "yBinEnd": 29113.575,
              "yBinStart": 25147.35
             },
             {
              "count": 117,
              "xBinEnd": 38.935,
              "xBinStart": 33.53,
              "yBinEnd": 33079.8,
              "yBinStart": 29113.575
             },
             {
              "count": 108,
              "xBinEnd": 38.935,
              "xBinStart": 33.53,
              "yBinEnd": 37046.025,
              "yBinStart": 33079.8
             },
             {
              "count": 51,
              "xBinEnd": 38.935,
              "xBinStart": 33.53,
              "yBinEnd": 41012.25,
              "yBinStart": 37046.025
             },
             {
              "count": 54,
              "xBinEnd": 38.935,
              "xBinStart": 33.53,
              "yBinEnd": 44978.475,
              "yBinStart": 41012.25
             },
             {
              "count": 104,
              "xBinEnd": 38.935,
              "xBinStart": 33.53,
              "yBinEnd": 48944.7,
              "yBinStart": 44978.475
             },
             {
              "count": 52,
              "xBinEnd": 38.935,
              "xBinStart": 33.53,
              "yBinEnd": 52910.925,
              "yBinStart": 48944.7
             },
             {
              "count": 7,
              "xBinEnd": 38.935,
              "xBinStart": 33.53,
              "yBinEnd": 56877.15,
              "yBinStart": 52910.925
             },
             {
              "count": 6,
              "xBinEnd": 38.935,
              "xBinStart": 33.53,
              "yBinEnd": 60843.375,
              "yBinStart": 56877.15
             },
             {
              "count": 2,
              "xBinEnd": 38.935,
              "xBinStart": 33.53,
              "yBinEnd": 64809.6,
              "yBinStart": 60843.375
             },
             {
              "count": 1,
              "xBinEnd": 38.935,
              "xBinStart": 33.53,
              "yBinEnd": 68775.825,
              "yBinStart": 64809.6
             },
             {
              "count": 1,
              "xBinEnd": 38.935,
              "xBinStart": 33.53,
              "yBinEnd": 76708.275,
              "yBinStart": 72742.05
             },
             {
              "count": 2,
              "xBinEnd": 38.935,
              "xBinStart": 33.53,
              "yBinEnd": 80674.5,
              "yBinStart": 76708.275
             },
             {
              "count": 1,
              "xBinEnd": 38.935,
              "xBinStart": 33.53,
              "yBinEnd": 84640.725,
              "yBinStart": 80674.5
             },
             {
              "count": 3,
              "xBinEnd": 38.935,
              "xBinStart": 33.53,
              "yBinEnd": 88606.95,
              "yBinStart": 84640.725
             },
             {
              "count": 2,
              "xBinEnd": 38.935,
              "xBinStart": 33.53,
              "yBinEnd": 92573.175,
              "yBinStart": 88606.95
             },
             {
              "count": 2,
              "xBinEnd": 38.935,
              "xBinStart": 33.53,
              "yBinEnd": 96539.4,
              "yBinStart": 92573.175
             },
             {
              "count": 5,
              "xBinEnd": 44.34,
              "xBinStart": 38.935,
              "yBinEnd": 5316.225,
              "yBinStart": 1191.351
             },
             {
              "count": 15,
              "xBinEnd": 44.34,
              "xBinStart": 38.935,
              "yBinEnd": 9282.45,
              "yBinStart": 5316.225
             },
             {
              "count": 17,
              "xBinEnd": 44.34,
              "xBinStart": 38.935,
              "yBinEnd": 13248.675,
              "yBinStart": 9282.45
             },
             {
              "count": 35,
              "xBinEnd": 44.34,
              "xBinStart": 38.935,
              "yBinEnd": 17214.9,
              "yBinStart": 13248.675
             },
             {
              "count": 103,
              "xBinEnd": 44.34,
              "xBinStart": 38.935,
              "yBinEnd": 21181.125,
              "yBinStart": 17214.9
             },
             {
              "count": 143,
              "xBinEnd": 44.34,
              "xBinStart": 38.935,
              "yBinEnd": 25147.35,
              "yBinStart": 21181.125
             },
             {
              "count": 240,
              "xBinEnd": 44.34,
              "xBinStart": 38.935,
              "yBinEnd": 29113.575,
              "yBinStart": 25147.35
             },
             {
              "count": 260,
              "xBinEnd": 44.34,
              "xBinStart": 38.935,
              "yBinEnd": 33079.8,
              "yBinStart": 29113.575
             },
             {
              "count": 145,
              "xBinEnd": 44.34,
              "xBinStart": 38.935,
              "yBinEnd": 37046.025,
              "yBinStart": 33079.8
             },
             {
              "count": 101,
              "xBinEnd": 44.34,
              "xBinStart": 38.935,
              "yBinEnd": 41012.25,
              "yBinStart": 37046.025
             },
             {
              "count": 60,
              "xBinEnd": 44.34,
              "xBinStart": 38.935,
              "yBinEnd": 44978.475,
              "yBinStart": 41012.25
             },
             {
              "count": 14,
              "xBinEnd": 44.34,
              "xBinStart": 38.935,
              "yBinEnd": 48944.7,
              "yBinStart": 44978.475
             },
             {
              "count": 3,
              "xBinEnd": 44.34,
              "xBinStart": 38.935,
              "yBinEnd": 52910.925,
              "yBinStart": 48944.7
             },
             {
              "count": 4,
              "xBinEnd": 44.34,
              "xBinStart": 38.935,
              "yBinEnd": 56877.15,
              "yBinStart": 52910.925
             },
             {
              "count": 2,
              "xBinEnd": 44.34,
              "xBinStart": 38.935,
              "yBinEnd": 60843.375,
              "yBinStart": 56877.15
             },
             {
              "count": 1,
              "xBinEnd": 44.34,
              "xBinStart": 38.935,
              "yBinEnd": 64809.6,
              "yBinStart": 60843.375
             },
             {
              "count": 3,
              "xBinEnd": 44.34,
              "xBinStart": 38.935,
              "yBinEnd": 68775.825,
              "yBinStart": 64809.6
             },
             {
              "count": 1,
              "xBinEnd": 49.745,
              "xBinStart": 44.34,
              "yBinEnd": 5316.225,
              "yBinStart": 1191.351
             },
             {
              "count": 18,
              "xBinEnd": 49.745,
              "xBinStart": 44.34,
              "yBinEnd": 9282.45,
              "yBinStart": 5316.225
             },
             {
              "count": 60,
              "xBinEnd": 49.745,
              "xBinStart": 44.34,
              "yBinEnd": 13248.675,
              "yBinStart": 9282.45
             },
             {
              "count": 104,
              "xBinEnd": 49.745,
              "xBinStart": 44.34,
              "yBinEnd": 17214.9,
              "yBinStart": 13248.675
             },
             {
              "count": 329,
              "xBinEnd": 49.745,
              "xBinStart": 44.34,
              "yBinEnd": 21181.125,
              "yBinStart": 17214.9
             },
             {
              "count": 423,
              "xBinEnd": 49.745,
              "xBinStart": 44.34,
              "yBinEnd": 25147.35,
              "yBinStart": 21181.125
             },
             {
              "count": 355,
              "xBinEnd": 49.745,
              "xBinStart": 44.34,
              "yBinEnd": 29113.575,
              "yBinStart": 25147.35
             },
             {
              "count": 235,
              "xBinEnd": 49.745,
              "xBinStart": 44.34,
              "yBinEnd": 33079.8,
              "yBinStart": 29113.575
             },
             {
              "count": 166,
              "xBinEnd": 49.745,
              "xBinStart": 44.34,
              "yBinEnd": 37046.025,
              "yBinStart": 33079.8
             },
             {
              "count": 90,
              "xBinEnd": 49.745,
              "xBinStart": 44.34,
              "yBinEnd": 41012.25,
              "yBinStart": 37046.025
             },
             {
              "count": 37,
              "xBinEnd": 49.745,
              "xBinStart": 44.34,
              "yBinEnd": 44978.475,
              "yBinStart": 41012.25
             },
             {
              "count": 35,
              "xBinEnd": 49.745,
              "xBinStart": 44.34,
              "yBinEnd": 48944.7,
              "yBinStart": 44978.475
             },
             {
              "count": 8,
              "xBinEnd": 49.745,
              "xBinStart": 44.34,
              "yBinEnd": 52910.925,
              "yBinStart": 48944.7
             },
             {
              "count": 2,
              "xBinEnd": 49.745,
              "xBinStart": 44.34,
              "yBinEnd": 56877.15,
              "yBinStart": 52910.925
             },
             {
              "count": 7,
              "xBinEnd": 49.745,
              "xBinStart": 44.34,
              "yBinEnd": 60843.375,
              "yBinStart": 56877.15
             },
             {
              "count": 5,
              "xBinEnd": 49.745,
              "xBinStart": 44.34,
              "yBinEnd": 64809.6,
              "yBinStart": 60843.375
             },
             {
              "count": 6,
              "xBinEnd": 55.15,
              "xBinStart": 49.745,
              "yBinEnd": 5316.225,
              "yBinStart": 1191.351
             },
             {
              "count": 13,
              "xBinEnd": 55.15,
              "xBinStart": 49.745,
              "yBinEnd": 9282.45,
              "yBinStart": 5316.225
             },
             {
              "count": 139,
              "xBinEnd": 55.15,
              "xBinStart": 49.745,
              "yBinEnd": 13248.675,
              "yBinStart": 9282.45
             },
             {
              "count": 279,
              "xBinEnd": 55.15,
              "xBinStart": 49.745,
              "yBinEnd": 17214.9,
              "yBinStart": 13248.675
             },
             {
              "count": 347,
              "xBinEnd": 55.15,
              "xBinStart": 49.745,
              "yBinEnd": 21181.125,
              "yBinStart": 17214.9
             },
             {
              "count": 222,
              "xBinEnd": 55.15,
              "xBinStart": 49.745,
              "yBinEnd": 25147.35,
              "yBinStart": 21181.125
             },
             {
              "count": 237,
              "xBinEnd": 55.15,
              "xBinStart": 49.745,
              "yBinEnd": 29113.575,
              "yBinStart": 25147.35
             },
             {
              "count": 92,
              "xBinEnd": 55.15,
              "xBinStart": 49.745,
              "yBinEnd": 33079.8,
              "yBinStart": 29113.575
             },
             {
              "count": 16,
              "xBinEnd": 55.15,
              "xBinStart": 49.745,
              "yBinEnd": 37046.025,
              "yBinStart": 33079.8
             },
             {
              "count": 20,
              "xBinEnd": 55.15,
              "xBinStart": 49.745,
              "yBinEnd": 41012.25,
              "yBinStart": 37046.025
             },
             {
              "count": 7,
              "xBinEnd": 55.15,
              "xBinStart": 49.745,
              "yBinEnd": 44978.475,
              "yBinStart": 41012.25
             },
             {
              "count": 15,
              "xBinEnd": 55.15,
              "xBinStart": 49.745,
              "yBinEnd": 48944.7,
              "yBinStart": 44978.475
             },
             {
              "count": 4,
              "xBinEnd": 55.15,
              "xBinStart": 49.745,
              "yBinEnd": 52910.925,
              "yBinStart": 48944.7
             },
             {
              "count": 16,
              "xBinEnd": 55.15,
              "xBinStart": 49.745,
              "yBinEnd": 56877.15,
              "yBinStart": 52910.925
             },
             {
              "count": 4,
              "xBinEnd": 55.15,
              "xBinStart": 49.745,
              "yBinEnd": 60843.375,
              "yBinStart": 56877.15
             },
             {
              "count": 2,
              "xBinEnd": 55.15,
              "xBinStart": 49.745,
              "yBinEnd": 64809.6,
              "yBinStart": 60843.375
             },
             {
              "count": 2,
              "xBinEnd": 55.15,
              "xBinStart": 49.745,
              "yBinEnd": 68775.825,
              "yBinStart": 64809.6
             },
             {
              "count": 27,
              "xBinEnd": 60.555,
              "xBinStart": 55.15,
              "yBinEnd": 9282.45,
              "yBinStart": 5316.225
             },
             {
              "count": 104,
              "xBinEnd": 60.555,
              "xBinStart": 55.15,
              "yBinEnd": 13248.675,
              "yBinStart": 9282.45
             },
             {
              "count": 260,
              "xBinEnd": 60.555,
              "xBinStart": 55.15,
              "yBinEnd": 17214.9,
              "yBinStart": 13248.675
             },
             {
              "count": 438,
              "xBinEnd": 60.555,
              "xBinStart": 55.15,
              "yBinEnd": 21181.125,
              "yBinStart": 17214.9
             },
             {
              "count": 434,
              "xBinEnd": 60.555,
              "xBinStart": 55.15,
              "yBinEnd": 25147.35,
              "yBinStart": 21181.125
             },
             {
              "count": 510,
              "xBinEnd": 60.555,
              "xBinStart": 55.15,
              "yBinEnd": 29113.575,
              "yBinStart": 25147.35
             },
             {
              "count": 278,
              "xBinEnd": 60.555,
              "xBinStart": 55.15,
              "yBinEnd": 33079.8,
              "yBinStart": 29113.575
             },
             {
              "count": 74,
              "xBinEnd": 60.555,
              "xBinStart": 55.15,
              "yBinEnd": 37046.025,
              "yBinStart": 33079.8
             },
             {
              "count": 26,
              "xBinEnd": 60.555,
              "xBinStart": 55.15,
              "yBinEnd": 41012.25,
              "yBinStart": 37046.025
             },
             {
              "count": 12,
              "xBinEnd": 60.555,
              "xBinStart": 55.15,
              "yBinEnd": 44978.475,
              "yBinStart": 41012.25
             },
             {
              "count": 1,
              "xBinEnd": 60.555,
              "xBinStart": 55.15,
              "yBinEnd": 48944.7,
              "yBinStart": 44978.475
             },
             {
              "count": 32,
              "xBinEnd": 65.96,
              "xBinStart": 60.555,
              "yBinEnd": 9282.45,
              "yBinStart": 5316.225
             },
             {
              "count": 183,
              "xBinEnd": 65.96,
              "xBinStart": 60.555,
              "yBinEnd": 13248.675,
              "yBinStart": 9282.45
             },
             {
              "count": 648,
              "xBinEnd": 65.96,
              "xBinStart": 60.555,
              "yBinEnd": 17214.9,
              "yBinStart": 13248.675
             },
             {
              "count": 759,
              "xBinEnd": 65.96,
              "xBinStart": 60.555,
              "yBinEnd": 21181.125,
              "yBinStart": 17214.9
             },
             {
              "count": 423,
              "xBinEnd": 65.96,
              "xBinStart": 60.555,
              "yBinEnd": 25147.35,
              "yBinStart": 21181.125
             },
             {
              "count": 226,
              "xBinEnd": 65.96,
              "xBinStart": 60.555,
              "yBinEnd": 29113.575,
              "yBinStart": 25147.35
             },
             {
              "count": 135,
              "xBinEnd": 65.96,
              "xBinStart": 60.555,
              "yBinEnd": 33079.8,
              "yBinStart": 29113.575
             },
             {
              "count": 35,
              "xBinEnd": 65.96,
              "xBinStart": 60.555,
              "yBinEnd": 37046.025,
              "yBinStart": 33079.8
             },
             {
              "count": 4,
              "xBinEnd": 65.96,
              "xBinStart": 60.555,
              "yBinEnd": 41012.25,
              "yBinStart": 37046.025
             },
             {
              "count": 8,
              "xBinEnd": 71.365,
              "xBinStart": 65.96,
              "yBinEnd": 9282.45,
              "yBinStart": 5316.225
             },
             {
              "count": 181,
              "xBinEnd": 71.365,
              "xBinStart": 65.96,
              "yBinEnd": 13248.675,
              "yBinStart": 9282.45
             },
             {
              "count": 520,
              "xBinEnd": 71.365,
              "xBinStart": 65.96,
              "yBinEnd": 17214.9,
              "yBinStart": 13248.675
             },
             {
              "count": 451,
              "xBinEnd": 71.365,
              "xBinStart": 65.96,
              "yBinEnd": 21181.125,
              "yBinStart": 17214.9
             },
             {
              "count": 268,
              "xBinEnd": 71.365,
              "xBinStart": 65.96,
              "yBinEnd": 25147.35,
              "yBinStart": 21181.125
             },
             {
              "count": 59,
              "xBinEnd": 71.365,
              "xBinStart": 65.96,
              "yBinEnd": 29113.575,
              "yBinStart": 25147.35
             },
             {
              "count": 24,
              "xBinEnd": 71.365,
              "xBinStart": 65.96,
              "yBinEnd": 33079.8,
              "yBinStart": 29113.575
             },
             {
              "count": 19,
              "xBinEnd": 71.365,
              "xBinStart": 65.96,
              "yBinEnd": 37046.025,
              "yBinStart": 33079.8
             },
             {
              "count": 5,
              "xBinEnd": 71.365,
              "xBinStart": 65.96,
              "yBinEnd": 41012.25,
              "yBinStart": 37046.025
             },
             {
              "count": 1,
              "xBinEnd": 71.365,
              "xBinStart": 65.96,
              "yBinEnd": 44978.475,
              "yBinStart": 41012.25
             },
             {
              "count": 2,
              "xBinEnd": 71.365,
              "xBinStart": 65.96,
              "yBinEnd": 48944.7,
              "yBinStart": 44978.475
             },
             {
              "count": 9,
              "xBinEnd": 76.77,
              "xBinStart": 71.365,
              "yBinEnd": 9282.45,
              "yBinStart": 5316.225
             },
             {
              "count": 97,
              "xBinEnd": 76.77,
              "xBinStart": 71.365,
              "yBinEnd": 13248.675,
              "yBinStart": 9282.45
             },
             {
              "count": 211,
              "xBinEnd": 76.77,
              "xBinStart": 71.365,
              "yBinEnd": 17214.9,
              "yBinStart": 13248.675
             },
             {
              "count": 184,
              "xBinEnd": 76.77,
              "xBinStart": 71.365,
              "yBinEnd": 21181.125,
              "yBinStart": 17214.9
             },
             {
              "count": 124,
              "xBinEnd": 76.77,
              "xBinStart": 71.365,
              "yBinEnd": 25147.35,
              "yBinStart": 21181.125
             },
             {
              "count": 85,
              "xBinEnd": 76.77,
              "xBinStart": 71.365,
              "yBinEnd": 29113.575,
              "yBinStart": 25147.35
             },
             {
              "count": 2,
              "xBinEnd": 76.77,
              "xBinStart": 71.365,
              "yBinEnd": 33079.8,
              "yBinStart": 29113.575
             },
             {
              "count": 1,
              "xBinEnd": 76.77,
              "xBinStart": 71.365,
              "yBinEnd": 37046.025,
              "yBinStart": 33079.8
             },
             {
              "count": 2,
              "xBinEnd": 76.77,
              "xBinStart": 71.365,
              "yBinEnd": 41012.25,
              "yBinStart": 37046.025
             },
             {
              "count": 1,
              "xBinEnd": 82.175,
              "xBinStart": 76.77,
              "yBinEnd": 9282.45,
              "yBinStart": 5316.225
             },
             {
              "count": 33,
              "xBinEnd": 82.175,
              "xBinStart": 76.77,
              "yBinEnd": 13248.675,
              "yBinStart": 9282.45
             },
             {
              "count": 11,
              "xBinEnd": 82.175,
              "xBinStart": 76.77,
              "yBinEnd": 17214.9,
              "yBinStart": 13248.675
             },
             {
              "count": 4,
              "xBinEnd": 82.175,
              "xBinStart": 76.77,
              "yBinEnd": 21181.125,
              "yBinStart": 17214.9
             },
             {
              "count": 1,
              "xBinEnd": 103.795,
              "xBinStart": 98.39,
              "yBinEnd": 48944.7,
              "yBinStart": 44978.475
             },
             {
              "count": 2,
              "xBinEnd": 103.795,
              "xBinStart": 98.39,
              "yBinEnd": 60843.375,
              "yBinStart": 56877.15
             },
             {
              "count": 2,
              "xBinEnd": 125.415,
              "xBinStart": 120.01,
              "yBinEnd": 17214.9,
              "yBinStart": 13248.675
             },
             {
              "count": 1,
              "xBinEnd": 125.415,
              "xBinStart": 120.01,
              "yBinEnd": 21181.125,
              "yBinStart": 17214.9
             },
             {
              "count": 1,
              "xBinEnd": 125.415,
              "xBinStart": 120.01,
              "yBinEnd": 56877.15,
              "yBinStart": 52910.925
             },
             {
              "count": 1,
              "xBinEnd": 136.225,
              "xBinStart": 130.82,
              "yBinEnd": 13248.675,
              "yBinStart": 9282.45
             },
             {
              "count": 24,
              "xBinEnd": 136.225,
              "xBinStart": 130.82,
              "yBinEnd": 17214.9,
              "yBinStart": 13248.675
             },
             {
              "count": 55,
              "xBinEnd": 136.225,
              "xBinStart": 130.82,
              "yBinEnd": 21181.125,
              "yBinStart": 17214.9
             },
             {
              "count": 2,
              "xBinEnd": 136.225,
              "xBinStart": 130.82,
              "yBinEnd": 25147.35,
              "yBinStart": 21181.125
             },
             {
              "count": 2,
              "xBinEnd": 136.225,
              "xBinStart": 130.82,
              "yBinEnd": 37046.025,
              "yBinStart": 33079.8
             },
             {
              "count": 1,
              "xBinEnd": 136.225,
              "xBinStart": 130.82,
              "yBinEnd": 41012.25,
              "yBinStart": 37046.025
             },
             {
              "count": 1,
              "xBinEnd": 179.465,
              "xBinStart": 174.06,
              "yBinEnd": 37046.025,
              "yBinStart": 33079.8
             },
             {
              "count": 3,
              "xBinEnd": 179.465,
              "xBinStart": 174.06,
              "yBinEnd": 44978.475,
              "yBinStart": 41012.25
             },
             {
              "count": 3,
              "xBinEnd": 190.275,
              "xBinStart": 184.87,
              "yBinEnd": 37046.025,
              "yBinStart": 33079.8
             },
             {
              "count": 13,
              "xBinEnd": 190.275,
              "xBinStart": 184.87,
              "yBinEnd": 41012.25,
              "yBinStart": 37046.025
             },
             {
              "count": 5,
              "xBinEnd": 190.275,
              "xBinStart": 184.87,
              "yBinEnd": 44978.475,
              "yBinStart": 41012.25
             },
             {
              "count": 1,
              "xBinEnd": 206.49,
              "xBinStart": 201.085,
              "yBinEnd": 37046.025,
              "yBinStart": 33079.8
             },
             {
              "count": 1,
              "xBinEnd": 217.3,
              "xBinStart": 211.895,
              "yBinEnd": 37046.025,
              "yBinStart": 33079.8
             }
            ]
           },
           "encoding": {
            "opacity": {
             "field": "count",
             "legend": null,
             "scale": {
              "type": "log"
             },
             "type": "quantitative"
            },
            "x": {
             "axis": {
              "title": "mpg"
             },
             "bin": {
              "binned": true
             },
             "field": "xBinStart",
             "type": "quantitative"
            },
            "x2": {
             "field": "xBinEnd"
            },
            "y": {
             "axis": {
              "title": "price"
             },
             "bin": {
              "binned": true
             },
             "field": "yBinStart",
             "type": "quantitative"
            },
            "y2": {
             "field": "yBinEnd"
            }
           },
           "height": 150,
           "mark": {
            "type": "rect"
           },
           "params": [
            {
             "bind": "scales",
             "name": "param_4",
             "select": {
              "encodings": [
               "x",
               "y"
              ],
              "type": "interval"
             }
            }
           ],
           "vislib": "vegalite",
           "width": 160
          },
          {
           "$schema": "https://vega.github.io/schema/vega-lite/v5.8.0.json",
           "config": {
            "axis": {
             "labelColor": "#505050",
             "labelFont": "Helvetica Neue",
             "labelFontSize": 9,
             "labelFontWeight": 400,
             "titleFont": "Helvetica Neue",
             "titleFontSize": 11,
             "titleFontWeight": 500
            },
            "legend": {
             "labelFont": "Helvetica Neue",
             "labelFontSize": 9,
             "labelFontWeight": 400,
             "titleFont": "Helvetica Neue",
             "titleFontSize": 10,
             "titleFontWeight": 500
            },
            "mark": {
             "tooltip": {
              "content": "encoding"
             }
            },
            "scale": {
             "maxOpacity": 1,
             "minOpacity": 0.1
            },
            "title": {
             "font": "Helvetica Neue",
             "fontSize": 13,
             "fontWeight": 500
            },
            "view": {
             "continuousHeight": 300,
             "continuousWidth": 300
            }
           },
           "data": {
            "name": "data-b5c95e6e769466eb3f5740a283a2b07d"
           },
           "datasets": {
            "data-b5c95e6e769466eb3f5740a283a2b07d": [
             {
              "count": 4,
              "xBinEnd": 14.5,
              "xBinStart": -0.58,
              "yBinEnd": 71.365,
              "yBinStart": 65.96
             },
             {
              "count": 49,
              "xBinEnd": 14.5,
              "xBinStart": -0.58,
              "yBinEnd": 76.77,
              "yBinStart": 71.365
             },
             {
              "count": 40,
              "xBinEnd": 14.5,
              "xBinStart": -0.58,
              "yBinEnd": 82.175,
              "yBinStart": 76.77
             },
             {
              "count": 3,
              "xBinEnd": 14.5,
              "xBinStart": -0.58,
              "yBinEnd": 125.415,
              "yBinStart": 120.01
             },
             {
              "count": 73,
              "xBinEnd": 14.5,
              "xBinStart": -0.58,
              "yBinEnd": 136.225,
              "yBinStart": 130.82
             },
             {
              "count": 272,
              "xBinEnd": 29,
              "xBinStart": 14.5,
              "yBinEnd": 65.96,
              "yBinStart": 60.555
             },
             {
              "count": 695,
              "xBinEnd": 29,
              "xBinStart": 14.5,
              "yBinEnd": 71.365,
              "yBinStart": 65.96
             },
             {
              "count": 284,
              "xBinEnd": 29,
              "xBinStart": 14.5,
              "yBinEnd": 76.77,
              "yBinStart": 71.365
             },
             {
              "count": 1,
              "xBinEnd": 43.5,
              "xBinStart": 29,
              "yBinEnd": 55.15,
              "yBinStart": 49.745
             },
             {
              "count": 30,
              "xBinEnd": 43.5,
              "xBinStart": 29,
              "yBinEnd": 60.555,
              "yBinStart": 55.15
             },
             {
              "count": 884,
              "xBinEnd": 43.5,
              "xBinStart": 29,
              "yBinEnd": 65.96,
              "yBinStart": 60.555
             },
             {
              "count": 74,
              "xBinEnd": 43.5,
              "xBinStart": 29,
              "yBinEnd": 71.365,
              "yBinStart": 65.96
             },
             {
              "count": 1,
              "xBinEnd": 116,
              "xBinStart": 101.5,
              "yBinEnd": 55.15,
              "yBinStart": 49.745
             },
             {
              "count": 1,
              "xBinEnd": 116,
              "xBinStart": 101.5,
              "yBinEnd": 60.555,
              "yBinStart": 55.15
             },
             {
              "count": 2,
              "xBinEnd": 130.5,
              "xBinStart": 116,
              "yBinEnd": 49.745,
              "yBinStart": 44.34
             },
             {
              "count": 243,
              "xBinEnd": 130.5,
              "xBinStart": 116,
              "yBinEnd": 55.15,
              "yBinStart": 49.745
             },
             {
              "count": 705,
              "xBinEnd": 130.5,
              "xBinStart": 116,
              "yBinEnd": 60.555,
              "yBinStart": 55.15
             },
             {
              "count": 62,
              "xBinEnd": 130.5,
              "xBinStart": 116,
              "yBinEnd": 65.96,
              "yBinStart": 60.555
             },
             {
              "count": 4,
              "xBinEnd": 145,
              "xBinStart": 130.5,
              "yBinEnd": 6.505,
              "yBinStart": 0.884
             },
             {
              "count": 29,
              "xBinEnd": 145,
              "xBinStart": 130.5,
              "yBinEnd": 22.72,
              "yBinStart": 17.315
             },
             {
              "count": 102,
              "xBinEnd": 145,
              "xBinStart": 130.5,
              "yBinEnd": 28.125,
              "yBinStart": 22.72
             },
             {
              "count": 501,
              "xBinEnd": 145,
              "xBinStart": 130.5,
              "yBinEnd": 33.53,
              "yBinStart": 28.125
             },
             {
              "count": 452,
              "xBinEnd": 145,
              "xBinStart": 130.5,
              "yBinEnd": 38.935,
              "yBinStart": 33.53
             },
             {
              "count": 801,
              "xBinEnd": 145,
              "xBinStart": 130.5,
              "yBinEnd": 44.34,
              "yBinStart": 38.935
             },
             {
              "count": 1455,
              "xBinEnd": 145,
              "xBinStart": 130.5,
              "yBinEnd": 49.745,
              "yBinStart": 44.34
             },
             {
              "count": 883,
              "xBinEnd": 145,
              "xBinStart": 130.5,
              "yBinEnd": 55.15,
              "yBinStart": 49.745
             },
             {
              "count": 1283,
              "xBinEnd": 145,
              "xBinStart": 130.5,
              "yBinEnd": 60.555,
              "yBinStart": 55.15
             },
             {
              "count": 1141,
              "xBinEnd": 145,
              "xBinStart": 130.5,
              "yBinEnd": 65.96,
              "yBinStart": 60.555
             },
             {
              "count": 680,
              "xBinEnd": 145,
              "xBinStart": 130.5,
              "yBinEnd": 71.365,
              "yBinStart": 65.96
             },
             {
              "count": 322,
              "xBinEnd": 145,
              "xBinStart": 130.5,
              "yBinEnd": 76.77,
              "yBinStart": 71.365
             },
             {
              "count": 8,
              "xBinEnd": 145,
              "xBinStart": 130.5,
              "yBinEnd": 82.175,
              "yBinStart": 76.77
             },
             {
              "count": 3,
              "xBinEnd": 145,
              "xBinStart": 130.5,
              "yBinEnd": 103.795,
              "yBinStart": 98.39
             },
             {
              "count": 1,
              "xBinEnd": 145,
              "xBinStart": 130.5,
              "yBinEnd": 125.415,
              "yBinStart": 120.01
             },
             {
              "count": 12,
              "xBinEnd": 145,
              "xBinStart": 130.5,
              "yBinEnd": 136.225,
              "yBinStart": 130.82
             },
             {
              "count": 4,
              "xBinEnd": 145,
              "xBinStart": 130.5,
              "yBinEnd": 179.465,
              "yBinStart": 174.06
             },
             {
              "count": 21,
              "xBinEnd": 145,
              "xBinStart": 130.5,
              "yBinEnd": 190.275,
              "yBinStart": 184.87
             },
             {
              "count": 1,
              "xBinEnd": 145,
              "xBinStart": 130.5,
              "yBinEnd": 206.49,
              "yBinStart": 201.085
             },
             {
              "count": 1,
              "xBinEnd": 145,
              "xBinStart": 130.5,
              "yBinEnd": 217.3,
              "yBinStart": 211.895
             },
             {
              "count": 1,
              "xBinEnd": 159.5,
              "xBinStart": 145,
              "yBinEnd": 11.91,
              "yBinStart": 6.505
             },
             {
              "count": 6,
              "xBinEnd": 159.5,
              "xBinStart": 145,
              "yBinEnd": 22.72,
              "yBinStart": 17.315
             },
             {
              "count": 3,
              "xBinEnd": 159.5,
              "xBinStart": 145,
              "yBinEnd": 28.125,
              "yBinStart": 22.72
             },
             {
              "count": 57,
              "xBinEnd": 159.5,
              "xBinStart": 145,
              "yBinEnd": 33.53,
              "yBinStart": 28.125
             },
             {
              "count": 63,
              "xBinEnd": 159.5,
              "xBinStart": 145,
              "yBinEnd": 38.935,
              "yBinStart": 33.53
             },
             {
              "count": 63,
              "xBinEnd": 159.5,
              "xBinStart": 145,
              "yBinEnd": 44.34,
              "yBinStart": 38.935
             },
             {
              "count": 146,
              "xBinEnd": 159.5,
              "xBinStart": 145,
              "yBinEnd": 49.745,
              "yBinStart": 44.34
             },
             {
              "count": 138,
              "xBinEnd": 159.5,
              "xBinStart": 145,
              "yBinEnd": 55.15,
              "yBinStart": 49.745
             },
             {
              "count": 145,
              "xBinEnd": 159.5,
              "xBinStart": 145,
              "yBinEnd": 60.555,
              "yBinStart": 55.15
             },
             {
              "count": 86,
              "xBinEnd": 159.5,
              "xBinStart": 145,
              "yBinEnd": 65.96,
              "yBinStart": 60.555
             },
             {
              "count": 85,
              "xBinEnd": 159.5,
              "xBinStart": 145,
              "yBinEnd": 71.365,
              "yBinStart": 65.96
             },
             {
              "count": 60,
              "xBinEnd": 159.5,
              "xBinStart": 145,
              "yBinEnd": 76.77,
              "yBinStart": 71.365
             },
             {
              "count": 1,
              "xBinEnd": 159.5,
              "xBinStart": 145,
              "yBinEnd": 82.175,
              "yBinStart": 76.77
             },
             {
              "count": 28,
              "xBinEnd": 174,
              "xBinStart": 159.5,
              "yBinEnd": 44.34,
              "yBinStart": 38.935
             },
             {
              "count": 68,
              "xBinEnd": 174,
              "xBinStart": 159.5,
              "yBinEnd": 49.745,
              "yBinStart": 44.34
             },
             {
              "count": 155,
              "xBinEnd": 174,
              "xBinStart": 159.5,
              "yBinEnd": 55.15,
              "yBinStart": 49.745
             },
             {
              "count": 1,
              "xBinEnd": 188.5,
              "xBinStart": 174,
              "yBinEnd": 49.745,
              "yBinStart": 44.34
             },
             {
              "count": 120,
              "xBinEnd": 203,
              "xBinStart": 188.5,
              "yBinEnd": 44.34,
              "yBinStart": 38.935
             },
             {
              "count": 155,
              "xBinEnd": 203,
              "xBinStart": 188.5,
              "yBinEnd": 49.745,
              "yBinStart": 44.34
             },
             {
              "count": 26,
              "xBinEnd": 217.5,
              "xBinStart": 203,
              "yBinEnd": 44.34,
              "yBinStart": 38.935
             },
             {
              "count": 35,
              "xBinEnd": 217.5,
              "xBinStart": 203,
              "yBinEnd": 49.745,
              "yBinStart": 44.34
             },
             {
              "count": 1,
              "xBinEnd": 232,
              "xBinStart": 217.5,
              "yBinEnd": 44.34,
              "yBinStart": 38.935
             },
             {
              "count": 28,
              "xBinEnd": 246.5,
              "xBinStart": 232,
              "yBinEnd": 38.935,
              "yBinStart": 33.53
             },
             {
              "count": 20,
              "xBinEnd": 246.5,
              "xBinStart": 232,
              "yBinEnd": 44.34,
              "yBinStart": 38.935
             },
             {
              "count": 13,
              "xBinEnd": 246.5,
              "xBinStart": 232,
              "yBinEnd": 49.745,
              "yBinStart": 44.34
             },
             {
              "count": 16,
              "xBinEnd": 261,
              "xBinStart": 246.5,
              "yBinEnd": 33.53,
              "yBinStart": 28.125
             },
             {
              "count": 71,
              "xBinEnd": 261,
              "xBinStart": 246.5,
              "yBinEnd": 38.935,
              "yBinStart": 33.53
             },
             {
              "count": 31,
              "xBinEnd": 261,
              "xBinStart": 246.5,
              "yBinEnd": 44.34,
              "yBinStart": 38.935
             },
             {
              "count": 4,
              "xBinEnd": 275.5,
              "xBinStart": 261,
              "yBinEnd": 33.53,
              "yBinStart": 28.125
             },
             {
              "count": 12,
              "xBinEnd": 275.5,
              "xBinStart": 261,
              "yBinEnd": 38.935,
              "yBinStart": 33.53
             },
             {
              "count": 13,
              "xBinEnd": 275.5,
              "xBinStart": 261,
              "yBinEnd": 44.34,
              "yBinStart": 38.935
             },
             {
              "count": 7,
              "xBinEnd": 304.5,
              "xBinStart": 290,
              "yBinEnd": 33.53,
              "yBinStart": 28.125
             },
             {
              "count": 44,
              "xBinEnd": 304.5,
              "xBinStart": 290,
              "yBinEnd": 38.935,
              "yBinStart": 33.53
             },
             {
              "count": 39,
              "xBinEnd": 304.5,
              "xBinStart": 290,
              "yBinEnd": 44.34,
              "yBinStart": 38.935
             },
             {
              "count": 2,
              "xBinEnd": 319,
              "xBinStart": 304.5,
              "yBinEnd": 33.53,
              "yBinStart": 28.125
             },
             {
              "count": 22,
              "xBinEnd": 319,
              "xBinStart": 304.5,
              "yBinEnd": 38.935,
              "yBinStart": 33.53
             },
             {
              "count": 9,
              "xBinEnd": 319,
              "xBinStart": 304.5,
              "yBinEnd": 44.34,
              "yBinStart": 38.935
             },
             {
              "count": 17,
              "xBinEnd": 333.5,
              "xBinStart": 319,
              "yBinEnd": 33.53,
              "yBinStart": 28.125
             },
             {
              "count": 22,
              "xBinEnd": 333.5,
              "xBinStart": 319,
              "yBinEnd": 38.935,
              "yBinStart": 33.53
             },
             {
              "count": 3,
              "xBinEnd": 551,
              "xBinStart": 536.5,
              "yBinEnd": 33.53,
              "yBinStart": 28.125
             },
             {
              "count": 7,
              "xBinEnd": 565.5,
              "xBinStart": 551,
              "yBinEnd": 28.125,
              "yBinStart": 22.72
             },
             {
              "count": 18,
              "xBinEnd": 565.5,
              "xBinStart": 551,
              "yBinEnd": 33.53,
              "yBinStart": 28.125
             },
             {
              "count": 3,
              "xBinEnd": 580,
              "xBinStart": 565.5,
              "yBinEnd": 22.72,
              "yBinStart": 17.315
             },
             {
              "count": 19,
              "xBinEnd": 580,
              "xBinStart": 565.5,
              "yBinEnd": 28.125,
              "yBinStart": 22.72
             }
            ]
           },
           "encoding": {
            "opacity": {
             "field": "count",
             "legend": null,
             "scale": {
              "type": "log"
             },
             "type": "quantitative"
            },
            "x": {
             "axis": {
              "title": "tax"
             },
             "bin": {
              "binned": true
             },
             "field": "xBinStart",
             "type": "quantitative"
            },
            "x2": {
             "field": "xBinEnd"
            },
            "y": {
             "axis": {
              "title": "mpg"
             },
             "bin": {
              "binned": true
             },
             "field": "yBinStart",
             "type": "quantitative"
            },
            "y2": {
             "field": "yBinEnd"
            }
           },
           "height": 150,
           "mark": {
            "type": "rect"
           },
           "params": [
            {
             "bind": "scales",
             "name": "param_5",
             "select": {
              "encodings": [
               "x",
               "y"
              ],
              "type": "interval"
             }
            }
           ],
           "vislib": "vegalite",
           "width": 160
          },
          {
           "$schema": "https://vega.github.io/schema/vega-lite/v5.8.0.json",
           "config": {
            "axis": {
             "labelColor": "#505050",
             "labelFont": "Helvetica Neue",
             "labelFontSize": 9,
             "labelFontWeight": 400,
             "titleFont": "Helvetica Neue",
             "titleFontSize": 11,
             "titleFontWeight": 500
            },
            "legend": {
             "labelFont": "Helvetica Neue",
             "labelFontSize": 9,
             "labelFontWeight": 400,
             "titleFont": "Helvetica Neue",
             "titleFontSize": 10,
             "titleFontWeight": 500
            },
            "mark": {
             "tooltip": {
              "content": "encoding"
             }
            },
            "scale": {
             "maxOpacity": 1,
             "minOpacity": 0.1
            },
            "title": {
             "font": "Helvetica Neue",
             "fontSize": 13,
             "fontWeight": 500
            },
            "view": {
             "continuousHeight": 300,
             "continuousWidth": 300
            }
           },
           "data": {
            "name": "data-2267d2e447f35aa2d23df087827a70ae"
           },
           "datasets": {
            "data-2267d2e447f35aa2d23df087827a70ae": [
             {
              "count": 2,
              "xBinEnd": 6475.975,
              "xBinStart": -257.999,
              "yBinEnd": 13248.675,
              "yBinStart": 9282.45
             },
             {
              "count": 16,
              "xBinEnd": 6475.975,
              "xBinStart": -257.999,
              "yBinEnd": 17214.9,
              "yBinStart": 13248.675
             },
             {
              "count": 119,
              "xBinEnd": 6475.975,
              "xBinStart": -257.999,
              "yBinEnd": 21181.125,
              "yBinStart": 17214.9
             },
             {
              "count": 598,
              "xBinEnd": 6475.975,
              "xBinStart": -257.999,
              "yBinEnd": 25147.35,
              "yBinStart": 21181.125
             },
             {
              "count": 775,
              "xBinEnd": 6475.975,
              "xBinStart": -257.999,
              "yBinEnd": 29113.575,
              "yBinStart": 25147.35
             },
             {
              "count": 574,
              "xBinEnd": 6475.975,
              "xBinStart": -257.999,
              "yBinEnd": 33079.8,
              "yBinStart": 29113.575
             },
             {
              "count": 351,
              "xBinEnd": 6475.975,
              "xBinStart": -257.999,
              "yBinEnd": 37046.025,
              "yBinStart": 33079.8
             },
             {
              "count": 256,
              "xBinEnd": 6475.975,
              "xBinStart": -257.999,
              "yBinEnd": 41012.25,
              "yBinStart": 37046.025
             },
             {
              "count": 157,
              "xBinEnd": 6475.975,
              "xBinStart": -257.999,
              "yBinEnd": 44978.475,
              "yBinStart": 41012.25
             },
             {
              "count": 157,
              "xBinEnd": 6475.975,
              "xBinStart": -257.999,
              "yBinEnd": 48944.7,
              "yBinStart": 44978.475
             },
             {
              "count": 111,
              "xBinEnd": 6475.975,
              "xBinStart": -257.999,
              "yBinEnd": 52910.925,
              "yBinStart": 48944.7
             },
             {
              "count": 84,
              "xBinEnd": 6475.975,
              "xBinStart": -257.999,
              "yBinEnd": 56877.15,
              "yBinStart": 52910.925
             },
             {
              "count": 58,
              "xBinEnd": 6475.975,
              "xBinStart": -257.999,
              "yBinEnd": 60843.375,
              "yBinStart": 56877.15
             },
             {
              "count": 23,
              "xBinEnd": 6475.975,
              "xBinStart": -257.999,
              "yBinEnd": 64809.6,
              "yBinStart": 60843.375
             },
             {
              "count": 33,
              "xBinEnd": 6475.975,
              "xBinStart": -257.999,
              "yBinEnd": 68775.825,
              "yBinStart": 64809.6
             },
             {
              "count": 16,
              "xBinEnd": 6475.975,
              "xBinStart": -257.999,
              "yBinEnd": 72742.05,
              "yBinStart": 68775.825
             },
             {
              "count": 15,
              "xBinEnd": 6475.975,
              "xBinStart": -257.999,
              "yBinEnd": 76708.275,
              "yBinStart": 72742.05
             },
             {
              "count": 12,
              "xBinEnd": 6475.975,
              "xBinStart": -257.999,
              "yBinEnd": 80674.5,
              "yBinStart": 76708.275
             },
             {
              "count": 2,
              "xBinEnd": 6475.975,
              "xBinStart": -257.999,
              "yBinEnd": 84640.725,
              "yBinStart": 80674.5
             },
             {
              "count": 4,
              "xBinEnd": 6475.975,
              "xBinStart": -257.999,
              "yBinEnd": 88606.95,
              "yBinStart": 84640.725
             },
             {
              "count": 5,
              "xBinEnd": 6475.975,
              "xBinStart": -257.999,
              "yBinEnd": 92573.175,
              "yBinStart": 88606.95
             },
             {
              "count": 3,
              "xBinEnd": 6475.975,
              "xBinStart": -257.999,
              "yBinEnd": 96539.4,
              "yBinStart": 92573.175
             },
             {
              "count": 3,
              "xBinEnd": 6475.975,
              "xBinStart": -257.999,
              "yBinEnd": 100505.625,
              "yBinStart": 96539.4
             },
             {
              "count": 1,
              "xBinEnd": 6475.975,
              "xBinStart": -257.999,
              "yBinEnd": 104471.85,
              "yBinStart": 100505.625
             },
             {
              "count": 2,
              "xBinEnd": 6475.975,
              "xBinStart": -257.999,
              "yBinEnd": 108438.075,
              "yBinStart": 104471.85
             },
             {
              "count": 4,
              "xBinEnd": 6475.975,
              "xBinStart": -257.999,
              "yBinEnd": 112404.3,
              "yBinStart": 108438.075
             },
             {
              "count": 2,
              "xBinEnd": 6475.975,
              "xBinStart": -257.999,
              "yBinEnd": 116370.525,
              "yBinStart": 112404.3
             },
             {
              "count": 1,
              "xBinEnd": 6475.975,
              "xBinStart": -257.999,
              "yBinEnd": 124302.975,
              "yBinStart": 120336.75
             },
             {
              "count": 4,
              "xBinEnd": 6475.975,
              "xBinStart": -257.999,
              "yBinEnd": 128269.2,
              "yBinStart": 124302.975
             },
             {
              "count": 1,
              "xBinEnd": 6475.975,
              "xBinStart": -257.999,
              "yBinEnd": 132235.425,
              "yBinStart": 128269.2
             },
             {
              "count": 1,
              "xBinEnd": 6475.975,
              "xBinStart": -257.999,
              "yBinEnd": 136201.65,
              "yBinStart": 132235.425
             },
             {
              "count": 2,
              "xBinEnd": 6475.975,
              "xBinStart": -257.999,
              "yBinEnd": 140167.875,
              "yBinStart": 136201.65
             },
             {
              "count": 1,
              "xBinEnd": 6475.975,
              "xBinStart": -257.999,
              "yBinEnd": 144134.1,
              "yBinStart": 140167.875
             },
             {
              "count": 1,
              "xBinEnd": 6475.975,
              "xBinStart": -257.999,
              "yBinEnd": 152066.55,
              "yBinStart": 148100.325
             },
             {
              "count": 1,
              "xBinEnd": 6475.975,
              "xBinStart": -257.999,
              "yBinEnd": 156032.775,
              "yBinStart": 152066.55
             },
             {
              "count": 1,
              "xBinEnd": 6475.975,
              "xBinStart": -257.999,
              "yBinEnd": 159999,
              "yBinStart": 156032.775
             },
             {
              "count": 5,
              "xBinEnd": 12950.95,
              "xBinStart": 6475.975,
              "yBinEnd": 13248.675,
              "yBinStart": 9282.45
             },
             {
              "count": 79,
              "xBinEnd": 12950.95,
              "xBinStart": 6475.975,
              "yBinEnd": 17214.9,
              "yBinStart": 13248.675
             },
             {
              "count": 404,
              "xBinEnd": 12950.95,
              "xBinStart": 6475.975,
              "yBinEnd": 21181.125,
              "yBinStart": 17214.9
             },
             {
              "count": 506,
              "xBinEnd": 12950.95,
              "xBinStart": 6475.975,
              "yBinEnd": 25147.35,
              "yBinStart": 21181.125
             },
             {
              "count": 486,
              "xBinEnd": 12950.95,
              "xBinStart": 6475.975,
              "yBinEnd": 29113.575,
              "yBinStart": 25147.35
             },
             {
              "count": 302,
              "xBinEnd": 12950.95,
              "xBinStart": 6475.975,
              "yBinEnd": 33079.8,
              "yBinStart": 29113.575
             },
             {
              "count": 121,
              "xBinEnd": 12950.95,
              "xBinStart": 6475.975,
              "yBinEnd": 37046.025,
              "yBinStart": 33079.8
             },
             {
              "count": 78,
              "xBinEnd": 12950.95,
              "xBinStart": 6475.975,
              "yBinEnd": 41012.25,
              "yBinStart": 37046.025
             },
             {
              "count": 81,
              "xBinEnd": 12950.95,
              "xBinStart": 6475.975,
              "yBinEnd": 44978.475,
              "yBinStart": 41012.25
             },
             {
              "count": 66,
              "xBinEnd": 12950.95,
              "xBinStart": 6475.975,
              "yBinEnd": 48944.7,
              "yBinStart": 44978.475
             },
             {
              "count": 33,
              "xBinEnd": 12950.95,
              "xBinStart": 6475.975,
              "yBinEnd": 52910.925,
              "yBinStart": 48944.7
             },
             {
              "count": 18,
              "xBinEnd": 12950.95,
              "xBinStart": 6475.975,
              "yBinEnd": 56877.15,
              "yBinStart": 52910.925
             },
             {
              "count": 15,
              "xBinEnd": 12950.95,
              "xBinStart": 6475.975,
              "yBinEnd": 60843.375,
              "yBinStart": 56877.15
             },
             {
              "count": 4,
              "xBinEnd": 12950.95,
              "xBinStart": 6475.975,
              "yBinEnd": 64809.6,
              "yBinStart": 60843.375
             },
             {
              "count": 2,
              "xBinEnd": 12950.95,
              "xBinStart": 6475.975,
              "yBinEnd": 68775.825,
              "yBinStart": 64809.6
             },
             {
              "count": 1,
              "xBinEnd": 12950.95,
              "xBinStart": 6475.975,
              "yBinEnd": 72742.05,
              "yBinStart": 68775.825
             },
             {
              "count": 2,
              "xBinEnd": 12950.95,
              "xBinStart": 6475.975,
              "yBinEnd": 76708.275,
              "yBinStart": 72742.05
             },
             {
              "count": 4,
              "xBinEnd": 12950.95,
              "xBinStart": 6475.975,
              "yBinEnd": 80674.5,
              "yBinStart": 76708.275
             },
             {
              "count": 2,
              "xBinEnd": 12950.95,
              "xBinStart": 6475.975,
              "yBinEnd": 92573.175,
              "yBinStart": 88606.95
             },
             {
              "count": 1,
              "xBinEnd": 12950.95,
              "xBinStart": 6475.975,
              "yBinEnd": 100505.625,
              "yBinStart": 96539.4
             },
             {
              "count": 1,
              "xBinEnd": 12950.95,
              "xBinStart": 6475.975,
              "yBinEnd": 104471.85,
              "yBinStart": 100505.625
             },
             {
              "count": 1,
              "xBinEnd": 12950.95,
              "xBinStart": 6475.975,
              "yBinEnd": 108438.075,
              "yBinStart": 104471.85
             },
             {
              "count": 1,
              "xBinEnd": 12950.95,
              "xBinStart": 6475.975,
              "yBinEnd": 140167.875,
              "yBinStart": 136201.65
             },
             {
              "count": 18,
              "xBinEnd": 19425.925,
              "xBinStart": 12950.95,
              "yBinEnd": 13248.675,
              "yBinStart": 9282.45
             },
             {
              "count": 228,
              "xBinEnd": 19425.925,
              "xBinStart": 12950.95,
              "yBinEnd": 17214.9,
              "yBinStart": 13248.675
             },
             {
              "count": 621,
              "xBinEnd": 19425.925,
              "xBinStart": 12950.95,
              "yBinEnd": 21181.125,
              "yBinStart": 17214.9
             },
             {
              "count": 461,
              "xBinEnd": 19425.925,
              "xBinStart": 12950.95,
              "yBinEnd": 25147.35,
              "yBinStart": 21181.125
             },
             {
              "count": 294,
              "xBinEnd": 19425.925,
              "xBinStart": 12950.95,
              "yBinEnd": 29113.575,
              "yBinStart": 25147.35
             },
             {
              "count": 111,
              "xBinEnd": 19425.925,
              "xBinStart": 12950.95,
              "yBinEnd": 33079.8,
              "yBinStart": 29113.575
             },
             {
              "count": 53,
              "xBinEnd": 19425.925,
              "xBinStart": 12950.95,
              "yBinEnd": 37046.025,
              "yBinStart": 33079.8
             },
             {
              "count": 28,
              "xBinEnd": 19425.925,
              "xBinStart": 12950.95,
              "yBinEnd": 41012.25,
              "yBinStart": 37046.025
             },
             {
              "count": 20,
              "xBinEnd": 19425.925,
              "xBinStart": 12950.95,
              "yBinEnd": 44978.475,
              "yBinStart": 41012.25
             },
             {
              "count": 9,
              "xBinEnd": 19425.925,
              "xBinStart": 12950.95,
              "yBinEnd": 48944.7,
              "yBinStart": 44978.475
             },
             {
              "count": 3,
              "xBinEnd": 19425.925,
              "xBinStart": 12950.95,
              "yBinEnd": 52910.925,
              "yBinStart": 48944.7
             },
             {
              "count": 2,
              "xBinEnd": 19425.925,
              "xBinStart": 12950.95,
              "yBinEnd": 56877.15,
              "yBinStart": 52910.925
             },
             {
              "count": 2,
              "xBinEnd": 19425.925,
              "xBinStart": 12950.95,
              "yBinEnd": 60843.375,
              "yBinStart": 56877.15
             },
             {
              "count": 1,
              "xBinEnd": 19425.925,
              "xBinStart": 12950.95,
              "yBinEnd": 64809.6,
              "yBinStart": 60843.375
             },
             {
              "count": 3,
              "xBinEnd": 19425.925,
              "xBinStart": 12950.95,
              "yBinEnd": 68775.825,
              "yBinStart": 64809.6
             },
             {
              "count": 1,
              "xBinEnd": 19425.925,
              "xBinStart": 12950.95,
              "yBinEnd": 80674.5,
              "yBinStart": 76708.275
             },
             {
              "count": 2,
              "xBinEnd": 19425.925,
              "xBinStart": 12950.95,
              "yBinEnd": 136201.65,
              "yBinStart": 132235.425
             },
             {
              "count": 1,
              "xBinEnd": 19425.925,
              "xBinStart": 12950.95,
              "yBinEnd": 140167.875,
              "yBinStart": 136201.65
             },
             {
              "count": 47,
              "xBinEnd": 25900.9,
              "xBinStart": 19425.925,
              "yBinEnd": 13248.675,
              "yBinStart": 9282.45
             },
             {
              "count": 330,
              "xBinEnd": 25900.9,
              "xBinStart": 19425.925,
              "yBinEnd": 17214.9,
              "yBinStart": 13248.675
             },
             {
              "count": 486,
              "xBinEnd": 25900.9,
              "xBinStart": 19425.925,
              "yBinEnd": 21181.125,
              "yBinStart": 17214.9
             },
             {
              "count": 240,
              "xBinEnd": 25900.9,
              "xBinStart": 19425.925,
              "yBinEnd": 25147.35,
              "yBinStart": 21181.125
             },
             {
              "count": 88,
              "xBinEnd": 25900.9,
              "xBinStart": 19425.925,
              "yBinEnd": 29113.575,
              "yBinStart": 25147.35
             },
             {
              "count": 72,
              "xBinEnd": 25900.9,
              "xBinStart": 19425.925,
              "yBinEnd": 33079.8,
              "yBinStart": 29113.575
             },
             {
              "count": 31,
              "xBinEnd": 25900.9,
              "xBinStart": 19425.925,
              "yBinEnd": 37046.025,
              "yBinStart": 33079.8
             },
             {
              "count": 22,
              "xBinEnd": 25900.9,
              "xBinStart": 19425.925,
              "yBinEnd": 41012.25,
              "yBinStart": 37046.025
             },
             {
              "count": 5,
              "xBinEnd": 25900.9,
              "xBinStart": 19425.925,
              "yBinEnd": 44978.475,
              "yBinStart": 41012.25
             },
             {
              "count": 6,
              "xBinEnd": 25900.9,
              "xBinStart": 19425.925,
              "yBinEnd": 48944.7,
              "yBinStart": 44978.475
             },
             {
              "count": 6,
              "xBinEnd": 25900.9,
              "xBinStart": 19425.925,
              "yBinEnd": 52910.925,
              "yBinStart": 48944.7
             },
             {
              "count": 2,
              "xBinEnd": 25900.9,
              "xBinStart": 19425.925,
              "yBinEnd": 56877.15,
              "yBinStart": 52910.925
             },
             {
              "count": 2,
              "xBinEnd": 25900.9,
              "xBinStart": 19425.925,
              "yBinEnd": 60843.375,
              "yBinStart": 56877.15
             },
             {
              "count": 1,
              "xBinEnd": 25900.9,
              "xBinStart": 19425.925,
              "yBinEnd": 80674.5,
              "yBinStart": 76708.275
             },
             {
              "count": 1,
              "xBinEnd": 25900.9,
              "xBinStart": 19425.925,
              "yBinEnd": 84640.725,
              "yBinStart": 80674.5
             },
             {
              "count": 42,
              "xBinEnd": 32375.875,
              "xBinStart": 25900.9,
              "yBinEnd": 13248.675,
              "yBinStart": 9282.45
             },
             {
              "count": 338,
              "xBinEnd": 32375.875,
              "xBinStart": 25900.9,
              "yBinEnd": 17214.9,
              "yBinStart": 13248.675
             },
             {
              "count": 424,
              "xBinEnd": 32375.875,
              "xBinStart": 25900.9,
              "yBinEnd": 21181.125,
              "yBinStart": 17214.9
             },
             {
              "count": 148,
              "xBinEnd": 32375.875,
              "xBinStart": 25900.9,
              "yBinEnd": 25147.35,
              "yBinStart": 21181.125
             },
             {
              "count": 94,
              "xBinEnd": 32375.875,
              "xBinStart": 25900.9,
              "yBinEnd": 29113.575,
              "yBinStart": 25147.35
             },
             {
              "count": 47,
              "xBinEnd": 32375.875,
              "xBinStart": 25900.9,
              "yBinEnd": 33079.8,
              "yBinStart": 29113.575
             },
             {
              "count": 18,
              "xBinEnd": 32375.875,
              "xBinStart": 25900.9,
              "yBinEnd": 37046.025,
              "yBinStart": 33079.8
             },
             {
              "count": 6,
              "xBinEnd": 32375.875,
              "xBinStart": 25900.9,
              "yBinEnd": 41012.25,
              "yBinStart": 37046.025
             },
             {
              "count": 4,
              "xBinEnd": 32375.875,
              "xBinStart": 25900.9,
              "yBinEnd": 44978.475,
              "yBinStart": 41012.25
             },
             {
              "count": 1,
              "xBinEnd": 32375.875,
              "xBinStart": 25900.9,
              "yBinEnd": 48944.7,
              "yBinStart": 44978.475
             },
             {
              "count": 1,
              "xBinEnd": 32375.875,
              "xBinStart": 25900.9,
              "yBinEnd": 52910.925,
              "yBinStart": 48944.7
             },
             {
              "count": 1,
              "xBinEnd": 32375.875,
              "xBinStart": 25900.9,
              "yBinEnd": 64809.6,
              "yBinStart": 60843.375
             },
             {
              "count": 1,
              "xBinEnd": 38850.85,
              "xBinStart": 32375.875,
              "yBinEnd": 9282.45,
              "yBinStart": 5316.225
             },
             {
              "count": 76,
              "xBinEnd": 38850.85,
              "xBinStart": 32375.875,
              "yBinEnd": 13248.675,
              "yBinStart": 9282.45
             },
             {
              "count": 312,
              "xBinEnd": 38850.85,
              "xBinStart": 32375.875,
              "yBinEnd": 17214.9,
              "yBinStart": 13248.675
             },
             {
              "count": 283,
              "xBinEnd": 38850.85,
              "xBinStart": 32375.875,
              "yBinEnd": 21181.125,
              "yBinStart": 17214.9
             },
             {
              "count": 78,
              "xBinEnd": 38850.85,
              "xBinStart": 32375.875,
              "yBinEnd": 25147.35,
              "yBinStart": 21181.125
             },
             {
              "count": 75,
              "xBinEnd": 38850.85,
              "xBinStart": 32375.875,
              "yBinEnd": 29113.575,
              "yBinStart": 25147.35
             },
             {
              "count": 22,
              "xBinEnd": 38850.85,
              "xBinStart": 32375.875,
              "yBinEnd": 33079.8,
              "yBinStart": 29113.575
             },
             {
              "count": 7,
              "xBinEnd": 38850.85,
              "xBinStart": 32375.875,
              "yBinEnd": 37046.025,
              "yBinStart": 33079.8
             },
             {
              "count": 2,
              "xBinEnd": 38850.85,
              "xBinStart": 32375.875,
              "yBinEnd": 41012.25,
              "yBinStart": 37046.025
             },
             {
              "count": 1,
              "xBinEnd": 38850.85,
              "xBinStart": 32375.875,
              "yBinEnd": 44978.475,
              "yBinStart": 41012.25
             },
             {
              "count": 1,
              "xBinEnd": 38850.85,
              "xBinStart": 32375.875,
              "yBinEnd": 48944.7,
              "yBinStart": 44978.475
             },
             {
              "count": 2,
              "xBinEnd": 38850.85,
              "xBinStart": 32375.875,
              "yBinEnd": 56877.15,
              "yBinStart": 52910.925
             },
             {
              "count": 1,
              "xBinEnd": 38850.85,
              "xBinStart": 32375.875,
              "yBinEnd": 72742.05,
              "yBinStart": 68775.825
             },
             {
              "count": 6,
              "xBinEnd": 45325.825,
              "xBinStart": 38850.85,
              "yBinEnd": 9282.45,
              "yBinStart": 5316.225
             },
             {
              "count": 118,
              "xBinEnd": 45325.825,
              "xBinStart": 38850.85,
              "yBinEnd": 13248.675,
              "yBinStart": 9282.45
             },
             {
              "count": 269,
              "xBinEnd": 45325.825,
              "xBinStart": 38850.85,
              "yBinEnd": 17214.9,
              "yBinStart": 13248.675
             },
             {
              "count": 197,
              "xBinEnd": 45325.825,
              "xBinStart": 38850.85,
              "yBinEnd": 21181.125,
              "yBinStart": 17214.9
             },
             {
              "count": 53,
              "xBinEnd": 45325.825,
              "xBinStart": 38850.85,
              "yBinEnd": 25147.35,
              "yBinStart": 21181.125
             },
             {
              "count": 22,
              "xBinEnd": 45325.825,
              "xBinStart": 38850.85,
              "yBinEnd": 29113.575,
              "yBinStart": 25147.35
             },
             {
              "count": 18,
              "xBinEnd": 45325.825,
              "xBinStart": 38850.85,
              "yBinEnd": 33079.8,
              "yBinStart": 29113.575
             },
             {
              "count": 12,
              "xBinEnd": 45325.825,
              "xBinStart": 38850.85,
              "yBinEnd": 37046.025,
              "yBinStart": 33079.8
             },
             {
              "count": 2,
              "xBinEnd": 45325.825,
              "xBinStart": 38850.85,
              "yBinEnd": 41012.25,
              "yBinStart": 37046.025
             },
             {
              "count": 3,
              "xBinEnd": 45325.825,
              "xBinStart": 38850.85,
              "yBinEnd": 48944.7,
              "yBinStart": 44978.475
             },
             {
              "count": 1,
              "xBinEnd": 45325.825,
              "xBinStart": 38850.85,
              "yBinEnd": 56877.15,
              "yBinStart": 52910.925
             },
             {
              "count": 1,
              "xBinEnd": 45325.825,
              "xBinStart": 38850.85,
              "yBinEnd": 60843.375,
              "yBinStart": 56877.15
             },
             {
              "count": 1,
              "xBinEnd": 45325.825,
              "xBinStart": 38850.85,
              "yBinEnd": 68775.825,
              "yBinStart": 64809.6
             },
             {
              "count": 11,
              "xBinEnd": 51800.8,
              "xBinStart": 45325.825,
              "yBinEnd": 9282.45,
              "yBinStart": 5316.225
             },
             {
              "count": 108,
              "xBinEnd": 51800.8,
              "xBinStart": 45325.825,
              "yBinEnd": 13248.675,
              "yBinStart": 9282.45
             },
             {
              "count": 180,
              "xBinEnd": 51800.8,
              "xBinStart": 45325.825,
              "yBinEnd": 17214.9,
              "yBinStart": 13248.675
             },
             {
              "count": 99,
              "xBinEnd": 51800.8,
              "xBinStart": 45325.825,
              "yBinEnd": 21181.125,
              "yBinStart": 17214.9
             },
             {
              "count": 27,
              "xBinEnd": 51800.8,
              "xBinStart": 45325.825,
              "yBinEnd": 25147.35,
              "yBinStart": 21181.125
             },
             {
              "count": 17,
              "xBinEnd": 51800.8,
              "xBinStart": 45325.825,
              "yBinEnd": 29113.575,
              "yBinStart": 25147.35
             },
             {
              "count": 7,
              "xBinEnd": 51800.8,
              "xBinStart": 45325.825,
              "yBinEnd": 33079.8,
              "yBinStart": 29113.575
             },
             {
              "count": 2,
              "xBinEnd": 51800.8,
              "xBinStart": 45325.825,
              "yBinEnd": 37046.025,
              "yBinStart": 33079.8
             },
             {
              "count": 13,
              "xBinEnd": 58275.775,
              "xBinStart": 51800.8,
              "yBinEnd": 9282.45,
              "yBinStart": 5316.225
             },
             {
              "count": 93,
              "xBinEnd": 58275.775,
              "xBinStart": 51800.8,
              "yBinEnd": 13248.675,
              "yBinStart": 9282.45
             },
             {
              "count": 135,
              "xBinEnd": 58275.775,
              "xBinStart": 51800.8,
              "yBinEnd": 17214.9,
              "yBinStart": 13248.675
             },
             {
              "count": 47,
              "xBinEnd": 58275.775,
              "xBinStart": 51800.8,
              "yBinEnd": 21181.125,
              "yBinStart": 17214.9
             },
             {
              "count": 21,
              "xBinEnd": 58275.775,
              "xBinStart": 51800.8,
              "yBinEnd": 25147.35,
              "yBinStart": 21181.125
             },
             {
              "count": 8,
              "xBinEnd": 58275.775,
              "xBinStart": 51800.8,
              "yBinEnd": 29113.575,
              "yBinStart": 25147.35
             },
             {
              "count": 2,
              "xBinEnd": 58275.775,
              "xBinStart": 51800.8,
              "yBinEnd": 33079.8,
              "yBinStart": 29113.575
             },
             {
              "count": 1,
              "xBinEnd": 58275.775,
              "xBinStart": 51800.8,
              "yBinEnd": 37046.025,
              "yBinStart": 33079.8
             },
             {
              "count": 1,
              "xBinEnd": 58275.775,
              "xBinStart": 51800.8,
              "yBinEnd": 48944.7,
              "yBinStart": 44978.475
             },
             {
              "count": 2,
              "xBinEnd": 64750.75,
              "xBinStart": 58275.775,
              "yBinEnd": 5316.225,
              "yBinStart": 1191.351
             },
             {
              "count": 17,
              "xBinEnd": 64750.75,
              "xBinStart": 58275.775,
              "yBinEnd": 9282.45,
              "yBinStart": 5316.225
             },
             {
              "count": 80,
              "xBinEnd": 64750.75,
              "xBinStart": 58275.775,
              "yBinEnd": 13248.675,
              "yBinStart": 9282.45
             },
             {
              "count": 78,
              "xBinEnd": 64750.75,
              "xBinStart": 58275.775,
              "yBinEnd": 17214.9,
              "yBinStart": 13248.675
             },
             {
              "count": 22,
              "xBinEnd": 64750.75,
              "xBinStart": 58275.775,
              "yBinEnd": 21181.125,
              "yBinStart": 17214.9
             },
             {
              "count": 5,
              "xBinEnd": 64750.75,
              "xBinStart": 58275.775,
              "yBinEnd": 25147.35,
              "yBinStart": 21181.125
             },
             {
              "count": 6,
              "xBinEnd": 64750.75,
              "xBinStart": 58275.775,
              "yBinEnd": 29113.575,
              "yBinStart": 25147.35
             },
             {
              "count": 2,
              "xBinEnd": 64750.75,
              "xBinStart": 58275.775,
              "yBinEnd": 33079.8,
              "yBinStart": 29113.575
             },
             {
              "count": 3,
              "xBinEnd": 71225.725,
              "xBinStart": 64750.75,
              "yBinEnd": 5316.225,
              "yBinStart": 1191.351
             },
             {
              "count": 17,
              "xBinEnd": 71225.725,
              "xBinStart": 64750.75,
              "yBinEnd": 9282.45,
              "yBinStart": 5316.225
             },
             {
              "count": 65,
              "xBinEnd": 71225.725,
              "xBinStart": 64750.75,
              "yBinEnd": 13248.675,
              "yBinStart": 9282.45
             },
             {
              "count": 52,
              "xBinEnd": 71225.725,
              "xBinStart": 64750.75,
              "yBinEnd": 17214.9,
              "yBinStart": 13248.675
             },
             {
              "count": 17,
              "xBinEnd": 71225.725,
              "xBinStart": 64750.75,
              "yBinEnd": 21181.125,
              "yBinStart": 17214.9
             },
             {
              "count": 5,
              "xBinEnd": 71225.725,
              "xBinStart": 64750.75,
              "yBinEnd": 25147.35,
              "yBinStart": 21181.125
             },
             {
              "count": 1,
              "xBinEnd": 71225.725,
              "xBinStart": 64750.75,
              "yBinEnd": 29113.575,
              "yBinStart": 25147.35
             },
             {
              "count": 1,
              "xBinEnd": 71225.725,
              "xBinStart": 64750.75,
              "yBinEnd": 33079.8,
              "yBinStart": 29113.575
             },
             {
              "count": 1,
              "xBinEnd": 77700.7,
              "xBinStart": 71225.725,
              "yBinEnd": 5316.225,
              "yBinStart": 1191.351
             },
             {
              "count": 11,
              "xBinEnd": 77700.7,
              "xBinStart": 71225.725,
              "yBinEnd": 9282.45,
              "yBinStart": 5316.225
             },
             {
              "count": 39,
              "xBinEnd": 77700.7,
              "xBinStart": 71225.725,
              "yBinEnd": 13248.675,
              "yBinStart": 9282.45
             },
             {
              "count": 35,
              "xBinEnd": 77700.7,
              "xBinStart": 71225.725,
              "yBinEnd": 17214.9,
              "yBinStart": 13248.675
             },
             {
              "count": 4,
              "xBinEnd": 77700.7,
              "xBinStart": 71225.725,
              "yBinEnd": 21181.125,
              "yBinStart": 17214.9
             },
             {
              "count": 2,
              "xBinEnd": 77700.7,
              "xBinStart": 71225.725,
              "yBinEnd": 25147.35,
              "yBinStart": 21181.125
             },
             {
              "count": 2,
              "xBinEnd": 77700.7,
              "xBinStart": 71225.725,
              "yBinEnd": 29113.575,
              "yBinStart": 25147.35
             },
             {
              "count": 1,
              "xBinEnd": 77700.7,
              "xBinStart": 71225.725,
              "yBinEnd": 33079.8,
              "yBinStart": 29113.575
             },
             {
              "count": 12,
              "xBinEnd": 84175.675,
              "xBinStart": 77700.7,
              "yBinEnd": 9282.45,
              "yBinStart": 5316.225
             },
             {
              "count": 48,
              "xBinEnd": 84175.675,
              "xBinStart": 77700.7,
              "yBinEnd": 13248.675,
              "yBinStart": 9282.45
             },
             {
              "count": 23,
              "xBinEnd": 84175.675,
              "xBinStart": 77700.7,
              "yBinEnd": 17214.9,
              "yBinStart": 13248.675
             },
             {
              "count": 5,
              "xBinEnd": 84175.675,
              "xBinStart": 77700.7,
              "yBinEnd": 21181.125,
              "yBinStart": 17214.9
             },
             {
              "count": 1,
              "xBinEnd": 84175.675,
              "xBinStart": 77700.7,
              "yBinEnd": 25147.35,
              "yBinStart": 21181.125
             },
             {
              "count": 2,
              "xBinEnd": 90650.65,
              "xBinStart": 84175.675,
              "yBinEnd": 5316.225,
              "yBinStart": 1191.351
             },
             {
              "count": 8,
              "xBinEnd": 90650.65,
              "xBinStart": 84175.675,
              "yBinEnd": 9282.45,
              "yBinStart": 5316.225
             },
             {
              "count": 24,
              "xBinEnd": 90650.65,
              "xBinStart": 84175.675,
              "yBinEnd": 13248.675,
              "yBinStart": 9282.45
             },
             {
              "count": 12,
              "xBinEnd": 90650.65,
              "xBinStart": 84175.675,
              "yBinEnd": 17214.9,
              "yBinStart": 13248.675
             },
             {
              "count": 2,
              "xBinEnd": 90650.65,
              "xBinStart": 84175.675,
              "yBinEnd": 21181.125,
              "yBinStart": 17214.9
             },
             {
              "count": 1,
              "xBinEnd": 90650.65,
              "xBinStart": 84175.675,
              "yBinEnd": 25147.35,
              "yBinStart": 21181.125
             },
             {
              "count": 1,
              "xBinEnd": 90650.65,
              "xBinStart": 84175.675,
              "yBinEnd": 29113.575,
              "yBinStart": 25147.35
             },
             {
              "count": 1,
              "xBinEnd": 90650.65,
              "xBinStart": 84175.675,
              "yBinEnd": 33079.8,
              "yBinStart": 29113.575
             },
             {
              "count": 1,
              "xBinEnd": 97125.625,
              "xBinStart": 90650.65,
              "yBinEnd": 5316.225,
              "yBinStart": 1191.351
             },
             {
              "count": 11,
              "xBinEnd": 97125.625,
              "xBinStart": 90650.65,
              "yBinEnd": 9282.45,
              "yBinStart": 5316.225
             },
             {
              "count": 15,
              "xBinEnd": 97125.625,
              "xBinStart": 90650.65,
              "yBinEnd": 13248.675,
              "yBinStart": 9282.45
             },
             {
              "count": 6,
              "xBinEnd": 97125.625,
              "xBinStart": 90650.65,
              "yBinEnd": 17214.9,
              "yBinStart": 13248.675
             },
             {
              "count": 1,
              "xBinEnd": 97125.625,
              "xBinStart": 90650.65,
              "yBinEnd": 25147.35,
              "yBinStart": 21181.125
             },
             {
              "count": 1,
              "xBinEnd": 103600.6,
              "xBinStart": 97125.625,
              "yBinEnd": 5316.225,
              "yBinStart": 1191.351
             },
             {
              "count": 1,
              "xBinEnd": 103600.6,
              "xBinStart": 97125.625,
              "yBinEnd": 9282.45,
              "yBinStart": 5316.225
             },
             {
              "count": 15,
              "xBinEnd": 103600.6,
              "xBinStart": 97125.625,
              "yBinEnd": 13248.675,
              "yBinStart": 9282.45
             },
             {
              "count": 3,
              "xBinEnd": 103600.6,
              "xBinStart": 97125.625,
              "yBinEnd": 17214.9,
              "yBinStart": 13248.675
             },
             {
              "count": 1,
              "xBinEnd": 103600.6,
              "xBinStart": 97125.625,
              "yBinEnd": 21181.125,
              "yBinStart": 17214.9
             },
             {
              "count": 1,
              "xBinEnd": 110075.575,
              "xBinStart": 103600.6,
              "yBinEnd": 5316.225,
              "yBinStart": 1191.351
             },
             {
              "count": 5,
              "xBinEnd": 110075.575,
              "xBinStart": 103600.6,
              "yBinEnd": 9282.45,
              "yBinStart": 5316.225
             },
             {
              "count": 8,
              "xBinEnd": 110075.575,
              "xBinStart": 103600.6,
              "yBinEnd": 13248.675,
              "yBinStart": 9282.45
             },
             {
              "count": 1,
              "xBinEnd": 110075.575,
              "xBinStart": 103600.6,
              "yBinEnd": 17214.9,
              "yBinStart": 13248.675
             },
             {
              "count": 1,
              "xBinEnd": 116550.55,
              "xBinStart": 110075.575,
              "yBinEnd": 5316.225,
              "yBinStart": 1191.351
             },
             {
              "count": 3,
              "xBinEnd": 116550.55,
              "xBinStart": 110075.575,
              "yBinEnd": 9282.45,
              "yBinStart": 5316.225
             },
             {
              "count": 8,
              "xBinEnd": 116550.55,
              "xBinStart": 110075.575,
              "yBinEnd": 13248.675,
              "yBinStart": 9282.45
             },
             {
              "count": 3,
              "xBinEnd": 123025.525,
              "xBinStart": 116550.55,
              "yBinEnd": 9282.45,
              "yBinStart": 5316.225
             },
             {
              "count": 3,
              "xBinEnd": 123025.525,
              "xBinStart": 116550.55,
              "yBinEnd": 13248.675,
              "yBinStart": 9282.45
             },
             {
              "count": 5,
              "xBinEnd": 129500.5,
              "xBinStart": 123025.525,
              "yBinEnd": 9282.45,
              "yBinStart": 5316.225
             },
             {
              "count": 5,
              "xBinEnd": 129500.5,
              "xBinStart": 123025.525,
              "yBinEnd": 13248.675,
              "yBinStart": 9282.45
             },
             {
              "count": 1,
              "xBinEnd": 129500.5,
              "xBinStart": 123025.525,
              "yBinEnd": 17214.9,
              "yBinStart": 13248.675
             },
             {
              "count": 1,
              "xBinEnd": 135975.475,
              "xBinStart": 129500.5,
              "yBinEnd": 9282.45,
              "yBinStart": 5316.225
             },
             {
              "count": 2,
              "xBinEnd": 135975.475,
              "xBinStart": 129500.5,
              "yBinEnd": 13248.675,
              "yBinStart": 9282.45
             },
             {
              "count": 2,
              "xBinEnd": 142450.45,
              "xBinStart": 135975.475,
              "yBinEnd": 9282.45,
              "yBinStart": 5316.225
             },
             {
              "count": 3,
              "xBinEnd": 142450.45,
              "xBinStart": 135975.475,
              "yBinEnd": 13248.675,
              "yBinStart": 9282.45
             },
             {
              "count": 1,
              "xBinEnd": 148925.425,
              "xBinStart": 142450.45,
              "yBinEnd": 9282.45,
              "yBinStart": 5316.225
             },
             {
              "count": 3,
              "xBinEnd": 155400.4,
              "xBinStart": 148925.425,
              "yBinEnd": 9282.45,
              "yBinStart": 5316.225
             },
             {
              "count": 1,
              "xBinEnd": 161875.375,
              "xBinStart": 155400.4,
              "yBinEnd": 9282.45,
              "yBinStart": 5316.225
             },
             {
              "count": 1,
              "xBinEnd": 168350.35,
              "xBinStart": 161875.375,
              "yBinEnd": 9282.45,
              "yBinStart": 5316.225
             },
             {
              "count": 1,
              "xBinEnd": 174825.325,
              "xBinStart": 168350.35,
              "yBinEnd": 5316.225,
              "yBinStart": 1191.351
             },
             {
              "count": 1,
              "xBinEnd": 246050.05,
              "xBinStart": 239575.075,
              "yBinEnd": 17214.9,
              "yBinStart": 13248.675
             },
             {
              "count": 1,
              "xBinEnd": 259000,
              "xBinStart": 252525.025,
              "yBinEnd": 9282.45,
              "yBinStart": 5316.225
             }
            ]
           },
           "encoding": {
            "opacity": {
             "field": "count",
             "legend": null,
             "scale": {
              "type": "log"
             },
             "type": "quantitative"
            },
            "x": {
             "axis": {
              "title": "mileage"
             },
             "bin": {
              "binned": true
             },
             "field": "xBinStart",
             "type": "quantitative"
            },
            "x2": {
             "field": "xBinEnd"
            },
            "y": {
             "axis": {
              "title": "price"
             },
             "bin": {
              "binned": true
             },
             "field": "yBinStart",
             "type": "quantitative"
            },
            "y2": {
             "field": "yBinEnd"
            }
           },
           "height": 150,
           "mark": {
            "type": "rect"
           },
           "params": [
            {
             "bind": "scales",
             "name": "param_6",
             "select": {
              "encodings": [
               "x",
               "y"
              ],
              "type": "interval"
             }
            }
           ],
           "vislib": "vegalite",
           "width": 160
          }
         ]
        },
        {
         "action": "Distribution",
         "description": "Show univariate histograms of <p class='highlight-descriptor'>quantitative</p>  attributes.",
         "long_description": "Distribution displays univariate histogram distributions of all quantitative attributes (e.g., price). Visualizations are ranked from most to least skewed.",
         "vspec": [
          {
           "$schema": "https://vega.github.io/schema/vega-lite/v5.8.0.json",
           "config": {
            "axis": {
             "labelColor": "#505050",
             "labelFont": "Helvetica Neue",
             "labelFontSize": 9,
             "labelFontWeight": 400,
             "titleFont": "Helvetica Neue",
             "titleFontSize": 11,
             "titleFontWeight": 500
            },
            "legend": {
             "labelFont": "Helvetica Neue",
             "labelFontSize": 9,
             "labelFontWeight": 400,
             "titleFont": "Helvetica Neue",
             "titleFontSize": 10,
             "titleFontWeight": 500
            },
            "title": {
             "font": "Helvetica Neue",
             "fontSize": 13,
             "fontWeight": 500
            },
            "view": {
             "continuousHeight": 300,
             "continuousWidth": 300
            }
           },
           "data": {
            "name": "data-0aec5c236a31f16c3884833592cdbe1a"
           },
           "datasets": {
            "data-0aec5c236a31f16c3884833592cdbe1a": [
             {
              "Number of Records": 2409,
              "tax": 0,
              "tax_end": 60.9
             },
             {
              "Number of Records": 2,
              "tax": 58,
              "tax_end": 118.9
             },
             {
              "Number of Records": 9821,
              "tax": 116,
              "tax_end": 176.9
             },
             {
              "Number of Records": 338,
              "tax": 174,
              "tax_end": 234.9
             },
             {
              "Number of Records": 208,
              "tax": 232,
              "tax_end": 292.9
             },
             {
              "Number of Records": 162,
              "tax": 290,
              "tax_end": 350.9
             },
             {
              "Number of Records": 0,
              "tax": 348,
              "tax_end": 408.9
             },
             {
              "Number of Records": 0,
              "tax": 406,
              "tax_end": 466.9
             },
             {
              "Number of Records": 0,
              "tax": 464,
              "tax_end": 524.9
             },
             {
              "Number of Records": 50,
              "tax": 522,
              "tax_end": 582.9
             }
            ]
           },
           "encoding": {
            "x": {
             "axis": {
              "title": "tax (binned)"
             },
             "bin": {
              "binned": true,
              "step": 58
             },
             "field": "tax",
             "scale": {
              "domain": [
               0,
               580
              ]
             },
             "title": "tax (binned)",
             "type": "quantitative"
            },
            "x2": {
             "field": "tax_end"
            },
            "y": {
             "field": "Number of Records",
             "type": "quantitative"
            }
           },
           "height": 150,
           "mark": {
            "type": "bar"
           },
           "vislib": "vegalite",
           "width": 160
          },
          {
           "$schema": "https://vega.github.io/schema/vega-lite/v5.8.0.json",
           "config": {
            "axis": {
             "labelColor": "#505050",
             "labelFont": "Helvetica Neue",
             "labelFontSize": 9,
             "labelFontWeight": 400,
             "titleFont": "Helvetica Neue",
             "titleFontSize": 11,
             "titleFontWeight": 500
            },
            "legend": {
             "labelFont": "Helvetica Neue",
             "labelFontSize": 9,
             "labelFontWeight": 400,
             "titleFont": "Helvetica Neue",
             "titleFontSize": 10,
             "titleFontWeight": 500
            },
            "title": {
             "font": "Helvetica Neue",
             "fontSize": 13,
             "fontWeight": 500
            },
            "view": {
             "continuousHeight": 300,
             "continuousWidth": 300
            }
           },
           "data": {
            "name": "data-47e74b523ff0158753dc8a0c446fcb4b"
           },
           "datasets": {
            "data-47e74b523ff0158753dc8a0c446fcb4b": [
             {
              "Number of Records": 8806,
              "mileage": 1,
              "mileage_end": 27195.9
             },
             {
              "Number of Records": 3139,
              "mileage": 25900.9,
              "mileage_end": 53095.8
             },
             {
              "Number of Records": 789,
              "mileage": 51800.8,
              "mileage_end": 78995.70000000001
             },
             {
              "Number of Records": 195,
              "mileage": 77700.70000000001,
              "mileage_end": 104895.6
             },
             {
              "Number of Records": 44,
              "mileage": 103600.6,
              "mileage_end": 130795.5
             },
             {
              "Number of Records": 12,
              "mileage": 129500.5,
              "mileage_end": 156695.4
             },
             {
              "Number of Records": 3,
              "mileage": 155400.40000000002,
              "mileage_end": 182595.30000000002
             },
             {
              "Number of Records": 0,
              "mileage": 181300.30000000002,
              "mileage_end": 208495.2
             },
             {
              "Number of Records": 0,
              "mileage": 207200.2,
              "mileage_end": 234395.1
             },
             {
              "Number of Records": 2,
              "mileage": 233100.1,
              "mileage_end": 260295
             }
            ]
           },
           "encoding": {
            "x": {
             "axis": {
              "title": "mileage (binned)"
             },
             "bin": {
              "binned": true,
              "step": 25899.9
             },
             "field": "mileage",
             "scale": {
              "domain": [
               1,
               259000
              ]
             },
             "title": "mileage (binned)",
             "type": "quantitative"
            },
            "x2": {
             "field": "mileage_end"
            },
            "y": {
             "field": "Number of Records",
             "type": "quantitative"
            }
           },
           "height": 150,
           "mark": {
            "type": "bar"
           },
           "vislib": "vegalite",
           "width": 160
          },
          {
           "$schema": "https://vega.github.io/schema/vega-lite/v5.8.0.json",
           "config": {
            "axis": {
             "labelColor": "#505050",
             "labelFont": "Helvetica Neue",
             "labelFontSize": 9,
             "labelFontWeight": 400,
             "titleFont": "Helvetica Neue",
             "titleFontSize": 11,
             "titleFontWeight": 500
            },
            "legend": {
             "labelFont": "Helvetica Neue",
             "labelFontSize": 9,
             "labelFontWeight": 400,
             "titleFont": "Helvetica Neue",
             "titleFontSize": 10,
             "titleFontWeight": 500
            },
            "title": {
             "font": "Helvetica Neue",
             "fontSize": 13,
             "fontWeight": 500
            },
            "view": {
             "continuousHeight": 300,
             "continuousWidth": 300
            }
           },
           "data": {
            "name": "data-ac2b5b679f5308af6355cd4b6f2ee48f"
           },
           "datasets": {
            "data-ac2b5b679f5308af6355cd4b6f2ee48f": [
             {
              "Number of Records": 3070,
              "price": 1350,
              "price_end": 18008.14
             },
             {
              "Number of Records": 7907,
              "price": 17214.9,
              "price_end": 33873.04
             },
             {
              "Number of Records": 1502,
              "price": 33079.8,
              "price_end": 49737.94
             },
             {
              "Number of Records": 370,
              "price": 48944.7,
              "price_end": 65602.84
             },
             {
              "Number of Records": 92,
              "price": 64809.6,
              "price_end": 81467.73999999999
             },
             {
              "Number of Records": 17,
              "price": 80674.5,
              "price_end": 97332.64
             },
             {
              "Number of Records": 13,
              "price": 96539.4,
              "price_end": 113197.54
             },
             {
              "Number of Records": 7,
              "price": 112404.3,
              "price_end": 129062.44
             },
             {
              "Number of Records": 9,
              "price": 128269.2,
              "price_end": 144927.34
             },
             {
              "Number of Records": 3,
              "price": 144134.1,
              "price_end": 160792.24
             }
            ]
           },
           "encoding": {
            "x": {
             "axis": {
              "title": "price (binned)"
             },
             "bin": {
              "binned": true,
              "step": 15864.900000000001
             },
             "field": "price",
             "scale": {
              "domain": [
               1350,
               159999
              ]
             },
             "title": "price (binned)",
             "type": "quantitative"
            },
            "x2": {
             "field": "price_end"
            },
            "y": {
             "field": "Number of Records",
             "type": "quantitative"
            }
           },
           "height": 150,
           "mark": {
            "type": "bar"
           },
           "vislib": "vegalite",
           "width": 160
          },
          {
           "$schema": "https://vega.github.io/schema/vega-lite/v5.8.0.json",
           "config": {
            "axis": {
             "labelColor": "#505050",
             "labelFont": "Helvetica Neue",
             "labelFontSize": 9,
             "labelFontWeight": 400,
             "titleFont": "Helvetica Neue",
             "titleFontSize": 11,
             "titleFontWeight": 500
            },
            "legend": {
             "labelFont": "Helvetica Neue",
             "labelFontSize": 9,
             "labelFontWeight": 400,
             "titleFont": "Helvetica Neue",
             "titleFontSize": 10,
             "titleFontWeight": 500
            },
            "title": {
             "font": "Helvetica Neue",
             "fontSize": 13,
             "fontWeight": 500
            },
            "view": {
             "continuousHeight": 300,
             "continuousWidth": 300
            }
           },
           "data": {
            "name": "data-8ebacb45c33019755bc78ebdd8cd71dc"
           },
           "datasets": {
            "data-8ebacb45c33019755bc78ebdd8cd71dc": [
             {
              "Number of Records": 43,
              "mpg": 1.1,
              "mpg_end": 23.8
             },
             {
              "Number of Records": 2621,
              "mpg": 22.720000000000002,
              "mpg_end": 45.42
             },
             {
              "Number of Records": 7905,
              "mpg": 44.34,
              "mpg_end": 67.04
             },
             {
              "Number of Records": 2302,
              "mpg": 65.96,
              "mpg_end": 88.66
             },
             {
              "Number of Records": 3,
              "mpg": 87.58,
              "mpg_end": 110.28
             },
             {
              "Number of Records": 4,
              "mpg": 109.2,
              "mpg_end": 131.9
             },
             {
              "Number of Records": 85,
              "mpg": 130.82,
              "mpg_end": 153.51999999999998
             },
             {
              "Number of Records": 0,
              "mpg": 152.44,
              "mpg_end": 175.14
             },
             {
              "Number of Records": 25,
              "mpg": 174.06,
              "mpg_end": 196.76
             },
             {
              "Number of Records": 2,
              "mpg": 195.68,
              "mpg_end": 218.38
             }
            ]
           },
           "encoding": {
            "x": {
             "axis": {
              "title": "mpg (binned)"
             },
             "bin": {
              "binned": true,
              "step": 21.62
             },
             "field": "mpg",
             "scale": {
              "domain": [
               1.1,
               217.3
              ]
             },
             "title": "mpg (binned)",
             "type": "quantitative"
            },
            "x2": {
             "field": "mpg_end"
            },
            "y": {
             "field": "Number of Records",
             "type": "quantitative"
            }
           },
           "height": 150,
           "mark": {
            "type": "bar"
           },
           "vislib": "vegalite",
           "width": 160
          }
         ]
        },
        {
         "action": "Occurrence",
         "description": "Show frequency of occurrence for <p class='highlight-descriptor'>categorical</p> attributes.",
         "long_description": "Occurence displays bar charts of counts for all categorical attributes (e.g., model). Visualizations are ranked from most to least uneven across the bars. ",
         "vspec": [
          {
           "$schema": "https://vega.github.io/schema/vega-lite/v5.8.0.json",
           "config": {
            "axis": {
             "labelColor": "#505050",
             "labelFont": "Helvetica Neue",
             "labelFontSize": 9,
             "labelFontWeight": 400,
             "titleFont": "Helvetica Neue",
             "titleFontSize": 11,
             "titleFontWeight": 500
            },
            "legend": {
             "labelFont": "Helvetica Neue",
             "labelFontSize": 9,
             "labelFontWeight": 400,
             "titleFont": "Helvetica Neue",
             "titleFontSize": 10,
             "titleFontWeight": 500
            },
            "mark": {
             "tooltip": {
              "content": "encoding"
             }
            },
            "title": {
             "font": "Helvetica Neue",
             "fontSize": 13,
             "fontWeight": 500
            },
            "view": {
             "continuousHeight": 300,
             "continuousWidth": 300
            }
           },
           "data": {
            "name": "data-6a41b4787e962e07bcfb4b6cef5f87bf"
           },
           "datasets": {
            "data-6a41b4787e962e07bcfb4b6cef5f87bf": [
             {
              "Record": 9138,
              "fuelType": "Diesel"
             },
             {
              "Record": 173,
              "fuelType": "Hybrid"
             },
             {
              "Record": 3679,
              "fuelType": "Petrol"
             }
            ]
           },
           "encoding": {
            "x": {
             "axis": {
              "title": "Number of Records"
             },
             "field": "Record",
             "title": "Number of Records",
             "type": "quantitative"
            },
            "y": {
             "axis": {
              "labelOverlap": true,
              "title": "fuelType"
             },
             "field": "fuelType",
             "type": "nominal"
            }
           },
           "height": 150,
           "mark": {
            "type": "bar"
           },
           "vislib": "vegalite",
           "width": 160
          },
          {
           "$schema": "https://vega.github.io/schema/vega-lite/v5.8.0.json",
           "config": {
            "axis": {
             "labelColor": "#505050",
             "labelFont": "Helvetica Neue",
             "labelFontSize": 9,
             "labelFontWeight": 400,
             "titleFont": "Helvetica Neue",
             "titleFontSize": 11,
             "titleFontWeight": 500
            },
            "legend": {
             "labelFont": "Helvetica Neue",
             "labelFontSize": 9,
             "labelFontWeight": 400,
             "titleFont": "Helvetica Neue",
             "titleFontSize": 10,
             "titleFontWeight": 500
            },
            "mark": {
             "tooltip": {
              "content": "encoding"
             }
            },
            "title": {
             "font": "Helvetica Neue",
             "fontSize": 13,
             "fontWeight": 500
            },
            "view": {
             "continuousHeight": 300,
             "continuousWidth": 300
            }
           },
           "data": {
            "name": "data-a2b10f0c8b6ff29b5772973c7ecae42c"
           },
           "datasets": {
            "data-a2b10f0c8b6ff29b5772973c7ecae42c": [
             {
              "Record": 4710,
              "transmission": "Automatic"
             },
             {
              "Record": 1436,
              "transmission": "Manual"
             },
             {
              "Record": 6844,
              "transmission": "Semi-Auto"
             }
            ]
           },
           "encoding": {
            "x": {
             "axis": {
              "title": "Number of Records"
             },
             "field": "Record",
             "title": "Number of Records",
             "type": "quantitative"
            },
            "y": {
             "axis": {
              "labelOverlap": true,
              "title": "transmission"
             },
             "field": "transmission",
             "type": "nominal"
            }
           },
           "height": 150,
           "mark": {
            "type": "bar"
           },
           "vislib": "vegalite",
           "width": 160
          },
          {
           "$schema": "https://vega.github.io/schema/vega-lite/v5.8.0.json",
           "config": {
            "axis": {
             "labelColor": "#505050",
             "labelFont": "Helvetica Neue",
             "labelFontSize": 9,
             "labelFontWeight": 400,
             "titleFont": "Helvetica Neue",
             "titleFontSize": 11,
             "titleFontWeight": 500
            },
            "legend": {
             "labelFont": "Helvetica Neue",
             "labelFontSize": 9,
             "labelFontWeight": 400,
             "titleFont": "Helvetica Neue",
             "titleFontSize": 10,
             "titleFontWeight": 500
            },
            "mark": {
             "tooltip": {
              "content": "encoding"
             }
            },
            "title": {
             "font": "Helvetica Neue",
             "fontSize": 13,
             "fontWeight": 500
            },
            "view": {
             "continuousHeight": 300,
             "continuousWidth": 300
            }
           },
           "datasets": {
            "data-54769c2b5a8e2f8c8bebea2c18c29786": [
             {
              "Record": 4005,
              "engineSize": 2.1
             },
             {
              "Record": 3720,
              "engineSize": 2
             },
             {
              "Record": 1672,
              "engineSize": 1.5
             },
             {
              "Record": 1335,
              "engineSize": 3
             },
             {
              "Record": 841,
              "engineSize": 1.6
             },
             {
              "Record": 716,
              "engineSize": 1.3
             },
             {
              "Record": 197,
              "engineSize": 4
             },
             {
              "Record": 121,
              "engineSize": 2.2
             },
             {
              "Record": 120,
              "engineSize": 2.9
             },
             {
              "Record": 96,
              "engineSize": 1.8
             }
            ]
           },
           "height": 150,
           "layer": [
            {
             "data": {
              "name": "data-54769c2b5a8e2f8c8bebea2c18c29786"
             },
             "encoding": {
              "x": {
               "axis": {
                "title": "Number of Records"
               },
               "field": "Record",
               "title": "Number of Records",
               "type": "quantitative"
              },
              "y": {
               "axis": {
                "labelOverlap": true,
                "title": "engineSize"
               },
               "field": "engineSize",
               "sort": "-x",
               "type": "nominal"
              }
             },
             "mark": {
              "type": "bar"
             }
            },
            {
             "data": {
              "name": "data-54769c2b5a8e2f8c8bebea2c18c29786"
             },
             "mark": {
              "align": "right",
              "color": "#ff8e04",
              "fontSize": 11,
              "text": "+ 8 more ...",
              "type": "text",
              "x": 155,
              "y": 142
             }
            }
           ],
           "vislib": "vegalite",
           "width": 160
          },
          {
           "$schema": "https://vega.github.io/schema/vega-lite/v5.8.0.json",
           "config": {
            "axis": {
             "labelColor": "#505050",
             "labelFont": "Helvetica Neue",
             "labelFontSize": 9,
             "labelFontWeight": 400,
             "titleFont": "Helvetica Neue",
             "titleFontSize": 11,
             "titleFontWeight": 500
            },
            "legend": {
             "labelFont": "Helvetica Neue",
             "labelFontSize": 9,
             "labelFontWeight": 400,
             "titleFont": "Helvetica Neue",
             "titleFontSize": 10,
             "titleFontWeight": 500
            },
            "mark": {
             "tooltip": {
              "content": "encoding"
             }
            },
            "title": {
             "font": "Helvetica Neue",
             "fontSize": 13,
             "fontWeight": 500
            },
            "view": {
             "continuousHeight": 300,
             "continuousWidth": 300
            }
           },
           "datasets": {
            "data-97f1b0afc874a6ce72bcdbd3e83fc196": [
             {
              "Record": 3714,
              "model": " C Class"
             },
             {
              "Record": 2555,
              "model": " A Class"
             },
             {
              "Record": 1943,
              "model": " E Class"
             },
             {
              "Record": 960,
              "model": " GLC Class"
             },
             {
              "Record": 846,
              "model": " GLA Class"
             },
             {
              "Record": 585,
              "model": " B Class"
             },
             {
              "Record": 509,
              "model": " CL Class"
             },
             {
              "Record": 460,
              "model": " GLE Class"
             },
             {
              "Record": 252,
              "model": " SL CLASS"
             },
             {
              "Record": 236,
              "model": " CLS Class"
             }
            ]
           },
           "height": 150,
           "layer": [
            {
             "data": {
              "name": "data-97f1b0afc874a6ce72bcdbd3e83fc196"
             },
             "encoding": {
              "x": {
               "axis": {
                "title": "Number of Records"
               },
               "field": "Record",
               "title": "Number of Records",
               "type": "quantitative"
              },
              "y": {
               "axis": {
                "labelOverlap": true,
                "title": "model"
               },
               "field": "model",
               "sort": "-x",
               "type": "nominal"
              }
             },
             "mark": {
              "type": "bar"
             }
            },
            {
             "data": {
              "name": "data-97f1b0afc874a6ce72bcdbd3e83fc196"
             },
             "mark": {
              "align": "right",
              "color": "#ff8e04",
              "fontSize": 11,
              "text": "+ 15 more ...",
              "type": "text",
              "x": 155,
              "y": 142
             }
            }
           ],
           "vislib": "vegalite",
           "width": 160
          }
         ]
        },
        {
         "action": "Temporal",
         "description": "Show trends over <p class='highlight-descriptor'>time-related</p> attributes.",
         "long_description": "Temporal displays line charts for all attributes related to datetimes in the dataframe. Lux displays the overall temporal trend first, followed by trends across other timescales (e.g., year, month, week, day).",
         "vspec": [
          {
           "$schema": "https://vega.github.io/schema/vega-lite/v5.8.0.json",
           "config": {
            "axis": {
             "labelColor": "#505050",
             "labelFont": "Helvetica Neue",
             "labelFontSize": 9,
             "labelFontWeight": 400,
             "titleFont": "Helvetica Neue",
             "titleFontSize": 11,
             "titleFontWeight": 500
            },
            "legend": {
             "labelFont": "Helvetica Neue",
             "labelFontSize": 9,
             "labelFontWeight": 400,
             "titleFont": "Helvetica Neue",
             "titleFontSize": 10,
             "titleFontWeight": 500
            },
            "title": {
             "font": "Helvetica Neue",
             "fontSize": 13,
             "fontWeight": 500
            },
            "view": {
             "continuousHeight": 300,
             "continuousWidth": 300
            }
           },
           "data": {
            "name": "data-f7911c4bf622d18d434a7e6ddc3a475f"
           },
           "datasets": {
            "data-f7911c4bf622d18d434a7e6ddc3a475f": [
             {
              "Record": 38,
              "year": "2010-01-01T00:00:00"
             },
             {
              "Record": 38,
              "year": "2011-01-01T00:00:00"
             },
             {
              "Record": 57,
              "year": "2012-01-01T00:00:00"
             },
             {
              "Record": 292,
              "year": "2013-01-01T00:00:00"
             },
             {
              "Record": 491,
              "year": "2014-01-01T00:00:00"
             },
             {
              "Record": 989,
              "year": "2015-01-01T00:00:00"
             },
             {
              "Record": 1968,
              "year": "2016-01-01T00:00:00"
             },
             {
              "Record": 2379,
              "year": "2017-01-01T00:00:00"
             },
             {
              "Record": 1467,
              "year": "2018-01-01T00:00:00"
             },
             {
              "Record": 4553,
              "year": "2019-01-01T00:00:00"
             },
             {
              "Record": 718,
              "year": "2020-01-01T00:00:00"
             }
            ]
           },
           "encoding": {
            "x": {
             "axis": {
              "title": "year"
             },
             "field": "year",
             "type": "temporal"
            },
            "y": {
             "axis": {
              "title": "Record"
             },
             "field": "Record",
             "title": "Number of Records",
             "type": "quantitative"
            }
           },
           "height": 150,
           "mark": {
            "type": "line"
           },
           "params": [
            {
             "bind": "scales",
             "name": "param_7",
             "select": {
              "encodings": [
               "x",
               "y"
              ],
              "type": "interval"
             }
            }
           ],
           "vislib": "vegalite",
           "width": 160
          },
          {
           "$schema": "https://vega.github.io/schema/vega-lite/v5.8.0.json",
           "config": {
            "axis": {
             "labelColor": "#505050",
             "labelFont": "Helvetica Neue",
             "labelFontSize": 9,
             "labelFontWeight": 400,
             "titleFont": "Helvetica Neue",
             "titleFontSize": 11,
             "titleFontWeight": 500
            },
            "legend": {
             "labelFont": "Helvetica Neue",
             "labelFontSize": 9,
             "labelFontWeight": 400,
             "titleFont": "Helvetica Neue",
             "titleFontSize": 10,
             "titleFontWeight": 500
            },
            "title": {
             "font": "Helvetica Neue",
             "fontSize": 13,
             "fontWeight": 500
            },
            "view": {
             "continuousHeight": 300,
             "continuousWidth": 300
            }
           },
           "data": {
            "name": "data-08e6a646df30fe873e1bcb7f5bbfb8a7"
           },
           "datasets": {
            "data-08e6a646df30fe873e1bcb7f5bbfb8a7": [
             {
              "Record": 38,
              "year (year)": "2010-01-01T00:00:00"
             },
             {
              "Record": 38,
              "year (year)": "2011-01-01T00:00:00"
             },
             {
              "Record": 57,
              "year (year)": "2012-01-01T00:00:00"
             },
             {
              "Record": 292,
              "year (year)": "2013-01-01T00:00:00"
             },
             {
              "Record": 491,
              "year (year)": "2014-01-01T00:00:00"
             },
             {
              "Record": 989,
              "year (year)": "2015-01-01T00:00:00"
             },
             {
              "Record": 1968,
              "year (year)": "2016-01-01T00:00:00"
             },
             {
              "Record": 2379,
              "year (year)": "2017-01-01T00:00:00"
             },
             {
              "Record": 1467,
              "year (year)": "2018-01-01T00:00:00"
             },
             {
              "Record": 4553,
              "year (year)": "2019-01-01T00:00:00"
             },
             {
              "Record": 718,
              "year (year)": "2020-01-01T00:00:00"
             }
            ]
           },
           "encoding": {
            "x": {
             "axis": {
              "title": "year (year)"
             },
             "field": "year (year)",
             "type": "temporal"
            },
            "y": {
             "axis": {
              "title": "Record"
             },
             "field": "Record",
             "title": "Number of Records",
             "type": "quantitative"
            }
           },
           "height": 150,
           "mark": {
            "type": "line"
           },
           "params": [
            {
             "bind": "scales",
             "name": "param_8",
             "select": {
              "encodings": [
               "x",
               "y"
              ],
              "type": "interval"
             }
            }
           ],
           "vislib": "vegalite",
           "width": 160
          },
          {
           "$schema": "https://vega.github.io/schema/vega-lite/v5.8.0.json",
           "config": {
            "axis": {
             "labelColor": "#505050",
             "labelFont": "Helvetica Neue",
             "labelFontSize": 9,
             "labelFontWeight": 400,
             "titleFont": "Helvetica Neue",
             "titleFontSize": 11,
             "titleFontWeight": 500
            },
            "legend": {
             "labelFont": "Helvetica Neue",
             "labelFontSize": 9,
             "labelFontWeight": 400,
             "titleFont": "Helvetica Neue",
             "titleFontSize": 10,
             "titleFontWeight": 500
            },
            "title": {
             "font": "Helvetica Neue",
             "fontSize": 13,
             "fontWeight": 500
            },
            "view": {
             "continuousHeight": 300,
             "continuousWidth": 300
            }
           },
           "data": {
            "name": "data-8e0381d4c214ca69cd43fece85d18e0e"
           },
           "datasets": {
            "data-8e0381d4c214ca69cd43fece85d18e0e": [
             {
              "Record": 1467,
              "year (day of week)": 0
             },
             {
              "Record": 4845,
              "year (day of week)": 1
             },
             {
              "Record": 1209,
              "year (day of week)": 2
             },
             {
              "Record": 989,
              "year (day of week)": 3
             },
             {
              "Record": 2006,
              "year (day of week)": 4
             },
             {
              "Record": 38,
              "year (day of week)": 5
             },
             {
              "Record": 2436,
              "year (day of week)": 6
             }
            ]
           },
           "encoding": {
            "x": {
             "axis": {
              "title": "year (day of week)"
             },
             "field": "year (day of week)",
             "type": "ordinal"
            },
            "y": {
             "axis": {
              "title": "Record"
             },
             "field": "Record",
             "title": "Number of Records",
             "type": "quantitative"
            }
           },
           "height": 150,
           "mark": {
            "type": "line"
           },
           "params": [
            {
             "bind": "scales",
             "name": "param_9",
             "select": {
              "encodings": [
               "x",
               "y"
              ],
              "type": "interval"
             }
            }
           ],
           "vislib": "vegalite",
           "width": 160
          }
         ]
        }
       ],
       "selectedIntentIndex": {}
      }
     }
    },
    "version_major": 2,
    "version_minor": 0
   }
  }
 },
 "nbformat": 4,
 "nbformat_minor": 5
}
