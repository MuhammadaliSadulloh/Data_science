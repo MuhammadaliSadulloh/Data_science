{
 "cells": [
  {
   "cell_type": "code",
   "execution_count": 7,
   "id": "6ff0b7f4-5dc4-4d87-aa8a-fbb28c859e8f",
   "metadata": {},
   "outputs": [
    {
     "name": "stderr",
     "output_type": "stream",
     "text": [
      "ModelDependencyMissing: Your `inference` configuration does not support PaliGemma model. Use pip install 'inference[transformers]' to install missing requirements.\n",
      "ModelDependencyMissing: Your `inference` configuration does not support Florence2 model. Use pip install 'inference[transformers]' to install missing requirements.\n",
      "ModelDependencyMissing: Your `inference` configuration does not support Qwen2.5-VL model. Use pip install 'inference[transformers]' to install missing requirements.\n",
      "ModelDependencyMissing: Your `inference` configuration does not support SAM model. Use pip install 'inference[sam]' to install missing requirements.\n",
      "ModelDependencyMissing: Your `inference` configuration does not support SAM model. Use pip install 'inference[sam]' to install missing requirements.\n",
      "ModelDependencyMissing: Your `inference` configuration does not support SAM model. Use pip install 'inference[clip]' to install missing requirements.\n",
      "ModelDependencyMissing: Your `inference` configuration does not support GroundingDINO model. Use pip install 'inference[grounding-dino]' to install missing requirements.\n",
      "ModelDependencyMissing: Your `inference` configuration does not support YoloWorld model. Use pip install 'inference[yolo-world]' to install missing requirements.\n"
     ]
    },
    {
     "ename": "ValueError",
     "evalue": "Namespace Gst not available",
     "output_type": "error",
     "traceback": [
      "\u001b[1;31m---------------------------------------------------------------------------\u001b[0m",
      "\u001b[1;31mValueError\u001b[0m                                Traceback (most recent call last)",
      "Cell \u001b[1;32mIn[7], line 5\u001b[0m\n\u001b[0;32m      3\u001b[0m \u001b[38;5;28;01mimport\u001b[39;00m \u001b[38;5;21;01msupervision\u001b[39;00m \u001b[38;5;28;01mas\u001b[39;00m \u001b[38;5;21;01msv\u001b[39;00m\n\u001b[0;32m      4\u001b[0m \u001b[38;5;28;01mimport\u001b[39;00m \u001b[38;5;21;01mgi\u001b[39;00m\n\u001b[1;32m----> 5\u001b[0m gi\u001b[38;5;241m.\u001b[39mrequire_version(\u001b[38;5;124m'\u001b[39m\u001b[38;5;124mGst\u001b[39m\u001b[38;5;124m'\u001b[39m, \u001b[38;5;124m'\u001b[39m\u001b[38;5;124m1.0\u001b[39m\u001b[38;5;124m'\u001b[39m)\n\u001b[0;32m      6\u001b[0m \u001b[38;5;28;01mfrom\u001b[39;00m \u001b[38;5;21;01mgi\u001b[39;00m\u001b[38;5;21;01m.\u001b[39;00m\u001b[38;5;21;01mrepository\u001b[39;00m \u001b[38;5;28;01mimport\u001b[39;00m GLib, Gst\n\u001b[0;32m      7\u001b[0m \u001b[38;5;28;01mimport\u001b[39;00m \u001b[38;5;21;01mnumpy\u001b[39;00m \u001b[38;5;28;01mas\u001b[39;00m \u001b[38;5;21;01mnp\u001b[39;00m\n",
      "File \u001b[1;32mC:\\ProgramData\\anaconda3\\Lib\\site-packages\\gi\\__init__.py:126\u001b[0m, in \u001b[0;36mrequire_version\u001b[1;34m(namespace, version)\u001b[0m\n\u001b[0;32m    124\u001b[0m available_versions \u001b[38;5;241m=\u001b[39m repository\u001b[38;5;241m.\u001b[39menumerate_versions(namespace)\n\u001b[0;32m    125\u001b[0m \u001b[38;5;28;01mif\u001b[39;00m \u001b[38;5;129;01mnot\u001b[39;00m available_versions:\n\u001b[1;32m--> 126\u001b[0m     \u001b[38;5;28;01mraise\u001b[39;00m \u001b[38;5;167;01mValueError\u001b[39;00m(\u001b[38;5;124m'\u001b[39m\u001b[38;5;124mNamespace \u001b[39m\u001b[38;5;132;01m%s\u001b[39;00m\u001b[38;5;124m not available\u001b[39m\u001b[38;5;124m'\u001b[39m \u001b[38;5;241m%\u001b[39m namespace)\n\u001b[0;32m    128\u001b[0m \u001b[38;5;28;01mif\u001b[39;00m version \u001b[38;5;129;01mnot\u001b[39;00m \u001b[38;5;129;01min\u001b[39;00m available_versions:\n\u001b[0;32m    129\u001b[0m     \u001b[38;5;28;01mraise\u001b[39;00m \u001b[38;5;167;01mValueError\u001b[39;00m(\u001b[38;5;124m'\u001b[39m\u001b[38;5;124mNamespace \u001b[39m\u001b[38;5;132;01m%s\u001b[39;00m\u001b[38;5;124m not available for version \u001b[39m\u001b[38;5;132;01m%s\u001b[39;00m\u001b[38;5;124m'\u001b[39m \u001b[38;5;241m%\u001b[39m\n\u001b[0;32m    130\u001b[0m                      (namespace, version))\n",
      "\u001b[1;31mValueError\u001b[0m: Namespace Gst not available"
     ]
    }
   ],
   "source": [
    "import cv2\n",
    "from inference import InferencePipeline\n",
    "import supervision as sv\n",
    "import gi\n",
    "gi.require_version('Gst', '1.0')\n",
    "from gi.repository import GLib, Gst\n",
    "import numpy as np\n",
    "\n",
    "# 1. OpenCV video oqimini olish\n",
    "cap = cv2.VideoCapture('/path/to/video')\n",
    "\n",
    "# 2. Roboflow Inference Pipeline ni yaratish\n",
    "pipeline = InferencePipeline.init(model_id=\"yolov8n-640\", video_reference='/path/to/video')\n",
    "\n",
    "# 3. Asynchronous prediktsiya funksiyasi\n",
    "def on_prediction(predictions, video_frame):\n",
    "    \"\"\"\n",
    "    Obyektlarni aniqlash va ularni ekranda ko'rsatish\n",
    "    \"\"\"\n",
    "    detections = sv.Detections.from_inference(predictions)\n",
    "    \n",
    "    # Obyektlar atrofida to'rtburchaklar chizish\n",
    "    annotated_image = sv.BoxAnnotator().annotate(scene=video_frame, detections=detections)\n",
    "    \n",
    "    # Obyektlar nomini qo'shish\n",
    "    annotated_image = sv.LabelAnnotator().annotate(scene=annotated_image, detections=detections)\n",
    "    \n",
    "    # Ekranda natijalarni ko'rsatish\n",
    "    cv2.imshow(\"output\", annotated_image)\n",
    "    cv2.waitKey(1)\n",
    "\n",
    "# 4. Deepstream pipeline (GPU optimallashtirish)\n",
    "Gst.init(None)\n",
    "pipeline_deepstream = Gst.Pipeline()\n",
    "\n",
    "# Deepstream plaginlarini yaratish va pipeline'ni sozlash\n",
    "# Masalan: source, streammux, nvinfer, etc.\n",
    "uri_name = 'file:///path/to/video'\n",
    "source_bin = create_source_bin(0, uri_name)\n",
    "pipeline.add(source_bin)\n",
    "\n",
    "# Streammux va inference uchun plaginlar\n",
    "streammux = Gst.ElementFactory.make('nvstreammux', 'streammux')\n",
    "pipeline.add(streammux)\n",
    "streammux.set_property('batch-size', 1)\n",
    "streammux.set_property('width', 852)\n",
    "streammux.set_property('height', 480)\n",
    "\n",
    "primary_gie = Gst.ElementFactory.make('nvinfer', 'primary-gie')\n",
    "primary_gie.set_property('config-file-path', '/path/to/yolov8/config/file')\n",
    "\n",
    "# Video konvertatsiya va ko'rsatish\n",
    "nvvidconv = Gst.ElementFactory.make('nvvideoconvert', 'nvvidconv')\n",
    "osd = Gst.ElementFactory.make('nvdsosd', 'osd')\n",
    "sink = Gst.ElementFactory.make('nv3dsink', 'sink')\n",
    "sink.set_property('sync', 0)\n",
    "\n",
    "# Queue plaginlarini qo'shish\n",
    "queue1 = Gst.ElementFactory.make(\"queue\", \"queue1\")\n",
    "queue2 = Gst.ElementFactory.make(\"queue\", \"queue2\")\n",
    "queue3 = Gst.ElementFactory.make(\"queue\", \"queue3\")\n",
    "pipeline.add(queue1)\n",
    "pipeline.add(queue2)\n",
    "pipeline.add(queue3)\n",
    "\n",
    "# Elementlarni bog'lash\n",
    "streammux.link(queue1)\n",
    "queue1.link(primary_gie)\n",
    "primary_gie.link(queue2)\n",
    "queue2.link(nvvidconv)\n",
    "nvvidconv.link(queue3)\n",
    "queue3.link(osd)\n",
    "osd.link(sink)\n",
    "\n",
    "# 5. Asinxron Deepstream pipeline ishga tushurish\n",
    "pipeline.set_state(Gst.State.PLAYING)\n",
    "\n",
    "# 6. Asinxron ishlashni amalga oshirish\n",
    "pipeline.start()\n",
    "\n",
    "# Main loop: Deepstreamni boshqarish\n",
    "loop = GLib.MainLoop()\n",
    "try:\n",
    "    loop.run()\n",
    "except Exception as e:\n",
    "    print(f\"Error: {e}\")\n",
    "    pass\n",
    "\n",
    "# Kodni tugatgandan so'ng pipeline'ni to'xtatish\n",
    "pipeline.set_state(Gst.State.NULL)\n"
   ]
  },
  {
   "cell_type": "code",
   "execution_count": 27,
   "id": "1b9c038e-de54-441d-a667-8d0149394ac9",
   "metadata": {},
   "outputs": [
    {
     "name": "stdout",
     "output_type": "stream",
     "text": [
      "Requirement already satisfied: roboflow in c:\\programdata\\anaconda3\\lib\\site-packages (1.1.58)\n",
      "Requirement already satisfied: certifi in c:\\programdata\\anaconda3\\lib\\site-packages (from roboflow) (2025.1.31)\n",
      "Requirement already satisfied: idna==3.7 in c:\\programdata\\anaconda3\\lib\\site-packages (from roboflow) (3.7)\n",
      "Requirement already satisfied: cycler in c:\\programdata\\anaconda3\\lib\\site-packages (from roboflow) (0.11.0)\n",
      "Requirement already satisfied: kiwisolver>=1.3.1 in c:\\programdata\\anaconda3\\lib\\site-packages (from roboflow) (1.4.8)\n",
      "Requirement already satisfied: matplotlib in c:\\programdata\\anaconda3\\lib\\site-packages (from roboflow) (3.10.0)\n",
      "Requirement already satisfied: numpy>=1.18.5 in c:\\programdata\\anaconda3\\lib\\site-packages (from roboflow) (1.26.4)\n",
      "Requirement already satisfied: opencv-python-headless==4.10.0.84 in c:\\programdata\\anaconda3\\lib\\site-packages (from roboflow) (4.10.0.84)\n",
      "Requirement already satisfied: Pillow>=7.1.2 in c:\\programdata\\anaconda3\\lib\\site-packages (from roboflow) (10.2.0)\n",
      "Requirement already satisfied: pillow-heif>=0.18.0 in c:\\programdata\\anaconda3\\lib\\site-packages (from roboflow) (0.22.0)\n",
      "Requirement already satisfied: python-dateutil in c:\\programdata\\anaconda3\\lib\\site-packages (from roboflow) (2.9.0.post0)\n",
      "Requirement already satisfied: python-dotenv in c:\\programdata\\anaconda3\\lib\\site-packages (from roboflow) (0.21.0)\n",
      "Requirement already satisfied: requests in c:\\programdata\\anaconda3\\lib\\site-packages (from roboflow) (2.32.3)\n",
      "Requirement already satisfied: six in c:\\programdata\\anaconda3\\lib\\site-packages (from roboflow) (1.16.0)\n",
      "Requirement already satisfied: urllib3>=1.26.6 in c:\\programdata\\anaconda3\\lib\\site-packages (from roboflow) (2.3.0)\n",
      "Requirement already satisfied: tqdm>=4.41.0 in c:\\programdata\\anaconda3\\lib\\site-packages (from roboflow) (4.67.1)\n",
      "Requirement already satisfied: PyYAML>=5.3.1 in c:\\programdata\\anaconda3\\lib\\site-packages (from roboflow) (6.0.2)\n",
      "Requirement already satisfied: requests-toolbelt in c:\\programdata\\anaconda3\\lib\\site-packages (from roboflow) (1.0.0)\n",
      "Requirement already satisfied: filetype in c:\\programdata\\anaconda3\\lib\\site-packages (from roboflow) (1.2.0)\n",
      "Requirement already satisfied: colorama in c:\\programdata\\anaconda3\\lib\\site-packages (from tqdm>=4.41.0->roboflow) (0.4.6)\n",
      "Requirement already satisfied: contourpy>=1.0.1 in c:\\programdata\\anaconda3\\lib\\site-packages (from matplotlib->roboflow) (1.3.1)\n",
      "Requirement already satisfied: fonttools>=4.22.0 in c:\\programdata\\anaconda3\\lib\\site-packages (from matplotlib->roboflow) (4.55.3)\n",
      "Requirement already satisfied: packaging>=20.0 in c:\\programdata\\anaconda3\\lib\\site-packages (from matplotlib->roboflow) (24.2)\n",
      "Requirement already satisfied: pyparsing>=2.3.1 in c:\\programdata\\anaconda3\\lib\\site-packages (from matplotlib->roboflow) (3.2.0)\n",
      "Requirement already satisfied: charset-normalizer<4,>=2 in c:\\programdata\\anaconda3\\lib\\site-packages (from requests->roboflow) (3.3.2)\n"
     ]
    }
   ],
   "source": [
    "!pip install roboflow\n"
   ]
  },
  {
   "cell_type": "code",
   "execution_count": 7,
   "id": "fc3d9078-5b76-424f-a202-3ec0b09ab3c7",
   "metadata": {},
   "outputs": [
    {
     "name": "stdout",
     "output_type": "stream",
     "text": [
      "Requirement already satisfied: opencv-python in c:\\programdata\\anaconda3\\lib\\site-packages (4.11.0.86)\n",
      "Requirement already satisfied: numpy>=1.21.2 in c:\\programdata\\anaconda3\\lib\\site-packages (from opencv-python) (1.26.4)\n"
     ]
    }
   ],
   "source": [
    "!pip install opencv-python\n",
    "\n"
   ]
  },
  {
   "cell_type": "code",
   "execution_count": 9,
   "id": "a097b8e3-6601-4d18-b644-3cecc655fd3e",
   "metadata": {},
   "outputs": [
    {
     "name": "stdout",
     "output_type": "stream",
     "text": [
      "Collecting supervision\n",
      "  Downloading supervision-0.25.1-py3-none-any.whl.metadata (14 kB)\n",
      "Requirement already satisfied: contourpy>=1.0.7 in c:\\programdata\\anaconda3\\lib\\site-packages (from supervision) (1.3.1)\n",
      "Requirement already satisfied: defusedxml<0.8.0,>=0.7.1 in c:\\programdata\\anaconda3\\lib\\site-packages (from supervision) (0.7.1)\n",
      "Requirement already satisfied: matplotlib>=3.6.0 in c:\\programdata\\anaconda3\\lib\\site-packages (from supervision) (3.10.0)\n",
      "Requirement already satisfied: numpy>=1.21.2 in c:\\programdata\\anaconda3\\lib\\site-packages (from supervision) (1.26.4)\n",
      "Requirement already satisfied: opencv-python>=4.5.5.64 in c:\\programdata\\anaconda3\\lib\\site-packages (from supervision) (4.11.0.86)\n",
      "Requirement already satisfied: pillow>=9.4 in c:\\programdata\\anaconda3\\lib\\site-packages (from supervision) (10.2.0)\n",
      "Requirement already satisfied: pyyaml>=5.3 in c:\\programdata\\anaconda3\\lib\\site-packages (from supervision) (6.0.2)\n",
      "Requirement already satisfied: requests>=2.26.0 in c:\\programdata\\anaconda3\\lib\\site-packages (from supervision) (2.32.3)\n",
      "Requirement already satisfied: scipy<2.0.0,>=1.10.0 in c:\\programdata\\anaconda3\\lib\\site-packages (from supervision) (1.13.1)\n",
      "Requirement already satisfied: tqdm>=4.62.3 in c:\\programdata\\anaconda3\\lib\\site-packages (from supervision) (4.67.1)\n",
      "Requirement already satisfied: cycler>=0.10 in c:\\programdata\\anaconda3\\lib\\site-packages (from matplotlib>=3.6.0->supervision) (0.11.0)\n",
      "Requirement already satisfied: fonttools>=4.22.0 in c:\\programdata\\anaconda3\\lib\\site-packages (from matplotlib>=3.6.0->supervision) (4.55.3)\n",
      "Requirement already satisfied: kiwisolver>=1.3.1 in c:\\programdata\\anaconda3\\lib\\site-packages (from matplotlib>=3.6.0->supervision) (1.4.8)\n",
      "Requirement already satisfied: packaging>=20.0 in c:\\programdata\\anaconda3\\lib\\site-packages (from matplotlib>=3.6.0->supervision) (24.2)\n",
      "Requirement already satisfied: pyparsing>=2.3.1 in c:\\programdata\\anaconda3\\lib\\site-packages (from matplotlib>=3.6.0->supervision) (3.2.0)\n",
      "Requirement already satisfied: python-dateutil>=2.7 in c:\\programdata\\anaconda3\\lib\\site-packages (from matplotlib>=3.6.0->supervision) (2.9.0.post0)\n",
      "Requirement already satisfied: charset-normalizer<4,>=2 in c:\\programdata\\anaconda3\\lib\\site-packages (from requests>=2.26.0->supervision) (3.3.2)\n",
      "Requirement already satisfied: idna<4,>=2.5 in c:\\programdata\\anaconda3\\lib\\site-packages (from requests>=2.26.0->supervision) (3.7)\n",
      "Requirement already satisfied: urllib3<3,>=1.21.1 in c:\\programdata\\anaconda3\\lib\\site-packages (from requests>=2.26.0->supervision) (2.3.0)\n",
      "Requirement already satisfied: certifi>=2017.4.17 in c:\\programdata\\anaconda3\\lib\\site-packages (from requests>=2.26.0->supervision) (2025.1.31)\n",
      "Requirement already satisfied: colorama in c:\\programdata\\anaconda3\\lib\\site-packages (from tqdm>=4.62.3->supervision) (0.4.6)\n",
      "Requirement already satisfied: six>=1.5 in c:\\programdata\\anaconda3\\lib\\site-packages (from python-dateutil>=2.7->matplotlib>=3.6.0->supervision) (1.16.0)\n",
      "Downloading supervision-0.25.1-py3-none-any.whl (181 kB)\n",
      "Installing collected packages: supervision\n",
      "Successfully installed supervision-0.25.1\n"
     ]
    }
   ],
   "source": [
    "!pip install supervision\n"
   ]
  },
  {
   "cell_type": "code",
   "execution_count": 39,
   "id": "bc0c42cd-736b-4be2-a916-5cb1d53606a9",
   "metadata": {},
   "outputs": [
    {
     "name": "stdout",
     "output_type": "stream",
     "text": [
      "Collecting PyGObject"
     ]
    },
    {
     "name": "stderr",
     "output_type": "stream",
     "text": [
      "  error: subprocess-exited-with-error"
     ]
    },
    {
     "name": "stdout",
     "output_type": "stream",
     "text": [
      "\n"
     ]
    },
    {
     "name": "stderr",
     "output_type": "stream",
     "text": [
      "\n"
     ]
    },
    {
     "name": "stdout",
     "output_type": "stream",
     "text": [
      "  Using cached pygobject-3.52.3.tar.gz (1.2 MB)"
     ]
    },
    {
     "name": "stderr",
     "output_type": "stream",
     "text": [
      "  \n"
     ]
    },
    {
     "name": "stdout",
     "output_type": "stream",
     "text": [
      "\n"
     ]
    },
    {
     "name": "stderr",
     "output_type": "stream",
     "text": [
      "  Preparing metadata (pyproject.toml) did not run successfully.\n"
     ]
    },
    {
     "name": "stdout",
     "output_type": "stream",
     "text": [
      "  Installing build dependencies: started"
     ]
    },
    {
     "name": "stderr",
     "output_type": "stream",
     "text": [
      "  exit code: 1"
     ]
    },
    {
     "name": "stdout",
     "output_type": "stream",
     "text": [
      "\n",
      "  Installing build dependencies: finished with status 'done'"
     ]
    },
    {
     "name": "stderr",
     "output_type": "stream",
     "text": [
      "\n",
      "  "
     ]
    },
    {
     "name": "stdout",
     "output_type": "stream",
     "text": [
      "\n"
     ]
    },
    {
     "name": "stderr",
     "output_type": "stream",
     "text": [
      "\n"
     ]
    },
    {
     "name": "stdout",
     "output_type": "stream",
     "text": [
      "  Getting requirements to build wheel: started"
     ]
    },
    {
     "name": "stderr",
     "output_type": "stream",
     "text": [
      "  [21 lines of output]"
     ]
    },
    {
     "name": "stdout",
     "output_type": "stream",
     "text": [
      "\n",
      "  Getting requirements to build wheel: finished with status 'done'\n"
     ]
    },
    {
     "name": "stderr",
     "output_type": "stream",
     "text": [
      "\n"
     ]
    },
    {
     "name": "stdout",
     "output_type": "stream",
     "text": [
      "  Installing backend dependencies: started"
     ]
    },
    {
     "name": "stderr",
     "output_type": "stream",
     "text": [
      "  + meson setup C:\\Users\\user\\AppData\\Local\\Temp\\pip-install-njovzfsm\\pygobject_809ac0a1e51043eda039277936107081 C:\\Users\\user\\AppData\\Local\\Temp\\pip-install-njovzfsm\\pygobject_809ac0a1e51043eda039277936107081\\.mesonpy-gg7n_f7r -Dbuildtype=release -Db_ndebug=if-release -Db_vscrt=md -Dtests=false -Dwheel=true --wrap-mode=nofallback --native-file=C:\\Users\\user\\AppData\\Local\\Temp\\pip-install-njovzfsm\\pygobject_809ac0a1e51043eda039277936107081\\.mesonpy-gg7n_f7r\\meson-python-native-file.ini"
     ]
    },
    {
     "name": "stdout",
     "output_type": "stream",
     "text": [
      "\n"
     ]
    },
    {
     "name": "stderr",
     "output_type": "stream",
     "text": [
      "\n"
     ]
    },
    {
     "name": "stdout",
     "output_type": "stream",
     "text": [
      "  Installing backend dependencies: finished with status 'done'"
     ]
    },
    {
     "name": "stderr",
     "output_type": "stream",
     "text": [
      "  The Meson build system\n"
     ]
    },
    {
     "name": "stdout",
     "output_type": "stream",
     "text": [
      "\n",
      "  Preparing metadata (pyproject.toml): started"
     ]
    },
    {
     "name": "stderr",
     "output_type": "stream",
     "text": [
      "  Version: 1.7.1"
     ]
    },
    {
     "name": "stdout",
     "output_type": "stream",
     "text": [
      "\n"
     ]
    },
    {
     "name": "stderr",
     "output_type": "stream",
     "text": [
      "\n"
     ]
    },
    {
     "name": "stdout",
     "output_type": "stream",
     "text": [
      "  Preparing metadata (pyproject.toml): finished with status 'error'"
     ]
    },
    {
     "name": "stderr",
     "output_type": "stream",
     "text": [
      "  Source dir: C:\\Users\\user\\AppData\\Local\\Temp\\pip-install-njovzfsm\\pygobject_809ac0a1e51043eda039277936107081"
     ]
    },
    {
     "name": "stdout",
     "output_type": "stream",
     "text": [
      "\n"
     ]
    },
    {
     "name": "stderr",
     "output_type": "stream",
     "text": [
      "\n",
      "  Build dir: C:\\Users\\user\\AppData\\Local\\Temp\\pip-install-njovzfsm\\pygobject_809ac0a1e51043eda039277936107081\\.mesonpy-gg7n_f7r\n",
      "  Build type: native build\n",
      "  Project name: pygobject\n",
      "  Project version: 3.52.3\n",
      "  WARNING: Failed to activate VS environment: Could not parse vswhere.exe output\n",
      "  \n",
      "  ..\\meson.build:1:0: ERROR: Unknown compiler(s): [['icl'], ['cl'], ['cc'], ['gcc'], ['clang'], ['clang-cl'], ['pgcc']]\n",
      "  The following exception(s) were encountered:\n",
      "  Running `icl \"\"` gave \"[WinError 2] The system cannot find the file specified\"\n",
      "  Running `cl /?` gave \"[WinError 2] The system cannot find the file specified\"\n",
      "  Running `cc --version` gave \"[WinError 2] The system cannot find the file specified\"\n",
      "  Running `gcc --version` gave \"[WinError 2] The system cannot find the file specified\"\n",
      "  Running `clang --version` gave \"[WinError 2] The system cannot find the file specified\"\n",
      "  Running `clang-cl /?` gave \"[WinError 2] The system cannot find the file specified\"\n",
      "  Running `pgcc --version` gave \"[WinError 2] The system cannot find the file specified\"\n",
      "  \n",
      "  A full log can be found at C:\\Users\\user\\AppData\\Local\\Temp\\pip-install-njovzfsm\\pygobject_809ac0a1e51043eda039277936107081\\.mesonpy-gg7n_f7r\\meson-logs\\meson-log.txt\n",
      "  [end of output]\n",
      "  \n",
      "  note: This error originates from a subprocess, and is likely not a problem with pip.\n",
      "error: metadata-generation-failed\n",
      "\n",
      "Encountered error while generating package metadata.\n",
      "\n",
      "See above for output.\n",
      "\n",
      "note: This is an issue with the package mentioned above, not pip.\n",
      "hint: See above for details.\n"
     ]
    }
   ],
   "source": [
    "!pip install PyGObject"
   ]
  },
  {
   "cell_type": "code",
   "execution_count": 23,
   "id": "250ff774-2512-4809-8d7c-00e237d13e7a",
   "metadata": {},
   "outputs": [
    {
     "name": "stderr",
     "output_type": "stream",
     "text": [
      "WARNING: Requirement 'C:/path/to/downloaded/pygobject.whl' looks like a filename, but the file does not exist\n",
      "ERROR: pygobject.whl is not a valid wheel filename.\n"
     ]
    }
   ],
   "source": [
    "!pip install C:/Users/user/Downloadspygobject.whl\n",
    "\n"
   ]
  },
  {
   "cell_type": "code",
   "execution_count": 29,
   "id": "a7f7e769-4ad5-4ac5-a833-2c230151a004",
   "metadata": {},
   "outputs": [
    {
     "name": "stdout",
     "output_type": "stream",
     "text": [
      "upload and label your dataset, and get an API KEY here: https://app.roboflow.com/?model=undefined&ref=undefined\n",
      "loading Roboflow workspace...\n"
     ]
    },
    {
     "ename": "RoboflowError",
     "evalue": "{\n    \"error\": {\n        \"message\": \"This API key does not exist (or has been revoked).\",\n        \"status\": 401,\n        \"type\": \"OAuthException\",\n        \"hint\": \"You may retrieve your API key via the Roboflow Dashboard. Go to Account > Roboflow Keys to retrieve yours.\",\n        \"key\": \"YOUR_API_KEY\"\n    }\n}",
     "output_type": "error",
     "traceback": [
      "\u001b[1;31m---------------------------------------------------------------------------\u001b[0m",
      "\u001b[1;31mRoboflowError\u001b[0m                             Traceback (most recent call last)",
      "Cell \u001b[1;32mIn[29], line 6\u001b[0m\n\u001b[0;32m      4\u001b[0m \u001b[38;5;66;03m# Roboflow hisobingizga kirish\u001b[39;00m\n\u001b[0;32m      5\u001b[0m rf \u001b[38;5;241m=\u001b[39m Roboflow(api_key\u001b[38;5;241m=\u001b[39m\u001b[38;5;124m\"\u001b[39m\u001b[38;5;124mYOUR_API_KEY\u001b[39m\u001b[38;5;124m\"\u001b[39m)\n\u001b[1;32m----> 6\u001b[0m project \u001b[38;5;241m=\u001b[39m rf\u001b[38;5;241m.\u001b[39mworkspace(\u001b[38;5;124m\"\u001b[39m\u001b[38;5;124mworkspace_name\u001b[39m\u001b[38;5;124m\"\u001b[39m)\u001b[38;5;241m.\u001b[39mproject(\u001b[38;5;124m\"\u001b[39m\u001b[38;5;124mproject_name\u001b[39m\u001b[38;5;124m\"\u001b[39m)\n\u001b[0;32m      7\u001b[0m model \u001b[38;5;241m=\u001b[39m project\u001b[38;5;241m.\u001b[39mversion(\u001b[38;5;241m1\u001b[39m)\u001b[38;5;241m.\u001b[39mmodel  \u001b[38;5;66;03m# Modelni birinchi versiyasi\u001b[39;00m\n\u001b[0;32m      9\u001b[0m \u001b[38;5;66;03m# Video oqimini ochish\u001b[39;00m\n",
      "File \u001b[1;32mC:\\ProgramData\\anaconda3\\Lib\\site-packages\\roboflow\\__init__.py:238\u001b[0m, in \u001b[0;36mRoboflow.workspace\u001b[1;34m(self, the_workspace)\u001b[0m\n\u001b[0;32m    236\u001b[0m \u001b[38;5;28;01mif\u001b[39;00m \u001b[38;5;28mself\u001b[39m\u001b[38;5;241m.\u001b[39mapi_key:  \u001b[38;5;66;03m# Check if api_key was passed during __init__\u001b[39;00m\n\u001b[0;32m    237\u001b[0m     api_key \u001b[38;5;241m=\u001b[39m \u001b[38;5;28mself\u001b[39m\u001b[38;5;241m.\u001b[39mapi_key\n\u001b[1;32m--> 238\u001b[0m     list_projects \u001b[38;5;241m=\u001b[39m rfapi\u001b[38;5;241m.\u001b[39mget_workspace(api_key, the_workspace)\n\u001b[0;32m    239\u001b[0m     \u001b[38;5;28;01mreturn\u001b[39;00m Workspace(list_projects, api_key, the_workspace, \u001b[38;5;28mself\u001b[39m\u001b[38;5;241m.\u001b[39mmodel_format)\n\u001b[0;32m    241\u001b[0m \u001b[38;5;28;01melif\u001b[39;00m \u001b[38;5;28mself\u001b[39m\u001b[38;5;241m.\u001b[39mapi_key \u001b[38;5;129;01min\u001b[39;00m DEMO_KEYS:\n",
      "File \u001b[1;32mC:\\ProgramData\\anaconda3\\Lib\\site-packages\\roboflow\\adapters\\rfapi.py:38\u001b[0m, in \u001b[0;36mget_workspace\u001b[1;34m(api_key, workspace_url)\u001b[0m\n\u001b[0;32m     36\u001b[0m response \u001b[38;5;241m=\u001b[39m requests\u001b[38;5;241m.\u001b[39mget(url)\n\u001b[0;32m     37\u001b[0m \u001b[38;5;28;01mif\u001b[39;00m response\u001b[38;5;241m.\u001b[39mstatus_code \u001b[38;5;241m!=\u001b[39m \u001b[38;5;241m200\u001b[39m:\n\u001b[1;32m---> 38\u001b[0m     \u001b[38;5;28;01mraise\u001b[39;00m RoboflowError(response\u001b[38;5;241m.\u001b[39mtext)\n\u001b[0;32m     39\u001b[0m result \u001b[38;5;241m=\u001b[39m response\u001b[38;5;241m.\u001b[39mjson()\n\u001b[0;32m     40\u001b[0m \u001b[38;5;28;01mreturn\u001b[39;00m result\n",
      "\u001b[1;31mRoboflowError\u001b[0m: {\n    \"error\": {\n        \"message\": \"This API key does not exist (or has been revoked).\",\n        \"status\": 401,\n        \"type\": \"OAuthException\",\n        \"hint\": \"You may retrieve your API key via the Roboflow Dashboard. Go to Account > Roboflow Keys to retrieve yours.\",\n        \"key\": \"YOUR_API_KEY\"\n    }\n}"
     ]
    }
   ],
   "source": [
    "from roboflow import Roboflow\n",
    "import cv2\n",
    "\n",
    "# Roboflow hisobingizga kirish\n",
    "rf = Roboflow(api_key=\"YOUR_API_KEY\")\n",
    "project = rf.workspace(\"workspace_name\").project(\"project_name\")\n",
    "model = project.version(1).model  # Modelni birinchi versiyasi\n",
    "\n",
    "# Video oqimini ochish\n",
    "cap = cv2.VideoCapture('/path/to/video')\n",
    "\n",
    "while cap.isOpened():\n",
    "    ret, frame = cap.read()\n",
    "    if not ret:\n",
    "        break\n",
    "\n",
    "    # Obyektlarni aniqlash\n",
    "    predictions = model.predict(frame, confidence=40, overlap=30).json()\n",
    "\n",
    "    # Natijalarni ekranda ko'rsatish\n",
    "    for prediction in predictions['predictions']:\n",
    "        x1, y1, x2, y2 = prediction['x'], prediction['y'], prediction['x2'], prediction['y2']\n",
    "        label = prediction['class']\n",
    "        confidence = prediction['confidence']\n",
    "        \n",
    "        # To'rtburchak chizish\n",
    "        cv2.rectangle(frame, (int(x1), int(y1)), (int(x2), int(y2)), (0, 255, 0), 2)\n",
    "        cv2.putText(frame, f'{label} ({confidence*100:.2f}%)', (int(x1), int(y1)-10),\n",
    "                        cv2.FONT_HERSHEY_SIMPLEX, 0.5, (0, 255, 0), 2)\n",
    "\n",
    "    # Ekranda natijalarni ko'rsatish\n",
    "    cv2.imshow(\"output\", frame)\n",
    "    if cv2.waitKey(1) & 0xFF == ord('q'):\n",
    "        break\n",
    "\n",
    "cap.release()\n",
    "cv2.destroyAllWindows()\n"
   ]
  },
  {
   "cell_type": "code",
   "execution_count": 31,
   "id": "4868277f-001a-450e-9ac4-6f64ebd29b7a",
   "metadata": {},
   "outputs": [
    {
     "ename": "ModuleNotFoundError",
     "evalue": "No module named 'inference_sdk'",
     "output_type": "error",
     "traceback": [
      "\u001b[1;31m---------------------------------------------------------------------------\u001b[0m",
      "\u001b[1;31mModuleNotFoundError\u001b[0m                       Traceback (most recent call last)",
      "Cell \u001b[1;32mIn[31], line 1\u001b[0m\n\u001b[1;32m----> 1\u001b[0m \u001b[38;5;28;01mfrom\u001b[39;00m \u001b[38;5;21;01minference_sdk\u001b[39;00m \u001b[38;5;28;01mimport\u001b[39;00m InferenceHTTPClient\n\u001b[0;32m      3\u001b[0m CLIENT \u001b[38;5;241m=\u001b[39m InferenceHTTPClient(\n\u001b[0;32m      4\u001b[0m     api_url\u001b[38;5;241m=\u001b[39m\u001b[38;5;124m\"\u001b[39m\u001b[38;5;124mhttps://detect.roboflow.com\u001b[39m\u001b[38;5;124m\"\u001b[39m,\n\u001b[0;32m      5\u001b[0m     api_key\u001b[38;5;241m=\u001b[39m\u001b[38;5;124m\"\u001b[39m\u001b[38;5;124mDblGfndA0tu5RzHhC27q\u001b[39m\u001b[38;5;124m\"\u001b[39m\n\u001b[0;32m      6\u001b[0m )\n\u001b[0;32m      8\u001b[0m result \u001b[38;5;241m=\u001b[39m CLIENT\u001b[38;5;241m.\u001b[39minfer(your_image\u001b[38;5;241m.\u001b[39mjpg, model_id\u001b[38;5;241m=\u001b[39m\u001b[38;5;124m\"\u001b[39m\u001b[38;5;124mcar-detection-model-bwjpb/8\u001b[39m\u001b[38;5;124m\"\u001b[39m)\n",
      "\u001b[1;31mModuleNotFoundError\u001b[0m: No module named 'inference_sdk'"
     ]
    }
   ],
   "source": [
    "from inference_sdk import InferenceHTTPClient\n",
    "\n",
    "CLIENT = InferenceHTTPClient(\n",
    "    api_url=\"https://detect.roboflow.com\",\n",
    "    api_key=\"DblGfndA0tu5RzHhC27q\"\n",
    ")\n",
    "\n",
    "result = CLIENT.infer(your_image.jpg, model_id=\"car-detection-model-bwjpb/8\")\n"
   ]
  },
  {
   "cell_type": "code",
   "execution_count": 45,
   "id": "bec55d4e-ec53-4e85-8e44-b1248e4af88a",
   "metadata": {},
   "outputs": [
    {
     "name": "stdout",
     "output_type": "stream",
     "text": [
      "Collecting wxPython\n",
      "  Downloading wxPython-4.2.2-cp312-cp312-win_amd64.whl.metadata (3.1 kB)\n",
      "Requirement already satisfied: six in c:\\programdata\\anaconda3\\lib\\site-packages (from wxPython) (1.16.0)\n",
      "Downloading wxPython-4.2.2-cp312-cp312-win_amd64.whl (16.4 MB)\n",
      "   ---------------------------------------- 0.0/16.4 MB ? eta -:--:--\n",
      "   ---------------------------------------- 0.0/16.4 MB ? eta -:--:--\n",
      "   - -------------------------------------- 0.5/16.4 MB 2.8 MB/s eta 0:00:06\n",
      "   --- ------------------------------------ 1.6/16.4 MB 4.9 MB/s eta 0:00:04\n",
      "   ------- -------------------------------- 3.1/16.4 MB 5.8 MB/s eta 0:00:03\n",
      "   ------------ --------------------------- 5.2/16.4 MB 7.1 MB/s eta 0:00:02\n",
      "   ---------------- ----------------------- 6.8/16.4 MB 7.1 MB/s eta 0:00:02\n",
      "   ------------------- -------------------- 8.1/16.4 MB 7.0 MB/s eta 0:00:02\n",
      "   ---------------------- ----------------- 9.4/16.4 MB 6.9 MB/s eta 0:00:02\n",
      "   -------------------------- ------------- 10.7/16.4 MB 6.8 MB/s eta 0:00:01\n",
      "   ------------------------------ --------- 12.3/16.4 MB 6.8 MB/s eta 0:00:01\n",
      "   --------------------------------- ------ 13.6/16.4 MB 6.9 MB/s eta 0:00:01\n",
      "   ------------------------------------- -- 15.2/16.4 MB 6.8 MB/s eta 0:00:01\n",
      "   ---------------------------------------- 16.4/16.4 MB 6.8 MB/s eta 0:00:00\n",
      "Installing collected packages: wxPython\n",
      "Successfully installed wxPython-4.2.2\n"
     ]
    }
   ],
   "source": [
    "!pip install wxPython\n"
   ]
  },
  {
   "cell_type": "code",
   "execution_count": 49,
   "id": "1d275700-7f9c-47aa-a754-fb00ee84232f",
   "metadata": {},
   "outputs": [
    {
     "ename": "NameError",
     "evalue": "name 'gst' is not defined",
     "output_type": "error",
     "traceback": [
      "\u001b[1;31m---------------------------------------------------------------------------\u001b[0m",
      "\u001b[1;31mNameError\u001b[0m                                 Traceback (most recent call last)",
      "Cell \u001b[1;32mIn[49], line 1\u001b[0m\n\u001b[1;32m----> 1\u001b[0m gst\u001b[38;5;241m-\u001b[39mlaunch\u001b[38;5;241m-\u001b[39m\u001b[38;5;241m1.0\u001b[39m \u001b[38;5;241m-\u001b[39m\u001b[38;5;241m-\u001b[39mversion\n",
      "\u001b[1;31mNameError\u001b[0m: name 'gst' is not defined"
     ]
    }
   ],
   "source": [
    "gst-launch-1.0 --version\n"
   ]
  },
  {
   "cell_type": "code",
   "execution_count": 5,
   "id": "ef96db16-3e56-4d0f-bc0e-40e6017e46f6",
   "metadata": {},
   "outputs": [
    {
     "ename": "ModuleNotFoundError",
     "evalue": "No module named 'gi'",
     "output_type": "error",
     "traceback": [
      "\u001b[1;31m---------------------------------------------------------------------------\u001b[0m",
      "\u001b[1;31mModuleNotFoundError\u001b[0m                       Traceback (most recent call last)",
      "Cell \u001b[1;32mIn[5], line 1\u001b[0m\n\u001b[1;32m----> 1\u001b[0m \u001b[38;5;28;01mimport\u001b[39;00m \u001b[38;5;21;01mgi\u001b[39;00m\n\u001b[0;32m      2\u001b[0m gi\u001b[38;5;241m.\u001b[39mrequire_version(\u001b[38;5;124m'\u001b[39m\u001b[38;5;124mGst\u001b[39m\u001b[38;5;124m'\u001b[39m, \u001b[38;5;124m'\u001b[39m\u001b[38;5;124m1.0\u001b[39m\u001b[38;5;124m'\u001b[39m)\n\u001b[0;32m      3\u001b[0m \u001b[38;5;28;01mfrom\u001b[39;00m \u001b[38;5;21;01mgi\u001b[39;00m\u001b[38;5;21;01m.\u001b[39;00m\u001b[38;5;21;01mrepository\u001b[39;00m \u001b[38;5;28;01mimport\u001b[39;00m Gst\n",
      "\u001b[1;31mModuleNotFoundError\u001b[0m: No module named 'gi'"
     ]
    }
   ],
   "source": [
    "import gi\n",
    "gi.require_version('Gst', '1.0')\n",
    "from gi.repository import Gst\n"
   ]
  },
  {
   "cell_type": "code",
   "execution_count": 3,
   "id": "cf4a5a4d-1358-4c76-b2c3-2a77bba95758",
   "metadata": {},
   "outputs": [
    {
     "name": "stdout",
     "output_type": "stream",
     "text": [
      "Collecting PyGObject\n",
      "  Using cached pygobject-3.52.3.tar.gz (1.2 MB)\n",
      "  Installing build dependencies: started\n",
      "  Installing build dependencies: finished with status 'done'\n",
      "  Getting requirements to build wheel: started\n",
      "  Getting requirements to build wheel: finished with status 'done'\n",
      "  Installing backend dependencies: started\n",
      "  Installing backend dependencies: finished with status 'done'\n",
      "  Preparing metadata (pyproject.toml): started\n",
      "  Preparing metadata (pyproject.toml): finished with status 'error'\n"
     ]
    },
    {
     "name": "stderr",
     "output_type": "stream",
     "text": [
      "  error: subprocess-exited-with-error\n",
      "  \n",
      "  Preparing metadata (pyproject.toml) did not run successfully.\n",
      "  exit code: 1\n",
      "  \n",
      "  [21 lines of output]\n",
      "  + meson setup C:\\Users\\user\\AppData\\Local\\Temp\\pip-install-fuui2zfu\\pygobject_67caf61bcc3b43c19c9834361f50d152 C:\\Users\\user\\AppData\\Local\\Temp\\pip-install-fuui2zfu\\pygobject_67caf61bcc3b43c19c9834361f50d152\\.mesonpy-_nqk45fq -Dbuildtype=release -Db_ndebug=if-release -Db_vscrt=md -Dtests=false -Dwheel=true --wrap-mode=nofallback --native-file=C:\\Users\\user\\AppData\\Local\\Temp\\pip-install-fuui2zfu\\pygobject_67caf61bcc3b43c19c9834361f50d152\\.mesonpy-_nqk45fq\\meson-python-native-file.ini\n",
      "  The Meson build system\n",
      "  Version: 1.7.1\n",
      "  Source dir: C:\\Users\\user\\AppData\\Local\\Temp\\pip-install-fuui2zfu\\pygobject_67caf61bcc3b43c19c9834361f50d152\n",
      "  Build dir: C:\\Users\\user\\AppData\\Local\\Temp\\pip-install-fuui2zfu\\pygobject_67caf61bcc3b43c19c9834361f50d152\\.mesonpy-_nqk45fq\n",
      "  Build type: native build\n",
      "  Project name: pygobject\n",
      "  Project version: 3.52.3\n",
      "  WARNING: Failed to activate VS environment: Could not parse vswhere.exe output\n",
      "  \n",
      "  ..\\meson.build:1:0: ERROR: Unknown compiler(s): [['icl'], ['cl'], ['cc'], ['gcc'], ['clang'], ['clang-cl'], ['pgcc']]\n",
      "  The following exception(s) were encountered:\n",
      "  Running `icl \"\"` gave \"[WinError 2] The system cannot find the file specified\"\n",
      "  Running `cl /?` gave \"[WinError 2] The system cannot find the file specified\"\n",
      "  Running `cc --version` gave \"[WinError 2] The system cannot find the file specified\"\n",
      "  Running `gcc --version` gave \"[WinError 2] The system cannot find the file specified\"\n",
      "  Running `clang --version` gave \"[WinError 2] The system cannot find the file specified\"\n",
      "  Running `clang-cl /?` gave \"[WinError 2] The system cannot find the file specified\"\n",
      "  Running `pgcc --version` gave \"[WinError 2] The system cannot find the file specified\"\n",
      "  \n",
      "  A full log can be found at C:\\Users\\user\\AppData\\Local\\Temp\\pip-install-fuui2zfu\\pygobject_67caf61bcc3b43c19c9834361f50d152\\.mesonpy-_nqk45fq\\meson-logs\\meson-log.txt\n",
      "  [end of output]\n",
      "  \n",
      "  note: This error originates from a subprocess, and is likely not a problem with pip.\n",
      "error: metadata-generation-failed\n",
      "\n",
      "Encountered error while generating package metadata.\n",
      "\n",
      "See above for output.\n",
      "\n",
      "note: This is an issue with the package mentioned above, not pip.\n",
      "hint: See above for details.\n"
     ]
    }
   ],
   "source": [
    "!pip install PyGObject\n"
   ]
  },
  {
   "cell_type": "code",
   "execution_count": null,
   "id": "8421ef8d-17b8-4e73-b019-b2ea58d47bba",
   "metadata": {},
   "outputs": [],
   "source": []
  }
 ],
 "metadata": {
  "kernelspec": {
   "display_name": "Python [conda env:base] *",
   "language": "python",
   "name": "conda-base-py"
  },
  "language_info": {
   "codemirror_mode": {
    "name": "ipython",
    "version": 3
   },
   "file_extension": ".py",
   "mimetype": "text/x-python",
   "name": "python",
   "nbconvert_exporter": "python",
   "pygments_lexer": "ipython3",
   "version": "3.12.3"
  }
 },
 "nbformat": 4,
 "nbformat_minor": 5
}
