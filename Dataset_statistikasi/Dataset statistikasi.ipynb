{
 "cells": [
  {
   "cell_type": "code",
   "execution_count": 2,
   "id": "63f112b4-7cc6-4a8a-bafa-ddc25f88a426",
   "metadata": {},
   "outputs": [],
   "source": [
    "import pandas as pd \n",
    "import numpy as np"
   ]
  },
  {
   "cell_type": "code",
   "execution_count": 4,
   "id": "b87a4bbe-a040-4b98-adb5-11575499b295",
   "metadata": {},
   "outputs": [],
   "source": [
    "df=pd.read_csv('https://raw.githubusercontent.com/anvarnarz/praktikum_datasets/main/uzbekistan.csv',index_col=0)"
   ]
  },
  {
   "cell_type": "code",
   "execution_count": 5,
   "id": "78529662-5ffb-451b-83dc-30cb441492d3",
   "metadata": {},
   "outputs": [],
   "source": [
    "df.columns=['maydoni','aholisi']"
   ]
  },
  {
   "cell_type": "code",
   "execution_count": 6,
   "id": "72339636-3e16-453b-8101-611d6165031c",
   "metadata": {},
   "outputs": [
    {
     "data": {
      "text/html": [
       "<div>\n",
       "<style scoped>\n",
       "    .dataframe tbody tr th:only-of-type {\n",
       "        vertical-align: middle;\n",
       "    }\n",
       "\n",
       "    .dataframe tbody tr th {\n",
       "        vertical-align: top;\n",
       "    }\n",
       "\n",
       "    .dataframe thead th {\n",
       "        text-align: right;\n",
       "    }\n",
       "</style>\n",
       "<table border=\"1\" class=\"dataframe\">\n",
       "  <thead>\n",
       "    <tr style=\"text-align: right;\">\n",
       "      <th></th>\n",
       "      <th>maydoni</th>\n",
       "      <th>aholisi</th>\n",
       "    </tr>\n",
       "    <tr>\n",
       "      <th>Boʻlinishi</th>\n",
       "      <th></th>\n",
       "      <th></th>\n",
       "    </tr>\n",
       "  </thead>\n",
       "  <tbody>\n",
       "    <tr>\n",
       "      <th>Andijon viloyati</th>\n",
       "      <td>4200.0</td>\n",
       "      <td>1899000.0</td>\n",
       "    </tr>\n",
       "    <tr>\n",
       "      <th>Buxoro viloyati</th>\n",
       "      <td>39400.0</td>\n",
       "      <td>1384700.0</td>\n",
       "    </tr>\n",
       "    <tr>\n",
       "      <th>Fargʻona viloyati</th>\n",
       "      <td>6800.0</td>\n",
       "      <td>2597000.0</td>\n",
       "    </tr>\n",
       "    <tr>\n",
       "      <th>Jizzax viloyati</th>\n",
       "      <td>20500.0</td>\n",
       "      <td>910500.0</td>\n",
       "    </tr>\n",
       "    <tr>\n",
       "      <th>Xorazm viloyati</th>\n",
       "      <td>6300.0</td>\n",
       "      <td>1200000.0</td>\n",
       "    </tr>\n",
       "    <tr>\n",
       "      <th>Namangan viloyati</th>\n",
       "      <td>7900.0</td>\n",
       "      <td>1862000.0</td>\n",
       "    </tr>\n",
       "    <tr>\n",
       "      <th>Navoiy viloyati</th>\n",
       "      <td>110800.0</td>\n",
       "      <td>767500.0</td>\n",
       "    </tr>\n",
       "    <tr>\n",
       "      <th>Qashqadaryo viloyati</th>\n",
       "      <td>28400.0</td>\n",
       "      <td>2029000.0</td>\n",
       "    </tr>\n",
       "    <tr>\n",
       "      <th>Qoraqalpogʻiston Respublikasi</th>\n",
       "      <td>160000.0</td>\n",
       "      <td>1200000.0</td>\n",
       "    </tr>\n",
       "    <tr>\n",
       "      <th>Samarqand viloyati</th>\n",
       "      <td>16400.0</td>\n",
       "      <td>2322000.0</td>\n",
       "    </tr>\n",
       "    <tr>\n",
       "      <th>Sirdaryo viloyati</th>\n",
       "      <td>5100.0</td>\n",
       "      <td>648100.0</td>\n",
       "    </tr>\n",
       "    <tr>\n",
       "      <th>Surxondaryo viloyati</th>\n",
       "      <td>20800.0</td>\n",
       "      <td>1676000.0</td>\n",
       "    </tr>\n",
       "    <tr>\n",
       "      <th>Toshkent viloyati</th>\n",
       "      <td>15300.0</td>\n",
       "      <td>4450000.0</td>\n",
       "    </tr>\n",
       "  </tbody>\n",
       "</table>\n",
       "</div>"
      ],
      "text/plain": [
       "                                maydoni    aholisi\n",
       "Boʻlinishi                                        \n",
       "Andijon viloyati                 4200.0  1899000.0\n",
       "Buxoro viloyati                 39400.0  1384700.0\n",
       "Fargʻona viloyati                6800.0  2597000.0\n",
       "Jizzax viloyati                 20500.0   910500.0\n",
       "Xorazm viloyati                  6300.0  1200000.0\n",
       "Namangan viloyati                7900.0  1862000.0\n",
       "Navoiy viloyati                110800.0   767500.0\n",
       "Qashqadaryo viloyati            28400.0  2029000.0\n",
       "Qoraqalpogʻiston Respublikasi  160000.0  1200000.0\n",
       "Samarqand viloyati              16400.0  2322000.0\n",
       "Sirdaryo viloyati                5100.0   648100.0\n",
       "Surxondaryo viloyati            20800.0  1676000.0\n",
       "Toshkent viloyati               15300.0  4450000.0"
      ]
     },
     "execution_count": 6,
     "metadata": {},
     "output_type": "execute_result"
    }
   ],
   "source": [
    "df"
   ]
  },
  {
   "cell_type": "code",
   "execution_count": 7,
   "id": "97023095-8c47-4aab-8df1-e7c6548f9b67",
   "metadata": {},
   "outputs": [
    {
     "data": {
      "text/plain": [
       "maydoni      441900.0\n",
       "aholisi    22945800.0\n",
       "dtype: float64"
      ]
     },
     "execution_count": 7,
     "metadata": {},
     "output_type": "execute_result"
    }
   ],
   "source": [
    "df.sum()"
   ]
  },
  {
   "cell_type": "code",
   "execution_count": 8,
   "id": "72b391a4-8373-4a4b-89d0-41419faa0739",
   "metadata": {},
   "outputs": [
    {
     "data": {
      "text/plain": [
       "maydoni      16400.0\n",
       "aholisi    1676000.0\n",
       "dtype: float64"
      ]
     },
     "execution_count": 8,
     "metadata": {},
     "output_type": "execute_result"
    }
   ],
   "source": [
    "df.median()"
   ]
  },
  {
   "cell_type": "code",
   "execution_count": 9,
   "id": "bc2c9711-71b3-4420-8a67-6128bcdf412f",
   "metadata": {},
   "outputs": [
    {
     "data": {
      "text/plain": [
       "maydoni    1.538590e+55\n",
       "aholisi    2.913892e+80\n",
       "dtype: float64"
      ]
     },
     "execution_count": 9,
     "metadata": {},
     "output_type": "execute_result"
    }
   ],
   "source": [
    "df.prod()"
   ]
  },
  {
   "cell_type": "code",
   "execution_count": 10,
   "id": "369553e0-d6f3-4656-bc16-534eb88a69b6",
   "metadata": {},
   "outputs": [],
   "source": [
    "df2=pd.read_csv('https://raw.githubusercontent.com/anvarnarz/praktikum_datasets/main/gm_sales.csv',index_col=0)"
   ]
  },
  {
   "cell_type": "code",
   "execution_count": 11,
   "id": "aed21b11-68d6-4bb4-b856-6e17bcca145b",
   "metadata": {},
   "outputs": [
    {
     "data": {
      "text/html": [
       "<div>\n",
       "<style scoped>\n",
       "    .dataframe tbody tr th:only-of-type {\n",
       "        vertical-align: middle;\n",
       "    }\n",
       "\n",
       "    .dataframe tbody tr th {\n",
       "        vertical-align: top;\n",
       "    }\n",
       "\n",
       "    .dataframe thead th {\n",
       "        text-align: right;\n",
       "    }\n",
       "</style>\n",
       "<table border=\"1\" class=\"dataframe\">\n",
       "  <thead>\n",
       "    <tr style=\"text-align: right;\">\n",
       "      <th></th>\n",
       "      <th>2020</th>\n",
       "      <th>2021</th>\n",
       "    </tr>\n",
       "  </thead>\n",
       "  <tbody>\n",
       "    <tr>\n",
       "      <th>Labo</th>\n",
       "      <td>4521</td>\n",
       "      <td>7542</td>\n",
       "    </tr>\n",
       "    <tr>\n",
       "      <th>Damas</th>\n",
       "      <td>30889</td>\n",
       "      <td>33682</td>\n",
       "    </tr>\n",
       "    <tr>\n",
       "      <th>Spark</th>\n",
       "      <td>16370</td>\n",
       "      <td>6485</td>\n",
       "    </tr>\n",
       "    <tr>\n",
       "      <th>Nexia</th>\n",
       "      <td>41663</td>\n",
       "      <td>14442</td>\n",
       "    </tr>\n",
       "    <tr>\n",
       "      <th>Cobalt</th>\n",
       "      <td>44901</td>\n",
       "      <td>36317</td>\n",
       "    </tr>\n",
       "  </tbody>\n",
       "</table>\n",
       "</div>"
      ],
      "text/plain": [
       "         2020   2021\n",
       "Labo     4521   7542\n",
       "Damas   30889  33682\n",
       "Spark   16370   6485\n",
       "Nexia   41663  14442\n",
       "Cobalt  44901  36317"
      ]
     },
     "execution_count": 11,
     "metadata": {},
     "output_type": "execute_result"
    }
   ],
   "source": [
    "df2.head()"
   ]
  },
  {
   "cell_type": "code",
   "execution_count": 12,
   "id": "5db3b872-1623-4693-9129-400cb6c86767",
   "metadata": {},
   "outputs": [
    {
     "data": {
      "text/plain": [
       "2020    168712\n",
       "2021    124734\n",
       "dtype: int64"
      ]
     },
     "execution_count": 12,
     "metadata": {},
     "output_type": "execute_result"
    }
   ],
   "source": [
    "df2.sum()"
   ]
  },
  {
   "cell_type": "code",
   "execution_count": 13,
   "id": "d40a6cab-1ef5-4448-8a75-4eca32f51e5c",
   "metadata": {},
   "outputs": [
    {
     "data": {
      "text/plain": [
       "Labo      12063\n",
       "Damas     64571\n",
       "Spark     22855\n",
       "Nexia     56105\n",
       "Cobalt    81218\n",
       "Gentra    56634\n",
       "dtype: int64"
      ]
     },
     "execution_count": 13,
     "metadata": {},
     "output_type": "execute_result"
    }
   ],
   "source": [
    "df2.sum(axis=1)"
   ]
  },
  {
   "cell_type": "code",
   "execution_count": 14,
   "id": "cfe83f7c-afad-4d37-9cda-b17c256d3033",
   "metadata": {},
   "outputs": [
    {
     "data": {
      "text/plain": [
       "Labo       6031.5\n",
       "Damas     32285.5\n",
       "Spark     11427.5\n",
       "Nexia     28052.5\n",
       "Cobalt    40609.0\n",
       "Gentra    28317.0\n",
       "dtype: float64"
      ]
     },
     "execution_count": 14,
     "metadata": {},
     "output_type": "execute_result"
    }
   ],
   "source": [
    "df2.mean(axis=1)"
   ]
  },
  {
   "cell_type": "code",
   "execution_count": 15,
   "id": "91d3ed80-d709-458b-8f6b-3f36116fba0a",
   "metadata": {},
   "outputs": [
    {
     "data": {
      "text/html": [
       "<div>\n",
       "<style scoped>\n",
       "    .dataframe tbody tr th:only-of-type {\n",
       "        vertical-align: middle;\n",
       "    }\n",
       "\n",
       "    .dataframe tbody tr th {\n",
       "        vertical-align: top;\n",
       "    }\n",
       "\n",
       "    .dataframe thead th {\n",
       "        text-align: right;\n",
       "    }\n",
       "</style>\n",
       "<table border=\"1\" class=\"dataframe\">\n",
       "  <thead>\n",
       "    <tr style=\"text-align: right;\">\n",
       "      <th></th>\n",
       "      <th>maydoni</th>\n",
       "      <th>aholisi</th>\n",
       "    </tr>\n",
       "    <tr>\n",
       "      <th>Boʻlinishi</th>\n",
       "      <th></th>\n",
       "      <th></th>\n",
       "    </tr>\n",
       "  </thead>\n",
       "  <tbody>\n",
       "    <tr>\n",
       "      <th>Andijon viloyati</th>\n",
       "      <td>4200.0</td>\n",
       "      <td>1899000.0</td>\n",
       "    </tr>\n",
       "    <tr>\n",
       "      <th>Buxoro viloyati</th>\n",
       "      <td>39400.0</td>\n",
       "      <td>1384700.0</td>\n",
       "    </tr>\n",
       "    <tr>\n",
       "      <th>Fargʻona viloyati</th>\n",
       "      <td>6800.0</td>\n",
       "      <td>2597000.0</td>\n",
       "    </tr>\n",
       "    <tr>\n",
       "      <th>Jizzax viloyati</th>\n",
       "      <td>20500.0</td>\n",
       "      <td>910500.0</td>\n",
       "    </tr>\n",
       "    <tr>\n",
       "      <th>Xorazm viloyati</th>\n",
       "      <td>6300.0</td>\n",
       "      <td>1200000.0</td>\n",
       "    </tr>\n",
       "    <tr>\n",
       "      <th>Namangan viloyati</th>\n",
       "      <td>7900.0</td>\n",
       "      <td>1862000.0</td>\n",
       "    </tr>\n",
       "    <tr>\n",
       "      <th>Navoiy viloyati</th>\n",
       "      <td>110800.0</td>\n",
       "      <td>767500.0</td>\n",
       "    </tr>\n",
       "    <tr>\n",
       "      <th>Qashqadaryo viloyati</th>\n",
       "      <td>28400.0</td>\n",
       "      <td>2029000.0</td>\n",
       "    </tr>\n",
       "    <tr>\n",
       "      <th>Qoraqalpogʻiston Respublikasi</th>\n",
       "      <td>160000.0</td>\n",
       "      <td>1200000.0</td>\n",
       "    </tr>\n",
       "    <tr>\n",
       "      <th>Samarqand viloyati</th>\n",
       "      <td>16400.0</td>\n",
       "      <td>2322000.0</td>\n",
       "    </tr>\n",
       "    <tr>\n",
       "      <th>Sirdaryo viloyati</th>\n",
       "      <td>5100.0</td>\n",
       "      <td>648100.0</td>\n",
       "    </tr>\n",
       "    <tr>\n",
       "      <th>Surxondaryo viloyati</th>\n",
       "      <td>20800.0</td>\n",
       "      <td>1676000.0</td>\n",
       "    </tr>\n",
       "    <tr>\n",
       "      <th>Toshkent viloyati</th>\n",
       "      <td>15300.0</td>\n",
       "      <td>4450000.0</td>\n",
       "    </tr>\n",
       "  </tbody>\n",
       "</table>\n",
       "</div>"
      ],
      "text/plain": [
       "                                maydoni    aholisi\n",
       "Boʻlinishi                                        \n",
       "Andijon viloyati                 4200.0  1899000.0\n",
       "Buxoro viloyati                 39400.0  1384700.0\n",
       "Fargʻona viloyati                6800.0  2597000.0\n",
       "Jizzax viloyati                 20500.0   910500.0\n",
       "Xorazm viloyati                  6300.0  1200000.0\n",
       "Namangan viloyati                7900.0  1862000.0\n",
       "Navoiy viloyati                110800.0   767500.0\n",
       "Qashqadaryo viloyati            28400.0  2029000.0\n",
       "Qoraqalpogʻiston Respublikasi  160000.0  1200000.0\n",
       "Samarqand viloyati              16400.0  2322000.0\n",
       "Sirdaryo viloyati                5100.0   648100.0\n",
       "Surxondaryo viloyati            20800.0  1676000.0\n",
       "Toshkent viloyati               15300.0  4450000.0"
      ]
     },
     "execution_count": 15,
     "metadata": {},
     "output_type": "execute_result"
    }
   ],
   "source": [
    "df"
   ]
  },
  {
   "cell_type": "code",
   "execution_count": 16,
   "id": "018a84c4-6bbf-4bd7-9482-04482ac45bee",
   "metadata": {},
   "outputs": [
    {
     "data": {
      "text/plain": [
       "maydoni     Andijon viloyati\n",
       "aholisi    Sirdaryo viloyati\n",
       "dtype: object"
      ]
     },
     "execution_count": 16,
     "metadata": {},
     "output_type": "execute_result"
    }
   ],
   "source": [
    "df.idxmin()"
   ]
  },
  {
   "cell_type": "code",
   "execution_count": 17,
   "id": "56e20013-a116-421d-9cf3-386ee42602be",
   "metadata": {},
   "outputs": [
    {
     "data": {
      "text/plain": [
       "maydoni    Qoraqalpogʻiston Respublikasi\n",
       "aholisi                Toshkent viloyati\n",
       "dtype: object"
      ]
     },
     "execution_count": 17,
     "metadata": {},
     "output_type": "execute_result"
    }
   ],
   "source": [
    "df.idxmax()"
   ]
  },
  {
   "cell_type": "code",
   "execution_count": 18,
   "id": "5bfecae6-8dd8-4d03-ae55-f632f20b324a",
   "metadata": {},
   "outputs": [
    {
     "data": {
      "text/plain": [
       "8"
      ]
     },
     "execution_count": 18,
     "metadata": {},
     "output_type": "execute_result"
    }
   ],
   "source": [
    "df['maydoni'].argmax()  #maximal qiymatning indexini qaytaradi"
   ]
  },
  {
   "cell_type": "code",
   "execution_count": 19,
   "id": "b69d6a48-84a5-40c4-8f86-c4b4f4626c06",
   "metadata": {},
   "outputs": [
    {
     "data": {
      "text/plain": [
       "12"
      ]
     },
     "execution_count": 19,
     "metadata": {},
     "output_type": "execute_result"
    }
   ],
   "source": [
    "df['aholisi'].argmax()"
   ]
  },
  {
   "cell_type": "code",
   "execution_count": 20,
   "id": "b4202d4e-a4b6-4291-a4fc-560dccbc160b",
   "metadata": {},
   "outputs": [
    {
     "name": "stdout",
     "output_type": "stream",
     "text": [
      "Toshkent viloyati aholisi 4450000.0\n"
     ]
    }
   ],
   "source": [
    "print(df['aholisi'].idxmax(),'aholisi',df['aholisi'].max())"
   ]
  },
  {
   "cell_type": "code",
   "execution_count": 21,
   "id": "40c20df1-8594-41d5-b990-31160ffe04a3",
   "metadata": {},
   "outputs": [
    {
     "name": "stdout",
     "output_type": "stream",
     "text": [
      "Toshkent viloyati\n"
     ]
    }
   ],
   "source": [
    "print(df['aholisi'].idxmax())"
   ]
  },
  {
   "cell_type": "code",
   "execution_count": 22,
   "id": "7ecbac9a-5f14-46fa-9f73-6afd27b113e7",
   "metadata": {},
   "outputs": [
    {
     "name": "stdout",
     "output_type": "stream",
     "text": [
      "4450000.0\n"
     ]
    }
   ],
   "source": [
    "print(df['aholisi'].max())"
   ]
  },
  {
   "cell_type": "code",
   "execution_count": 23,
   "id": "1611ae9d-0a4b-469c-b0d9-a27b9628792e",
   "metadata": {},
   "outputs": [
    {
     "data": {
      "text/plain": [
       "Boʻlinishi\n",
       "Andijon viloyati                 1.339826e+06\n",
       "Buxoro viloyati                  9.512708e+05\n",
       "Fargʻona viloyati                1.831548e+06\n",
       "Jizzax viloyati                  6.293250e+05\n",
       "Xorazm viloyati                  8.440734e+05\n",
       "Namangan viloyati                1.311047e+06\n",
       "Navoiy viloyati                  4.643570e+05\n",
       "Qashqadaryo viloyati             1.414638e+06\n",
       "Qoraqalpogʻiston Respublikasi    7.353911e+05\n",
       "Samarqand viloyati               1.630305e+06\n",
       "Sirdaryo viloyati                4.546697e+05\n",
       "Surxondaryo viloyati             1.170403e+06\n",
       "Toshkent viloyati                3.135806e+06\n",
       "dtype: float64"
      ]
     },
     "execution_count": 23,
     "metadata": {},
     "output_type": "execute_result"
    }
   ],
   "source": [
    "df.std(axis=1)"
   ]
  },
  {
   "cell_type": "code",
   "execution_count": 24,
   "id": "d053fdeb-5184-4dda-b11e-9ab64ef5e778",
   "metadata": {},
   "outputs": [
    {
     "data": {
      "text/plain": [
       "maydoni    4.119613\n",
       "aholisi    3.681670\n",
       "dtype: float64"
      ]
     },
     "execution_count": 24,
     "metadata": {},
     "output_type": "execute_result"
    }
   ],
   "source": [
    "df.kurt()"
   ]
  },
  {
   "cell_type": "code",
   "execution_count": 101,
   "id": "45e5f449-2648-4e88-856c-32cbd5b9becf",
   "metadata": {},
   "outputs": [
    {
     "name": "stdout",
     "output_type": "stream",
     "text": [
      "   Sonlar  Yig‘indi\n",
      "0       1         1\n",
      "1       2         3\n",
      "2       3         6\n",
      "3       4        10\n",
      "4       5        15\n"
     ]
    }
   ],
   "source": [
    "# cumsum(),cummax(),cummin(),cumprod()\n",
    "df = pd.DataFrame({'Sonlar': [1, 2, 3, 4, 5]})\n",
    "df['Yig‘indi'] = df['Sonlar'].cumsum()\n",
    "print(df)"
   ]
  },
  {
   "cell_type": "code",
   "execution_count": 103,
   "id": "d2615ef3-6f0b-43ae-87b6-68f693309a49",
   "metadata": {},
   "outputs": [],
   "source": [
    "df['cummax']=df['Sonlar'].cummax()"
   ]
  },
  {
   "cell_type": "code",
   "execution_count": 105,
   "id": "0987860e-40fd-4ea1-bc98-fcc25f21ffc5",
   "metadata": {},
   "outputs": [],
   "source": [
    "df['cumprod']=df['Sonlar'].cumprod()"
   ]
  },
  {
   "cell_type": "code",
   "execution_count": 107,
   "id": "aca5b084-5c10-4d23-9d54-eda733c549cc",
   "metadata": {},
   "outputs": [],
   "source": [
    "df['cummin']=df['Sonlar'].cummin()"
   ]
  },
  {
   "cell_type": "code",
   "execution_count": 109,
   "id": "d512b284-6a47-4702-b4f5-c01faa208f56",
   "metadata": {},
   "outputs": [
    {
     "data": {
      "text/html": [
       "<div>\n",
       "<style scoped>\n",
       "    .dataframe tbody tr th:only-of-type {\n",
       "        vertical-align: middle;\n",
       "    }\n",
       "\n",
       "    .dataframe tbody tr th {\n",
       "        vertical-align: top;\n",
       "    }\n",
       "\n",
       "    .dataframe thead th {\n",
       "        text-align: right;\n",
       "    }\n",
       "</style>\n",
       "<table border=\"1\" class=\"dataframe\">\n",
       "  <thead>\n",
       "    <tr style=\"text-align: right;\">\n",
       "      <th></th>\n",
       "      <th>Sonlar</th>\n",
       "      <th>Yig‘indi</th>\n",
       "      <th>cummax</th>\n",
       "      <th>cumprod</th>\n",
       "      <th>cummin</th>\n",
       "    </tr>\n",
       "  </thead>\n",
       "  <tbody>\n",
       "    <tr>\n",
       "      <th>0</th>\n",
       "      <td>1</td>\n",
       "      <td>1</td>\n",
       "      <td>1</td>\n",
       "      <td>1</td>\n",
       "      <td>1</td>\n",
       "    </tr>\n",
       "    <tr>\n",
       "      <th>1</th>\n",
       "      <td>2</td>\n",
       "      <td>3</td>\n",
       "      <td>2</td>\n",
       "      <td>2</td>\n",
       "      <td>1</td>\n",
       "    </tr>\n",
       "    <tr>\n",
       "      <th>2</th>\n",
       "      <td>3</td>\n",
       "      <td>6</td>\n",
       "      <td>3</td>\n",
       "      <td>6</td>\n",
       "      <td>1</td>\n",
       "    </tr>\n",
       "    <tr>\n",
       "      <th>3</th>\n",
       "      <td>4</td>\n",
       "      <td>10</td>\n",
       "      <td>4</td>\n",
       "      <td>24</td>\n",
       "      <td>1</td>\n",
       "    </tr>\n",
       "    <tr>\n",
       "      <th>4</th>\n",
       "      <td>5</td>\n",
       "      <td>15</td>\n",
       "      <td>5</td>\n",
       "      <td>120</td>\n",
       "      <td>1</td>\n",
       "    </tr>\n",
       "  </tbody>\n",
       "</table>\n",
       "</div>"
      ],
      "text/plain": [
       "   Sonlar  Yig‘indi  cummax  cumprod  cummin\n",
       "0       1         1       1        1       1\n",
       "1       2         3       2        2       1\n",
       "2       3         6       3        6       1\n",
       "3       4        10       4       24       1\n",
       "4       5        15       5      120       1"
      ]
     },
     "execution_count": 109,
     "metadata": {},
     "output_type": "execute_result"
    }
   ],
   "source": [
    "df"
   ]
  }
 ],
 "metadata": {
  "kernelspec": {
   "display_name": "Python 3 (ipykernel)",
   "language": "python",
   "name": "python3"
  },
  "language_info": {
   "codemirror_mode": {
    "name": "ipython",
    "version": 3
   },
   "file_extension": ".py",
   "mimetype": "text/x-python",
   "name": "python",
   "nbconvert_exporter": "python",
   "pygments_lexer": "ipython3",
   "version": "3.12.7"
  }
 },
 "nbformat": 4,
 "nbformat_minor": 5
}
