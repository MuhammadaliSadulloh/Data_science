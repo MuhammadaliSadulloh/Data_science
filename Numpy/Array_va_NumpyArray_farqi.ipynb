{
 "cells": [
  {
   "cell_type": "code",
   "execution_count": 2,
   "id": "98f8a6ca-1970-4b5d-9a19-ee6a403b2b61",
   "metadata": {},
   "outputs": [],
   "source": [
    "import numpy as np\n",
    "my_list=list(range(100000))\n",
    "\n",
    "my_array=np.array(range(100000))\n",
    "\n"
   ]
  },
  {
   "cell_type": "code",
   "execution_count": 4,
   "id": "0eb7c19d-596b-49f4-b9b2-69ab148b670c",
   "metadata": {},
   "outputs": [
    {
     "name": "stdout",
     "output_type": "stream",
     "text": [
      "CPU times: total: 15.6 ms\n",
      "Wall time: 61.4 ms\n"
     ]
    }
   ],
   "source": [
    "%time for _ in range(10): [x*2 for x in my_list]"
   ]
  },
  {
   "cell_type": "code",
   "execution_count": null,
   "id": "de96bb8b-42ab-47cb-a5ac-7df41299ef40",
   "metadata": {},
   "outputs": [
    {
     "name": "stdout",
     "output_type": "stream",
     "text": [
      "CPU times: total: 0 ns\n",
      "Wall time: 0 ns\n"
     ]
    }
   ],
   "source": [
    "%time for _ in range(10):my_array*2"
   ]
  },
  {
   "cell_type": "code",
   "execution_count": 60,
   "id": "4287a3e1-fc66-49ce-a745-e774e55498e1",
   "metadata": {},
   "outputs": [],
   "source": [
    "data1=[[[1,2,8],[67,22,8]],[[79,90.3,7],[88,87,7]],[[12,33,6],[41,34,6]],[[11,23,4],[4,42,34]],[[79, 90,2], [88, 1,873]]]\n",
    "arr1=np.array(data1)"
   ]
  },
  {
   "cell_type": "code",
   "execution_count": 62,
   "id": "218f1bdb-bfd0-4f79-9ab9-57634f13b105",
   "metadata": {},
   "outputs": [
    {
     "data": {
      "text/plain": [
       "[[[1, 2, 8], [67, 22, 8]],\n",
       " [[79, 90.3, 7], [88, 87, 7]],\n",
       " [[12, 33, 6], [41, 34, 6]],\n",
       " [[11, 23, 4], [4, 42, 34]],\n",
       " [[79, 90, 2], [88, 1, 873]]]"
      ]
     },
     "execution_count": 62,
     "metadata": {},
     "output_type": "execute_result"
    }
   ],
   "source": [
    "data1"
   ]
  },
  {
   "cell_type": "code",
   "execution_count": 64,
   "id": "4d6ca95d-106b-4e20-b192-8a3b8a0abc06",
   "metadata": {},
   "outputs": [
    {
     "data": {
      "text/plain": [
       "array([[[  1. ,   2. ,   8. ],\n",
       "        [ 67. ,  22. ,   8. ]],\n",
       "\n",
       "       [[ 79. ,  90.3,   7. ],\n",
       "        [ 88. ,  87. ,   7. ]],\n",
       "\n",
       "       [[ 12. ,  33. ,   6. ],\n",
       "        [ 41. ,  34. ,   6. ]],\n",
       "\n",
       "       [[ 11. ,  23. ,   4. ],\n",
       "        [  4. ,  42. ,  34. ]],\n",
       "\n",
       "       [[ 79. ,  90. ,   2. ],\n",
       "        [ 88. ,   1. , 873. ]]])"
      ]
     },
     "execution_count": 64,
     "metadata": {},
     "output_type": "execute_result"
    }
   ],
   "source": [
    "arr1"
   ]
  },
  {
   "cell_type": "code",
   "execution_count": 66,
   "id": "6f13154f-6f0d-459e-8c21-041863af94f6",
   "metadata": {},
   "outputs": [
    {
     "data": {
      "text/plain": [
       "3"
      ]
     },
     "execution_count": 66,
     "metadata": {},
     "output_type": "execute_result"
    }
   ],
   "source": [
    "arr1.ndim"
   ]
  },
  {
   "cell_type": "code",
   "execution_count": 68,
   "id": "3e990c5d-85ef-4442-a6f3-6b3e43616911",
   "metadata": {},
   "outputs": [
    {
     "data": {
      "text/plain": [
       "(5, 2, 3)"
      ]
     },
     "execution_count": 68,
     "metadata": {},
     "output_type": "execute_result"
    }
   ],
   "source": [
    "arr1.shape"
   ]
  },
  {
   "cell_type": "code",
   "execution_count": null,
   "id": "1eb64f80-8b58-4462-b3e1-074a5c0f0efb",
   "metadata": {},
   "outputs": [
    {
     "data": {
      "text/plain": [
       "dtype('float64')"
      ]
     },
     "execution_count": 73,
     "metadata": {},
     "output_type": "execute_result"
    }
   ],
   "source": [
    "arr1.dtype"
   ]
  },
  {
   "cell_type": "code",
   "execution_count": 80,
   "id": "8b735d2f-3b17-430f-aa64-fc32c8666553",
   "metadata": {},
   "outputs": [],
   "source": [
    "arr=np.array([1,2,3,4])"
   ]
  },
  {
   "cell_type": "code",
   "execution_count": 82,
   "id": "629d8ce8-feb0-4684-8818-4707618f781d",
   "metadata": {},
   "outputs": [
    {
     "data": {
      "text/plain": [
       "dtype('int32')"
      ]
     },
     "execution_count": 82,
     "metadata": {},
     "output_type": "execute_result"
    }
   ],
   "source": [
    "arr.dtype"
   ]
  }
 ],
 "metadata": {
  "kernelspec": {
   "display_name": "Python 3 (ipykernel)",
   "language": "python",
   "name": "python3"
  },
  "language_info": {
   "codemirror_mode": {
    "name": "ipython",
    "version": 3
   },
   "file_extension": ".py",
   "mimetype": "text/x-python",
   "name": "python",
   "nbconvert_exporter": "python",
   "pygments_lexer": "ipython3",
   "version": "3.12.7"
  }
 },
 "nbformat": 4,
 "nbformat_minor": 5
}
