{
 "cells": [
  {
   "cell_type": "code",
   "execution_count": null,
   "id": "d87820be-e315-4c4d-ae32-02159308745f",
   "metadata": {},
   "outputs": [],
   "source": [
    "# Numpy where funksiyasi ishlashi ko'rsatilgan \n",
    "# Where funksuya ishlashi bu yerda ikkta arra berilgan va faunksiya ichidagi shar qanoatlantirilsa 1-array\n",
    "#  elementi aks holda 2-array elementi oini yangi array hosil qilinyapti\n",
    "# yoki ikkinchi holatda arrayning har bir elementi 0da kattaligi tekshirilyapti \n",
    "# katta bo'lsa 10 kichik bo'lsa -10 ga almatirilyapti\n",
    "import numpy as np"
   ]
  },
  {
   "cell_type": "code",
   "execution_count": 6,
   "id": "eecc9315-9e89-4d3c-8766-bdaab2e59e8c",
   "metadata": {},
   "outputs": [],
   "source": [
    "x_arr=np.array([1.1,1.2,1.3,1.4,1.5])\n",
    "y_arr=np.array([2.1,2.2,2.3,2.4,2.5])"
   ]
  },
  {
   "cell_type": "code",
   "execution_count": 8,
   "id": "9d870608-36db-4ba7-8630-25ef589a3699",
   "metadata": {},
   "outputs": [],
   "source": [
    "result=np.where(np.array([True,False,True,True,False]),x_arr,y_arr)"
   ]
  },
  {
   "cell_type": "code",
   "execution_count": 10,
   "id": "7b38edab-eee1-4293-b440-ee42987af2d8",
   "metadata": {},
   "outputs": [
    {
     "data": {
      "text/plain": [
       "array([1.1, 2.2, 1.3, 1.4, 2.5])"
      ]
     },
     "execution_count": 10,
     "metadata": {},
     "output_type": "execute_result"
    }
   ],
   "source": [
    "result"
   ]
  },
  {
   "cell_type": "code",
   "execution_count": 12,
   "id": "6d130dd6-45a6-464f-9a14-eb1128960758",
   "metadata": {},
   "outputs": [],
   "source": [
    "cond=np.array([True,False,True,True,False])"
   ]
  },
  {
   "cell_type": "code",
   "execution_count": 14,
   "id": "ff7ec100-617e-48a3-b6d5-caf36d086441",
   "metadata": {},
   "outputs": [
    {
     "data": {
      "text/plain": [
       "array([ True, False,  True,  True, False])"
      ]
     },
     "execution_count": 14,
     "metadata": {},
     "output_type": "execute_result"
    }
   ],
   "source": [
    "cond"
   ]
  },
  {
   "cell_type": "code",
   "execution_count": 16,
   "id": "6ce4b0bf-ac23-414b-976f-49399e3fa8c7",
   "metadata": {},
   "outputs": [
    {
     "data": {
      "text/plain": [
       "array([1.1, 2.2, 1.3, 1.4, 2.5])"
      ]
     },
     "execution_count": 16,
     "metadata": {},
     "output_type": "execute_result"
    }
   ],
   "source": [
    "result1=np.where(cond,x_arr,y_arr)\n",
    "result1"
   ]
  },
  {
   "cell_type": "code",
   "execution_count": 18,
   "id": "7ca8e42a-5969-4d70-9340-b2b3697e4361",
   "metadata": {},
   "outputs": [],
   "source": [
    "arr=np.random.randn(4,4)"
   ]
  },
  {
   "cell_type": "code",
   "execution_count": 20,
   "id": "bc84879c-7f98-4ed6-a5e2-da5e24e5588c",
   "metadata": {},
   "outputs": [
    {
     "data": {
      "text/plain": [
       "array([[-1.80164911, -1.46205722, -0.377142  , -0.07088964],\n",
       "       [ 0.96725164, -0.74039062,  0.51532444, -0.25432729],\n",
       "       [ 0.84054741, -1.59227946, -0.85178825, -1.05275493],\n",
       "       [-1.15113427, -0.32609539,  1.7023821 , -0.94406416]])"
      ]
     },
     "execution_count": 20,
     "metadata": {},
     "output_type": "execute_result"
    }
   ],
   "source": [
    "arr"
   ]
  },
  {
   "cell_type": "code",
   "execution_count": 22,
   "id": "ad2dae22-554b-4e6f-9ea9-1dd920a330e8",
   "metadata": {},
   "outputs": [
    {
     "data": {
      "text/plain": [
       "array([[-10, -10, -10, -10],\n",
       "       [ 10, -10,  10, -10],\n",
       "       [ 10, -10, -10, -10],\n",
       "       [-10, -10,  10, -10]])"
      ]
     },
     "execution_count": 22,
     "metadata": {},
     "output_type": "execute_result"
    }
   ],
   "source": [
    "result2=np.where(arr<0,-10,10)\n",
    "result2"
   ]
  },
  {
   "cell_type": "code",
   "execution_count": 30,
   "id": "9e27fc90-037b-4d02-957f-5b4750b087e8",
   "metadata": {},
   "outputs": [
    {
     "data": {
      "text/plain": [
       "array([[-10, -10, -10, -10, -10, -10, -10, -10],\n",
       "       [-10, -10, -10, -10, -10, -10, -10, -10],\n",
       "       [-10, -10, -10, -10, -10, -10, -10, -10],\n",
       "       [-10, -10, -10, -10, -10, -10, -10, -10],\n",
       "       [-10, -10, -10, -10, -10, -10, -10, -10],\n",
       "       [-10, -10, -10, -10, -10, -10, -10, -10]])"
      ]
     },
     "execution_count": 30,
     "metadata": {},
     "output_type": "execute_result"
    }
   ],
   "source": [
    "result2=np.where(np.random.randn(6,8),-10,10)\n",
    "result2"
   ]
  },
  {
   "cell_type": "code",
   "execution_count": null,
   "id": "20977d35-e090-4a40-9b6a-fecaa1f1ea89",
   "metadata": {},
   "outputs": [],
   "source": []
  }
 ],
 "metadata": {
  "kernelspec": {
   "display_name": "Python 3 (ipykernel)",
   "language": "python",
   "name": "python3"
  },
  "language_info": {
   "codemirror_mode": {
    "name": "ipython",
    "version": 3
   },
   "file_extension": ".py",
   "mimetype": "text/x-python",
   "name": "python",
   "nbconvert_exporter": "python",
   "pygments_lexer": "ipython3",
   "version": "3.12.7"
  }
 },
 "nbformat": 4,
 "nbformat_minor": 5
}
