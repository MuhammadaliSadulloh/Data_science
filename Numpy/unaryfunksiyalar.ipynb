{
 "cells": [
  {
   "cell_type": "code",
   "execution_count": null,
   "id": "ec6a7268-5309-495c-a673-c8a024f9a467",
   "metadata": {},
   "outputs": [
    {
     "data": {
      "text/plain": [
       "array([ 0.2341732 , -0.75342496, -0.8068238 ,  0.51088662,  0.70277672,\n",
       "        1.39229144])"
      ]
     },
     "execution_count": 16,
     "metadata": {},
     "output_type": "execute_result"
    }
   ],
   "source": [
    "import numpy as np\n",
    "\n",
    "arr1=numpy.random.randn(6)\n",
    "arr1"
   ]
  },
  {
   "cell_type": "code",
   "execution_count": 17,
   "id": "e4caec7f-a4a0-48fa-93a4-ce721ed74e74",
   "metadata": {},
   "outputs": [],
   "source": [
    "qoldiq,butun=numpy.modf(arr1)"
   ]
  },
  {
   "cell_type": "code",
   "execution_count": 18,
   "id": "a5285a35-4255-4f66-a82a-b37f79ae0649",
   "metadata": {},
   "outputs": [
    {
     "data": {
      "text/plain": [
       "array([ 0., -0., -0.,  0.,  0.,  1.])"
      ]
     },
     "execution_count": 18,
     "metadata": {},
     "output_type": "execute_result"
    }
   ],
   "source": [
    "butun"
   ]
  },
  {
   "cell_type": "code",
   "execution_count": 19,
   "id": "a78fdf6e-17bb-4eb5-a814-00ef391adf39",
   "metadata": {},
   "outputs": [
    {
     "data": {
      "text/plain": [
       "array([ 0.2341732 , -0.75342496, -0.8068238 ,  0.51088662,  0.70277672,\n",
       "        0.39229144])"
      ]
     },
     "execution_count": 19,
     "metadata": {},
     "output_type": "execute_result"
    }
   ],
   "source": [
    "qoldiq"
   ]
  },
  {
   "cell_type": "code",
   "execution_count": 20,
   "id": "653890cd-5206-49b8-bf5a-352885da1d9b",
   "metadata": {},
   "outputs": [
    {
     "data": {
      "text/plain": [
       "(array([ 0.2341732 , -0.75342496, -0.8068238 ,  0.51088662,  0.70277672,\n",
       "         0.39229144]),\n",
       " array([ 0., -0., -0.,  0.,  0.,  1.]))"
      ]
     },
     "execution_count": 20,
     "metadata": {},
     "output_type": "execute_result"
    }
   ],
   "source": [
    "numpy.modf(arr1)"
   ]
  },
  {
   "cell_type": "code",
   "execution_count": 22,
   "id": "0da94446-925c-4e50-a8e8-33ef4710dd40",
   "metadata": {},
   "outputs": [
    {
     "data": {
      "text/plain": [
       "array([ 1., -1., -1.,  1.,  1.,  1.])"
      ]
     },
     "execution_count": 22,
     "metadata": {},
     "output_type": "execute_result"
    }
   ],
   "source": [
    "np.sign(arr1)"
   ]
  },
  {
   "cell_type": "code",
   "execution_count": 23,
   "id": "9274f892-f7ef-44c3-bf8f-7dc3add2531c",
   "metadata": {},
   "outputs": [],
   "source": [
    "# 2 ta massivni yaratib olamiz\n",
    "arr2 = np.random.randn(6)\n",
    "arr3 = np.random.randn(6)"
   ]
  },
  {
   "cell_type": "code",
   "execution_count": 24,
   "id": "67b9cfa6-52a5-4384-9689-f8b8ad40e26f",
   "metadata": {},
   "outputs": [
    {
     "data": {
      "text/plain": [
       "array([ 1.06146738,  0.45897228,  0.06864293,  0.13106173, -0.29537293,\n",
       "       -0.02213686])"
      ]
     },
     "execution_count": 24,
     "metadata": {},
     "output_type": "execute_result"
    }
   ],
   "source": [
    "arr2*arr3"
   ]
  },
  {
   "cell_type": "code",
   "execution_count": 26,
   "id": "471b384c-2311-4091-8aa3-50cffbd7ffc2",
   "metadata": {},
   "outputs": [
    {
     "data": {
      "text/plain": [
       "array([ 0.8623706 , -0.35266291,  0.10514317, -0.376872  , -0.91983941,\n",
       "       -1.64211372])"
      ]
     },
     "execution_count": 26,
     "metadata": {},
     "output_type": "execute_result"
    }
   ],
   "source": [
    "arr2"
   ]
  },
  {
   "cell_type": "code",
   "execution_count": 27,
   "id": "d75fb9d6-e921-410e-a917-43b64935bc46",
   "metadata": {},
   "outputs": [
    {
     "data": {
      "text/plain": [
       "array([ 1.23087149, -1.30144755,  0.65285199, -0.34776191,  0.32111359,\n",
       "        0.01348071])"
      ]
     },
     "execution_count": 27,
     "metadata": {},
     "output_type": "execute_result"
    }
   ],
   "source": [
    "arr3"
   ]
  },
  {
   "cell_type": "code",
   "execution_count": 28,
   "id": "5dc1630e-7af6-4513-b9ee-15bc73850904",
   "metadata": {},
   "outputs": [
    {
     "data": {
      "text/plain": [
       "array([ 1.06146738,  0.45897228,  0.06864293,  0.13106173, -0.29537293,\n",
       "       -0.02213686])"
      ]
     },
     "execution_count": 28,
     "metadata": {},
     "output_type": "execute_result"
    }
   ],
   "source": [
    "np.multiply(arr2,arr3)"
   ]
  },
  {
   "cell_type": "code",
   "execution_count": null,
   "id": "9950fc25-ae76-430d-a785-f0bef06fede0",
   "metadata": {},
   "outputs": [],
   "source": []
  }
 ],
 "metadata": {
  "kernelspec": {
   "display_name": "base",
   "language": "python",
   "name": "python3"
  },
  "language_info": {
   "codemirror_mode": {
    "name": "ipython",
    "version": 3
   },
   "file_extension": ".py",
   "mimetype": "text/x-python",
   "name": "python",
   "nbconvert_exporter": "python",
   "pygments_lexer": "ipython3",
   "version": "3.12.3"
  }
 },
 "nbformat": 4,
 "nbformat_minor": 5
}
