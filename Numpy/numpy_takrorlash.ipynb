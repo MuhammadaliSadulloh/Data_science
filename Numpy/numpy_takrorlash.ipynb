{
 "cells": [
  {
   "cell_type": "code",
   "execution_count": 1,
   "id": "6b70e02f-e0b9-4bfc-8b0b-8141a7b9c464",
   "metadata": {},
   "outputs": [],
   "source": [
    "import numpy as np\n"
   ]
  },
  {
   "cell_type": "code",
   "execution_count": 9,
   "id": "af013cb4-3a90-4c6c-8627-e3c5537c2886",
   "metadata": {},
   "outputs": [],
   "source": [
    "arr=np.array([[np.zeros(shape=(2,4))],[np.arange(8).reshape(2,4)]])\n"
   ]
  },
  {
   "cell_type": "code",
   "execution_count": 10,
   "id": "4d22460c",
   "metadata": {},
   "outputs": [
    {
     "data": {
      "text/plain": [
       "array([[[[0., 0., 0., 0.],\n",
       "         [0., 0., 0., 0.]]],\n",
       "\n",
       "\n",
       "       [[[0., 1., 2., 3.],\n",
       "         [4., 5., 6., 7.]]]])"
      ]
     },
     "execution_count": 10,
     "metadata": {},
     "output_type": "execute_result"
    }
   ],
   "source": [
    "arr"
   ]
  },
  {
   "cell_type": "code",
   "execution_count": 11,
   "id": "4c162019-6b58-48a7-8664-472479c005e5",
   "metadata": {},
   "outputs": [
    {
     "data": {
      "text/plain": [
       "array([[3, 2, 5, 0],\n",
       "       [0, 0, 5, 7]], dtype=int32)"
      ]
     },
     "execution_count": 11,
     "metadata": {},
     "output_type": "execute_result"
    }
   ],
   "source": [
    "np.random.randint(8,size=(2,4))"
   ]
  },
  {
   "cell_type": "code",
   "execution_count": 12,
   "id": "14bf2868-c7f1-4ae7-9c27-64cae0558a84",
   "metadata": {},
   "outputs": [
    {
     "data": {
      "text/plain": [
       "array([[1., 1., 1., 1.],\n",
       "       [1., 1., 1., 1.]])"
      ]
     },
     "execution_count": 12,
     "metadata": {},
     "output_type": "execute_result"
    }
   ],
   "source": [
    "np.ones((2,4))"
   ]
  },
  {
   "cell_type": "code",
   "execution_count": 15,
   "id": "d3137c5b-dc1a-44a8-a497-e0c721e9549d",
   "metadata": {},
   "outputs": [
    {
     "data": {
      "text/plain": [
       "(array([[0, 1, 2, 3],\n",
       "        [4, 5, 6, 7]]),\n",
       " array([[1., 1., 1., 1.],\n",
       "        [1., 1., 1., 1.]]))"
      ]
     },
     "execution_count": 15,
     "metadata": {},
     "output_type": "execute_result"
    }
   ],
   "source": [
    "np.arange(8).reshape(2,4),np.ones((2,4))"
   ]
  },
  {
   "cell_type": "code",
   "execution_count": null,
   "id": "ee462fda-9341-4038-9bfa-7fada31178b6",
   "metadata": {},
   "outputs": [],
   "source": []
  }
 ],
 "metadata": {
  "kernelspec": {
   "display_name": "base",
   "language": "python",
   "name": "python3"
  },
  "language_info": {
   "codemirror_mode": {
    "name": "ipython",
    "version": 3
   },
   "file_extension": ".py",
   "mimetype": "text/x-python",
   "name": "python",
   "nbconvert_exporter": "python",
   "pygments_lexer": "ipython3",
   "version": "3.12.3"
  }
 },
 "nbformat": 4,
 "nbformat_minor": 5
}
