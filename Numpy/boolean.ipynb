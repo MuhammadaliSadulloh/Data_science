{
 "cells": [
  {
   "cell_type": "code",
   "execution_count": 1,
   "id": "54597f28-13cc-4e04-9c78-8f880babc79f",
   "metadata": {},
   "outputs": [
    {
     "data": {
      "text/plain": [
       "array(['hasan', 'komil', 'javohir', 'husan', 'elyor', 'muhammadali',\n",
       "       'hasan'], dtype='<U11')"
      ]
     },
     "execution_count": 1,
     "metadata": {},
     "output_type": "execute_result"
    }
   ],
   "source": [
    "import numpy as np\n",
    "names=np.array(['hasan','komil','javohir','husan','elyor','muhammadali','hasan'])\n",
    "names"
   ]
  },
  {
   "cell_type": "code",
   "execution_count": 2,
   "id": "5fc2c0cf-63e4-4391-b3cc-23e411684105",
   "metadata": {},
   "outputs": [
    {
     "data": {
      "text/plain": [
       "array([[ 1.08771743,  1.08155312, -1.61560326, -0.61476239],\n",
       "       [ 0.65411723,  0.92608042, -0.93182328, -0.81340915],\n",
       "       [-0.52102652, -0.25358865, -0.3770638 , -1.56533021],\n",
       "       [ 1.57537751,  0.63906506, -1.68301174, -0.98992353],\n",
       "       [ 0.25750341,  1.80965853, -0.47461839,  1.34576825],\n",
       "       [ 1.47027217, -1.28359613, -0.43482557, -1.68588444],\n",
       "       [-0.5467391 , -2.07530119,  0.46394804, -0.06810673]])"
      ]
     },
     "execution_count": 2,
     "metadata": {},
     "output_type": "execute_result"
    }
   ],
   "source": [
    "data = np .random.randn(7,4)\n",
    "data"
   ]
  },
  {
   "cell_type": "code",
   "execution_count": 3,
   "id": "da6e290a-005a-408a-aef4-4b6480e34ff5",
   "metadata": {},
   "outputs": [
    {
     "data": {
      "text/plain": [
       "array([ True, False, False, False, False, False,  True])"
      ]
     },
     "execution_count": 3,
     "metadata": {},
     "output_type": "execute_result"
    }
   ],
   "source": [
    "names=='hasan'"
   ]
  },
  {
   "cell_type": "code",
   "execution_count": 4,
   "id": "1f651a73-6898-4bfa-afd1-3a91c996560d",
   "metadata": {},
   "outputs": [
    {
     "data": {
      "text/plain": [
       "array([[ 1.08771743,  1.08155312, -1.61560326, -0.61476239],\n",
       "       [-0.5467391 , -2.07530119,  0.46394804, -0.06810673]])"
      ]
     },
     "execution_count": 4,
     "metadata": {},
     "output_type": "execute_result"
    }
   ],
   "source": [
    "data[names=='hasan']"
   ]
  },
  {
   "cell_type": "code",
   "execution_count": 5,
   "id": "37d9458e-3858-49d6-bc71-42088224f094",
   "metadata": {},
   "outputs": [
    {
     "data": {
      "text/plain": [
       "array([ 1.08155312, -2.07530119])"
      ]
     },
     "execution_count": 5,
     "metadata": {},
     "output_type": "execute_result"
    }
   ],
   "source": [
    "data[names=='hasan',1]"
   ]
  },
  {
   "cell_type": "code",
   "execution_count": 6,
   "id": "970215e8-c8ce-46ec-bf76-d286d08b9636",
   "metadata": {},
   "outputs": [
    {
     "data": {
      "text/plain": [
       "array([[-1.61560326, -0.61476239],\n",
       "       [ 0.46394804, -0.06810673]])"
      ]
     },
     "execution_count": 6,
     "metadata": {},
     "output_type": "execute_result"
    }
   ],
   "source": [
    "data[names=='hasan',2:]"
   ]
  },
  {
   "cell_type": "code",
   "execution_count": 7,
   "id": "dae1dea7-dee8-4b1e-8854-e0a539bb6451",
   "metadata": {},
   "outputs": [
    {
     "name": "stdout",
     "output_type": "stream",
     "text": [
      "['hasan' 'komil' 'javohir' 'husan' 'elyor' 'muhammadali' 'hasan']\n",
      "[[ 1.08771743  1.08155312 -1.61560326 -0.61476239]\n",
      " [ 0.65411723  0.92608042 -0.93182328 -0.81340915]\n",
      " [-0.52102652 -0.25358865 -0.3770638  -1.56533021]\n",
      " [ 1.57537751  0.63906506 -1.68301174 -0.98992353]\n",
      " [ 0.25750341  1.80965853 -0.47461839  1.34576825]\n",
      " [ 1.47027217 -1.28359613 -0.43482557 -1.68588444]\n",
      " [-0.5467391  -2.07530119  0.46394804 -0.06810673]]\n"
     ]
    }
   ],
   "source": [
    "print(names)\n",
    "print(data)"
   ]
  },
  {
   "cell_type": "code",
   "execution_count": 8,
   "id": "026d413f-f94e-4e47-9932-ad1549a9af75",
   "metadata": {},
   "outputs": [
    {
     "data": {
      "text/plain": [
       "array([[ 1.08771743,  1.08155312, -1.61560326, -0.61476239],\n",
       "       [ 1.57537751,  0.63906506, -1.68301174, -0.98992353],\n",
       "       [-0.5467391 , -2.07530119,  0.46394804, -0.06810673]])"
      ]
     },
     "execution_count": 8,
     "metadata": {},
     "output_type": "execute_result"
    }
   ],
   "source": [
    "data[(names=='hasan')|(names=='husan')]"
   ]
  },
  {
   "cell_type": "code",
   "execution_count": 9,
   "id": "07727c3c-ea1a-4d42-a280-0f606eaed5f6",
   "metadata": {},
   "outputs": [],
   "source": [
    "data[data<0]=0"
   ]
  },
  {
   "cell_type": "code",
   "execution_count": 10,
   "id": "6079bba8-0d15-43fe-950a-c44c519ea1d4",
   "metadata": {},
   "outputs": [
    {
     "data": {
      "text/plain": [
       "array([[1.08771743, 1.08155312, 0.        , 0.        ],\n",
       "       [0.65411723, 0.92608042, 0.        , 0.        ],\n",
       "       [0.        , 0.        , 0.        , 0.        ],\n",
       "       [1.57537751, 0.63906506, 0.        , 0.        ],\n",
       "       [0.25750341, 1.80965853, 0.        , 1.34576825],\n",
       "       [1.47027217, 0.        , 0.        , 0.        ],\n",
       "       [0.        , 0.        , 0.46394804, 0.        ]])"
      ]
     },
     "execution_count": 10,
     "metadata": {},
     "output_type": "execute_result"
    }
   ],
   "source": [
    "data"
   ]
  },
  {
   "cell_type": "code",
   "execution_count": 11,
   "id": "1640f1a5-07e1-4cc1-a404-53bf95455dc2",
   "metadata": {},
   "outputs": [],
   "source": [
    "\n",
    "array = np.arange(0, 9, 1).reshape(3, 3)"
   ]
  },
  {
   "cell_type": "code",
   "execution_count": 12,
   "id": "3c98fd97-1f1c-45dd-9d6f-68de1683a276",
   "metadata": {},
   "outputs": [
    {
     "data": {
      "text/plain": [
       "array([[0, 1, 2],\n",
       "       [3, 4, 5],\n",
       "       [6, 7, 8]])"
      ]
     },
     "execution_count": 12,
     "metadata": {},
     "output_type": "execute_result"
    }
   ],
   "source": [
    "array"
   ]
  },
  {
   "cell_type": "code",
   "execution_count": 13,
   "id": "c5533645-aa15-4b91-83d0-fca1d30099ac",
   "metadata": {},
   "outputs": [
    {
     "data": {
      "text/plain": [
       "array([[0, 1, 2],\n",
       "       [3, 4, 5],\n",
       "       [6, 7, 8]])"
      ]
     },
     "execution_count": 13,
     "metadata": {},
     "output_type": "execute_result"
    }
   ],
   "source": [
    "a=np.array([[[ 0,  1,  2],[ 3,  4,  5],[ 6,  7,  8]],[[ 9, 10, 11],[12, 13, 14],[15, 16, 17]],[[18, 19, 20],[21, 22, 23],[24, 25, 26]]])\n",
    "arr6=a[0]\n",
    "arr6"
   ]
  },
  {
   "cell_type": "code",
   "execution_count": 14,
   "id": "2a5a5cf3-456b-459f-885c-7197408b6c23",
   "metadata": {},
   "outputs": [
    {
     "data": {
      "text/plain": [
       "array([[12, 13],\n",
       "       [15, 16]])"
      ]
     },
     "execution_count": 14,
     "metadata": {},
     "output_type": "execute_result"
    }
   ],
   "source": [
    "a[1][1:,:2]"
   ]
  },
  {
   "cell_type": "code",
   "execution_count": 15,
   "id": "cdd91a57-95de-4889-b75e-f484f58b0c90",
   "metadata": {},
   "outputs": [
    {
     "ename": "TypeError",
     "evalue": "ufunc 'bitwise_or' not supported for the input types, and the inputs could not be safely coerced to any supported types according to the casting rule ''safe''",
     "output_type": "error",
     "traceback": [
      "\u001b[1;31m---------------------------------------------------------------------------\u001b[0m",
      "\u001b[1;31mTypeError\u001b[0m                                 Traceback (most recent call last)",
      "Cell \u001b[1;32mIn[15], line 9\u001b[0m\n\u001b[0;32m      1\u001b[0m ism\u001b[38;5;241m=\u001b[39m np\u001b[38;5;241m.\u001b[39marray([\u001b[38;5;124m'\u001b[39m\u001b[38;5;124mHasan\u001b[39m\u001b[38;5;124m'\u001b[39m, \u001b[38;5;124m'\u001b[39m\u001b[38;5;124mHusan\u001b[39m\u001b[38;5;124m'\u001b[39m, \u001b[38;5;124m'\u001b[39m\u001b[38;5;124mJavohir\u001b[39m\u001b[38;5;124m'\u001b[39m, \u001b[38;5;124m'\u001b[39m\u001b[38;5;124mElyor\u001b[39m\u001b[38;5;124m'\u001b[39m, \u001b[38;5;124m'\u001b[39m\u001b[38;5;124mHasan\u001b[39m\u001b[38;5;124m'\u001b[39m, \u001b[38;5;124m'\u001b[39m\u001b[38;5;124mJavohir\u001b[39m\u001b[38;5;124m'\u001b[39m, \u001b[38;5;124m'\u001b[39m\u001b[38;5;124mElyor\u001b[39m\u001b[38;5;124m'\u001b[39m])\n\u001b[0;32m      2\u001b[0m data\u001b[38;5;241m=\u001b[39mnp\u001b[38;5;241m.\u001b[39marray( [[\u001b[38;5;241m5\u001b[39m, \u001b[38;5;241m6\u001b[39m, \u001b[38;5;241m1\u001b[39m, \u001b[38;5;241m1\u001b[39m],\n\u001b[0;32m      3\u001b[0m    [\u001b[38;5;241m9\u001b[39m, \u001b[38;5;241m1\u001b[39m, \u001b[38;5;241m1\u001b[39m, \u001b[38;5;241m1\u001b[39m],\n\u001b[0;32m      4\u001b[0m    [\u001b[38;5;241m7\u001b[39m, \u001b[38;5;241m7\u001b[39m, \u001b[38;5;241m4\u001b[39m, \u001b[38;5;241m2\u001b[39m],\n\u001b[1;32m   (...)\u001b[0m\n\u001b[0;32m      7\u001b[0m    [\u001b[38;5;241m7\u001b[39m, \u001b[38;5;241m5\u001b[39m, \u001b[38;5;241m9\u001b[39m, \u001b[38;5;241m6\u001b[39m],\n\u001b[0;32m      8\u001b[0m    [\u001b[38;5;241m5\u001b[39m, \u001b[38;5;241m3\u001b[39m, \u001b[38;5;241m7\u001b[39m, \u001b[38;5;241m4\u001b[39m]])\n\u001b[1;32m----> 9\u001b[0m data[ism\u001b[38;5;241m==\u001b[39m\u001b[38;5;124m'\u001b[39m\u001b[38;5;124mJavohir\u001b[39m\u001b[38;5;124m'\u001b[39m\u001b[38;5;241m|\u001b[39m ism\u001b[38;5;241m==\u001b[39m\u001b[38;5;124m'\u001b[39m\u001b[38;5;124mElyor\u001b[39m\u001b[38;5;124m'\u001b[39m]\n",
      "\u001b[1;31mTypeError\u001b[0m: ufunc 'bitwise_or' not supported for the input types, and the inputs could not be safely coerced to any supported types according to the casting rule ''safe''"
     ]
    }
   ],
   "source": [
    "ism= np.array(['Hasan', 'Husan', 'Javohir', 'Elyor', 'Hasan', 'Javohir', 'Elyor'])\n",
    "data=np.array( [[5, 6, 1, 1],\n",
    "   [9, 1, 1, 1],\n",
    "   [7, 7, 4, 2],\n",
    "   [1, 5, 1, 9],\n",
    "   [9, 9, 4, 5],\n",
    "   [7, 5, 9, 6],\n",
    "   [5, 3, 7, 4]])\n",
    "data[ism=='Javohir'| ism=='Elyor']"
   ]
  },
  {
   "cell_type": "code",
   "execution_count": null,
   "id": "4b6e962f-9a2b-46ba-b803-5ebf448d0e46",
   "metadata": {},
   "outputs": [],
   "source": []
  }
 ],
 "metadata": {
  "kernelspec": {
   "display_name": "base",
   "language": "python",
   "name": "python3"
  },
  "language_info": {
   "codemirror_mode": {
    "name": "ipython",
    "version": 3
   },
   "file_extension": ".py",
   "mimetype": "text/x-python",
   "name": "python",
   "nbconvert_exporter": "python",
   "pygments_lexer": "ipython3",
   "version": "3.12.3"
  }
 },
 "nbformat": 4,
 "nbformat_minor": 5
}
